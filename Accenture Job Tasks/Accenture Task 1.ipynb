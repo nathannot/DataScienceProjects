{
 "cells": [
  {
   "cell_type": "markdown",
   "id": "9acc54d4-a7fd-4e45-86c9-80641e286628",
   "metadata": {},
   "source": [
    "# Data Cleaning"
   ]
  },
  {
   "cell_type": "markdown",
   "id": "03d861ad-ecc0-4a28-a7c8-517956e8d816",
   "metadata": {},
   "source": [
    "Clean the data by:\n",
    "\n",
    "removing rows that have values which are missing,\n",
    "changing the data type of some values within a column, and\n",
    "removing columns which are not relevant to this task.\n",
    "Think about how each column might be relevant to the business question you’re investigating. If you can’t think of why a column may be useful, it may not be worth including it."
   ]
  },
  {
   "cell_type": "code",
   "execution_count": 2,
   "id": "a3e9cf2d-5be6-4313-9879-7372011bdfdc",
   "metadata": {},
   "outputs": [],
   "source": [
    "import pandas as pd\n",
    "import numpy as np\n",
    "import seaborn as sns\n",
    "import matplotlib.pyplot as plt"
   ]
  },
  {
   "cell_type": "code",
   "execution_count": 264,
   "id": "d55c0b58-647e-4ac0-bb46-befa48faa8bf",
   "metadata": {},
   "outputs": [
    {
     "data": {
      "text/html": [
       "<div>\n",
       "<style scoped>\n",
       "    .dataframe tbody tr th:only-of-type {\n",
       "        vertical-align: middle;\n",
       "    }\n",
       "\n",
       "    .dataframe tbody tr th {\n",
       "        vertical-align: top;\n",
       "    }\n",
       "\n",
       "    .dataframe thead th {\n",
       "        text-align: right;\n",
       "    }\n",
       "</style>\n",
       "<table border=\"1\" class=\"dataframe\">\n",
       "  <thead>\n",
       "    <tr style=\"text-align: right;\">\n",
       "      <th></th>\n",
       "      <th>Unnamed: 0</th>\n",
       "      <th>Content ID</th>\n",
       "      <th>User ID</th>\n",
       "      <th>Type</th>\n",
       "      <th>Category</th>\n",
       "      <th>URL</th>\n",
       "    </tr>\n",
       "  </thead>\n",
       "  <tbody>\n",
       "    <tr>\n",
       "      <th>0</th>\n",
       "      <td>0</td>\n",
       "      <td>97522e57-d9ab-4bd6-97bf-c24d952602d2</td>\n",
       "      <td>8d3cd87d-8a31-4935-9a4f-b319bfe05f31</td>\n",
       "      <td>photo</td>\n",
       "      <td>Studying</td>\n",
       "      <td>https://socialbuzz.cdn.com/content/storage/975...</td>\n",
       "    </tr>\n",
       "    <tr>\n",
       "      <th>1</th>\n",
       "      <td>1</td>\n",
       "      <td>9f737e0a-3cdd-4d29-9d24-753f4e3be810</td>\n",
       "      <td>beb1f34e-7870-46d6-9fc7-2e12eb83ce43</td>\n",
       "      <td>photo</td>\n",
       "      <td>healthy eating</td>\n",
       "      <td>https://socialbuzz.cdn.com/content/storage/9f7...</td>\n",
       "    </tr>\n",
       "    <tr>\n",
       "      <th>2</th>\n",
       "      <td>2</td>\n",
       "      <td>230c4e4d-70c3-461d-b42c-ec09396efb3f</td>\n",
       "      <td>a5c65404-5894-4b87-82f2-d787cbee86b4</td>\n",
       "      <td>photo</td>\n",
       "      <td>healthy eating</td>\n",
       "      <td>https://socialbuzz.cdn.com/content/storage/230...</td>\n",
       "    </tr>\n",
       "    <tr>\n",
       "      <th>3</th>\n",
       "      <td>3</td>\n",
       "      <td>356fff80-da4d-4785-9f43-bc1261031dc6</td>\n",
       "      <td>9fb4ce88-fac1-406c-8544-1a899cee7aaf</td>\n",
       "      <td>photo</td>\n",
       "      <td>technology</td>\n",
       "      <td>https://socialbuzz.cdn.com/content/storage/356...</td>\n",
       "    </tr>\n",
       "    <tr>\n",
       "      <th>4</th>\n",
       "      <td>4</td>\n",
       "      <td>01ab84dd-6364-4236-abbb-3f237db77180</td>\n",
       "      <td>e206e31b-5f85-4964-b6ea-d7ee5324def1</td>\n",
       "      <td>video</td>\n",
       "      <td>food</td>\n",
       "      <td>https://socialbuzz.cdn.com/content/storage/01a...</td>\n",
       "    </tr>\n",
       "  </tbody>\n",
       "</table>\n",
       "</div>"
      ],
      "text/plain": [
       "   Unnamed: 0                            Content ID  \\\n",
       "0           0  97522e57-d9ab-4bd6-97bf-c24d952602d2   \n",
       "1           1  9f737e0a-3cdd-4d29-9d24-753f4e3be810   \n",
       "2           2  230c4e4d-70c3-461d-b42c-ec09396efb3f   \n",
       "3           3  356fff80-da4d-4785-9f43-bc1261031dc6   \n",
       "4           4  01ab84dd-6364-4236-abbb-3f237db77180   \n",
       "\n",
       "                                User ID   Type        Category  \\\n",
       "0  8d3cd87d-8a31-4935-9a4f-b319bfe05f31  photo        Studying   \n",
       "1  beb1f34e-7870-46d6-9fc7-2e12eb83ce43  photo  healthy eating   \n",
       "2  a5c65404-5894-4b87-82f2-d787cbee86b4  photo  healthy eating   \n",
       "3  9fb4ce88-fac1-406c-8544-1a899cee7aaf  photo      technology   \n",
       "4  e206e31b-5f85-4964-b6ea-d7ee5324def1  video            food   \n",
       "\n",
       "                                                 URL  \n",
       "0  https://socialbuzz.cdn.com/content/storage/975...  \n",
       "1  https://socialbuzz.cdn.com/content/storage/9f7...  \n",
       "2  https://socialbuzz.cdn.com/content/storage/230...  \n",
       "3  https://socialbuzz.cdn.com/content/storage/356...  \n",
       "4  https://socialbuzz.cdn.com/content/storage/01a...  "
      ]
     },
     "execution_count": 264,
     "metadata": {},
     "output_type": "execute_result"
    }
   ],
   "source": [
    "#import data\n",
    "content = pd.read_csv('Content.csv')\n",
    "content.head()"
   ]
  },
  {
   "cell_type": "code",
   "execution_count": 290,
   "id": "286f3569-bc9d-4266-afb6-3e88b3c03dc4",
   "metadata": {},
   "outputs": [
    {
     "data": {
      "text/html": [
       "<div>\n",
       "<style scoped>\n",
       "    .dataframe tbody tr th:only-of-type {\n",
       "        vertical-align: middle;\n",
       "    }\n",
       "\n",
       "    .dataframe tbody tr th {\n",
       "        vertical-align: top;\n",
       "    }\n",
       "\n",
       "    .dataframe thead th {\n",
       "        text-align: right;\n",
       "    }\n",
       "</style>\n",
       "<table border=\"1\" class=\"dataframe\">\n",
       "  <thead>\n",
       "    <tr style=\"text-align: right;\">\n",
       "      <th></th>\n",
       "      <th>Unnamed: 0</th>\n",
       "      <th>Content ID</th>\n",
       "      <th>User ID</th>\n",
       "      <th>Type</th>\n",
       "      <th>Datetime</th>\n",
       "    </tr>\n",
       "  </thead>\n",
       "  <tbody>\n",
       "    <tr>\n",
       "      <th>0</th>\n",
       "      <td>0</td>\n",
       "      <td>97522e57-d9ab-4bd6-97bf-c24d952602d2</td>\n",
       "      <td>NaN</td>\n",
       "      <td>NaN</td>\n",
       "      <td>2021-04-22 15:17:15</td>\n",
       "    </tr>\n",
       "    <tr>\n",
       "      <th>1</th>\n",
       "      <td>1</td>\n",
       "      <td>97522e57-d9ab-4bd6-97bf-c24d952602d2</td>\n",
       "      <td>5d454588-283d-459d-915d-c48a2cb4c27f</td>\n",
       "      <td>disgust</td>\n",
       "      <td>2020-11-07 09:43:50</td>\n",
       "    </tr>\n",
       "    <tr>\n",
       "      <th>2</th>\n",
       "      <td>2</td>\n",
       "      <td>97522e57-d9ab-4bd6-97bf-c24d952602d2</td>\n",
       "      <td>92b87fa5-f271-43e0-af66-84fac21052e6</td>\n",
       "      <td>dislike</td>\n",
       "      <td>2021-06-17 12:22:51</td>\n",
       "    </tr>\n",
       "    <tr>\n",
       "      <th>3</th>\n",
       "      <td>3</td>\n",
       "      <td>97522e57-d9ab-4bd6-97bf-c24d952602d2</td>\n",
       "      <td>163daa38-8b77-48c9-9af6-37a6c1447ac2</td>\n",
       "      <td>scared</td>\n",
       "      <td>2021-04-18 05:13:58</td>\n",
       "    </tr>\n",
       "    <tr>\n",
       "      <th>4</th>\n",
       "      <td>4</td>\n",
       "      <td>97522e57-d9ab-4bd6-97bf-c24d952602d2</td>\n",
       "      <td>34e8add9-0206-47fd-a501-037b994650a2</td>\n",
       "      <td>disgust</td>\n",
       "      <td>2021-01-06 19:13:01</td>\n",
       "    </tr>\n",
       "  </tbody>\n",
       "</table>\n",
       "</div>"
      ],
      "text/plain": [
       "   Unnamed: 0                            Content ID  \\\n",
       "0           0  97522e57-d9ab-4bd6-97bf-c24d952602d2   \n",
       "1           1  97522e57-d9ab-4bd6-97bf-c24d952602d2   \n",
       "2           2  97522e57-d9ab-4bd6-97bf-c24d952602d2   \n",
       "3           3  97522e57-d9ab-4bd6-97bf-c24d952602d2   \n",
       "4           4  97522e57-d9ab-4bd6-97bf-c24d952602d2   \n",
       "\n",
       "                                User ID     Type             Datetime  \n",
       "0                                   NaN      NaN  2021-04-22 15:17:15  \n",
       "1  5d454588-283d-459d-915d-c48a2cb4c27f  disgust  2020-11-07 09:43:50  \n",
       "2  92b87fa5-f271-43e0-af66-84fac21052e6  dislike  2021-06-17 12:22:51  \n",
       "3  163daa38-8b77-48c9-9af6-37a6c1447ac2   scared  2021-04-18 05:13:58  \n",
       "4  34e8add9-0206-47fd-a501-037b994650a2  disgust  2021-01-06 19:13:01  "
      ]
     },
     "execution_count": 290,
     "metadata": {},
     "output_type": "execute_result"
    }
   ],
   "source": [
    "reactions = pd.read_csv('Reactions.csv')\n",
    "reactions.head()"
   ]
  },
  {
   "cell_type": "code",
   "execution_count": 170,
   "id": "3abaa71d-3f01-45ed-a8f2-1ac1a7d9ecff",
   "metadata": {},
   "outputs": [
    {
     "data": {
      "text/html": [
       "<div>\n",
       "<style scoped>\n",
       "    .dataframe tbody tr th:only-of-type {\n",
       "        vertical-align: middle;\n",
       "    }\n",
       "\n",
       "    .dataframe tbody tr th {\n",
       "        vertical-align: top;\n",
       "    }\n",
       "\n",
       "    .dataframe thead th {\n",
       "        text-align: right;\n",
       "    }\n",
       "</style>\n",
       "<table border=\"1\" class=\"dataframe\">\n",
       "  <thead>\n",
       "    <tr style=\"text-align: right;\">\n",
       "      <th></th>\n",
       "      <th>Unnamed: 0</th>\n",
       "      <th>Type</th>\n",
       "      <th>Sentiment</th>\n",
       "      <th>Score</th>\n",
       "    </tr>\n",
       "  </thead>\n",
       "  <tbody>\n",
       "    <tr>\n",
       "      <th>0</th>\n",
       "      <td>0</td>\n",
       "      <td>heart</td>\n",
       "      <td>positive</td>\n",
       "      <td>60</td>\n",
       "    </tr>\n",
       "    <tr>\n",
       "      <th>1</th>\n",
       "      <td>1</td>\n",
       "      <td>want</td>\n",
       "      <td>positive</td>\n",
       "      <td>70</td>\n",
       "    </tr>\n",
       "    <tr>\n",
       "      <th>2</th>\n",
       "      <td>2</td>\n",
       "      <td>disgust</td>\n",
       "      <td>negative</td>\n",
       "      <td>0</td>\n",
       "    </tr>\n",
       "    <tr>\n",
       "      <th>3</th>\n",
       "      <td>3</td>\n",
       "      <td>hate</td>\n",
       "      <td>negative</td>\n",
       "      <td>5</td>\n",
       "    </tr>\n",
       "    <tr>\n",
       "      <th>4</th>\n",
       "      <td>4</td>\n",
       "      <td>interested</td>\n",
       "      <td>positive</td>\n",
       "      <td>30</td>\n",
       "    </tr>\n",
       "  </tbody>\n",
       "</table>\n",
       "</div>"
      ],
      "text/plain": [
       "   Unnamed: 0        Type Sentiment  Score\n",
       "0           0       heart  positive     60\n",
       "1           1        want  positive     70\n",
       "2           2     disgust  negative      0\n",
       "3           3        hate  negative      5\n",
       "4           4  interested  positive     30"
      ]
     },
     "execution_count": 170,
     "metadata": {},
     "output_type": "execute_result"
    }
   ],
   "source": [
    "react_types = pd.read_csv('ReactionTypes.csv')\n",
    "react_types.head()"
   ]
  },
  {
   "cell_type": "code",
   "execution_count": 265,
   "id": "039b1314-28b7-43c3-b494-e2986a389b2c",
   "metadata": {},
   "outputs": [
    {
     "data": {
      "text/plain": [
       "Category\n",
       "technology           71\n",
       "animals              67\n",
       "travel               67\n",
       "culture              63\n",
       "science              63\n",
       "fitness              61\n",
       "food                 61\n",
       "healthy eating       61\n",
       "cooking              60\n",
       "soccer               58\n",
       "tennis               58\n",
       "education            57\n",
       "dogs                 56\n",
       "studying             55\n",
       "veganism             48\n",
       "public speaking      48\n",
       "Fitness               5\n",
       "Animals               4\n",
       "Science               4\n",
       "\"soccer\"              3\n",
       "\"culture\"             3\n",
       "Soccer                3\n",
       "\"dogs\"                2\n",
       "Education             2\n",
       "Studying              2\n",
       "Travel                2\n",
       "Food                  2\n",
       "\"veganism\"            1\n",
       "\"public speaking\"     1\n",
       "Public Speaking       1\n",
       "\"technology\"          1\n",
       "\"cooking\"             1\n",
       "Healthy Eating        1\n",
       "\"studying\"            1\n",
       "\"food\"                1\n",
       "Culture               1\n",
       "\"tennis\"              1\n",
       "Technology            1\n",
       "\"animals\"             1\n",
       "Veganism              1\n",
       "\"science\"             1\n",
       "Name: count, dtype: int64"
      ]
     },
     "execution_count": 265,
     "metadata": {},
     "output_type": "execute_result"
    }
   ],
   "source": [
    "#Fix typos in category\n",
    "content['Category'].value_counts()"
   ]
  },
  {
   "cell_type": "code",
   "execution_count": 266,
   "id": "6f34fbd5-cbf3-484f-9979-cb2f27d8826b",
   "metadata": {},
   "outputs": [],
   "source": [
    "content['Category'] = content['Category'].str.replace('\"','')"
   ]
  },
  {
   "cell_type": "code",
   "execution_count": 267,
   "id": "825d4040-3089-498b-961a-848719c675f4",
   "metadata": {},
   "outputs": [
    {
     "data": {
      "text/plain": [
       "Category\n",
       "technology         72\n",
       "animals            68\n",
       "travel             67\n",
       "culture            66\n",
       "science            64\n",
       "food               62\n",
       "healthy eating     61\n",
       "cooking            61\n",
       "soccer             61\n",
       "fitness            61\n",
       "tennis             59\n",
       "dogs               58\n",
       "education          57\n",
       "studying           56\n",
       "veganism           49\n",
       "public speaking    49\n",
       "Fitness             5\n",
       "Animals             4\n",
       "Science             4\n",
       "Soccer              3\n",
       "Food                2\n",
       "Studying            2\n",
       "Education           2\n",
       "Travel              2\n",
       "Technology          1\n",
       "Culture             1\n",
       "Healthy Eating      1\n",
       "Veganism            1\n",
       "Public Speaking     1\n",
       "Name: count, dtype: int64"
      ]
     },
     "execution_count": 267,
     "metadata": {},
     "output_type": "execute_result"
    }
   ],
   "source": [
    "content['Category'].value_counts()"
   ]
  },
  {
   "cell_type": "code",
   "execution_count": 268,
   "id": "435745c6-7c35-484b-941b-c53c21d70788",
   "metadata": {},
   "outputs": [],
   "source": [
    "content['Category'] = content['Category'].str.lower()"
   ]
  },
  {
   "cell_type": "code",
   "execution_count": 269,
   "id": "c0bd2209-23fd-4f67-8a7a-39605ef477e5",
   "metadata": {},
   "outputs": [
    {
     "data": {
      "text/plain": [
       "Category\n",
       "technology         73\n",
       "animals            72\n",
       "travel             69\n",
       "science            68\n",
       "culture            67\n",
       "fitness            66\n",
       "food               64\n",
       "soccer             64\n",
       "healthy eating     62\n",
       "cooking            61\n",
       "tennis             59\n",
       "education          59\n",
       "studying           58\n",
       "dogs               58\n",
       "public speaking    50\n",
       "veganism           50\n",
       "Name: count, dtype: int64"
      ]
     },
     "execution_count": 269,
     "metadata": {},
     "output_type": "execute_result"
    }
   ],
   "source": [
    "content['Category'].value_counts()"
   ]
  },
  {
   "cell_type": "code",
   "execution_count": null,
   "id": "df0d0322-a62a-49a1-b78b-d3448933efbc",
   "metadata": {},
   "outputs": [],
   "source": []
  },
  {
   "cell_type": "markdown",
   "id": "b9ec3711-815e-481b-8565-51bbb36d2be3",
   "metadata": {},
   "source": [
    "## Remove Null Rows"
   ]
  },
  {
   "cell_type": "code",
   "execution_count": 271,
   "id": "e484dda5-2004-4be1-9913-032e0e1dde68",
   "metadata": {},
   "outputs": [
    {
     "data": {
      "text/plain": [
       "Unnamed: 0    0\n",
       "Content ID    0\n",
       "User ID       0\n",
       "Type          0\n",
       "Datetime      0\n",
       "dtype: int64"
      ]
     },
     "execution_count": 271,
     "metadata": {},
     "output_type": "execute_result"
    }
   ],
   "source": [
    "#find any Null values for reactions now\n",
    "reactions.isna().sum()"
   ]
  },
  {
   "cell_type": "code",
   "execution_count": 250,
   "id": "aec340ce-b085-4353-9562-e85c70892f66",
   "metadata": {},
   "outputs": [],
   "source": [
    "#drop null values\n",
    "reactions = reactions.dropna()"
   ]
  },
  {
   "cell_type": "code",
   "execution_count": 251,
   "id": "2900826b-60f0-4da0-8613-835cebad4a86",
   "metadata": {},
   "outputs": [
    {
     "data": {
      "text/plain": [
       "Unnamed: 0    0\n",
       "Content ID    0\n",
       "User ID       0\n",
       "Type          0\n",
       "Datetime      0\n",
       "dtype: int64"
      ]
     },
     "execution_count": 251,
     "metadata": {},
     "output_type": "execute_result"
    }
   ],
   "source": [
    "#check to see if they are gone\n",
    "reactions.isna().sum()"
   ]
  },
  {
   "cell_type": "code",
   "execution_count": 252,
   "id": "d63967e6-4e6c-4f42-aff2-1f6c5601f549",
   "metadata": {},
   "outputs": [
    {
     "data": {
      "text/plain": [
       "Unnamed: 0    0\n",
       "Type          0\n",
       "Sentiment     0\n",
       "Score         0\n",
       "dtype: int64"
      ]
     },
     "execution_count": 252,
     "metadata": {},
     "output_type": "execute_result"
    }
   ],
   "source": [
    "#find any Null values for reaction types now\n",
    "react_types.isna().sum()"
   ]
  },
  {
   "cell_type": "code",
   "execution_count": 253,
   "id": "288ed652-dccd-4bc5-86ff-1ead8fe69c16",
   "metadata": {},
   "outputs": [],
   "source": [
    "#reset index and drop new index column\n",
    "reactions = reactions.reset_index().drop('index',axis=1)"
   ]
  },
  {
   "cell_type": "markdown",
   "id": "6f718c4b-81a5-4264-b8fa-9254344a9a03",
   "metadata": {},
   "source": [
    "## Adjusting Column Types"
   ]
  },
  {
   "cell_type": "code",
   "execution_count": 46,
   "id": "a4c018d5-3f0a-41dd-9900-57c29200d5df",
   "metadata": {},
   "outputs": [
    {
     "data": {
      "text/plain": [
       "Unnamed: 0     int64\n",
       "Content ID    object\n",
       "User ID       object\n",
       "Type          object\n",
       "Category      object\n",
       "URL           object\n",
       "dtype: object"
      ]
     },
     "execution_count": 46,
     "metadata": {},
     "output_type": "execute_result"
    }
   ],
   "source": [
    "#view column types\n",
    "content.dtypes"
   ]
  },
  {
   "cell_type": "code",
   "execution_count": 272,
   "id": "7de986d6-684f-4b8e-8736-c060ee08b083",
   "metadata": {},
   "outputs": [
    {
     "data": {
      "text/html": [
       "<div>\n",
       "<style scoped>\n",
       "    .dataframe tbody tr th:only-of-type {\n",
       "        vertical-align: middle;\n",
       "    }\n",
       "\n",
       "    .dataframe tbody tr th {\n",
       "        vertical-align: top;\n",
       "    }\n",
       "\n",
       "    .dataframe thead th {\n",
       "        text-align: right;\n",
       "    }\n",
       "</style>\n",
       "<table border=\"1\" class=\"dataframe\">\n",
       "  <thead>\n",
       "    <tr style=\"text-align: right;\">\n",
       "      <th></th>\n",
       "      <th>Unnamed: 0</th>\n",
       "      <th>Content ID</th>\n",
       "      <th>User ID</th>\n",
       "      <th>Type</th>\n",
       "      <th>Category</th>\n",
       "      <th>URL</th>\n",
       "    </tr>\n",
       "  </thead>\n",
       "  <tbody>\n",
       "    <tr>\n",
       "      <th>0</th>\n",
       "      <td>0</td>\n",
       "      <td>97522e57-d9ab-4bd6-97bf-c24d952602d2</td>\n",
       "      <td>8d3cd87d-8a31-4935-9a4f-b319bfe05f31</td>\n",
       "      <td>photo</td>\n",
       "      <td>studying</td>\n",
       "      <td>https://socialbuzz.cdn.com/content/storage/975...</td>\n",
       "    </tr>\n",
       "    <tr>\n",
       "      <th>1</th>\n",
       "      <td>1</td>\n",
       "      <td>9f737e0a-3cdd-4d29-9d24-753f4e3be810</td>\n",
       "      <td>beb1f34e-7870-46d6-9fc7-2e12eb83ce43</td>\n",
       "      <td>photo</td>\n",
       "      <td>healthy eating</td>\n",
       "      <td>https://socialbuzz.cdn.com/content/storage/9f7...</td>\n",
       "    </tr>\n",
       "    <tr>\n",
       "      <th>2</th>\n",
       "      <td>2</td>\n",
       "      <td>230c4e4d-70c3-461d-b42c-ec09396efb3f</td>\n",
       "      <td>a5c65404-5894-4b87-82f2-d787cbee86b4</td>\n",
       "      <td>photo</td>\n",
       "      <td>healthy eating</td>\n",
       "      <td>https://socialbuzz.cdn.com/content/storage/230...</td>\n",
       "    </tr>\n",
       "    <tr>\n",
       "      <th>3</th>\n",
       "      <td>3</td>\n",
       "      <td>356fff80-da4d-4785-9f43-bc1261031dc6</td>\n",
       "      <td>9fb4ce88-fac1-406c-8544-1a899cee7aaf</td>\n",
       "      <td>photo</td>\n",
       "      <td>technology</td>\n",
       "      <td>https://socialbuzz.cdn.com/content/storage/356...</td>\n",
       "    </tr>\n",
       "    <tr>\n",
       "      <th>4</th>\n",
       "      <td>4</td>\n",
       "      <td>01ab84dd-6364-4236-abbb-3f237db77180</td>\n",
       "      <td>e206e31b-5f85-4964-b6ea-d7ee5324def1</td>\n",
       "      <td>video</td>\n",
       "      <td>food</td>\n",
       "      <td>https://socialbuzz.cdn.com/content/storage/01a...</td>\n",
       "    </tr>\n",
       "  </tbody>\n",
       "</table>\n",
       "</div>"
      ],
      "text/plain": [
       "   Unnamed: 0                            Content ID  \\\n",
       "0           0  97522e57-d9ab-4bd6-97bf-c24d952602d2   \n",
       "1           1  9f737e0a-3cdd-4d29-9d24-753f4e3be810   \n",
       "2           2  230c4e4d-70c3-461d-b42c-ec09396efb3f   \n",
       "3           3  356fff80-da4d-4785-9f43-bc1261031dc6   \n",
       "4           4  01ab84dd-6364-4236-abbb-3f237db77180   \n",
       "\n",
       "                                User ID   Type        Category  \\\n",
       "0  8d3cd87d-8a31-4935-9a4f-b319bfe05f31  photo        studying   \n",
       "1  beb1f34e-7870-46d6-9fc7-2e12eb83ce43  photo  healthy eating   \n",
       "2  a5c65404-5894-4b87-82f2-d787cbee86b4  photo  healthy eating   \n",
       "3  9fb4ce88-fac1-406c-8544-1a899cee7aaf  photo      technology   \n",
       "4  e206e31b-5f85-4964-b6ea-d7ee5324def1  video            food   \n",
       "\n",
       "                                                 URL  \n",
       "0  https://socialbuzz.cdn.com/content/storage/975...  \n",
       "1  https://socialbuzz.cdn.com/content/storage/9f7...  \n",
       "2  https://socialbuzz.cdn.com/content/storage/230...  \n",
       "3  https://socialbuzz.cdn.com/content/storage/356...  \n",
       "4  https://socialbuzz.cdn.com/content/storage/01a...  "
      ]
     },
     "execution_count": 272,
     "metadata": {},
     "output_type": "execute_result"
    }
   ],
   "source": [
    "content.head()"
   ]
  },
  {
   "cell_type": "markdown",
   "id": "71605079-cf69-4567-afa5-2136eba48587",
   "metadata": {},
   "source": [
    "All column types are accurate for content"
   ]
  },
  {
   "cell_type": "code",
   "execution_count": 45,
   "id": "561deef3-e536-43a1-b447-c541f9c04ed1",
   "metadata": {},
   "outputs": [
    {
     "data": {
      "text/plain": [
       "Unnamed: 0     int64\n",
       "Content ID    object\n",
       "User ID       object\n",
       "Type          object\n",
       "Datetime      object\n",
       "dtype: object"
      ]
     },
     "execution_count": 45,
     "metadata": {},
     "output_type": "execute_result"
    }
   ],
   "source": [
    "reactions.dtypes"
   ]
  },
  {
   "cell_type": "code",
   "execution_count": 47,
   "id": "d687c0fd-0758-4d96-98f5-18a72c073df6",
   "metadata": {},
   "outputs": [
    {
     "data": {
      "text/html": [
       "<div>\n",
       "<style scoped>\n",
       "    .dataframe tbody tr th:only-of-type {\n",
       "        vertical-align: middle;\n",
       "    }\n",
       "\n",
       "    .dataframe tbody tr th {\n",
       "        vertical-align: top;\n",
       "    }\n",
       "\n",
       "    .dataframe thead th {\n",
       "        text-align: right;\n",
       "    }\n",
       "</style>\n",
       "<table border=\"1\" class=\"dataframe\">\n",
       "  <thead>\n",
       "    <tr style=\"text-align: right;\">\n",
       "      <th></th>\n",
       "      <th>Unnamed: 0</th>\n",
       "      <th>Content ID</th>\n",
       "      <th>User ID</th>\n",
       "      <th>Type</th>\n",
       "      <th>Datetime</th>\n",
       "    </tr>\n",
       "  </thead>\n",
       "  <tbody>\n",
       "    <tr>\n",
       "      <th>0</th>\n",
       "      <td>1</td>\n",
       "      <td>97522e57-d9ab-4bd6-97bf-c24d952602d2</td>\n",
       "      <td>5d454588-283d-459d-915d-c48a2cb4c27f</td>\n",
       "      <td>disgust</td>\n",
       "      <td>2020-11-07 09:43:50</td>\n",
       "    </tr>\n",
       "    <tr>\n",
       "      <th>1</th>\n",
       "      <td>2</td>\n",
       "      <td>97522e57-d9ab-4bd6-97bf-c24d952602d2</td>\n",
       "      <td>92b87fa5-f271-43e0-af66-84fac21052e6</td>\n",
       "      <td>dislike</td>\n",
       "      <td>2021-06-17 12:22:51</td>\n",
       "    </tr>\n",
       "    <tr>\n",
       "      <th>2</th>\n",
       "      <td>3</td>\n",
       "      <td>97522e57-d9ab-4bd6-97bf-c24d952602d2</td>\n",
       "      <td>163daa38-8b77-48c9-9af6-37a6c1447ac2</td>\n",
       "      <td>scared</td>\n",
       "      <td>2021-04-18 05:13:58</td>\n",
       "    </tr>\n",
       "    <tr>\n",
       "      <th>3</th>\n",
       "      <td>4</td>\n",
       "      <td>97522e57-d9ab-4bd6-97bf-c24d952602d2</td>\n",
       "      <td>34e8add9-0206-47fd-a501-037b994650a2</td>\n",
       "      <td>disgust</td>\n",
       "      <td>2021-01-06 19:13:01</td>\n",
       "    </tr>\n",
       "    <tr>\n",
       "      <th>4</th>\n",
       "      <td>5</td>\n",
       "      <td>97522e57-d9ab-4bd6-97bf-c24d952602d2</td>\n",
       "      <td>9b6d35f9-5e15-4cd0-a8d7-b1f3340e02c4</td>\n",
       "      <td>interested</td>\n",
       "      <td>2020-08-23 12:25:58</td>\n",
       "    </tr>\n",
       "  </tbody>\n",
       "</table>\n",
       "</div>"
      ],
      "text/plain": [
       "   Unnamed: 0                            Content ID  \\\n",
       "0           1  97522e57-d9ab-4bd6-97bf-c24d952602d2   \n",
       "1           2  97522e57-d9ab-4bd6-97bf-c24d952602d2   \n",
       "2           3  97522e57-d9ab-4bd6-97bf-c24d952602d2   \n",
       "3           4  97522e57-d9ab-4bd6-97bf-c24d952602d2   \n",
       "4           5  97522e57-d9ab-4bd6-97bf-c24d952602d2   \n",
       "\n",
       "                                User ID        Type             Datetime  \n",
       "0  5d454588-283d-459d-915d-c48a2cb4c27f     disgust  2020-11-07 09:43:50  \n",
       "1  92b87fa5-f271-43e0-af66-84fac21052e6     dislike  2021-06-17 12:22:51  \n",
       "2  163daa38-8b77-48c9-9af6-37a6c1447ac2      scared  2021-04-18 05:13:58  \n",
       "3  34e8add9-0206-47fd-a501-037b994650a2     disgust  2021-01-06 19:13:01  \n",
       "4  9b6d35f9-5e15-4cd0-a8d7-b1f3340e02c4  interested  2020-08-23 12:25:58  "
      ]
     },
     "execution_count": 47,
     "metadata": {},
     "output_type": "execute_result"
    }
   ],
   "source": [
    "reactions.head()"
   ]
  },
  {
   "cell_type": "markdown",
   "id": "401a5a66-2559-470e-a425-8c74eb4d2c18",
   "metadata": {},
   "source": [
    "Need to change Datetime column to date time type"
   ]
  },
  {
   "cell_type": "code",
   "execution_count": 229,
   "id": "b031fa04-c7a1-4d47-b3a0-1ed5e01c6325",
   "metadata": {},
   "outputs": [],
   "source": [
    "reactions['Datetime'] = pd.to_datetime(reactions['Datetime'])"
   ]
  },
  {
   "cell_type": "code",
   "execution_count": 55,
   "id": "a20704b8-bbaa-49c7-888b-f65bd7776c6a",
   "metadata": {},
   "outputs": [
    {
     "data": {
      "text/plain": [
       "Unnamed: 0             int64\n",
       "Content ID            object\n",
       "User ID               object\n",
       "Type                  object\n",
       "Datetime      datetime64[ns]\n",
       "dtype: object"
      ]
     },
     "execution_count": 55,
     "metadata": {},
     "output_type": "execute_result"
    }
   ],
   "source": [
    "#checking datetime column is a date type\n",
    "reactions.dtypes"
   ]
  },
  {
   "cell_type": "code",
   "execution_count": 60,
   "id": "c7eb8fdb-a80d-4005-9147-bc03d23dad53",
   "metadata": {},
   "outputs": [
    {
     "data": {
      "text/plain": [
       "Unnamed: 0     int64\n",
       "Type          object\n",
       "Sentiment     object\n",
       "Score          int64\n",
       "dtype: object"
      ]
     },
     "execution_count": 60,
     "metadata": {},
     "output_type": "execute_result"
    }
   ],
   "source": [
    "react_types.dtypes"
   ]
  },
  {
   "cell_type": "code",
   "execution_count": 61,
   "id": "e73d9df9-3332-4bec-abbc-86582989b860",
   "metadata": {},
   "outputs": [
    {
     "data": {
      "text/html": [
       "<div>\n",
       "<style scoped>\n",
       "    .dataframe tbody tr th:only-of-type {\n",
       "        vertical-align: middle;\n",
       "    }\n",
       "\n",
       "    .dataframe tbody tr th {\n",
       "        vertical-align: top;\n",
       "    }\n",
       "\n",
       "    .dataframe thead th {\n",
       "        text-align: right;\n",
       "    }\n",
       "</style>\n",
       "<table border=\"1\" class=\"dataframe\">\n",
       "  <thead>\n",
       "    <tr style=\"text-align: right;\">\n",
       "      <th></th>\n",
       "      <th>Unnamed: 0</th>\n",
       "      <th>Type</th>\n",
       "      <th>Sentiment</th>\n",
       "      <th>Score</th>\n",
       "    </tr>\n",
       "  </thead>\n",
       "  <tbody>\n",
       "    <tr>\n",
       "      <th>0</th>\n",
       "      <td>0</td>\n",
       "      <td>heart</td>\n",
       "      <td>positive</td>\n",
       "      <td>60</td>\n",
       "    </tr>\n",
       "    <tr>\n",
       "      <th>1</th>\n",
       "      <td>1</td>\n",
       "      <td>want</td>\n",
       "      <td>positive</td>\n",
       "      <td>70</td>\n",
       "    </tr>\n",
       "    <tr>\n",
       "      <th>2</th>\n",
       "      <td>2</td>\n",
       "      <td>disgust</td>\n",
       "      <td>negative</td>\n",
       "      <td>0</td>\n",
       "    </tr>\n",
       "    <tr>\n",
       "      <th>3</th>\n",
       "      <td>3</td>\n",
       "      <td>hate</td>\n",
       "      <td>negative</td>\n",
       "      <td>5</td>\n",
       "    </tr>\n",
       "    <tr>\n",
       "      <th>4</th>\n",
       "      <td>4</td>\n",
       "      <td>interested</td>\n",
       "      <td>positive</td>\n",
       "      <td>30</td>\n",
       "    </tr>\n",
       "  </tbody>\n",
       "</table>\n",
       "</div>"
      ],
      "text/plain": [
       "   Unnamed: 0        Type Sentiment  Score\n",
       "0           0       heart  positive     60\n",
       "1           1        want  positive     70\n",
       "2           2     disgust  negative      0\n",
       "3           3        hate  negative      5\n",
       "4           4  interested  positive     30"
      ]
     },
     "execution_count": 61,
     "metadata": {},
     "output_type": "execute_result"
    }
   ],
   "source": [
    "react_types.head()"
   ]
  },
  {
   "cell_type": "markdown",
   "id": "8207c99e-abd8-4cf2-bba2-638f902f8a2c",
   "metadata": {},
   "source": [
    "Column types are accurate"
   ]
  },
  {
   "cell_type": "markdown",
   "id": "0251c3f3-73d9-4fe0-b156-020edb887922",
   "metadata": {},
   "source": [
    "## Removing useless columns"
   ]
  },
  {
   "cell_type": "markdown",
   "id": "46258570-3acb-4de7-aa71-e09d7a92f520",
   "metadata": {},
   "source": [
    "Aim: An analysis of their content categories that highlights the top 5 categories with the \n",
    "largest aggregate popularity "
   ]
  },
  {
   "cell_type": "code",
   "execution_count": 65,
   "id": "21a8eed5-1963-4fa6-b8a9-a6a493991781",
   "metadata": {},
   "outputs": [
    {
     "data": {
      "text/html": [
       "<div>\n",
       "<style scoped>\n",
       "    .dataframe tbody tr th:only-of-type {\n",
       "        vertical-align: middle;\n",
       "    }\n",
       "\n",
       "    .dataframe tbody tr th {\n",
       "        vertical-align: top;\n",
       "    }\n",
       "\n",
       "    .dataframe thead th {\n",
       "        text-align: right;\n",
       "    }\n",
       "</style>\n",
       "<table border=\"1\" class=\"dataframe\">\n",
       "  <thead>\n",
       "    <tr style=\"text-align: right;\">\n",
       "      <th></th>\n",
       "      <th>Unnamed: 0</th>\n",
       "      <th>Content ID</th>\n",
       "      <th>User ID</th>\n",
       "      <th>Type</th>\n",
       "      <th>Category</th>\n",
       "      <th>URL</th>\n",
       "    </tr>\n",
       "  </thead>\n",
       "  <tbody>\n",
       "    <tr>\n",
       "      <th>0</th>\n",
       "      <td>0</td>\n",
       "      <td>97522e57-d9ab-4bd6-97bf-c24d952602d2</td>\n",
       "      <td>8d3cd87d-8a31-4935-9a4f-b319bfe05f31</td>\n",
       "      <td>photo</td>\n",
       "      <td>Studying</td>\n",
       "      <td>https://socialbuzz.cdn.com/content/storage/975...</td>\n",
       "    </tr>\n",
       "    <tr>\n",
       "      <th>1</th>\n",
       "      <td>1</td>\n",
       "      <td>9f737e0a-3cdd-4d29-9d24-753f4e3be810</td>\n",
       "      <td>beb1f34e-7870-46d6-9fc7-2e12eb83ce43</td>\n",
       "      <td>photo</td>\n",
       "      <td>healthy eating</td>\n",
       "      <td>https://socialbuzz.cdn.com/content/storage/9f7...</td>\n",
       "    </tr>\n",
       "    <tr>\n",
       "      <th>2</th>\n",
       "      <td>2</td>\n",
       "      <td>230c4e4d-70c3-461d-b42c-ec09396efb3f</td>\n",
       "      <td>a5c65404-5894-4b87-82f2-d787cbee86b4</td>\n",
       "      <td>photo</td>\n",
       "      <td>healthy eating</td>\n",
       "      <td>https://socialbuzz.cdn.com/content/storage/230...</td>\n",
       "    </tr>\n",
       "    <tr>\n",
       "      <th>3</th>\n",
       "      <td>3</td>\n",
       "      <td>356fff80-da4d-4785-9f43-bc1261031dc6</td>\n",
       "      <td>9fb4ce88-fac1-406c-8544-1a899cee7aaf</td>\n",
       "      <td>photo</td>\n",
       "      <td>technology</td>\n",
       "      <td>https://socialbuzz.cdn.com/content/storage/356...</td>\n",
       "    </tr>\n",
       "    <tr>\n",
       "      <th>4</th>\n",
       "      <td>4</td>\n",
       "      <td>01ab84dd-6364-4236-abbb-3f237db77180</td>\n",
       "      <td>e206e31b-5f85-4964-b6ea-d7ee5324def1</td>\n",
       "      <td>video</td>\n",
       "      <td>food</td>\n",
       "      <td>https://socialbuzz.cdn.com/content/storage/01a...</td>\n",
       "    </tr>\n",
       "  </tbody>\n",
       "</table>\n",
       "</div>"
      ],
      "text/plain": [
       "   Unnamed: 0                            Content ID  \\\n",
       "0           0  97522e57-d9ab-4bd6-97bf-c24d952602d2   \n",
       "1           1  9f737e0a-3cdd-4d29-9d24-753f4e3be810   \n",
       "2           2  230c4e4d-70c3-461d-b42c-ec09396efb3f   \n",
       "3           3  356fff80-da4d-4785-9f43-bc1261031dc6   \n",
       "4           4  01ab84dd-6364-4236-abbb-3f237db77180   \n",
       "\n",
       "                                User ID   Type        Category  \\\n",
       "0  8d3cd87d-8a31-4935-9a4f-b319bfe05f31  photo        Studying   \n",
       "1  beb1f34e-7870-46d6-9fc7-2e12eb83ce43  photo  healthy eating   \n",
       "2  a5c65404-5894-4b87-82f2-d787cbee86b4  photo  healthy eating   \n",
       "3  9fb4ce88-fac1-406c-8544-1a899cee7aaf  photo      technology   \n",
       "4  e206e31b-5f85-4964-b6ea-d7ee5324def1  video            food   \n",
       "\n",
       "                                                 URL  \n",
       "0  https://socialbuzz.cdn.com/content/storage/975...  \n",
       "1  https://socialbuzz.cdn.com/content/storage/9f7...  \n",
       "2  https://socialbuzz.cdn.com/content/storage/230...  \n",
       "3  https://socialbuzz.cdn.com/content/storage/356...  \n",
       "4  https://socialbuzz.cdn.com/content/storage/01a...  "
      ]
     },
     "execution_count": 65,
     "metadata": {},
     "output_type": "execute_result"
    }
   ],
   "source": [
    "content.head()"
   ]
  },
  {
   "cell_type": "code",
   "execution_count": 274,
   "id": "4e3b23d5-137a-424b-a84a-8b276b080ef3",
   "metadata": {},
   "outputs": [],
   "source": [
    "#remove rows that dont help with data anlysis\n",
    "content = content.drop(['User ID','URL'],axis=1)"
   ]
  },
  {
   "cell_type": "code",
   "execution_count": 275,
   "id": "5f52f901-50bd-4057-87e6-3eaf0b5a679a",
   "metadata": {},
   "outputs": [],
   "source": [
    "#Rename type column as it is a different type to other files\n",
    "content.rename(columns={'Type': 'Media Type'}, inplace=True)"
   ]
  },
  {
   "cell_type": "code",
   "execution_count": 254,
   "id": "0eb01af2-3e20-45fb-b336-a3950838af34",
   "metadata": {
    "scrolled": true
   },
   "outputs": [
    {
     "data": {
      "text/html": [
       "<div>\n",
       "<style scoped>\n",
       "    .dataframe tbody tr th:only-of-type {\n",
       "        vertical-align: middle;\n",
       "    }\n",
       "\n",
       "    .dataframe tbody tr th {\n",
       "        vertical-align: top;\n",
       "    }\n",
       "\n",
       "    .dataframe thead th {\n",
       "        text-align: right;\n",
       "    }\n",
       "</style>\n",
       "<table border=\"1\" class=\"dataframe\">\n",
       "  <thead>\n",
       "    <tr style=\"text-align: right;\">\n",
       "      <th></th>\n",
       "      <th>Unnamed: 0</th>\n",
       "      <th>Content ID</th>\n",
       "      <th>User ID</th>\n",
       "      <th>Media Type</th>\n",
       "      <th>Category</th>\n",
       "    </tr>\n",
       "  </thead>\n",
       "  <tbody>\n",
       "    <tr>\n",
       "      <th>0</th>\n",
       "      <td>0</td>\n",
       "      <td>97522e57-d9ab-4bd6-97bf-c24d952602d2</td>\n",
       "      <td>8d3cd87d-8a31-4935-9a4f-b319bfe05f31</td>\n",
       "      <td>photo</td>\n",
       "      <td>studying</td>\n",
       "    </tr>\n",
       "    <tr>\n",
       "      <th>1</th>\n",
       "      <td>1</td>\n",
       "      <td>9f737e0a-3cdd-4d29-9d24-753f4e3be810</td>\n",
       "      <td>beb1f34e-7870-46d6-9fc7-2e12eb83ce43</td>\n",
       "      <td>photo</td>\n",
       "      <td>healthy eating</td>\n",
       "    </tr>\n",
       "    <tr>\n",
       "      <th>2</th>\n",
       "      <td>2</td>\n",
       "      <td>230c4e4d-70c3-461d-b42c-ec09396efb3f</td>\n",
       "      <td>a5c65404-5894-4b87-82f2-d787cbee86b4</td>\n",
       "      <td>photo</td>\n",
       "      <td>healthy eating</td>\n",
       "    </tr>\n",
       "    <tr>\n",
       "      <th>3</th>\n",
       "      <td>3</td>\n",
       "      <td>356fff80-da4d-4785-9f43-bc1261031dc6</td>\n",
       "      <td>9fb4ce88-fac1-406c-8544-1a899cee7aaf</td>\n",
       "      <td>photo</td>\n",
       "      <td>technology</td>\n",
       "    </tr>\n",
       "    <tr>\n",
       "      <th>4</th>\n",
       "      <td>4</td>\n",
       "      <td>01ab84dd-6364-4236-abbb-3f237db77180</td>\n",
       "      <td>e206e31b-5f85-4964-b6ea-d7ee5324def1</td>\n",
       "      <td>video</td>\n",
       "      <td>food</td>\n",
       "    </tr>\n",
       "  </tbody>\n",
       "</table>\n",
       "</div>"
      ],
      "text/plain": [
       "   Unnamed: 0                            Content ID  \\\n",
       "0           0  97522e57-d9ab-4bd6-97bf-c24d952602d2   \n",
       "1           1  9f737e0a-3cdd-4d29-9d24-753f4e3be810   \n",
       "2           2  230c4e4d-70c3-461d-b42c-ec09396efb3f   \n",
       "3           3  356fff80-da4d-4785-9f43-bc1261031dc6   \n",
       "4           4  01ab84dd-6364-4236-abbb-3f237db77180   \n",
       "\n",
       "                                User ID Media Type        Category  \n",
       "0  8d3cd87d-8a31-4935-9a4f-b319bfe05f31      photo        studying  \n",
       "1  beb1f34e-7870-46d6-9fc7-2e12eb83ce43      photo  healthy eating  \n",
       "2  a5c65404-5894-4b87-82f2-d787cbee86b4      photo  healthy eating  \n",
       "3  9fb4ce88-fac1-406c-8544-1a899cee7aaf      photo      technology  \n",
       "4  e206e31b-5f85-4964-b6ea-d7ee5324def1      video            food  "
      ]
     },
     "execution_count": 254,
     "metadata": {},
     "output_type": "execute_result"
    }
   ],
   "source": [
    "content.head()"
   ]
  },
  {
   "cell_type": "code",
   "execution_count": 276,
   "id": "37ab0d01-48a7-4624-9b6f-e9d1ad717a2e",
   "metadata": {},
   "outputs": [
    {
     "data": {
      "text/html": [
       "<div>\n",
       "<style scoped>\n",
       "    .dataframe tbody tr th:only-of-type {\n",
       "        vertical-align: middle;\n",
       "    }\n",
       "\n",
       "    .dataframe tbody tr th {\n",
       "        vertical-align: top;\n",
       "    }\n",
       "\n",
       "    .dataframe thead th {\n",
       "        text-align: right;\n",
       "    }\n",
       "</style>\n",
       "<table border=\"1\" class=\"dataframe\">\n",
       "  <thead>\n",
       "    <tr style=\"text-align: right;\">\n",
       "      <th></th>\n",
       "      <th>Unnamed: 0</th>\n",
       "      <th>Content ID</th>\n",
       "      <th>User ID</th>\n",
       "      <th>Type</th>\n",
       "      <th>Datetime</th>\n",
       "    </tr>\n",
       "  </thead>\n",
       "  <tbody>\n",
       "    <tr>\n",
       "      <th>0</th>\n",
       "      <td>1</td>\n",
       "      <td>97522e57-d9ab-4bd6-97bf-c24d952602d2</td>\n",
       "      <td>5d454588-283d-459d-915d-c48a2cb4c27f</td>\n",
       "      <td>disgust</td>\n",
       "      <td>2020-11-07 09:43:50</td>\n",
       "    </tr>\n",
       "    <tr>\n",
       "      <th>1</th>\n",
       "      <td>2</td>\n",
       "      <td>97522e57-d9ab-4bd6-97bf-c24d952602d2</td>\n",
       "      <td>92b87fa5-f271-43e0-af66-84fac21052e6</td>\n",
       "      <td>dislike</td>\n",
       "      <td>2021-06-17 12:22:51</td>\n",
       "    </tr>\n",
       "    <tr>\n",
       "      <th>2</th>\n",
       "      <td>3</td>\n",
       "      <td>97522e57-d9ab-4bd6-97bf-c24d952602d2</td>\n",
       "      <td>163daa38-8b77-48c9-9af6-37a6c1447ac2</td>\n",
       "      <td>scared</td>\n",
       "      <td>2021-04-18 05:13:58</td>\n",
       "    </tr>\n",
       "    <tr>\n",
       "      <th>3</th>\n",
       "      <td>4</td>\n",
       "      <td>97522e57-d9ab-4bd6-97bf-c24d952602d2</td>\n",
       "      <td>34e8add9-0206-47fd-a501-037b994650a2</td>\n",
       "      <td>disgust</td>\n",
       "      <td>2021-01-06 19:13:01</td>\n",
       "    </tr>\n",
       "    <tr>\n",
       "      <th>4</th>\n",
       "      <td>5</td>\n",
       "      <td>97522e57-d9ab-4bd6-97bf-c24d952602d2</td>\n",
       "      <td>9b6d35f9-5e15-4cd0-a8d7-b1f3340e02c4</td>\n",
       "      <td>interested</td>\n",
       "      <td>2020-08-23 12:25:58</td>\n",
       "    </tr>\n",
       "  </tbody>\n",
       "</table>\n",
       "</div>"
      ],
      "text/plain": [
       "   Unnamed: 0                            Content ID  \\\n",
       "0           1  97522e57-d9ab-4bd6-97bf-c24d952602d2   \n",
       "1           2  97522e57-d9ab-4bd6-97bf-c24d952602d2   \n",
       "2           3  97522e57-d9ab-4bd6-97bf-c24d952602d2   \n",
       "3           4  97522e57-d9ab-4bd6-97bf-c24d952602d2   \n",
       "4           5  97522e57-d9ab-4bd6-97bf-c24d952602d2   \n",
       "\n",
       "                                User ID        Type            Datetime  \n",
       "0  5d454588-283d-459d-915d-c48a2cb4c27f     disgust 2020-11-07 09:43:50  \n",
       "1  92b87fa5-f271-43e0-af66-84fac21052e6     dislike 2021-06-17 12:22:51  \n",
       "2  163daa38-8b77-48c9-9af6-37a6c1447ac2      scared 2021-04-18 05:13:58  \n",
       "3  34e8add9-0206-47fd-a501-037b994650a2     disgust 2021-01-06 19:13:01  \n",
       "4  9b6d35f9-5e15-4cd0-a8d7-b1f3340e02c4  interested 2020-08-23 12:25:58  "
      ]
     },
     "execution_count": 276,
     "metadata": {},
     "output_type": "execute_result"
    }
   ],
   "source": [
    "reactions.head()"
   ]
  },
  {
   "cell_type": "code",
   "execution_count": 291,
   "id": "95ee7fc0-ba67-4d1e-b389-f56dfda40806",
   "metadata": {},
   "outputs": [],
   "source": [
    "reactions = reactions.drop('User ID', axis=1)"
   ]
  },
  {
   "cell_type": "code",
   "execution_count": 71,
   "id": "ef2e1783-f231-46dc-a24e-c2df0d095c1d",
   "metadata": {},
   "outputs": [
    {
     "data": {
      "text/html": [
       "<div>\n",
       "<style scoped>\n",
       "    .dataframe tbody tr th:only-of-type {\n",
       "        vertical-align: middle;\n",
       "    }\n",
       "\n",
       "    .dataframe tbody tr th {\n",
       "        vertical-align: top;\n",
       "    }\n",
       "\n",
       "    .dataframe thead th {\n",
       "        text-align: right;\n",
       "    }\n",
       "</style>\n",
       "<table border=\"1\" class=\"dataframe\">\n",
       "  <thead>\n",
       "    <tr style=\"text-align: right;\">\n",
       "      <th></th>\n",
       "      <th>Unnamed: 0</th>\n",
       "      <th>Type</th>\n",
       "      <th>Sentiment</th>\n",
       "      <th>Score</th>\n",
       "    </tr>\n",
       "  </thead>\n",
       "  <tbody>\n",
       "    <tr>\n",
       "      <th>0</th>\n",
       "      <td>0</td>\n",
       "      <td>heart</td>\n",
       "      <td>positive</td>\n",
       "      <td>60</td>\n",
       "    </tr>\n",
       "    <tr>\n",
       "      <th>1</th>\n",
       "      <td>1</td>\n",
       "      <td>want</td>\n",
       "      <td>positive</td>\n",
       "      <td>70</td>\n",
       "    </tr>\n",
       "    <tr>\n",
       "      <th>2</th>\n",
       "      <td>2</td>\n",
       "      <td>disgust</td>\n",
       "      <td>negative</td>\n",
       "      <td>0</td>\n",
       "    </tr>\n",
       "    <tr>\n",
       "      <th>3</th>\n",
       "      <td>3</td>\n",
       "      <td>hate</td>\n",
       "      <td>negative</td>\n",
       "      <td>5</td>\n",
       "    </tr>\n",
       "    <tr>\n",
       "      <th>4</th>\n",
       "      <td>4</td>\n",
       "      <td>interested</td>\n",
       "      <td>positive</td>\n",
       "      <td>30</td>\n",
       "    </tr>\n",
       "  </tbody>\n",
       "</table>\n",
       "</div>"
      ],
      "text/plain": [
       "   Unnamed: 0        Type Sentiment  Score\n",
       "0           0       heart  positive     60\n",
       "1           1        want  positive     70\n",
       "2           2     disgust  negative      0\n",
       "3           3        hate  negative      5\n",
       "4           4  interested  positive     30"
      ]
     },
     "execution_count": 71,
     "metadata": {},
     "output_type": "execute_result"
    }
   ],
   "source": [
    "react_types.head()"
   ]
  },
  {
   "cell_type": "code",
   "execution_count": 278,
   "id": "2da479df-fb8e-4523-a9f7-ef8f2b80cd64",
   "metadata": {},
   "outputs": [
    {
     "data": {
      "text/plain": [
       "(22534, 4)"
      ]
     },
     "execution_count": 278,
     "metadata": {},
     "output_type": "execute_result"
    }
   ],
   "source": [
    "reactions.shape"
   ]
  },
  {
   "cell_type": "code",
   "execution_count": 279,
   "id": "d11225db-cdfc-4dfc-87f5-d9f7a0a163e5",
   "metadata": {},
   "outputs": [
    {
     "data": {
      "text/plain": [
       "(1000, 4)"
      ]
     },
     "execution_count": 279,
     "metadata": {},
     "output_type": "execute_result"
    }
   ],
   "source": [
    "content.shape"
   ]
  },
  {
   "cell_type": "markdown",
   "id": "f787bc99-5460-4d67-9967-e84ed55b2a8f",
   "metadata": {},
   "source": [
    "# Data Modelling"
   ]
  },
  {
   "cell_type": "markdown",
   "id": "f0cb2b3c-c23f-4ec3-908f-4014d6d71787",
   "metadata": {},
   "source": [
    "Now we want to figure out the top 5 categories. To complete your data modelling, follow these steps:\n",
    "\n",
    "1. Create a final data set by merging your three tables together\n",
    "\n",
    "We recommend using the Reaction table as your base table, then first join the relevant columns from your Content data set, and then the Reaction Types data set.\n",
    "Hint: You can use a “VLookUp” formula\n",
    " \n",
    "2. Figure out the Top 5 performing categories\n",
    "\n",
    "Add up the total scores for each category.\n",
    "Hint: You can use the “Sum If” formula\n",
    "\n",
    "The end result should be one spreadsheet which contains:\n",
    "\n",
    "A cleaned dataset\n",
    "The top 5 categories"
   ]
  },
  {
   "cell_type": "code",
   "execution_count": 292,
   "id": "e3b4f423-c9c9-49ee-86d2-523b9638aa0b",
   "metadata": {},
   "outputs": [
    {
     "data": {
      "text/html": [
       "<div>\n",
       "<style scoped>\n",
       "    .dataframe tbody tr th:only-of-type {\n",
       "        vertical-align: middle;\n",
       "    }\n",
       "\n",
       "    .dataframe tbody tr th {\n",
       "        vertical-align: top;\n",
       "    }\n",
       "\n",
       "    .dataframe thead th {\n",
       "        text-align: right;\n",
       "    }\n",
       "</style>\n",
       "<table border=\"1\" class=\"dataframe\">\n",
       "  <thead>\n",
       "    <tr style=\"text-align: right;\">\n",
       "      <th></th>\n",
       "      <th>index</th>\n",
       "      <th>Unnamed: 0_x</th>\n",
       "      <th>Content ID</th>\n",
       "      <th>Type</th>\n",
       "      <th>Datetime</th>\n",
       "      <th>Unnamed: 0_y</th>\n",
       "      <th>Media Type</th>\n",
       "      <th>Category</th>\n",
       "    </tr>\n",
       "  </thead>\n",
       "  <tbody>\n",
       "    <tr>\n",
       "      <th>0</th>\n",
       "      <td>0</td>\n",
       "      <td>0</td>\n",
       "      <td>97522e57-d9ab-4bd6-97bf-c24d952602d2</td>\n",
       "      <td>NaN</td>\n",
       "      <td>2021-04-22 15:17:15</td>\n",
       "      <td>0</td>\n",
       "      <td>photo</td>\n",
       "      <td>studying</td>\n",
       "    </tr>\n",
       "    <tr>\n",
       "      <th>1</th>\n",
       "      <td>1</td>\n",
       "      <td>1</td>\n",
       "      <td>97522e57-d9ab-4bd6-97bf-c24d952602d2</td>\n",
       "      <td>disgust</td>\n",
       "      <td>2020-11-07 09:43:50</td>\n",
       "      <td>0</td>\n",
       "      <td>photo</td>\n",
       "      <td>studying</td>\n",
       "    </tr>\n",
       "    <tr>\n",
       "      <th>2</th>\n",
       "      <td>2</td>\n",
       "      <td>2</td>\n",
       "      <td>97522e57-d9ab-4bd6-97bf-c24d952602d2</td>\n",
       "      <td>dislike</td>\n",
       "      <td>2021-06-17 12:22:51</td>\n",
       "      <td>0</td>\n",
       "      <td>photo</td>\n",
       "      <td>studying</td>\n",
       "    </tr>\n",
       "    <tr>\n",
       "      <th>3</th>\n",
       "      <td>3</td>\n",
       "      <td>3</td>\n",
       "      <td>97522e57-d9ab-4bd6-97bf-c24d952602d2</td>\n",
       "      <td>scared</td>\n",
       "      <td>2021-04-18 05:13:58</td>\n",
       "      <td>0</td>\n",
       "      <td>photo</td>\n",
       "      <td>studying</td>\n",
       "    </tr>\n",
       "    <tr>\n",
       "      <th>4</th>\n",
       "      <td>4</td>\n",
       "      <td>4</td>\n",
       "      <td>97522e57-d9ab-4bd6-97bf-c24d952602d2</td>\n",
       "      <td>disgust</td>\n",
       "      <td>2021-01-06 19:13:01</td>\n",
       "      <td>0</td>\n",
       "      <td>photo</td>\n",
       "      <td>studying</td>\n",
       "    </tr>\n",
       "  </tbody>\n",
       "</table>\n",
       "</div>"
      ],
      "text/plain": [
       "   index  Unnamed: 0_x                            Content ID     Type  \\\n",
       "0      0             0  97522e57-d9ab-4bd6-97bf-c24d952602d2      NaN   \n",
       "1      1             1  97522e57-d9ab-4bd6-97bf-c24d952602d2  disgust   \n",
       "2      2             2  97522e57-d9ab-4bd6-97bf-c24d952602d2  dislike   \n",
       "3      3             3  97522e57-d9ab-4bd6-97bf-c24d952602d2   scared   \n",
       "4      4             4  97522e57-d9ab-4bd6-97bf-c24d952602d2  disgust   \n",
       "\n",
       "              Datetime  Unnamed: 0_y Media Type  Category  \n",
       "0  2021-04-22 15:17:15             0      photo  studying  \n",
       "1  2020-11-07 09:43:50             0      photo  studying  \n",
       "2  2021-06-17 12:22:51             0      photo  studying  \n",
       "3  2021-04-18 05:13:58             0      photo  studying  \n",
       "4  2021-01-06 19:13:01             0      photo  studying  "
      ]
     },
     "execution_count": 292,
     "metadata": {},
     "output_type": "execute_result"
    }
   ],
   "source": [
    "#merge content and reactions on Unnamed: 0\t\n",
    "cr =reactions.merge(content, how = 'left', on = 'Content ID').reset_index()\n",
    "cr.head()"
   ]
  },
  {
   "cell_type": "code",
   "execution_count": 258,
   "id": "73358745-085e-49ea-bd06-a0091915e455",
   "metadata": {},
   "outputs": [
    {
     "data": {
      "text/plain": [
       "(22534, 10)"
      ]
     },
     "execution_count": 258,
     "metadata": {},
     "output_type": "execute_result"
    }
   ],
   "source": [
    "cr.shape"
   ]
  },
  {
   "cell_type": "code",
   "execution_count": 293,
   "id": "b31da614-a113-499f-868f-02fea25f84e3",
   "metadata": {},
   "outputs": [],
   "source": [
    "cr = cr.drop(['Unnamed: 0_x','Unnamed: 0_y','index'], axis=1)"
   ]
  },
  {
   "cell_type": "code",
   "execution_count": 294,
   "id": "948b4ad4-e99d-4850-83a2-5d3fdd4a1b96",
   "metadata": {},
   "outputs": [
    {
     "data": {
      "text/html": [
       "<div>\n",
       "<style scoped>\n",
       "    .dataframe tbody tr th:only-of-type {\n",
       "        vertical-align: middle;\n",
       "    }\n",
       "\n",
       "    .dataframe tbody tr th {\n",
       "        vertical-align: top;\n",
       "    }\n",
       "\n",
       "    .dataframe thead th {\n",
       "        text-align: right;\n",
       "    }\n",
       "</style>\n",
       "<table border=\"1\" class=\"dataframe\">\n",
       "  <thead>\n",
       "    <tr style=\"text-align: right;\">\n",
       "      <th></th>\n",
       "      <th>Content ID</th>\n",
       "      <th>Type</th>\n",
       "      <th>Datetime</th>\n",
       "      <th>Media Type</th>\n",
       "      <th>Category</th>\n",
       "    </tr>\n",
       "  </thead>\n",
       "  <tbody>\n",
       "    <tr>\n",
       "      <th>0</th>\n",
       "      <td>97522e57-d9ab-4bd6-97bf-c24d952602d2</td>\n",
       "      <td>NaN</td>\n",
       "      <td>2021-04-22 15:17:15</td>\n",
       "      <td>photo</td>\n",
       "      <td>studying</td>\n",
       "    </tr>\n",
       "    <tr>\n",
       "      <th>1</th>\n",
       "      <td>97522e57-d9ab-4bd6-97bf-c24d952602d2</td>\n",
       "      <td>disgust</td>\n",
       "      <td>2020-11-07 09:43:50</td>\n",
       "      <td>photo</td>\n",
       "      <td>studying</td>\n",
       "    </tr>\n",
       "    <tr>\n",
       "      <th>2</th>\n",
       "      <td>97522e57-d9ab-4bd6-97bf-c24d952602d2</td>\n",
       "      <td>dislike</td>\n",
       "      <td>2021-06-17 12:22:51</td>\n",
       "      <td>photo</td>\n",
       "      <td>studying</td>\n",
       "    </tr>\n",
       "    <tr>\n",
       "      <th>3</th>\n",
       "      <td>97522e57-d9ab-4bd6-97bf-c24d952602d2</td>\n",
       "      <td>scared</td>\n",
       "      <td>2021-04-18 05:13:58</td>\n",
       "      <td>photo</td>\n",
       "      <td>studying</td>\n",
       "    </tr>\n",
       "    <tr>\n",
       "      <th>4</th>\n",
       "      <td>97522e57-d9ab-4bd6-97bf-c24d952602d2</td>\n",
       "      <td>disgust</td>\n",
       "      <td>2021-01-06 19:13:01</td>\n",
       "      <td>photo</td>\n",
       "      <td>studying</td>\n",
       "    </tr>\n",
       "  </tbody>\n",
       "</table>\n",
       "</div>"
      ],
      "text/plain": [
       "                             Content ID     Type             Datetime  \\\n",
       "0  97522e57-d9ab-4bd6-97bf-c24d952602d2      NaN  2021-04-22 15:17:15   \n",
       "1  97522e57-d9ab-4bd6-97bf-c24d952602d2  disgust  2020-11-07 09:43:50   \n",
       "2  97522e57-d9ab-4bd6-97bf-c24d952602d2  dislike  2021-06-17 12:22:51   \n",
       "3  97522e57-d9ab-4bd6-97bf-c24d952602d2   scared  2021-04-18 05:13:58   \n",
       "4  97522e57-d9ab-4bd6-97bf-c24d952602d2  disgust  2021-01-06 19:13:01   \n",
       "\n",
       "  Media Type  Category  \n",
       "0      photo  studying  \n",
       "1      photo  studying  \n",
       "2      photo  studying  \n",
       "3      photo  studying  \n",
       "4      photo  studying  "
      ]
     },
     "execution_count": 294,
     "metadata": {},
     "output_type": "execute_result"
    }
   ],
   "source": [
    "cr.head()"
   ]
  },
  {
   "cell_type": "code",
   "execution_count": 295,
   "id": "a8bdebd7-5640-4901-ac8b-e962faf10151",
   "metadata": {},
   "outputs": [],
   "source": [
    "crt = cr.merge(react_types, how ='left', on='Type')"
   ]
  },
  {
   "cell_type": "code",
   "execution_count": 296,
   "id": "85017eeb-0a8f-4dc1-983c-e46a52d4c298",
   "metadata": {},
   "outputs": [
    {
     "data": {
      "text/html": [
       "<div>\n",
       "<style scoped>\n",
       "    .dataframe tbody tr th:only-of-type {\n",
       "        vertical-align: middle;\n",
       "    }\n",
       "\n",
       "    .dataframe tbody tr th {\n",
       "        vertical-align: top;\n",
       "    }\n",
       "\n",
       "    .dataframe thead th {\n",
       "        text-align: right;\n",
       "    }\n",
       "</style>\n",
       "<table border=\"1\" class=\"dataframe\">\n",
       "  <thead>\n",
       "    <tr style=\"text-align: right;\">\n",
       "      <th></th>\n",
       "      <th>Content ID</th>\n",
       "      <th>Type</th>\n",
       "      <th>Datetime</th>\n",
       "      <th>Media Type</th>\n",
       "      <th>Category</th>\n",
       "      <th>Unnamed: 0</th>\n",
       "      <th>Sentiment</th>\n",
       "      <th>Score</th>\n",
       "    </tr>\n",
       "  </thead>\n",
       "  <tbody>\n",
       "    <tr>\n",
       "      <th>0</th>\n",
       "      <td>97522e57-d9ab-4bd6-97bf-c24d952602d2</td>\n",
       "      <td>NaN</td>\n",
       "      <td>2021-04-22 15:17:15</td>\n",
       "      <td>photo</td>\n",
       "      <td>studying</td>\n",
       "      <td>NaN</td>\n",
       "      <td>NaN</td>\n",
       "      <td>NaN</td>\n",
       "    </tr>\n",
       "    <tr>\n",
       "      <th>1</th>\n",
       "      <td>97522e57-d9ab-4bd6-97bf-c24d952602d2</td>\n",
       "      <td>disgust</td>\n",
       "      <td>2020-11-07 09:43:50</td>\n",
       "      <td>photo</td>\n",
       "      <td>studying</td>\n",
       "      <td>2.0</td>\n",
       "      <td>negative</td>\n",
       "      <td>0.0</td>\n",
       "    </tr>\n",
       "    <tr>\n",
       "      <th>2</th>\n",
       "      <td>97522e57-d9ab-4bd6-97bf-c24d952602d2</td>\n",
       "      <td>dislike</td>\n",
       "      <td>2021-06-17 12:22:51</td>\n",
       "      <td>photo</td>\n",
       "      <td>studying</td>\n",
       "      <td>11.0</td>\n",
       "      <td>negative</td>\n",
       "      <td>10.0</td>\n",
       "    </tr>\n",
       "    <tr>\n",
       "      <th>3</th>\n",
       "      <td>97522e57-d9ab-4bd6-97bf-c24d952602d2</td>\n",
       "      <td>scared</td>\n",
       "      <td>2021-04-18 05:13:58</td>\n",
       "      <td>photo</td>\n",
       "      <td>studying</td>\n",
       "      <td>14.0</td>\n",
       "      <td>negative</td>\n",
       "      <td>15.0</td>\n",
       "    </tr>\n",
       "    <tr>\n",
       "      <th>4</th>\n",
       "      <td>97522e57-d9ab-4bd6-97bf-c24d952602d2</td>\n",
       "      <td>disgust</td>\n",
       "      <td>2021-01-06 19:13:01</td>\n",
       "      <td>photo</td>\n",
       "      <td>studying</td>\n",
       "      <td>2.0</td>\n",
       "      <td>negative</td>\n",
       "      <td>0.0</td>\n",
       "    </tr>\n",
       "  </tbody>\n",
       "</table>\n",
       "</div>"
      ],
      "text/plain": [
       "                             Content ID     Type             Datetime  \\\n",
       "0  97522e57-d9ab-4bd6-97bf-c24d952602d2      NaN  2021-04-22 15:17:15   \n",
       "1  97522e57-d9ab-4bd6-97bf-c24d952602d2  disgust  2020-11-07 09:43:50   \n",
       "2  97522e57-d9ab-4bd6-97bf-c24d952602d2  dislike  2021-06-17 12:22:51   \n",
       "3  97522e57-d9ab-4bd6-97bf-c24d952602d2   scared  2021-04-18 05:13:58   \n",
       "4  97522e57-d9ab-4bd6-97bf-c24d952602d2  disgust  2021-01-06 19:13:01   \n",
       "\n",
       "  Media Type  Category  Unnamed: 0 Sentiment  Score  \n",
       "0      photo  studying         NaN       NaN    NaN  \n",
       "1      photo  studying         2.0  negative    0.0  \n",
       "2      photo  studying        11.0  negative   10.0  \n",
       "3      photo  studying        14.0  negative   15.0  \n",
       "4      photo  studying         2.0  negative    0.0  "
      ]
     },
     "execution_count": 296,
     "metadata": {},
     "output_type": "execute_result"
    }
   ],
   "source": [
    "crt.head()"
   ]
  },
  {
   "cell_type": "code",
   "execution_count": 299,
   "id": "f4fe75b9-17e8-4dc3-ad83-c5dbc0839858",
   "metadata": {},
   "outputs": [],
   "source": [
    "crt = crt.dropna()"
   ]
  },
  {
   "cell_type": "code",
   "execution_count": 286,
   "id": "a6b51c76-b208-41b3-a003-5423e5792969",
   "metadata": {},
   "outputs": [
    {
     "data": {
      "text/plain": [
       "(22534, 7)"
      ]
     },
     "execution_count": 286,
     "metadata": {},
     "output_type": "execute_result"
    }
   ],
   "source": [
    "crt.shape"
   ]
  },
  {
   "cell_type": "code",
   "execution_count": 287,
   "id": "4d5ed76b-362a-4e84-a3b2-256ab7eeec8f",
   "metadata": {},
   "outputs": [
    {
     "data": {
      "text/html": [
       "<div>\n",
       "<style scoped>\n",
       "    .dataframe tbody tr th:only-of-type {\n",
       "        vertical-align: middle;\n",
       "    }\n",
       "\n",
       "    .dataframe tbody tr th {\n",
       "        vertical-align: top;\n",
       "    }\n",
       "\n",
       "    .dataframe thead th {\n",
       "        text-align: right;\n",
       "    }\n",
       "</style>\n",
       "<table border=\"1\" class=\"dataframe\">\n",
       "  <thead>\n",
       "    <tr style=\"text-align: right;\">\n",
       "      <th></th>\n",
       "      <th>Content ID</th>\n",
       "      <th>Type</th>\n",
       "      <th>Datetime</th>\n",
       "      <th>Media Type</th>\n",
       "      <th>Category</th>\n",
       "      <th>Sentiment</th>\n",
       "      <th>Score</th>\n",
       "    </tr>\n",
       "  </thead>\n",
       "  <tbody>\n",
       "    <tr>\n",
       "      <th>0</th>\n",
       "      <td>97522e57-d9ab-4bd6-97bf-c24d952602d2</td>\n",
       "      <td>disgust</td>\n",
       "      <td>2020-11-07 09:43:50</td>\n",
       "      <td>photo</td>\n",
       "      <td>studying</td>\n",
       "      <td>negative</td>\n",
       "      <td>0</td>\n",
       "    </tr>\n",
       "    <tr>\n",
       "      <th>1</th>\n",
       "      <td>97522e57-d9ab-4bd6-97bf-c24d952602d2</td>\n",
       "      <td>dislike</td>\n",
       "      <td>2021-06-17 12:22:51</td>\n",
       "      <td>photo</td>\n",
       "      <td>studying</td>\n",
       "      <td>negative</td>\n",
       "      <td>10</td>\n",
       "    </tr>\n",
       "    <tr>\n",
       "      <th>2</th>\n",
       "      <td>97522e57-d9ab-4bd6-97bf-c24d952602d2</td>\n",
       "      <td>scared</td>\n",
       "      <td>2021-04-18 05:13:58</td>\n",
       "      <td>photo</td>\n",
       "      <td>studying</td>\n",
       "      <td>negative</td>\n",
       "      <td>15</td>\n",
       "    </tr>\n",
       "    <tr>\n",
       "      <th>3</th>\n",
       "      <td>97522e57-d9ab-4bd6-97bf-c24d952602d2</td>\n",
       "      <td>disgust</td>\n",
       "      <td>2021-01-06 19:13:01</td>\n",
       "      <td>photo</td>\n",
       "      <td>studying</td>\n",
       "      <td>negative</td>\n",
       "      <td>0</td>\n",
       "    </tr>\n",
       "    <tr>\n",
       "      <th>4</th>\n",
       "      <td>97522e57-d9ab-4bd6-97bf-c24d952602d2</td>\n",
       "      <td>interested</td>\n",
       "      <td>2020-08-23 12:25:58</td>\n",
       "      <td>photo</td>\n",
       "      <td>studying</td>\n",
       "      <td>positive</td>\n",
       "      <td>30</td>\n",
       "    </tr>\n",
       "  </tbody>\n",
       "</table>\n",
       "</div>"
      ],
      "text/plain": [
       "                             Content ID        Type            Datetime  \\\n",
       "0  97522e57-d9ab-4bd6-97bf-c24d952602d2     disgust 2020-11-07 09:43:50   \n",
       "1  97522e57-d9ab-4bd6-97bf-c24d952602d2     dislike 2021-06-17 12:22:51   \n",
       "2  97522e57-d9ab-4bd6-97bf-c24d952602d2      scared 2021-04-18 05:13:58   \n",
       "3  97522e57-d9ab-4bd6-97bf-c24d952602d2     disgust 2021-01-06 19:13:01   \n",
       "4  97522e57-d9ab-4bd6-97bf-c24d952602d2  interested 2020-08-23 12:25:58   \n",
       "\n",
       "  Media Type  Category Sentiment  Score  \n",
       "0      photo  studying  negative      0  \n",
       "1      photo  studying  negative     10  \n",
       "2      photo  studying  negative     15  \n",
       "3      photo  studying  negative      0  \n",
       "4      photo  studying  positive     30  "
      ]
     },
     "execution_count": 287,
     "metadata": {},
     "output_type": "execute_result"
    }
   ],
   "source": [
    "crt.head()"
   ]
  },
  {
   "cell_type": "code",
   "execution_count": 300,
   "id": "2bc9351a-e141-482a-8bc8-b916c2a5cb9c",
   "metadata": {},
   "outputs": [],
   "source": [
    "crt_final =crt.groupby('Category')['Score'].sum().reset_index().sort_values('Score',ascending= False).reset_index().drop('index',axis=1)"
   ]
  },
  {
   "cell_type": "markdown",
   "id": "b8d632c8-4fb8-42bd-813d-9d21c3f13dfd",
   "metadata": {},
   "source": [
    "Top 5 categories are animals, science, healthy eating, technology and food"
   ]
  },
  {
   "cell_type": "code",
   "execution_count": 301,
   "id": "313e9710-81f1-435d-b504-734a82b200e2",
   "metadata": {},
   "outputs": [
    {
     "data": {
      "text/html": [
       "<div>\n",
       "<style scoped>\n",
       "    .dataframe tbody tr th:only-of-type {\n",
       "        vertical-align: middle;\n",
       "    }\n",
       "\n",
       "    .dataframe tbody tr th {\n",
       "        vertical-align: top;\n",
       "    }\n",
       "\n",
       "    .dataframe thead th {\n",
       "        text-align: right;\n",
       "    }\n",
       "</style>\n",
       "<table border=\"1\" class=\"dataframe\">\n",
       "  <thead>\n",
       "    <tr style=\"text-align: right;\">\n",
       "      <th></th>\n",
       "      <th>Category</th>\n",
       "      <th>Score</th>\n",
       "    </tr>\n",
       "  </thead>\n",
       "  <tbody>\n",
       "    <tr>\n",
       "      <th>0</th>\n",
       "      <td>animals</td>\n",
       "      <td>74965.0</td>\n",
       "    </tr>\n",
       "    <tr>\n",
       "      <th>1</th>\n",
       "      <td>science</td>\n",
       "      <td>71168.0</td>\n",
       "    </tr>\n",
       "    <tr>\n",
       "      <th>2</th>\n",
       "      <td>healthy eating</td>\n",
       "      <td>69339.0</td>\n",
       "    </tr>\n",
       "    <tr>\n",
       "      <th>3</th>\n",
       "      <td>technology</td>\n",
       "      <td>68738.0</td>\n",
       "    </tr>\n",
       "    <tr>\n",
       "      <th>4</th>\n",
       "      <td>food</td>\n",
       "      <td>66676.0</td>\n",
       "    </tr>\n",
       "  </tbody>\n",
       "</table>\n",
       "</div>"
      ],
      "text/plain": [
       "         Category    Score\n",
       "0         animals  74965.0\n",
       "1         science  71168.0\n",
       "2  healthy eating  69339.0\n",
       "3      technology  68738.0\n",
       "4            food  66676.0"
      ]
     },
     "execution_count": 301,
     "metadata": {},
     "output_type": "execute_result"
    }
   ],
   "source": [
    "crt_answer = crt_final.head()\n",
    "crt_answer"
   ]
  },
  {
   "cell_type": "code",
   "execution_count": 302,
   "id": "e1559bfb-c757-4f35-987e-ec258d66be4c",
   "metadata": {},
   "outputs": [],
   "source": [
    "crt_answer.to_csv('crt_answer.csv', index = False)"
   ]
  },
  {
   "cell_type": "code",
   "execution_count": 305,
   "id": "e8569198-b929-4ae5-b2a6-5d53c3495a86",
   "metadata": {},
   "outputs": [
    {
     "data": {
      "text/html": [
       "<div>\n",
       "<style scoped>\n",
       "    .dataframe tbody tr th:only-of-type {\n",
       "        vertical-align: middle;\n",
       "    }\n",
       "\n",
       "    .dataframe tbody tr th {\n",
       "        vertical-align: top;\n",
       "    }\n",
       "\n",
       "    .dataframe thead th {\n",
       "        text-align: right;\n",
       "    }\n",
       "</style>\n",
       "<table border=\"1\" class=\"dataframe\">\n",
       "  <thead>\n",
       "    <tr style=\"text-align: right;\">\n",
       "      <th></th>\n",
       "      <th>Content ID</th>\n",
       "      <th>Type</th>\n",
       "      <th>Datetime</th>\n",
       "      <th>Media Type</th>\n",
       "      <th>Category</th>\n",
       "      <th>Unnamed: 0</th>\n",
       "      <th>Sentiment</th>\n",
       "      <th>Score</th>\n",
       "    </tr>\n",
       "  </thead>\n",
       "  <tbody>\n",
       "    <tr>\n",
       "      <th>1</th>\n",
       "      <td>97522e57-d9ab-4bd6-97bf-c24d952602d2</td>\n",
       "      <td>disgust</td>\n",
       "      <td>2020-11-07 09:43:50</td>\n",
       "      <td>photo</td>\n",
       "      <td>studying</td>\n",
       "      <td>2.0</td>\n",
       "      <td>negative</td>\n",
       "      <td>0.0</td>\n",
       "    </tr>\n",
       "    <tr>\n",
       "      <th>2</th>\n",
       "      <td>97522e57-d9ab-4bd6-97bf-c24d952602d2</td>\n",
       "      <td>dislike</td>\n",
       "      <td>2021-06-17 12:22:51</td>\n",
       "      <td>photo</td>\n",
       "      <td>studying</td>\n",
       "      <td>11.0</td>\n",
       "      <td>negative</td>\n",
       "      <td>10.0</td>\n",
       "    </tr>\n",
       "    <tr>\n",
       "      <th>3</th>\n",
       "      <td>97522e57-d9ab-4bd6-97bf-c24d952602d2</td>\n",
       "      <td>scared</td>\n",
       "      <td>2021-04-18 05:13:58</td>\n",
       "      <td>photo</td>\n",
       "      <td>studying</td>\n",
       "      <td>14.0</td>\n",
       "      <td>negative</td>\n",
       "      <td>15.0</td>\n",
       "    </tr>\n",
       "    <tr>\n",
       "      <th>4</th>\n",
       "      <td>97522e57-d9ab-4bd6-97bf-c24d952602d2</td>\n",
       "      <td>disgust</td>\n",
       "      <td>2021-01-06 19:13:01</td>\n",
       "      <td>photo</td>\n",
       "      <td>studying</td>\n",
       "      <td>2.0</td>\n",
       "      <td>negative</td>\n",
       "      <td>0.0</td>\n",
       "    </tr>\n",
       "    <tr>\n",
       "      <th>5</th>\n",
       "      <td>97522e57-d9ab-4bd6-97bf-c24d952602d2</td>\n",
       "      <td>interested</td>\n",
       "      <td>2020-08-23 12:25:58</td>\n",
       "      <td>photo</td>\n",
       "      <td>studying</td>\n",
       "      <td>4.0</td>\n",
       "      <td>positive</td>\n",
       "      <td>30.0</td>\n",
       "    </tr>\n",
       "  </tbody>\n",
       "</table>\n",
       "</div>"
      ],
      "text/plain": [
       "                             Content ID        Type             Datetime  \\\n",
       "1  97522e57-d9ab-4bd6-97bf-c24d952602d2     disgust  2020-11-07 09:43:50   \n",
       "2  97522e57-d9ab-4bd6-97bf-c24d952602d2     dislike  2021-06-17 12:22:51   \n",
       "3  97522e57-d9ab-4bd6-97bf-c24d952602d2      scared  2021-04-18 05:13:58   \n",
       "4  97522e57-d9ab-4bd6-97bf-c24d952602d2     disgust  2021-01-06 19:13:01   \n",
       "5  97522e57-d9ab-4bd6-97bf-c24d952602d2  interested  2020-08-23 12:25:58   \n",
       "\n",
       "  Media Type  Category  Unnamed: 0 Sentiment  Score  \n",
       "1      photo  studying         2.0  negative    0.0  \n",
       "2      photo  studying        11.0  negative   10.0  \n",
       "3      photo  studying        14.0  negative   15.0  \n",
       "4      photo  studying         2.0  negative    0.0  \n",
       "5      photo  studying         4.0  positive   30.0  "
      ]
     },
     "execution_count": 305,
     "metadata": {},
     "output_type": "execute_result"
    }
   ],
   "source": [
    "crt.head()"
   ]
  },
  {
   "cell_type": "code",
   "execution_count": 326,
   "id": "ef72df79-385b-437d-8cd0-623eab1e6ef8",
   "metadata": {},
   "outputs": [],
   "source": [
    "crt['Datetime']=pd.to_datetime(crt['Datetime']).dt.to_period('M')"
   ]
  },
  {
   "cell_type": "code",
   "execution_count": 333,
   "id": "589749c3-5712-4fa0-bffc-5682a7a7c6ff",
   "metadata": {},
   "outputs": [],
   "source": [
    "crt2 = crt.groupby('Datetime')['Score'].count().reset_index().sort_values('Score',ascending=False).reset_index()"
   ]
  },
  {
   "cell_type": "code",
   "execution_count": 334,
   "id": "ec5e5061-e1ba-4c61-945e-f2c43d7aca10",
   "metadata": {},
   "outputs": [
    {
     "data": {
      "text/html": [
       "<div>\n",
       "<style scoped>\n",
       "    .dataframe tbody tr th:only-of-type {\n",
       "        vertical-align: middle;\n",
       "    }\n",
       "\n",
       "    .dataframe tbody tr th {\n",
       "        vertical-align: top;\n",
       "    }\n",
       "\n",
       "    .dataframe thead th {\n",
       "        text-align: right;\n",
       "    }\n",
       "</style>\n",
       "<table border=\"1\" class=\"dataframe\">\n",
       "  <thead>\n",
       "    <tr style=\"text-align: right;\">\n",
       "      <th></th>\n",
       "      <th>index</th>\n",
       "      <th>Datetime</th>\n",
       "      <th>Score</th>\n",
       "    </tr>\n",
       "  </thead>\n",
       "  <tbody>\n",
       "    <tr>\n",
       "      <th>0</th>\n",
       "      <td>11</td>\n",
       "      <td>2021-05</td>\n",
       "      <td>2138</td>\n",
       "    </tr>\n",
       "    <tr>\n",
       "      <th>1</th>\n",
       "      <td>7</td>\n",
       "      <td>2021-01</td>\n",
       "      <td>2126</td>\n",
       "    </tr>\n",
       "    <tr>\n",
       "      <th>2</th>\n",
       "      <td>2</td>\n",
       "      <td>2020-08</td>\n",
       "      <td>2114</td>\n",
       "    </tr>\n",
       "    <tr>\n",
       "      <th>3</th>\n",
       "      <td>6</td>\n",
       "      <td>2020-12</td>\n",
       "      <td>2092</td>\n",
       "    </tr>\n",
       "    <tr>\n",
       "      <th>4</th>\n",
       "      <td>1</td>\n",
       "      <td>2020-07</td>\n",
       "      <td>2070</td>\n",
       "    </tr>\n",
       "  </tbody>\n",
       "</table>\n",
       "</div>"
      ],
      "text/plain": [
       "   index Datetime  Score\n",
       "0     11  2021-05   2138\n",
       "1      7  2021-01   2126\n",
       "2      2  2020-08   2114\n",
       "3      6  2020-12   2092\n",
       "4      1  2020-07   2070"
      ]
     },
     "execution_count": 334,
     "metadata": {},
     "output_type": "execute_result"
    }
   ],
   "source": [
    "crt2.head()"
   ]
  },
  {
   "cell_type": "code",
   "execution_count": 337,
   "id": "598c011a-2421-49f1-bfcc-2a1973a8507c",
   "metadata": {},
   "outputs": [
    {
     "data": {
      "image/png": "[encoded data removed]",
      "text/plain": [
       "<Figure size 1200x600 with 1 Axes>"
      ]
     },
     "metadata": {},
     "output_type": "display_data"
    }
   ],
   "source": [
    "plt.figure(figsize=(12,6))\n",
    "sns.barplot(x='Datetime',y='Score',data=crt2)\n",
    "plt.title('Number of Posts each month')\n",
    "plt.show()"
   ]
  },
  {
   "cell_type": "code",
   "execution_count": 353,
   "id": "11ba4e09-b53f-4907-88c8-06ac0ba6de40",
   "metadata": {},
   "outputs": [
    {
     "data": {
      "text/html": [
       "<div>\n",
       "<style scoped>\n",
       "    .dataframe tbody tr th:only-of-type {\n",
       "        vertical-align: middle;\n",
       "    }\n",
       "\n",
       "    .dataframe tbody tr th {\n",
       "        vertical-align: top;\n",
       "    }\n",
       "\n",
       "    .dataframe thead th {\n",
       "        text-align: right;\n",
       "    }\n",
       "</style>\n",
       "<table border=\"1\" class=\"dataframe\">\n",
       "  <thead>\n",
       "    <tr style=\"text-align: right;\">\n",
       "      <th></th>\n",
       "      <th>Datetime</th>\n",
       "      <th>Sentiment</th>\n",
       "      <th>Count</th>\n",
       "    </tr>\n",
       "  </thead>\n",
       "  <tbody>\n",
       "    <tr>\n",
       "      <th>0</th>\n",
       "      <td>2020-06</td>\n",
       "      <td>negative</td>\n",
       "      <td>291</td>\n",
       "    </tr>\n",
       "    <tr>\n",
       "      <th>1</th>\n",
       "      <td>2020-06</td>\n",
       "      <td>neutral</td>\n",
       "      <td>115</td>\n",
       "    </tr>\n",
       "    <tr>\n",
       "      <th>2</th>\n",
       "      <td>2020-06</td>\n",
       "      <td>positive</td>\n",
       "      <td>486</td>\n",
       "    </tr>\n",
       "    <tr>\n",
       "      <th>3</th>\n",
       "      <td>2020-07</td>\n",
       "      <td>negative</td>\n",
       "      <td>635</td>\n",
       "    </tr>\n",
       "    <tr>\n",
       "      <th>4</th>\n",
       "      <td>2020-07</td>\n",
       "      <td>neutral</td>\n",
       "      <td>267</td>\n",
       "    </tr>\n",
       "  </tbody>\n",
       "</table>\n",
       "</div>"
      ],
      "text/plain": [
       "  Datetime Sentiment  Count\n",
       "0  2020-06  negative    291\n",
       "1  2020-06   neutral    115\n",
       "2  2020-06  positive    486\n",
       "3  2020-07  negative    635\n",
       "4  2020-07   neutral    267"
      ]
     },
     "execution_count": 353,
     "metadata": {},
     "output_type": "execute_result"
    }
   ],
   "source": [
    "crt3 = crt.groupby(['Datetime', 'Sentiment']).size().reset_index(name='Count')\n",
    "crt3.head()"
   ]
  },
  {
   "cell_type": "code",
   "execution_count": 352,
   "id": "aa7e0480-eaf9-4204-bdb7-805c4c4b7e6b",
   "metadata": {},
   "outputs": [
    {
     "data": {
      "image/png": "[encoded data removed]",
      "text/plain": [
       "<Figure size 1800x600 with 1 Axes>"
      ]
     },
     "metadata": {},
     "output_type": "display_data"
    }
   ],
   "source": [
    "plt.figure(figsize=(18,6))\n",
    "sns.barplot(x='Datetime',y='Count', hue='Sentiment',data=crt3)\n",
    "plt.title('Sentiment Trend')\n",
    "plt.show()"
   ]
  },
  {
   "cell_type": "code",
   "execution_count": 358,
   "id": "354a6133-200c-4c36-be26-fff2f67f9ab9",
   "metadata": {},
   "outputs": [
    {
     "data": {
      "text/html": [
       "<div>\n",
       "<style scoped>\n",
       "    .dataframe tbody tr th:only-of-type {\n",
       "        vertical-align: middle;\n",
       "    }\n",
       "\n",
       "    .dataframe tbody tr th {\n",
       "        vertical-align: top;\n",
       "    }\n",
       "\n",
       "    .dataframe thead th {\n",
       "        text-align: right;\n",
       "    }\n",
       "</style>\n",
       "<table border=\"1\" class=\"dataframe\">\n",
       "  <thead>\n",
       "    <tr style=\"text-align: right;\">\n",
       "      <th></th>\n",
       "      <th>Datetime</th>\n",
       "      <th>Type</th>\n",
       "      <th>Count</th>\n",
       "    </tr>\n",
       "  </thead>\n",
       "  <tbody>\n",
       "    <tr>\n",
       "      <th>181</th>\n",
       "      <td>2021-05</td>\n",
       "      <td>heart</td>\n",
       "      <td>158</td>\n",
       "    </tr>\n",
       "    <tr>\n",
       "      <th>156</th>\n",
       "      <td>2021-03</td>\n",
       "      <td>scared</td>\n",
       "      <td>158</td>\n",
       "    </tr>\n",
       "    <tr>\n",
       "      <th>98</th>\n",
       "      <td>2020-12</td>\n",
       "      <td>disgust</td>\n",
       "      <td>154</td>\n",
       "    </tr>\n",
       "    <tr>\n",
       "      <th>79</th>\n",
       "      <td>2020-10</td>\n",
       "      <td>worried</td>\n",
       "      <td>154</td>\n",
       "    </tr>\n",
       "    <tr>\n",
       "      <th>74</th>\n",
       "      <td>2020-10</td>\n",
       "      <td>love</td>\n",
       "      <td>153</td>\n",
       "    </tr>\n",
       "    <tr>\n",
       "      <th>105</th>\n",
       "      <td>2020-12</td>\n",
       "      <td>like</td>\n",
       "      <td>152</td>\n",
       "    </tr>\n",
       "    <tr>\n",
       "      <th>38</th>\n",
       "      <td>2020-08</td>\n",
       "      <td>indifferent</td>\n",
       "      <td>152</td>\n",
       "    </tr>\n",
       "    <tr>\n",
       "      <th>158</th>\n",
       "      <td>2021-03</td>\n",
       "      <td>want</td>\n",
       "      <td>150</td>\n",
       "    </tr>\n",
       "    <tr>\n",
       "      <th>53</th>\n",
       "      <td>2020-09</td>\n",
       "      <td>heart</td>\n",
       "      <td>150</td>\n",
       "    </tr>\n",
       "    <tr>\n",
       "      <th>107</th>\n",
       "      <td>2020-12</td>\n",
       "      <td>peeking</td>\n",
       "      <td>149</td>\n",
       "    </tr>\n",
       "    <tr>\n",
       "      <th>85</th>\n",
       "      <td>2020-11</td>\n",
       "      <td>heart</td>\n",
       "      <td>149</td>\n",
       "    </tr>\n",
       "    <tr>\n",
       "      <th>78</th>\n",
       "      <td>2020-10</td>\n",
       "      <td>want</td>\n",
       "      <td>148</td>\n",
       "    </tr>\n",
       "    <tr>\n",
       "      <th>44</th>\n",
       "      <td>2020-08</td>\n",
       "      <td>scared</td>\n",
       "      <td>148</td>\n",
       "    </tr>\n",
       "    <tr>\n",
       "      <th>187</th>\n",
       "      <td>2021-05</td>\n",
       "      <td>peeking</td>\n",
       "      <td>148</td>\n",
       "    </tr>\n",
       "    <tr>\n",
       "      <th>80</th>\n",
       "      <td>2020-11</td>\n",
       "      <td>adore</td>\n",
       "      <td>145</td>\n",
       "    </tr>\n",
       "    <tr>\n",
       "      <th>186</th>\n",
       "      <td>2021-05</td>\n",
       "      <td>love</td>\n",
       "      <td>145</td>\n",
       "    </tr>\n",
       "    <tr>\n",
       "      <th>100</th>\n",
       "      <td>2020-12</td>\n",
       "      <td>hate</td>\n",
       "      <td>144</td>\n",
       "    </tr>\n",
       "    <tr>\n",
       "      <th>87</th>\n",
       "      <td>2020-11</td>\n",
       "      <td>interested</td>\n",
       "      <td>144</td>\n",
       "    </tr>\n",
       "    <tr>\n",
       "      <th>90</th>\n",
       "      <td>2020-11</td>\n",
       "      <td>love</td>\n",
       "      <td>143</td>\n",
       "    </tr>\n",
       "    <tr>\n",
       "      <th>36</th>\n",
       "      <td>2020-08</td>\n",
       "      <td>hate</td>\n",
       "      <td>143</td>\n",
       "    </tr>\n",
       "  </tbody>\n",
       "</table>\n",
       "</div>"
      ],
      "text/plain": [
       "    Datetime         Type  Count\n",
       "181  2021-05        heart    158\n",
       "156  2021-03       scared    158\n",
       "98   2020-12      disgust    154\n",
       "79   2020-10      worried    154\n",
       "74   2020-10         love    153\n",
       "105  2020-12         like    152\n",
       "38   2020-08  indifferent    152\n",
       "158  2021-03         want    150\n",
       "53   2020-09        heart    150\n",
       "107  2020-12      peeking    149\n",
       "85   2020-11        heart    149\n",
       "78   2020-10         want    148\n",
       "44   2020-08       scared    148\n",
       "187  2021-05      peeking    148\n",
       "80   2020-11        adore    145\n",
       "186  2021-05         love    145\n",
       "100  2020-12         hate    144\n",
       "87   2020-11   interested    144\n",
       "90   2020-11         love    143\n",
       "36   2020-08         hate    143"
      ]
     },
     "execution_count": 358,
     "metadata": {},
     "output_type": "execute_result"
    }
   ],
   "source": [
    "crt4 = crt.groupby(['Datetime', 'Type']).size().reset_index(name='Count').sort_values('Count', ascending=False).head(20)\n",
    "crt4"
   ]
  },
  {
   "cell_type": "code",
   "execution_count": 362,
   "id": "7da8ffd1-5f53-4343-bf9b-089765c0727d",
   "metadata": {},
   "outputs": [
    {
     "data": {
      "image/png": "[encoded data removed]",
      "text/plain": [
       "<Figure size 2000x600 with 1 Axes>"
      ]
     },
     "metadata": {},
     "output_type": "display_data"
    }
   ],
   "source": [
    "plt.figure(figsize=(20,6))\n",
    "sns.barplot(x='Type', y='Count', data=crt4)\n",
    "plt.title('Popular Reaction Types')\n",
    "plt.show()"
   ]
  },
  {
   "cell_type": "code",
   "execution_count": 363,
   "id": "559c42de-d6c4-406a-812a-50e7c0687c25",
   "metadata": {},
   "outputs": [
    {
     "data": {
      "text/html": [
       "<div>\n",
       "<style scoped>\n",
       "    .dataframe tbody tr th:only-of-type {\n",
       "        vertical-align: middle;\n",
       "    }\n",
       "\n",
       "    .dataframe tbody tr th {\n",
       "        vertical-align: top;\n",
       "    }\n",
       "\n",
       "    .dataframe thead th {\n",
       "        text-align: right;\n",
       "    }\n",
       "</style>\n",
       "<table border=\"1\" class=\"dataframe\">\n",
       "  <thead>\n",
       "    <tr style=\"text-align: right;\">\n",
       "      <th></th>\n",
       "      <th>Content ID</th>\n",
       "      <th>Type</th>\n",
       "      <th>Datetime</th>\n",
       "      <th>Media Type</th>\n",
       "      <th>Category</th>\n",
       "      <th>Unnamed: 0</th>\n",
       "      <th>Sentiment</th>\n",
       "      <th>Score</th>\n",
       "    </tr>\n",
       "  </thead>\n",
       "  <tbody>\n",
       "    <tr>\n",
       "      <th>1</th>\n",
       "      <td>97522e57-d9ab-4bd6-97bf-c24d952602d2</td>\n",
       "      <td>disgust</td>\n",
       "      <td>2020-11</td>\n",
       "      <td>photo</td>\n",
       "      <td>studying</td>\n",
       "      <td>2.0</td>\n",
       "      <td>negative</td>\n",
       "      <td>0.0</td>\n",
       "    </tr>\n",
       "    <tr>\n",
       "      <th>2</th>\n",
       "      <td>97522e57-d9ab-4bd6-97bf-c24d952602d2</td>\n",
       "      <td>dislike</td>\n",
       "      <td>2021-06</td>\n",
       "      <td>photo</td>\n",
       "      <td>studying</td>\n",
       "      <td>11.0</td>\n",
       "      <td>negative</td>\n",
       "      <td>10.0</td>\n",
       "    </tr>\n",
       "    <tr>\n",
       "      <th>3</th>\n",
       "      <td>97522e57-d9ab-4bd6-97bf-c24d952602d2</td>\n",
       "      <td>scared</td>\n",
       "      <td>2021-04</td>\n",
       "      <td>photo</td>\n",
       "      <td>studying</td>\n",
       "      <td>14.0</td>\n",
       "      <td>negative</td>\n",
       "      <td>15.0</td>\n",
       "    </tr>\n",
       "    <tr>\n",
       "      <th>4</th>\n",
       "      <td>97522e57-d9ab-4bd6-97bf-c24d952602d2</td>\n",
       "      <td>disgust</td>\n",
       "      <td>2021-01</td>\n",
       "      <td>photo</td>\n",
       "      <td>studying</td>\n",
       "      <td>2.0</td>\n",
       "      <td>negative</td>\n",
       "      <td>0.0</td>\n",
       "    </tr>\n",
       "    <tr>\n",
       "      <th>5</th>\n",
       "      <td>97522e57-d9ab-4bd6-97bf-c24d952602d2</td>\n",
       "      <td>interested</td>\n",
       "      <td>2020-08</td>\n",
       "      <td>photo</td>\n",
       "      <td>studying</td>\n",
       "      <td>4.0</td>\n",
       "      <td>positive</td>\n",
       "      <td>30.0</td>\n",
       "    </tr>\n",
       "  </tbody>\n",
       "</table>\n",
       "</div>"
      ],
      "text/plain": [
       "                             Content ID        Type Datetime Media Type  \\\n",
       "1  97522e57-d9ab-4bd6-97bf-c24d952602d2     disgust  2020-11      photo   \n",
       "2  97522e57-d9ab-4bd6-97bf-c24d952602d2     dislike  2021-06      photo   \n",
       "3  97522e57-d9ab-4bd6-97bf-c24d952602d2      scared  2021-04      photo   \n",
       "4  97522e57-d9ab-4bd6-97bf-c24d952602d2     disgust  2021-01      photo   \n",
       "5  97522e57-d9ab-4bd6-97bf-c24d952602d2  interested  2020-08      photo   \n",
       "\n",
       "   Category  Unnamed: 0 Sentiment  Score  \n",
       "1  studying         2.0  negative    0.0  \n",
       "2  studying        11.0  negative   10.0  \n",
       "3  studying        14.0  negative   15.0  \n",
       "4  studying         2.0  negative    0.0  \n",
       "5  studying         4.0  positive   30.0  "
      ]
     },
     "execution_count": 363,
     "metadata": {},
     "output_type": "execute_result"
    }
   ],
   "source": [
    "crt.head()"
   ]
  },
  {
   "cell_type": "code",
   "execution_count": 367,
   "id": "3ab5527d-73b0-4bf6-92dc-01f728f2750e",
   "metadata": {
    "scrolled": true
   },
   "outputs": [
    {
     "data": {
      "text/html": [
       "<div>\n",
       "<style scoped>\n",
       "    .dataframe tbody tr th:only-of-type {\n",
       "        vertical-align: middle;\n",
       "    }\n",
       "\n",
       "    .dataframe tbody tr th {\n",
       "        vertical-align: top;\n",
       "    }\n",
       "\n",
       "    .dataframe thead th {\n",
       "        text-align: right;\n",
       "    }\n",
       "</style>\n",
       "<table border=\"1\" class=\"dataframe\">\n",
       "  <thead>\n",
       "    <tr style=\"text-align: right;\">\n",
       "      <th></th>\n",
       "      <th>Category</th>\n",
       "      <th>count</th>\n",
       "    </tr>\n",
       "  </thead>\n",
       "  <tbody>\n",
       "    <tr>\n",
       "      <th>0</th>\n",
       "      <td>animals</td>\n",
       "      <td>1897</td>\n",
       "    </tr>\n",
       "    <tr>\n",
       "      <th>1</th>\n",
       "      <td>science</td>\n",
       "      <td>1796</td>\n",
       "    </tr>\n",
       "    <tr>\n",
       "      <th>2</th>\n",
       "      <td>healthy eating</td>\n",
       "      <td>1717</td>\n",
       "    </tr>\n",
       "    <tr>\n",
       "      <th>3</th>\n",
       "      <td>food</td>\n",
       "      <td>1699</td>\n",
       "    </tr>\n",
       "    <tr>\n",
       "      <th>4</th>\n",
       "      <td>technology</td>\n",
       "      <td>1698</td>\n",
       "    </tr>\n",
       "  </tbody>\n",
       "</table>\n",
       "</div>"
      ],
      "text/plain": [
       "         Category  count\n",
       "0         animals   1897\n",
       "1         science   1796\n",
       "2  healthy eating   1717\n",
       "3            food   1699\n",
       "4      technology   1698"
      ]
     },
     "execution_count": 367,
     "metadata": {},
     "output_type": "execute_result"
    }
   ],
   "source": [
    "crt5 = crt.Category.value_counts().reset_index()\n",
    "crt5.head()"
   ]
  },
  {
   "cell_type": "code",
   "execution_count": 369,
   "id": "94aeb835-d15f-47b5-848d-5ff01d4450bb",
   "metadata": {},
   "outputs": [
    {
     "data": {
      "text/html": [
       "<div>\n",
       "<style scoped>\n",
       "    .dataframe tbody tr th:only-of-type {\n",
       "        vertical-align: middle;\n",
       "    }\n",
       "\n",
       "    .dataframe tbody tr th {\n",
       "        vertical-align: top;\n",
       "    }\n",
       "\n",
       "    .dataframe thead th {\n",
       "        text-align: right;\n",
       "    }\n",
       "</style>\n",
       "<table border=\"1\" class=\"dataframe\">\n",
       "  <thead>\n",
       "    <tr style=\"text-align: right;\">\n",
       "      <th></th>\n",
       "      <th>Content ID</th>\n",
       "      <th>Type</th>\n",
       "      <th>Datetime</th>\n",
       "      <th>Media Type</th>\n",
       "      <th>Category</th>\n",
       "      <th>Unnamed: 0</th>\n",
       "      <th>Sentiment</th>\n",
       "      <th>Score</th>\n",
       "    </tr>\n",
       "  </thead>\n",
       "  <tbody>\n",
       "    <tr>\n",
       "      <th>1</th>\n",
       "      <td>97522e57-d9ab-4bd6-97bf-c24d952602d2</td>\n",
       "      <td>disgust</td>\n",
       "      <td>2020-11</td>\n",
       "      <td>photo</td>\n",
       "      <td>studying</td>\n",
       "      <td>2.0</td>\n",
       "      <td>negative</td>\n",
       "      <td>0.0</td>\n",
       "    </tr>\n",
       "    <tr>\n",
       "      <th>2</th>\n",
       "      <td>97522e57-d9ab-4bd6-97bf-c24d952602d2</td>\n",
       "      <td>dislike</td>\n",
       "      <td>2021-06</td>\n",
       "      <td>photo</td>\n",
       "      <td>studying</td>\n",
       "      <td>11.0</td>\n",
       "      <td>negative</td>\n",
       "      <td>10.0</td>\n",
       "    </tr>\n",
       "    <tr>\n",
       "      <th>3</th>\n",
       "      <td>97522e57-d9ab-4bd6-97bf-c24d952602d2</td>\n",
       "      <td>scared</td>\n",
       "      <td>2021-04</td>\n",
       "      <td>photo</td>\n",
       "      <td>studying</td>\n",
       "      <td>14.0</td>\n",
       "      <td>negative</td>\n",
       "      <td>15.0</td>\n",
       "    </tr>\n",
       "    <tr>\n",
       "      <th>4</th>\n",
       "      <td>97522e57-d9ab-4bd6-97bf-c24d952602d2</td>\n",
       "      <td>disgust</td>\n",
       "      <td>2021-01</td>\n",
       "      <td>photo</td>\n",
       "      <td>studying</td>\n",
       "      <td>2.0</td>\n",
       "      <td>negative</td>\n",
       "      <td>0.0</td>\n",
       "    </tr>\n",
       "    <tr>\n",
       "      <th>5</th>\n",
       "      <td>97522e57-d9ab-4bd6-97bf-c24d952602d2</td>\n",
       "      <td>interested</td>\n",
       "      <td>2020-08</td>\n",
       "      <td>photo</td>\n",
       "      <td>studying</td>\n",
       "      <td>4.0</td>\n",
       "      <td>positive</td>\n",
       "      <td>30.0</td>\n",
       "    </tr>\n",
       "  </tbody>\n",
       "</table>\n",
       "</div>"
      ],
      "text/plain": [
       "                             Content ID        Type Datetime Media Type  \\\n",
       "1  97522e57-d9ab-4bd6-97bf-c24d952602d2     disgust  2020-11      photo   \n",
       "2  97522e57-d9ab-4bd6-97bf-c24d952602d2     dislike  2021-06      photo   \n",
       "3  97522e57-d9ab-4bd6-97bf-c24d952602d2      scared  2021-04      photo   \n",
       "4  97522e57-d9ab-4bd6-97bf-c24d952602d2     disgust  2021-01      photo   \n",
       "5  97522e57-d9ab-4bd6-97bf-c24d952602d2  interested  2020-08      photo   \n",
       "\n",
       "   Category  Unnamed: 0 Sentiment  Score  \n",
       "1  studying         2.0  negative    0.0  \n",
       "2  studying        11.0  negative   10.0  \n",
       "3  studying        14.0  negative   15.0  \n",
       "4  studying         2.0  negative    0.0  \n",
       "5  studying         4.0  positive   30.0  "
      ]
     },
     "execution_count": 369,
     "metadata": {},
     "output_type": "execute_result"
    }
   ],
   "source": [
    "crt.head()"
   ]
  },
  {
   "cell_type": "code",
   "execution_count": 370,
   "id": "9682674d-a616-44bb-a59f-da11bb6549ad",
   "metadata": {},
   "outputs": [],
   "source": [
    "crt = crt.drop('Unnamed: 0', axis=1)"
   ]
  },
  {
   "cell_type": "code",
   "execution_count": 371,
   "id": "5e90a3ad-a3c7-4e3e-bbcf-adc97cfac444",
   "metadata": {},
   "outputs": [],
   "source": [
    "crt.to_csv('crt.csv')"
   ]
  },
  {
   "cell_type": "code",
   "execution_count": null,
   "id": "9f5bd8a9-e560-44f4-9405-7ba89b60bf89",
   "metadata": {},
   "outputs": [],
   "source": []
  }
 ],
 "metadata": {
  "kernelspec": {
   "display_name": "Python 3 (ipykernel)",
   "language": "python",
   "name": "python3"
  },
  "language_info": {
   "codemirror_mode": {
    "name": "ipython",
    "version": 3
   },
   "file_extension": ".py",
   "mimetype": "text/x-python",
   "name": "python",
   "nbconvert_exporter": "python",
   "pygments_lexer": "ipython3",
   "version": "3.11.7"
  }
 },
 "nbformat": 4,
 "nbformat_minor": 5
}
