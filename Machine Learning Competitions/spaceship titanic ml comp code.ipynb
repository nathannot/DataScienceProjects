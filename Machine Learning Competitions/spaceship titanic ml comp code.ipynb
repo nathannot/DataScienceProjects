{
 "cells": [
  {
   "cell_type": "code",
   "execution_count": 1,
   "id": "d8ba0309-f34c-4e2e-abb1-881dfcf870c7",
   "metadata": {},
   "outputs": [],
   "source": [
    "import pandas as pd\n",
    "import numpy as np\n",
    "\n",
    "df = pd.read_csv('train_spaceship.csv')"
   ]
  },
  {
   "cell_type": "code",
   "execution_count": 107,
   "id": "e2127279-2b9f-478c-a6f4-822a13a434ee",
   "metadata": {},
   "outputs": [],
   "source": [
    "from sklearn.pipeline import Pipeline, make_pipeline\n",
    "from sklearn.impute import SimpleImputer\n",
    "from sklearn.preprocessing import StandardScaler, OneHotEncoder, FunctionTransformer\n",
    "from sklearn.compose import ColumnTransformer, make_column_selector\n",
    "\n",
    "\n",
    "def null_fill(x):\n",
    "    for col in x.select_dtypes(include=[int, float]):\n",
    "        x[col] = np.where(x[col].isna(), x[col].median(),x[col])\n",
    "    for col in x.select_dtypes(include=[object]):\n",
    "        x[col] = np.where(x[col].isna(), x[col].mode()[0],x[col])\n",
    "\n",
    "    return x\n",
    "\n",
    "def clean_df(x):\n",
    "    x = x.copy()\n",
    "    x['cabin'] = x['Cabin'].str.split('/', expand=True).iloc[:, 0]\n",
    "    x['cabin_side'] = x['Cabin'].str.split('/', expand=True).iloc[:, 2]\n",
    "    x['total'] = x[['RoomService', 'FoodCourt', 'ShoppingMall', 'Spa', 'VRDeck']].sum(axis=1)\n",
    "    x['total_group'] = pd.cut(x['total'], bins=[-1, 0,1000,10000 ,np.inf], labels=[1, 2,3, 4]).astype(object)\n",
    "\n",
    "    x['Age_group'] = pd.cut(x['Age'], bins=[-1, 10, 18, 30, 40, 50, 60, np.inf], labels=[1, 2, 3, 4, 5,6,7]).astype(object)\n",
    "    x['route'] = x['HomePlanet'] + ' to ' + x['Destination']\n",
    "    x = x.drop(['PassengerId', 'Name', 'Transported', 'Cabin'], axis=1)\n",
    "    return x\n",
    "\n",
    "log_transformer = make_pipeline(\n",
    "    FunctionTransformer(np.log1p, validate=False, feature_names_out = 'one-to-one'),\n",
    "    StandardScaler()\n",
    ")\n",
    "\n",
    "cat_transformer = make_pipeline(\n",
    "    OneHotEncoder()\n",
    ")\n",
    "\n",
    "preprocess = ColumnTransformer(\n",
    "    transformers=[\n",
    "        ('log', log_transformer, make_column_selector(dtype_include=[int, float])),\n",
    "        ('cat', cat_transformer, make_column_selector(dtype_include=[object]))\n",
    "    ]\n",
    ")\n",
    "\n",
    "feat_eng = Pipeline([\n",
    "    ('null_fill', FunctionTransformer(func=null_fill, validate=False)),\n",
    "    ('df_cleaning', FunctionTransformer(func=clean_df, validate=False)),\n",
    "    ('preprocessing', preprocess)\n",
    "])"
   ]
  },
  {
   "cell_type": "code",
   "execution_count": 108,
   "id": "efb23082-78c0-4496-ac60-e627258e7b57",
   "metadata": {},
   "outputs": [],
   "source": [
    "X = feat_eng.fit_transform(df)"
   ]
  },
  {
   "cell_type": "code",
   "execution_count": 109,
   "id": "43ea6943-144f-4097-b469-59addd9f2340",
   "metadata": {},
   "outputs": [
    {
     "data": {
      "text/plain": [
       "(8693, 47)"
      ]
     },
     "execution_count": 109,
     "metadata": {},
     "output_type": "execute_result"
    }
   ],
   "source": [
    "X.shape"
   ]
  },
  {
   "cell_type": "code",
   "execution_count": 110,
   "id": "7653be00-eaf0-4add-885e-b450ea4dfc38",
   "metadata": {},
   "outputs": [
    {
     "data": {
      "text/plain": [
       "array(['log__Age', 'log__RoomService', 'log__FoodCourt',\n",
       "       'log__ShoppingMall', 'log__Spa', 'log__VRDeck', 'log__total',\n",
       "       'cat__HomePlanet_Earth', 'cat__HomePlanet_Europa',\n",
       "       'cat__HomePlanet_Mars', 'cat__CryoSleep_False',\n",
       "       'cat__CryoSleep_True', 'cat__Destination_55 Cancri e',\n",
       "       'cat__Destination_PSO J318.5-22', 'cat__Destination_TRAPPIST-1e',\n",
       "       'cat__VIP_False', 'cat__VIP_True', 'cat__cabin_A', 'cat__cabin_B',\n",
       "       'cat__cabin_C', 'cat__cabin_D', 'cat__cabin_E', 'cat__cabin_F',\n",
       "       'cat__cabin_G', 'cat__cabin_T', 'cat__cabin_side_P',\n",
       "       'cat__cabin_side_S', 'cat__total_group_1', 'cat__total_group_2',\n",
       "       'cat__total_group_3', 'cat__total_group_4', 'cat__Age_group_1',\n",
       "       'cat__Age_group_2', 'cat__Age_group_3', 'cat__Age_group_4',\n",
       "       'cat__Age_group_5', 'cat__Age_group_6', 'cat__Age_group_7',\n",
       "       'cat__route_Earth to 55 Cancri e',\n",
       "       'cat__route_Earth to PSO J318.5-22',\n",
       "       'cat__route_Earth to TRAPPIST-1e',\n",
       "       'cat__route_Europa to 55 Cancri e',\n",
       "       'cat__route_Europa to PSO J318.5-22',\n",
       "       'cat__route_Europa to TRAPPIST-1e',\n",
       "       'cat__route_Mars to 55 Cancri e',\n",
       "       'cat__route_Mars to PSO J318.5-22',\n",
       "       'cat__route_Mars to TRAPPIST-1e'], dtype=object)"
      ]
     },
     "execution_count": 110,
     "metadata": {},
     "output_type": "execute_result"
    }
   ],
   "source": [
    "preprocess.get_feature_names_out()"
   ]
  },
  {
   "cell_type": "code",
   "execution_count": 111,
   "id": "58e0127b-25a3-4c7d-8a8c-3e4f59e02761",
   "metadata": {},
   "outputs": [
    {
     "data": {
      "text/plain": [
       "array([0, 1, 0, ..., 1, 0, 1], dtype=int64)"
      ]
     },
     "execution_count": 111,
     "metadata": {},
     "output_type": "execute_result"
    }
   ],
   "source": [
    "from sklearn.preprocessing import LabelEncoder\n",
    "def target_conv(x):\n",
    "    le = LabelEncoder()\n",
    "    x = le.fit_transform(x)\n",
    "    return x\n",
    "y = target_conv(df.Transported)\n",
    "y"
   ]
  },
  {
   "cell_type": "code",
   "execution_count": 112,
   "id": "abba29f2-9524-487e-b7ef-6a302b95529d",
   "metadata": {},
   "outputs": [],
   "source": [
    "from sklearn.model_selection import train_test_split\n",
    "Xtrain, Xtest, ytrain, ytest = train_test_split(X,y, test_size = 0.25, stratify = y , random_state=42)"
   ]
  },
  {
   "cell_type": "code",
   "execution_count": 113,
   "id": "d72d22e7-fea8-48e5-94a8-3b3bb50f20d2",
   "metadata": {},
   "outputs": [
    {
     "name": "stdout",
     "output_type": "stream",
     "text": [
      "              precision    recall  f1-score   support\n",
      "\n",
      "           0       0.78      0.78      0.78      1079\n",
      "           1       0.79      0.78      0.78      1095\n",
      "\n",
      "    accuracy                           0.78      2174\n",
      "   macro avg       0.78      0.78      0.78      2174\n",
      "weighted avg       0.78      0.78      0.78      2174\n",
      "\n"
     ]
    }
   ],
   "source": [
    "from sklearn.linear_model import LogisticRegression\n",
    "from sklearn.metrics import classification_report\n",
    "\n",
    "lr = LogisticRegression(max_iter=1000)\n",
    "lr.fit(Xtrain, ytrain)\n",
    "\n",
    "pred = lr.predict(Xtest)\n",
    "\n",
    "print(classification_report(ytest,pred))"
   ]
  },
  {
   "cell_type": "code",
   "execution_count": 114,
   "id": "bbc2f29c-8b0a-4ca9-a488-b1e0107b606a",
   "metadata": {},
   "outputs": [
    {
     "name": "stdout",
     "output_type": "stream",
     "text": [
      "              precision    recall  f1-score   support\n",
      "\n",
      "           0       0.76      0.83      0.80      1079\n",
      "           1       0.82      0.74      0.78      1095\n",
      "\n",
      "    accuracy                           0.79      2174\n",
      "   macro avg       0.79      0.79      0.79      2174\n",
      "weighted avg       0.79      0.79      0.79      2174\n",
      "\n"
     ]
    }
   ],
   "source": [
    "from sklearn.ensemble import RandomForestClassifier\n",
    "\n",
    "rf = RandomForestClassifier(random_state=42)\n",
    "rf.fit(Xtrain,ytrain)\n",
    "\n",
    "pred = rf.predict(Xtest)\n",
    "\n",
    "print(classification_report(ytest,pred))"
   ]
  },
  {
   "cell_type": "code",
   "execution_count": 115,
   "id": "9a592f12-bd77-4060-a8ab-047b73fa2932",
   "metadata": {},
   "outputs": [
    {
     "name": "stdout",
     "output_type": "stream",
     "text": [
      "              precision    recall  f1-score   support\n",
      "\n",
      "           0       0.79      0.80      0.79      1079\n",
      "           1       0.80      0.79      0.80      1095\n",
      "\n",
      "    accuracy                           0.79      2174\n",
      "   macro avg       0.79      0.79      0.79      2174\n",
      "weighted avg       0.79      0.79      0.79      2174\n",
      "\n"
     ]
    }
   ],
   "source": [
    "from sklearn.svm import SVC\n",
    "\n",
    "svm = SVC(kernel='poly', degree=2, C=1)\n",
    "svm.fit(Xtrain, ytrain)\n",
    "\n",
    "pred = svm.predict(Xtest)\n",
    "\n",
    "print(classification_report(ytest,pred))"
   ]
  },
  {
   "cell_type": "code",
   "execution_count": 116,
   "id": "72f99a33-bbe7-42e2-a3b6-32d0eeb544aa",
   "metadata": {},
   "outputs": [
    {
     "name": "stdout",
     "output_type": "stream",
     "text": [
      "              precision    recall  f1-score   support\n",
      "\n",
      "           0       0.79      0.80      0.80      1079\n",
      "           1       0.80      0.80      0.80      1095\n",
      "\n",
      "    accuracy                           0.80      2174\n",
      "   macro avg       0.80      0.80      0.80      2174\n",
      "weighted avg       0.80      0.80      0.80      2174\n",
      "\n"
     ]
    }
   ],
   "source": [
    "import xgboost as xgb\n",
    "\n",
    "clf = xgb.XGBClassifier(random_state=42)\n",
    "clf.fit(Xtrain,ytrain)\n",
    "pred = clf.predict(Xtest)\n",
    "\n",
    "print(classification_report(ytest,pred))"
   ]
  },
  {
   "cell_type": "code",
   "execution_count": 117,
   "id": "6402c30b-d7a3-4b92-8cc9-8c3cbb32a90a",
   "metadata": {},
   "outputs": [
    {
     "name": "stdout",
     "output_type": "stream",
     "text": [
      "Fitting 5 folds for each of 10 candidates, totalling 50 fits\n",
      "Best parameters found:  {'subsample': 0.7, 'n_estimators': 200, 'max_depth': 3, 'learning_rate': 0.1}\n",
      "Best score found:  0.8044194850015772\n",
      "              precision    recall  f1-score   support\n",
      "\n",
      "           0       0.81      0.79      0.80      1079\n",
      "           1       0.80      0.82      0.81      1095\n",
      "\n",
      "    accuracy                           0.80      2174\n",
      "   macro avg       0.80      0.80      0.80      2174\n",
      "weighted avg       0.80      0.80      0.80      2174\n",
      "\n"
     ]
    }
   ],
   "source": [
    "from sklearn.model_selection import RandomizedSearchCV\n",
    "\n",
    "clf1 = xgb.XGBClassifier(random_state=42)\n",
    "\n",
    "param_distributions = {\n",
    "    'n_estimators': [100, 200, 300, 400,500],\n",
    "    'max_depth': [2,3, 4, 5],\n",
    "    'learning_rate': [0.01, 0.1, 0.2],\n",
    "    'subsample': [0.7, 0.8, 0.9, 1.0]\n",
    "}\n",
    "\n",
    "random_search = RandomizedSearchCV(estimator=clf1, param_distributions=param_distributions, n_iter=10, cv=5, scoring='accuracy', n_jobs=-1, verbose=2, random_state=42)\n",
    "\n",
    "random_search.fit(Xtrain, ytrain)\n",
    "\n",
    "print(\"Best parameters found: \", random_search.best_params_)\n",
    "print(\"Best score found: \", random_search.best_score_)\n",
    "\n",
    "best_clf1 = random_search.best_estimator_\n",
    "pred = best_clf1.predict(Xtest)\n",
    "\n",
    "print(classification_report(ytest, pred))"
   ]
  },
  {
   "cell_type": "code",
   "execution_count": 118,
   "id": "829b5673-fc4d-4bdf-9e0b-9727b9cee67a",
   "metadata": {
    "scrolled": true
   },
   "outputs": [
    {
     "name": "stdout",
     "output_type": "stream",
     "text": [
      "Fitting 5 folds for each of 81 candidates, totalling 405 fits\n",
      "Best parameters found:  {'learning_rate': 0.1, 'max_depth': 5, 'n_estimators': 100, 'subsample': 0.8}\n",
      "Best score found:  0.803805988069062\n",
      "              precision    recall  f1-score   support\n",
      "\n",
      "           0       0.82      0.79      0.80      1079\n",
      "           1       0.80      0.82      0.81      1095\n",
      "\n",
      "    accuracy                           0.81      2174\n",
      "   macro avg       0.81      0.81      0.81      2174\n",
      "weighted avg       0.81      0.81      0.81      2174\n",
      "\n"
     ]
    }
   ],
   "source": [
    "from sklearn.model_selection import GridSearchCV\n",
    "clf2 = xgb.XGBClassifier(random_state=42)\n",
    "\n",
    "param_grid = {\n",
    "    'n_estimators': [100, 200, 300],\n",
    "    'max_depth': [3, 4, 5],\n",
    "    'learning_rate': [0.01, 0.1, 0.2],\n",
    "    'subsample': [0.8, 0.9, 1.0]\n",
    "}\n",
    "\n",
    "grid_search = GridSearchCV(estimator=clf2, param_grid=param_grid, cv=5, scoring='accuracy', n_jobs=-1, verbose=2)\n",
    "\n",
    "grid_search.fit(Xtrain, ytrain)\n",
    "\n",
    "print(\"Best parameters found: \", grid_search.best_params_)\n",
    "print(\"Best score found: \", grid_search.best_score_)\n",
    "\n",
    "best_clf2 = grid_search.best_estimator_\n",
    "pred = best_clf2.predict(Xtest)\n",
    "\n",
    "print(classification_report(ytest, pred))\n"
   ]
  },
  {
   "cell_type": "code",
   "execution_count": 119,
   "id": "74000af5-9492-46f1-8e2d-5f9bbc4de6b6",
   "metadata": {},
   "outputs": [
    {
     "data": {
      "text/html": [
       "<div>\n",
       "<style scoped>\n",
       "    .dataframe tbody tr th:only-of-type {\n",
       "        vertical-align: middle;\n",
       "    }\n",
       "\n",
       "    .dataframe tbody tr th {\n",
       "        vertical-align: top;\n",
       "    }\n",
       "\n",
       "    .dataframe thead th {\n",
       "        text-align: right;\n",
       "    }\n",
       "</style>\n",
       "<table border=\"1\" class=\"dataframe\">\n",
       "  <thead>\n",
       "    <tr style=\"text-align: right;\">\n",
       "      <th></th>\n",
       "      <th>PassengerId</th>\n",
       "      <th>HomePlanet</th>\n",
       "      <th>CryoSleep</th>\n",
       "      <th>Cabin</th>\n",
       "      <th>Destination</th>\n",
       "      <th>Age</th>\n",
       "      <th>VIP</th>\n",
       "      <th>RoomService</th>\n",
       "      <th>FoodCourt</th>\n",
       "      <th>ShoppingMall</th>\n",
       "      <th>Spa</th>\n",
       "      <th>VRDeck</th>\n",
       "      <th>Name</th>\n",
       "      <th>Transported</th>\n",
       "    </tr>\n",
       "  </thead>\n",
       "  <tbody>\n",
       "    <tr>\n",
       "      <th>0</th>\n",
       "      <td>0013_01</td>\n",
       "      <td>Earth</td>\n",
       "      <td>True</td>\n",
       "      <td>G/3/S</td>\n",
       "      <td>TRAPPIST-1e</td>\n",
       "      <td>27.0</td>\n",
       "      <td>False</td>\n",
       "      <td>0.0</td>\n",
       "      <td>0.0</td>\n",
       "      <td>0.0</td>\n",
       "      <td>0.0</td>\n",
       "      <td>0.0</td>\n",
       "      <td>Nelly Carsoning</td>\n",
       "      <td>1</td>\n",
       "    </tr>\n",
       "    <tr>\n",
       "      <th>1</th>\n",
       "      <td>0018_01</td>\n",
       "      <td>Earth</td>\n",
       "      <td>False</td>\n",
       "      <td>F/4/S</td>\n",
       "      <td>TRAPPIST-1e</td>\n",
       "      <td>19.0</td>\n",
       "      <td>False</td>\n",
       "      <td>0.0</td>\n",
       "      <td>9.0</td>\n",
       "      <td>0.0</td>\n",
       "      <td>2823.0</td>\n",
       "      <td>0.0</td>\n",
       "      <td>Lerome Peckers</td>\n",
       "      <td>1</td>\n",
       "    </tr>\n",
       "    <tr>\n",
       "      <th>2</th>\n",
       "      <td>0019_01</td>\n",
       "      <td>Europa</td>\n",
       "      <td>True</td>\n",
       "      <td>C/0/S</td>\n",
       "      <td>55 Cancri e</td>\n",
       "      <td>31.0</td>\n",
       "      <td>False</td>\n",
       "      <td>0.0</td>\n",
       "      <td>0.0</td>\n",
       "      <td>0.0</td>\n",
       "      <td>0.0</td>\n",
       "      <td>0.0</td>\n",
       "      <td>Sabih Unhearfus</td>\n",
       "      <td>1</td>\n",
       "    </tr>\n",
       "    <tr>\n",
       "      <th>3</th>\n",
       "      <td>0021_01</td>\n",
       "      <td>Europa</td>\n",
       "      <td>False</td>\n",
       "      <td>C/1/S</td>\n",
       "      <td>TRAPPIST-1e</td>\n",
       "      <td>38.0</td>\n",
       "      <td>False</td>\n",
       "      <td>0.0</td>\n",
       "      <td>6652.0</td>\n",
       "      <td>0.0</td>\n",
       "      <td>181.0</td>\n",
       "      <td>585.0</td>\n",
       "      <td>Meratz Caltilter</td>\n",
       "      <td>1</td>\n",
       "    </tr>\n",
       "    <tr>\n",
       "      <th>4</th>\n",
       "      <td>0023_01</td>\n",
       "      <td>Earth</td>\n",
       "      <td>False</td>\n",
       "      <td>F/5/S</td>\n",
       "      <td>TRAPPIST-1e</td>\n",
       "      <td>20.0</td>\n",
       "      <td>False</td>\n",
       "      <td>10.0</td>\n",
       "      <td>0.0</td>\n",
       "      <td>635.0</td>\n",
       "      <td>0.0</td>\n",
       "      <td>0.0</td>\n",
       "      <td>Brence Harperez</td>\n",
       "      <td>1</td>\n",
       "    </tr>\n",
       "  </tbody>\n",
       "</table>\n",
       "</div>"
      ],
      "text/plain": [
       "  PassengerId HomePlanet CryoSleep  Cabin  Destination   Age    VIP  \\\n",
       "0     0013_01      Earth      True  G/3/S  TRAPPIST-1e  27.0  False   \n",
       "1     0018_01      Earth     False  F/4/S  TRAPPIST-1e  19.0  False   \n",
       "2     0019_01     Europa      True  C/0/S  55 Cancri e  31.0  False   \n",
       "3     0021_01     Europa     False  C/1/S  TRAPPIST-1e  38.0  False   \n",
       "4     0023_01      Earth     False  F/5/S  TRAPPIST-1e  20.0  False   \n",
       "\n",
       "   RoomService  FoodCourt  ShoppingMall     Spa  VRDeck              Name  \\\n",
       "0          0.0        0.0           0.0     0.0     0.0   Nelly Carsoning   \n",
       "1          0.0        9.0           0.0  2823.0     0.0    Lerome Peckers   \n",
       "2          0.0        0.0           0.0     0.0     0.0   Sabih Unhearfus   \n",
       "3          0.0     6652.0           0.0   181.0   585.0  Meratz Caltilter   \n",
       "4         10.0        0.0         635.0     0.0     0.0   Brence Harperez   \n",
       "\n",
       "   Transported  \n",
       "0            1  \n",
       "1            1  \n",
       "2            1  \n",
       "3            1  \n",
       "4            1  "
      ]
     },
     "execution_count": 119,
     "metadata": {},
     "output_type": "execute_result"
    }
   ],
   "source": [
    "test = pd.read_csv('test_spaceship.csv')\n",
    "test['Transported']=1\n",
    "test.head()\n"
   ]
  },
  {
   "cell_type": "code",
   "execution_count": 120,
   "id": "666fdc43-5655-40ad-b3d1-cf2c1bfafe49",
   "metadata": {},
   "outputs": [],
   "source": [
    "samp = feat_eng.transform(test)"
   ]
  },
  {
   "cell_type": "code",
   "execution_count": 121,
   "id": "6a8ee234-3d7e-451b-9427-818fef7e2c7c",
   "metadata": {},
   "outputs": [
    {
     "data": {
      "text/plain": [
       "(4277, 47)"
      ]
     },
     "execution_count": 121,
     "metadata": {},
     "output_type": "execute_result"
    }
   ],
   "source": [
    "samp.shape"
   ]
  },
  {
   "cell_type": "code",
   "execution_count": 122,
   "id": "8f3932c7-ea0b-4e98-bb4e-b14dbb0efb6a",
   "metadata": {},
   "outputs": [],
   "source": [
    "prediction = best_clf2.predict(samp)"
   ]
  },
  {
   "cell_type": "code",
   "execution_count": 123,
   "id": "a274911b-b181-4092-b6f0-5c1423f927dd",
   "metadata": {},
   "outputs": [],
   "source": [
    "test['Transported']=prediction"
   ]
  },
  {
   "cell_type": "code",
   "execution_count": 124,
   "id": "54d5d732-da6c-4396-ae5f-b69356136d61",
   "metadata": {},
   "outputs": [
    {
     "data": {
      "text/html": [
       "<div>\n",
       "<style scoped>\n",
       "    .dataframe tbody tr th:only-of-type {\n",
       "        vertical-align: middle;\n",
       "    }\n",
       "\n",
       "    .dataframe tbody tr th {\n",
       "        vertical-align: top;\n",
       "    }\n",
       "\n",
       "    .dataframe thead th {\n",
       "        text-align: right;\n",
       "    }\n",
       "</style>\n",
       "<table border=\"1\" class=\"dataframe\">\n",
       "  <thead>\n",
       "    <tr style=\"text-align: right;\">\n",
       "      <th></th>\n",
       "      <th>PassengerId</th>\n",
       "      <th>Transported</th>\n",
       "    </tr>\n",
       "  </thead>\n",
       "  <tbody>\n",
       "    <tr>\n",
       "      <th>0</th>\n",
       "      <td>0013_01</td>\n",
       "      <td>1</td>\n",
       "    </tr>\n",
       "    <tr>\n",
       "      <th>1</th>\n",
       "      <td>0018_01</td>\n",
       "      <td>0</td>\n",
       "    </tr>\n",
       "    <tr>\n",
       "      <th>2</th>\n",
       "      <td>0019_01</td>\n",
       "      <td>1</td>\n",
       "    </tr>\n",
       "    <tr>\n",
       "      <th>3</th>\n",
       "      <td>0021_01</td>\n",
       "      <td>1</td>\n",
       "    </tr>\n",
       "    <tr>\n",
       "      <th>4</th>\n",
       "      <td>0023_01</td>\n",
       "      <td>1</td>\n",
       "    </tr>\n",
       "    <tr>\n",
       "      <th>...</th>\n",
       "      <td>...</td>\n",
       "      <td>...</td>\n",
       "    </tr>\n",
       "    <tr>\n",
       "      <th>4272</th>\n",
       "      <td>9266_02</td>\n",
       "      <td>1</td>\n",
       "    </tr>\n",
       "    <tr>\n",
       "      <th>4273</th>\n",
       "      <td>9269_01</td>\n",
       "      <td>0</td>\n",
       "    </tr>\n",
       "    <tr>\n",
       "      <th>4274</th>\n",
       "      <td>9271_01</td>\n",
       "      <td>1</td>\n",
       "    </tr>\n",
       "    <tr>\n",
       "      <th>4275</th>\n",
       "      <td>9273_01</td>\n",
       "      <td>1</td>\n",
       "    </tr>\n",
       "    <tr>\n",
       "      <th>4276</th>\n",
       "      <td>9277_01</td>\n",
       "      <td>1</td>\n",
       "    </tr>\n",
       "  </tbody>\n",
       "</table>\n",
       "<p>4277 rows × 2 columns</p>\n",
       "</div>"
      ],
      "text/plain": [
       "     PassengerId  Transported\n",
       "0        0013_01            1\n",
       "1        0018_01            0\n",
       "2        0019_01            1\n",
       "3        0021_01            1\n",
       "4        0023_01            1\n",
       "...          ...          ...\n",
       "4272     9266_02            1\n",
       "4273     9269_01            0\n",
       "4274     9271_01            1\n",
       "4275     9273_01            1\n",
       "4276     9277_01            1\n",
       "\n",
       "[4277 rows x 2 columns]"
      ]
     },
     "execution_count": 124,
     "metadata": {},
     "output_type": "execute_result"
    }
   ],
   "source": [
    "sub = test[['PassengerId','Transported']]\n",
    "sub"
   ]
  },
  {
   "cell_type": "code",
   "execution_count": 125,
   "id": "5a20e38c-458e-4e51-8249-85b0f08f23e5",
   "metadata": {},
   "outputs": [
    {
     "name": "stderr",
     "output_type": "stream",
     "text": [
      "C:\\Users\\natha\\AppData\\Local\\Temp\\ipykernel_11976\\4290883644.py:1: SettingWithCopyWarning: \n",
      "A value is trying to be set on a copy of a slice from a DataFrame.\n",
      "Try using .loc[row_indexer,col_indexer] = value instead\n",
      "\n",
      "See the caveats in the documentation: https://pandas.pydata.org/pandas-docs/stable/user_guide/indexing.html#returning-a-view-versus-a-copy\n",
      "  sub.Transported = sub.Transported.map({1:True, 0:False})\n"
     ]
    }
   ],
   "source": [
    "sub.Transported = sub.Transported.map({1:True, 0:False})"
   ]
  },
  {
   "cell_type": "code",
   "execution_count": 126,
   "id": "363189b5-e050-4a10-8a36-80748e1e5e67",
   "metadata": {},
   "outputs": [
    {
     "data": {
      "text/html": [
       "<div>\n",
       "<style scoped>\n",
       "    .dataframe tbody tr th:only-of-type {\n",
       "        vertical-align: middle;\n",
       "    }\n",
       "\n",
       "    .dataframe tbody tr th {\n",
       "        vertical-align: top;\n",
       "    }\n",
       "\n",
       "    .dataframe thead th {\n",
       "        text-align: right;\n",
       "    }\n",
       "</style>\n",
       "<table border=\"1\" class=\"dataframe\">\n",
       "  <thead>\n",
       "    <tr style=\"text-align: right;\">\n",
       "      <th></th>\n",
       "      <th>Transported</th>\n",
       "    </tr>\n",
       "    <tr>\n",
       "      <th>PassengerId</th>\n",
       "      <th></th>\n",
       "    </tr>\n",
       "  </thead>\n",
       "  <tbody>\n",
       "    <tr>\n",
       "      <th>0013_01</th>\n",
       "      <td>True</td>\n",
       "    </tr>\n",
       "    <tr>\n",
       "      <th>0018_01</th>\n",
       "      <td>False</td>\n",
       "    </tr>\n",
       "    <tr>\n",
       "      <th>0019_01</th>\n",
       "      <td>True</td>\n",
       "    </tr>\n",
       "    <tr>\n",
       "      <th>0021_01</th>\n",
       "      <td>True</td>\n",
       "    </tr>\n",
       "    <tr>\n",
       "      <th>0023_01</th>\n",
       "      <td>True</td>\n",
       "    </tr>\n",
       "    <tr>\n",
       "      <th>...</th>\n",
       "      <td>...</td>\n",
       "    </tr>\n",
       "    <tr>\n",
       "      <th>9266_02</th>\n",
       "      <td>True</td>\n",
       "    </tr>\n",
       "    <tr>\n",
       "      <th>9269_01</th>\n",
       "      <td>False</td>\n",
       "    </tr>\n",
       "    <tr>\n",
       "      <th>9271_01</th>\n",
       "      <td>True</td>\n",
       "    </tr>\n",
       "    <tr>\n",
       "      <th>9273_01</th>\n",
       "      <td>True</td>\n",
       "    </tr>\n",
       "    <tr>\n",
       "      <th>9277_01</th>\n",
       "      <td>True</td>\n",
       "    </tr>\n",
       "  </tbody>\n",
       "</table>\n",
       "<p>4277 rows × 1 columns</p>\n",
       "</div>"
      ],
      "text/plain": [
       "             Transported\n",
       "PassengerId             \n",
       "0013_01             True\n",
       "0018_01            False\n",
       "0019_01             True\n",
       "0021_01             True\n",
       "0023_01             True\n",
       "...                  ...\n",
       "9266_02             True\n",
       "9269_01            False\n",
       "9271_01             True\n",
       "9273_01             True\n",
       "9277_01             True\n",
       "\n",
       "[4277 rows x 1 columns]"
      ]
     },
     "execution_count": 126,
     "metadata": {},
     "output_type": "execute_result"
    }
   ],
   "source": [
    "sub.index = sub.PassengerId\n",
    "sub = sub.drop('PassengerId',axis=1)\n",
    "sub"
   ]
  },
  {
   "cell_type": "code",
   "execution_count": 127,
   "id": "b11b194d-8e56-437c-bb7f-857e08faa603",
   "metadata": {},
   "outputs": [],
   "source": [
    "sub.to_csv('space2.csv')"
   ]
  },
  {
   "cell_type": "code",
   "execution_count": null,
   "id": "15329b2d-63e1-4e01-82d8-ab345f182934",
   "metadata": {},
   "outputs": [],
   "source": []
  },
  {
   "cell_type": "code",
   "execution_count": null,
   "id": "b62f894f-7127-42e1-bdb1-1b3d41d575c9",
   "metadata": {},
   "outputs": [],
   "source": []
  }
 ],
 "metadata": {
  "kernelspec": {
   "display_name": "Python 3 (ipykernel)",
   "language": "python",
   "name": "python3"
  },
  "language_info": {
   "codemirror_mode": {
    "name": "ipython",
    "version": 3
   },
   "file_extension": ".py",
   "mimetype": "text/x-python",
   "name": "python",
   "nbconvert_exporter": "python",
   "pygments_lexer": "ipython3",
   "version": "3.11.7"
  }
 },
 "nbformat": 4,
 "nbformat_minor": 5
}
