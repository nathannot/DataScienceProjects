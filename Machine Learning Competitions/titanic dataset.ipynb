{
 "cells": [
  {
   "cell_type": "markdown",
   "id": "0e263536-6182-49ed-9150-8f49ea050073",
   "metadata": {},
   "source": [
    "# Titanic Dataset"
   ]
  },
  {
   "cell_type": "code",
   "execution_count": 265,
   "id": "6d3e1968-78cf-4c45-bc2f-82fdb9a2cbf9",
   "metadata": {},
   "outputs": [],
   "source": [
    "#import data\n",
    "import pandas as pd\n",
    "import numpy as np\n",
    "import warnings\n",
    "warnings.filterwarnings('ignore')\n",
    "train = pd.read_csv('train_titanic.csv')\n"
   ]
  },
  {
   "cell_type": "code",
   "execution_count": 2,
   "id": "77650f7a-b6b0-487f-9668-b26537679187",
   "metadata": {},
   "outputs": [
    {
     "data": {
      "text/html": [
       "<div>\n",
       "<style scoped>\n",
       "    .dataframe tbody tr th:only-of-type {\n",
       "        vertical-align: middle;\n",
       "    }\n",
       "\n",
       "    .dataframe tbody tr th {\n",
       "        vertical-align: top;\n",
       "    }\n",
       "\n",
       "    .dataframe thead th {\n",
       "        text-align: right;\n",
       "    }\n",
       "</style>\n",
       "<table border=\"1\" class=\"dataframe\">\n",
       "  <thead>\n",
       "    <tr style=\"text-align: right;\">\n",
       "      <th></th>\n",
       "      <th>PassengerId</th>\n",
       "      <th>Survived</th>\n",
       "      <th>Pclass</th>\n",
       "      <th>Name</th>\n",
       "      <th>Sex</th>\n",
       "      <th>Age</th>\n",
       "      <th>SibSp</th>\n",
       "      <th>Parch</th>\n",
       "      <th>Ticket</th>\n",
       "      <th>Fare</th>\n",
       "      <th>Cabin</th>\n",
       "      <th>Embarked</th>\n",
       "    </tr>\n",
       "  </thead>\n",
       "  <tbody>\n",
       "    <tr>\n",
       "      <th>0</th>\n",
       "      <td>1</td>\n",
       "      <td>0</td>\n",
       "      <td>3</td>\n",
       "      <td>Braund, Mr. Owen Harris</td>\n",
       "      <td>male</td>\n",
       "      <td>22.0</td>\n",
       "      <td>1</td>\n",
       "      <td>0</td>\n",
       "      <td>A/5 21171</td>\n",
       "      <td>7.2500</td>\n",
       "      <td>NaN</td>\n",
       "      <td>S</td>\n",
       "    </tr>\n",
       "    <tr>\n",
       "      <th>1</th>\n",
       "      <td>2</td>\n",
       "      <td>1</td>\n",
       "      <td>1</td>\n",
       "      <td>Cumings, Mrs. John Bradley (Florence Briggs Th...</td>\n",
       "      <td>female</td>\n",
       "      <td>38.0</td>\n",
       "      <td>1</td>\n",
       "      <td>0</td>\n",
       "      <td>PC 17599</td>\n",
       "      <td>71.2833</td>\n",
       "      <td>C85</td>\n",
       "      <td>C</td>\n",
       "    </tr>\n",
       "    <tr>\n",
       "      <th>2</th>\n",
       "      <td>3</td>\n",
       "      <td>1</td>\n",
       "      <td>3</td>\n",
       "      <td>Heikkinen, Miss. Laina</td>\n",
       "      <td>female</td>\n",
       "      <td>26.0</td>\n",
       "      <td>0</td>\n",
       "      <td>0</td>\n",
       "      <td>STON/O2. 3101282</td>\n",
       "      <td>7.9250</td>\n",
       "      <td>NaN</td>\n",
       "      <td>S</td>\n",
       "    </tr>\n",
       "    <tr>\n",
       "      <th>3</th>\n",
       "      <td>4</td>\n",
       "      <td>1</td>\n",
       "      <td>1</td>\n",
       "      <td>Futrelle, Mrs. Jacques Heath (Lily May Peel)</td>\n",
       "      <td>female</td>\n",
       "      <td>35.0</td>\n",
       "      <td>1</td>\n",
       "      <td>0</td>\n",
       "      <td>113803</td>\n",
       "      <td>53.1000</td>\n",
       "      <td>C123</td>\n",
       "      <td>S</td>\n",
       "    </tr>\n",
       "    <tr>\n",
       "      <th>4</th>\n",
       "      <td>5</td>\n",
       "      <td>0</td>\n",
       "      <td>3</td>\n",
       "      <td>Allen, Mr. William Henry</td>\n",
       "      <td>male</td>\n",
       "      <td>35.0</td>\n",
       "      <td>0</td>\n",
       "      <td>0</td>\n",
       "      <td>373450</td>\n",
       "      <td>8.0500</td>\n",
       "      <td>NaN</td>\n",
       "      <td>S</td>\n",
       "    </tr>\n",
       "  </tbody>\n",
       "</table>\n",
       "</div>"
      ],
      "text/plain": [
       "   PassengerId  Survived  Pclass  \\\n",
       "0            1         0       3   \n",
       "1            2         1       1   \n",
       "2            3         1       3   \n",
       "3            4         1       1   \n",
       "4            5         0       3   \n",
       "\n",
       "                                                Name     Sex   Age  SibSp  \\\n",
       "0                            Braund, Mr. Owen Harris    male  22.0      1   \n",
       "1  Cumings, Mrs. John Bradley (Florence Briggs Th...  female  38.0      1   \n",
       "2                             Heikkinen, Miss. Laina  female  26.0      0   \n",
       "3       Futrelle, Mrs. Jacques Heath (Lily May Peel)  female  35.0      1   \n",
       "4                           Allen, Mr. William Henry    male  35.0      0   \n",
       "\n",
       "   Parch            Ticket     Fare Cabin Embarked  \n",
       "0      0         A/5 21171   7.2500   NaN        S  \n",
       "1      0          PC 17599  71.2833   C85        C  \n",
       "2      0  STON/O2. 3101282   7.9250   NaN        S  \n",
       "3      0            113803  53.1000  C123        S  \n",
       "4      0            373450   8.0500   NaN        S  "
      ]
     },
     "execution_count": 2,
     "metadata": {},
     "output_type": "execute_result"
    }
   ],
   "source": [
    "train.head()"
   ]
  },
  {
   "cell_type": "code",
   "execution_count": 168,
   "id": "b85c9f30-33c4-4a26-9ff3-0c92abf5712b",
   "metadata": {},
   "outputs": [
    {
     "data": {
      "text/plain": [
       "Sex\n",
       "male      577\n",
       "female    314\n",
       "Name: count, dtype: int64"
      ]
     },
     "execution_count": 168,
     "metadata": {},
     "output_type": "execute_result"
    }
   ],
   "source": [
    "train.Sex.value_counts()"
   ]
  },
  {
   "cell_type": "code",
   "execution_count": 169,
   "id": "84956aab-abbe-4fce-a28f-19655df35e97",
   "metadata": {},
   "outputs": [
    {
     "data": {
      "text/plain": [
       "Survived\n",
       "0    549\n",
       "1    342\n",
       "Name: count, dtype: int64"
      ]
     },
     "execution_count": 169,
     "metadata": {},
     "output_type": "execute_result"
    }
   ],
   "source": [
    "train.Survived.value_counts()"
   ]
  },
  {
   "cell_type": "markdown",
   "id": "e506092e-6672-4a16-9a75-90fe036c9847",
   "metadata": {},
   "source": [
    "I build a model on train data, then apply it to test data and turn results into a csv with passenger ID and Survived column.  \n",
    "For this model I will build a binary classifier and use classificaion report to measure success."
   ]
  },
  {
   "cell_type": "code",
   "execution_count": 6,
   "id": "7fec8b80-6b53-43d9-8fae-a119f8952990",
   "metadata": {},
   "outputs": [
    {
     "data": {
      "text/plain": [
       "PassengerId      0\n",
       "Survived         0\n",
       "Pclass           0\n",
       "Name             0\n",
       "Sex              0\n",
       "Age            177\n",
       "SibSp            0\n",
       "Parch            0\n",
       "Ticket           0\n",
       "Fare             0\n",
       "Cabin          687\n",
       "Embarked         2\n",
       "dtype: int64"
      ]
     },
     "execution_count": 6,
     "metadata": {},
     "output_type": "execute_result"
    }
   ],
   "source": [
    "#inspect nulls\n",
    "train.isna().sum()"
   ]
  },
  {
   "cell_type": "code",
   "execution_count": 7,
   "id": "9db713b8-daa5-485e-873b-0f97fd92f33c",
   "metadata": {},
   "outputs": [
    {
     "data": {
      "text/plain": [
       "(891, 12)"
      ]
     },
     "execution_count": 7,
     "metadata": {},
     "output_type": "execute_result"
    }
   ],
   "source": [
    "train.shape"
   ]
  },
  {
   "cell_type": "markdown",
   "id": "663e715c-f2b6-4a77-a086-b1aed2532d54",
   "metadata": {},
   "source": [
    "Most of cabin are nulls"
   ]
  },
  {
   "cell_type": "code",
   "execution_count": 8,
   "id": "b48a4505-f1a6-4c03-96aa-1cd22bb8755f",
   "metadata": {},
   "outputs": [
    {
     "data": {
      "text/plain": [
       "Cabin\n",
       "B96 B98        4\n",
       "G6             4\n",
       "C23 C25 C27    4\n",
       "C22 C26        3\n",
       "F33            3\n",
       "              ..\n",
       "E34            1\n",
       "C7             1\n",
       "C54            1\n",
       "E36            1\n",
       "C148           1\n",
       "Name: count, Length: 147, dtype: int64"
      ]
     },
     "execution_count": 8,
     "metadata": {},
     "output_type": "execute_result"
    }
   ],
   "source": [
    "train.Cabin.value_counts()"
   ]
  },
  {
   "cell_type": "markdown",
   "id": "7caaf223-c372-48e7-9f07-ebb03dfecc7e",
   "metadata": {},
   "source": [
    "Since there are 147 different cabins out of 204 entries and 687 null values, I will drop this column. I will also drop name column as I have passenger ID. For age I will use simple imputer to replace NAs with median. For embarked I will use most frequent."
   ]
  },
  {
   "cell_type": "code",
   "execution_count": 12,
   "id": "2699292a-3c96-4780-a67c-8c5804ee2463",
   "metadata": {},
   "outputs": [
    {
     "data": {
      "text/plain": [
       "Ticket\n",
       "347082      7\n",
       "CA. 2343    7\n",
       "1601        7\n",
       "3101295     6\n",
       "CA 2144     6\n",
       "           ..\n",
       "9234        1\n",
       "19988       1\n",
       "2693        1\n",
       "PC 17612    1\n",
       "370376      1\n",
       "Name: count, Length: 681, dtype: int64"
      ]
     },
     "execution_count": 12,
     "metadata": {},
     "output_type": "execute_result"
    }
   ],
   "source": [
    "train.Ticket.value_counts()"
   ]
  },
  {
   "cell_type": "markdown",
   "id": "3c78c38c-1270-45ac-a0e8-b25dc6053f8c",
   "metadata": {},
   "source": [
    "Ticket number has 681 different types out of 891. Since I have Port of Embarkation and pcalss, ticket is not useful and will be dropped."
   ]
  },
  {
   "cell_type": "code",
   "execution_count": 190,
   "id": "8abdabd3-3405-4e03-a774-93a10af3b596",
   "metadata": {},
   "outputs": [
    {
     "data": {
      "image/png": "[encoded data removed]",
      "text/plain": [
       "<Figure size 640x480 with 9 Axes>"
      ]
     },
     "metadata": {},
     "output_type": "display_data"
    }
   ],
   "source": [
    "import matplotlib.pyplot as plt\n",
    "#explore distribution of numerical categories\n",
    "train.hist(bins=10)\n",
    "plt.subplots_adjust(wspace=0.5, hspace=0.5);"
   ]
  },
  {
   "cell_type": "code",
   "execution_count": 8,
   "id": "9889769f-37f6-4ae9-b2d5-05b06bf60b50",
   "metadata": {},
   "outputs": [
    {
     "data": {
      "image/png": "[encoded data removed]",
      "text/plain": [
       "<Figure size 598x500 with 1 Axes>"
      ]
     },
     "metadata": {},
     "output_type": "display_data"
    }
   ],
   "source": [
    "import seaborn as sns\n",
    "sns.catplot(data = train, kind='bar',x = 'Pclass', y='Survived', hue='Sex', errorbar=None);"
   ]
  },
  {
   "cell_type": "markdown",
   "id": "bbbbfe14-e60c-40f8-bc02-fd4f996113bf",
   "metadata": {},
   "source": [
    "It seems females of Pclass 1 and 2 have highest survival rate."
   ]
  },
  {
   "cell_type": "code",
   "execution_count": 55,
   "id": "27823738-667b-438d-a1ab-35e593a7f781",
   "metadata": {},
   "outputs": [
    {
     "data": {
      "text/plain": [
       "Pclass\n",
       "3    491\n",
       "1    216\n",
       "2    184\n",
       "Name: count, dtype: int64"
      ]
     },
     "execution_count": 55,
     "metadata": {},
     "output_type": "execute_result"
    }
   ],
   "source": [
    "train.Pclass.value_counts()"
   ]
  },
  {
   "cell_type": "code",
   "execution_count": 56,
   "id": "ac06dcf0-af33-45eb-a6d3-8678d231f3e1",
   "metadata": {},
   "outputs": [],
   "source": [
    "train12 = train[~(train.Pclass == 3)]"
   ]
  },
  {
   "cell_type": "markdown",
   "id": "042b912f-ef22-48d6-aa3f-a261d543f462",
   "metadata": {},
   "source": [
    "For last 4, I will apply log transformation to fix right skew. Then standardise all data."
   ]
  },
  {
   "cell_type": "markdown",
   "id": "0ce2dd44-6e7b-49c5-8b2b-8a4fabdc1b1c",
   "metadata": {},
   "source": [
    "For sex and embarked they are non ordinal so I will use one hot encoder to split into numerical data."
   ]
  },
  {
   "cell_type": "markdown",
   "id": "930a93c4-0731-4d5a-b009-31a982303e23",
   "metadata": {},
   "source": [
    "The pipeline:  \n",
    "1. Remove Cabin, Ticket, Name\n",
    "2. Use simple imputer to fill in null values\n",
    "3. Use log to transform right skew data\n",
    "4. Use standard scaler to standardize data\n",
    "5. Use one hot encoder to turn non-ordinal categories into numeric categories"
   ]
  },
  {
   "cell_type": "code",
   "execution_count": 267,
   "id": "2c4228e0-6f4c-4b7e-95e2-e7fd7498653d",
   "metadata": {},
   "outputs": [],
   "source": [
    "from sklearn.model_selection import train_test_split\n",
    "#create function to split data into X and y and remove irrelevant rows\n",
    "y = train.Survived\n",
    "X = train.drop('Survived',axis=1)\n",
    "\n",
    "Xtrain, Xtest, ytrain, ytest = train_test_split(X, y, test_size=0.2, random_state=42, stratify = X.Sex)\n",
    "\n"
   ]
  },
  {
   "cell_type": "code",
   "execution_count": 268,
   "id": "ddb63bd7-4273-4974-af08-506b9e86fbb0",
   "metadata": {},
   "outputs": [],
   "source": [
    "from sklearn.pipeline import Pipeline, make_pipeline\n",
    "from sklearn.preprocessing import StandardScaler, FunctionTransformer, OneHotEncoder\n",
    "from sklearn.impute import SimpleImputer\n",
    "from sklearn.compose import ColumnTransformer, make_column_selector\n",
    "\n",
    "# Create function to split data into X and y and remove irrelevant rows\n",
    "def clean(data):\n",
    "\n",
    "    data['Title'] = data['Name'].str.extract(r' ([A-Za-z]+)\\.', expand=False)  # Extract Title from Name\n",
    "    data['Title'] = data['Title'].replace(['Lady', 'Countess', 'Capt', 'Col', 'Don', 'Dr', 'Major', \n",
    "                                           'Rev', 'Sir', 'Jonkheer', 'Dona'], 'Unique') \n",
    "    data['Title'] = data['Title'].replace('Mlle', 'Miss').replace('Mme', 'Mrs').replace('Ms', 'Mr')\n",
    "    data['Fare'] = pd.cut(data['Fare'], bins=[0,50,100,150,200,np.inf], labels=[1,2,3,4,5])\n",
    "    data['Family'] = data['SibSp']+data['Parch']\n",
    "    data.Age = data.Age.fillna(data.Age.median())\n",
    "    data.Age= pd.cut(data['Age'], bins =[0,5,18,30,42,50,np.inf],labels=[1,2,3,4,5,6])\n",
    "    data.drop([ 'Ticket','Cabin', 'Name', 'PassengerId'], axis=1, inplace=True)  \n",
    "    return data\n",
    "\n",
    "# Create log pipeline\n",
    "log_pipeline = make_pipeline(\n",
    "    SimpleImputer(strategy='median'),\n",
    "    FunctionTransformer(np.log1p, validate=False,feature_names_out = 'one-to-one'),  \n",
    "    StandardScaler()\n",
    ")\n",
    "\n",
    "# Create category pipeline\n",
    "cat_pipeline = make_pipeline(\n",
    "    SimpleImputer(strategy='most_frequent'),\n",
    "    OneHotEncoder(handle_unknown='ignore')\n",
    ")\n",
    "\n",
    "# Create default pipeline\n",
    "def_pipeline = make_pipeline(\n",
    "    SimpleImputer(strategy='median'),\n",
    "    StandardScaler()\n",
    ")\n",
    "\n",
    "# Preprocess pipeline\n",
    "preprocess = ColumnTransformer(\n",
    "    transformers=[\n",
    "        ('log', log_pipeline, [ 'SibSp', 'Parch','Family']),\n",
    "        ('cat', cat_pipeline, make_column_selector(dtype_include=object))\n",
    "    ],\n",
    "    remainder=def_pipeline\n",
    ")\n"
   ]
  },
  {
   "cell_type": "code",
   "execution_count": 269,
   "id": "9f9fe4ec-cc64-4318-8eb8-569325012a8c",
   "metadata": {},
   "outputs": [],
   "source": [
    "#apply clean to train and then preprocess to get final X\n",
    "\n",
    "Xtrain = preprocess.fit_transform(clean(Xtrain))"
   ]
  },
  {
   "cell_type": "code",
   "execution_count": 270,
   "id": "500e481d-f2fb-4932-b96e-59c72353264f",
   "metadata": {},
   "outputs": [],
   "source": [
    "Xtest = preprocess.fit_transform(clean(Xtest))"
   ]
  },
  {
   "cell_type": "code",
   "execution_count": 271,
   "id": "476a731c-ba9c-473e-80ca-e895be070851",
   "metadata": {},
   "outputs": [
    {
     "data": {
      "text/plain": [
       "array(['log__SibSp', 'log__Parch', 'log__Family', 'cat__Sex_female',\n",
       "       'cat__Sex_male', 'cat__Embarked_C', 'cat__Embarked_Q',\n",
       "       'cat__Embarked_S', 'cat__Title_Master', 'cat__Title_Miss',\n",
       "       'cat__Title_Mr', 'cat__Title_Mrs', 'cat__Title_Unique',\n",
       "       'remainder__Pclass', 'remainder__Age', 'remainder__Fare'],\n",
       "      dtype=object)"
      ]
     },
     "execution_count": 271,
     "metadata": {},
     "output_type": "execute_result"
    }
   ],
   "source": [
    "preprocess.get_feature_names_out()"
   ]
  },
  {
   "cell_type": "code",
   "execution_count": 272,
   "id": "5a5a448e-6c90-4c34-9e5d-ce3a484bdc43",
   "metadata": {},
   "outputs": [
    {
     "data": {
      "text/plain": [
       "(179, 16)"
      ]
     },
     "execution_count": 272,
     "metadata": {},
     "output_type": "execute_result"
    }
   ],
   "source": [
    "Xtest.shape"
   ]
  },
  {
   "cell_type": "markdown",
   "id": "07e27b9a-9ded-4bb5-8b95-bbf6cd3ef614",
   "metadata": {},
   "source": [
    "## Build Models"
   ]
  },
  {
   "cell_type": "markdown",
   "id": "358893f7-694d-4b94-aa99-d04dc357a28a",
   "metadata": {},
   "source": [
    "### Model 1"
   ]
  },
  {
   "cell_type": "code",
   "execution_count": 273,
   "id": "76974d69-a5e5-49e5-a1c1-8fa2c7a1520f",
   "metadata": {},
   "outputs": [
    {
     "name": "stdout",
     "output_type": "stream",
     "text": [
      "              precision    recall  f1-score   support\n",
      "\n",
      "           0       0.86      0.84      0.85       114\n",
      "           1       0.74      0.77      0.75        65\n",
      "\n",
      "    accuracy                           0.82       179\n",
      "   macro avg       0.80      0.81      0.80       179\n",
      "weighted avg       0.82      0.82      0.82       179\n",
      "\n",
      "0.8156424581005587\n"
     ]
    }
   ],
   "source": [
    "#for Model 1 I will build a logistic model\n",
    "from sklearn.linear_model import LogisticRegression\n",
    "from sklearn.metrics import accuracy_score, classification_report\n",
    "\n",
    "lr = LogisticRegression(random_state=42)\n",
    "lr.fit(Xtrain, ytrain)\n",
    "\n",
    "pred = lr.predict(Xtest)\n",
    "print(classification_report(ytest,pred))\n",
    "print(accuracy_score(ytest,pred))"
   ]
  },
  {
   "cell_type": "markdown",
   "id": "4ebd9248-e162-4376-9c71-7613ae02b0c2",
   "metadata": {},
   "source": [
    "### Model 2"
   ]
  },
  {
   "cell_type": "code",
   "execution_count": 274,
   "id": "f6fb75e7-3305-473d-906c-36978116a448",
   "metadata": {},
   "outputs": [
    {
     "name": "stdout",
     "output_type": "stream",
     "text": [
      "              precision    recall  f1-score   support\n",
      "\n",
      "           0       0.86      0.89      0.88       114\n",
      "           1       0.80      0.75      0.78        65\n",
      "\n",
      "    accuracy                           0.84       179\n",
      "   macro avg       0.83      0.82      0.83       179\n",
      "weighted avg       0.84      0.84      0.84       179\n",
      "\n",
      "0.8435754189944135\n"
     ]
    }
   ],
   "source": [
    "#for model 2 I will use Random Forest\n",
    "from sklearn.ensemble import RandomForestClassifier\n",
    "\n",
    "rf = RandomForestClassifier(random_state=42)\n",
    "rf.fit(Xtrain,ytrain)\n",
    "\n",
    "pred = rf.predict(Xtest)\n",
    "print(classification_report(ytest,pred))\n",
    "print(accuracy_score(ytest,pred))"
   ]
  },
  {
   "cell_type": "markdown",
   "id": "5bf1b95f-9ae4-4a5b-b34d-a016ca7ad28c",
   "metadata": {},
   "source": [
    "### Model 3"
   ]
  },
  {
   "cell_type": "code",
   "execution_count": 275,
   "id": "f9477c6b-129d-42d9-a693-8538c4f12fa7",
   "metadata": {},
   "outputs": [
    {
     "name": "stdout",
     "output_type": "stream",
     "text": [
      "              precision    recall  f1-score   support\n",
      "\n",
      "           0       0.86      0.89      0.88       114\n",
      "           1       0.80      0.74      0.77        65\n",
      "\n",
      "    accuracy                           0.84       179\n",
      "   macro avg       0.83      0.82      0.82       179\n",
      "weighted avg       0.84      0.84      0.84       179\n",
      "\n",
      "0.8379888268156425\n"
     ]
    }
   ],
   "source": [
    "#for model 3 I will use MLP\n",
    "\n",
    "from sklearn.neural_network import MLPClassifier\n",
    "\n",
    "mlp = MLPClassifier(random_state=42)\n",
    "mlp.fit(Xtrain,ytrain)\n",
    "\n",
    "pred = mlp.predict(Xtest)\n",
    "print(classification_report(ytest,pred))\n",
    "print(accuracy_score(ytest,pred))"
   ]
  },
  {
   "cell_type": "markdown",
   "id": "d5cfd27d-2933-4277-bab9-005db0a5a9ff",
   "metadata": {},
   "source": [
    "### Model 4"
   ]
  },
  {
   "cell_type": "code",
   "execution_count": 276,
   "id": "6d38bbab-b7fd-4039-95b5-968bdafcd400",
   "metadata": {},
   "outputs": [
    {
     "name": "stdout",
     "output_type": "stream",
     "text": [
      "              precision    recall  f1-score   support\n",
      "\n",
      "           0       0.86      0.87      0.86       114\n",
      "           1       0.77      0.75      0.76        65\n",
      "\n",
      "    accuracy                           0.83       179\n",
      "   macro avg       0.81      0.81      0.81       179\n",
      "weighted avg       0.83      0.83      0.83       179\n",
      "\n",
      "0.8268156424581006\n"
     ]
    }
   ],
   "source": [
    "#for model 4 I will use svm classifier\n",
    "from sklearn.svm import SVC\n",
    "\n",
    "svm = SVC(kernel='rbf')\n",
    "svm.fit(Xtrain,ytrain)\n",
    "       \n",
    "pred = svm.predict(Xtest)\n",
    "print(classification_report(ytest,pred))\n",
    "print(accuracy_score(ytest,pred))"
   ]
  },
  {
   "cell_type": "markdown",
   "id": "8df21c44-7dbe-4503-a8e1-c4712e34f3b9",
   "metadata": {},
   "source": [
    "### Model 5"
   ]
  },
  {
   "cell_type": "code",
   "execution_count": 277,
   "id": "cd53e63d-2c2f-4f42-a5b9-14a261de03c9",
   "metadata": {},
   "outputs": [
    {
     "name": "stdout",
     "output_type": "stream",
     "text": [
      "              precision    recall  f1-score   support\n",
      "\n",
      "           0       0.85      0.93      0.89       114\n",
      "           1       0.85      0.71      0.77        65\n",
      "\n",
      "    accuracy                           0.85       179\n",
      "   macro avg       0.85      0.82      0.83       179\n",
      "weighted avg       0.85      0.85      0.85       179\n",
      "\n",
      "0.8491620111731844\n"
     ]
    }
   ],
   "source": [
    "#For model 5 i will use decision tree classifier\n",
    "from sklearn.tree import DecisionTreeClassifier\n",
    "\n",
    "dt = DecisionTreeClassifier(random_state=42)\n",
    "dt.fit(Xtrain,ytrain)\n",
    "\n",
    "pred = dt.predict(Xtest)\n",
    "print(classification_report(ytest,pred))\n",
    "print(accuracy_score(ytest,pred))\n"
   ]
  },
  {
   "cell_type": "markdown",
   "id": "27fd9c74-a97e-4218-96e7-2d380d6e4e0b",
   "metadata": {},
   "source": [
    "### Model 6"
   ]
  },
  {
   "cell_type": "code",
   "execution_count": 278,
   "id": "8a885b7f-2940-4782-a106-70d674fb9da7",
   "metadata": {},
   "outputs": [
    {
     "name": "stdout",
     "output_type": "stream",
     "text": [
      "              precision    recall  f1-score   support\n",
      "\n",
      "           0       0.88      0.89      0.89       114\n",
      "           1       0.81      0.78      0.80        65\n",
      "\n",
      "    accuracy                           0.85       179\n",
      "   macro avg       0.84      0.84      0.84       179\n",
      "weighted avg       0.85      0.85      0.85       179\n",
      "\n",
      "0.8547486033519553\n"
     ]
    }
   ],
   "source": [
    "#for model 6 I will use Grad Boost\n",
    "from sklearn.ensemble import GradientBoostingClassifier\n",
    "\n",
    "gbc = GradientBoostingClassifier()\n",
    "gbc.fit(Xtrain, ytrain)\n",
    "\n",
    "pred = gbc.predict(Xtest)\n",
    "print(classification_report(ytest,pred))\n",
    "print(accuracy_score(ytest,pred))"
   ]
  },
  {
   "cell_type": "markdown",
   "id": "bda5fcac-a78e-487d-9d93-313a3df64355",
   "metadata": {},
   "source": [
    "### Model 7 "
   ]
  },
  {
   "cell_type": "code",
   "execution_count": 282,
   "id": "101e5565-dab7-403c-b9fc-3f852607db99",
   "metadata": {},
   "outputs": [
    {
     "name": "stdout",
     "output_type": "stream",
     "text": [
      "              precision    recall  f1-score   support\n",
      "\n",
      "           0       0.87      0.91      0.89       114\n",
      "           1       0.83      0.77      0.80        65\n",
      "\n",
      "    accuracy                           0.86       179\n",
      "   macro avg       0.85      0.84      0.85       179\n",
      "weighted avg       0.86      0.86      0.86       179\n",
      "\n",
      "0.8603351955307262\n"
     ]
    }
   ],
   "source": [
    "#use a voting classifier to combine best models\n",
    "from sklearn.ensemble import VotingClassifier\n",
    "\n",
    "estimators = [\n",
    "    ('mlp',mlp),\n",
    "    ('gbc',gbc),\n",
    "    ('rf',rf)\n",
    "]\n",
    "\n",
    "vc = VotingClassifier(estimators = estimators, voting = 'soft')\n",
    "vc.fit(Xtrain,ytrain)\n",
    "\n",
    "pred = vc.predict(Xtest)\n",
    "print(classification_report(ytest,pred))\n",
    "print(accuracy_score(ytest,pred))"
   ]
  },
  {
   "cell_type": "markdown",
   "id": "574fa4fd-3020-4537-9850-d3a43e1d17f4",
   "metadata": {},
   "source": [
    "### Model 8"
   ]
  },
  {
   "cell_type": "code",
   "execution_count": 281,
   "id": "a9c119a4-a869-40f2-b32a-715efef631ac",
   "metadata": {},
   "outputs": [
    {
     "name": "stdout",
     "output_type": "stream",
     "text": [
      "              precision    recall  f1-score   support\n",
      "\n",
      "           0       0.85      0.91      0.88       114\n",
      "           1       0.82      0.72      0.77        65\n",
      "\n",
      "    accuracy                           0.84       179\n",
      "   macro avg       0.84      0.82      0.83       179\n",
      "weighted avg       0.84      0.84      0.84       179\n",
      "\n",
      "0.8435754189944135\n"
     ]
    }
   ],
   "source": [
    "#use a stacking classifier to combine best models\n",
    "from sklearn.ensemble import StackingClassifier\n",
    "\n",
    "estimators = [\n",
    "    ('mlp',mlp),\n",
    "    ('gbc',gbc),\n",
    "    ('rf',rf)\n",
    "]\n",
    "\n",
    "sc = StackingClassifier(estimators = estimators, final_estimator = rf)\n",
    "sc.fit(Xtrain,ytrain)\n",
    "\n",
    "pred = sc.predict(Xtest)\n",
    "print(classification_report(ytest,pred))\n",
    "print(accuracy_score(ytest,pred))"
   ]
  },
  {
   "cell_type": "markdown",
   "id": "42b193fe-2617-41b9-9ab3-07e87deb23cb",
   "metadata": {},
   "source": [
    "## Hyperparameter tuning"
   ]
  },
  {
   "cell_type": "code",
   "execution_count": 284,
   "id": "bdbd0618-97f6-4e02-b294-d1ce0516fc99",
   "metadata": {},
   "outputs": [
    {
     "name": "stdout",
     "output_type": "stream",
     "text": [
      "              precision    recall  f1-score   support\n",
      "\n",
      "           0       0.87      0.86      0.86       114\n",
      "           1       0.76      0.77      0.76        65\n",
      "\n",
      "    accuracy                           0.83       179\n",
      "   macro avg       0.81      0.81      0.81       179\n",
      "weighted avg       0.83      0.83      0.83       179\n",
      "\n",
      "0.8268156424581006\n"
     ]
    }
   ],
   "source": [
    "#use random search for gbc\n",
    "from sklearn.model_selection import RandomizedSearchCV\n",
    "\n",
    "distributions = dict(\n",
    "    loss=['log_loss','exponential'],\n",
    "    learning_rate=[0.1,0.5,1],\n",
    "    n_estimators=[50,100,200],\n",
    "    criterion=['friedman_mse','squared_error'],\n",
    "    max_features=['sqrt','log2',None]\n",
    ")\n",
    "\n",
    "clf3 = RandomizedSearchCV(gbc, distributions, scoring='accuracy', cv=3, random_state =5)\n",
    "search3 = clf3.fit(Xtrain,ytrain)\n",
    "search3.best_params_\n",
    "pred = search3.predict(Xtest)\n",
    "print(classification_report(ytest,pred))\n",
    "print(accuracy_score(ytest,pred))"
   ]
  },
  {
   "cell_type": "code",
   "execution_count": 285,
   "id": "d5d38221-c983-4e66-a76a-d4f0c53305b0",
   "metadata": {},
   "outputs": [
    {
     "name": "stdout",
     "output_type": "stream",
     "text": [
      "              precision    recall  f1-score   support\n",
      "\n",
      "           0       0.86      0.89      0.88       114\n",
      "           1       0.80      0.74      0.77        65\n",
      "\n",
      "    accuracy                           0.84       179\n",
      "   macro avg       0.83      0.82      0.82       179\n",
      "weighted avg       0.84      0.84      0.84       179\n",
      "\n",
      "0.8379888268156425\n"
     ]
    }
   ],
   "source": [
    "#use random search for mlp\n",
    "from sklearn.model_selection import RandomizedSearchCV\n",
    "\n",
    "distributions = dict(\n",
    "    hidden_layer_sizes=[10,50,100,200],\n",
    "    activation=['identity','logistic','tanh','relu'],\n",
    "    solver=['lbfgs','sgd','adam'],\n",
    "    alpha=[0.00001,0.0001,0.001,0.01]\n",
    ")\n",
    "\n",
    "clf2 = RandomizedSearchCV(mlp, distributions, scoring='accuracy', cv=3, random_state=5)\n",
    "search2 = clf2.fit(Xtrain,ytrain)\n",
    "search2.best_params_\n",
    "pred = search2.predict(Xtest)\n",
    "print(classification_report(ytest,pred))\n",
    "print(accuracy_score(ytest,pred))"
   ]
  },
  {
   "cell_type": "code",
   "execution_count": 286,
   "id": "4fbcc0ef-56dc-4f67-9cb2-8346c7bee955",
   "metadata": {},
   "outputs": [
    {
     "name": "stdout",
     "output_type": "stream",
     "text": [
      "              precision    recall  f1-score   support\n",
      "\n",
      "           0       0.87      0.86      0.86       114\n",
      "           1       0.76      0.77      0.76        65\n",
      "\n",
      "    accuracy                           0.83       179\n",
      "   macro avg       0.81      0.81      0.81       179\n",
      "weighted avg       0.83      0.83      0.83       179\n",
      "\n",
      "0.8268156424581006\n"
     ]
    }
   ],
   "source": [
    "#use random search for rf\n",
    "from sklearn.model_selection import RandomizedSearchCV\n",
    "\n",
    "distributions = dict(\n",
    "    criterion = ['gini','entropy','log_loss'],\n",
    "    max_features=['sqrt','log2',None],\n",
    "    max_depth=[2,4,6,8,10,12,14,16],\n",
    "    min_samples_split = [2,3,4,5,6,8,10,12]\n",
    ")\n",
    "\n",
    "clf3 = RandomizedSearchCV(rf, distributions, scoring='accuracy', cv=3, random_state =5)\n",
    "search3 = clf3.fit(Xtrain,ytrain)\n",
    "search3.best_params_\n",
    "pred = search3.predict(Xtest)\n",
    "print(classification_report(ytest,pred))\n",
    "print(accuracy_score(ytest,pred))"
   ]
  },
  {
   "cell_type": "code",
   "execution_count": 314,
   "id": "ed23ccf5-4406-4927-a756-e89ae174ac8e",
   "metadata": {},
   "outputs": [
    {
     "name": "stdout",
     "output_type": "stream",
     "text": [
      "              precision    recall  f1-score   support\n",
      "\n",
      "           0       0.87      0.89      0.88       114\n",
      "           1       0.79      0.77      0.78        65\n",
      "\n",
      "    accuracy                           0.84       179\n",
      "   macro avg       0.83      0.83      0.83       179\n",
      "weighted avg       0.84      0.84      0.84       179\n",
      "\n",
      "0.8435754189944135\n"
     ]
    }
   ],
   "source": [
    "#use a voting classifier to combine best models\n",
    "from sklearn.ensemble import VotingClassifier\n",
    "\n",
    "estimators = [\n",
    "    ('gbc',clf),\n",
    "    ('mlp',clf2),\n",
    "    ('rf',clf3)\n",
    "]\n",
    "\n",
    "vc = VotingClassifier(estimators = estimators, voting = 'soft')\n",
    "vc.fit(Xtrain,ytrain)\n",
    "\n",
    "pred = vc.predict(Xtest)\n",
    "print(classification_report(ytest,pred))\n",
    "print(accuracy_score(ytest,pred))"
   ]
  },
  {
   "cell_type": "markdown",
   "id": "8a14b799-01d7-4a01-a2fa-c97478924bef",
   "metadata": {},
   "source": [
    "## Estimate survival on test set"
   ]
  },
  {
   "cell_type": "code",
   "execution_count": 305,
   "id": "34ef8f49-755f-44bf-9a0b-7876bb257ff3",
   "metadata": {},
   "outputs": [],
   "source": [
    "test = pd.read_csv('test_titanic.csv')\n",
    "test2 = test.copy()"
   ]
  },
  {
   "cell_type": "code",
   "execution_count": 257,
   "id": "9c39ebd6-0951-4235-bbaf-1c08136ea351",
   "metadata": {},
   "outputs": [
    {
     "data": {
      "text/plain": [
       "Sex\n",
       "male      266\n",
       "female    152\n",
       "Name: count, dtype: int64"
      ]
     },
     "execution_count": 257,
     "metadata": {},
     "output_type": "execute_result"
    }
   ],
   "source": [
    "test.Sex.value_counts()"
   ]
  },
  {
   "cell_type": "code",
   "execution_count": 192,
   "id": "38503f6d-3f75-4260-bceb-f9014a2aae50",
   "metadata": {},
   "outputs": [
    {
     "data": {
      "image/png": "[encoded data removed]",
      "text/plain": [
       "<Figure size 500x500 with 1 Axes>"
      ]
     },
     "metadata": {},
     "output_type": "display_data"
    }
   ],
   "source": [
    "import seaborn as sns\n",
    "sns.catplot(data = test, kind='bar',x = 'Pclass', y='Sex', errorbar=None);"
   ]
  },
  {
   "cell_type": "code",
   "execution_count": 306,
   "id": "4ad3cb65-caac-46b1-b878-e6459fd85494",
   "metadata": {},
   "outputs": [],
   "source": [
    "sample = preprocess.fit_transform(clean(test2))"
   ]
  },
  {
   "cell_type": "code",
   "execution_count": 307,
   "id": "449f99ba-caa4-4a96-9d3a-1ab52ce9ffb5",
   "metadata": {},
   "outputs": [
    {
     "data": {
      "text/plain": [
       "array([[-0.6336812 , -0.49769194, -0.72074147, ...,  0.87348191,\n",
       "         0.55151284,  0.08502303],\n",
       "       [ 1.03851197, -0.49769194,  0.49691228, ...,  0.87348191,\n",
       "         1.45556134,  0.08502303],\n",
       "       [-0.6336812 , -0.49769194, -0.72074147, ..., -0.31581919,\n",
       "         2.35960984,  0.08502303],\n",
       "       ...,\n",
       "       [-0.6336812 , -0.49769194, -0.72074147, ...,  0.87348191,\n",
       "         0.55151284,  0.08502303],\n",
       "       [-0.6336812 , -0.49769194, -0.72074147, ...,  0.87348191,\n",
       "        -0.35253566,  0.08502303],\n",
       "       [ 1.03851197,  1.14058982,  1.20919407, ...,  0.87348191,\n",
       "        -0.35253566,  0.08502303]])"
      ]
     },
     "execution_count": 307,
     "metadata": {},
     "output_type": "execute_result"
    }
   ],
   "source": [
    "sample"
   ]
  },
  {
   "cell_type": "code",
   "execution_count": 308,
   "id": "a1d40f5d-daaf-4b41-a101-743b36a89743",
   "metadata": {},
   "outputs": [
    {
     "data": {
      "text/plain": [
       "(418, 16)"
      ]
     },
     "execution_count": 308,
     "metadata": {},
     "output_type": "execute_result"
    }
   ],
   "source": [
    "sample.shape"
   ]
  },
  {
   "cell_type": "code",
   "execution_count": 309,
   "id": "f51e8482-899f-4c4e-8168-fd9744e472af",
   "metadata": {},
   "outputs": [
    {
     "data": {
      "text/plain": [
       "array([0, 0, 0, 0, 0, 0, 1, 0, 1, 0, 0, 0, 1, 0, 1, 1, 0, 0, 1, 1, 1, 1,\n",
       "       1, 0, 1, 0, 1, 0, 0, 0, 0, 0, 1, 0, 1, 0, 1, 1, 0, 0, 0, 0, 0, 1,\n",
       "       1, 0, 0, 0, 1, 1, 0, 0, 1, 1, 0, 0, 0, 0, 0, 1, 0, 0, 0, 1, 1, 1,\n",
       "       1, 0, 0, 1, 1, 0, 1, 0, 1, 0, 0, 1, 0, 1, 0, 0, 0, 0, 0, 0, 1, 1,\n",
       "       0, 1, 1, 0, 0, 0, 0, 0, 1, 0, 1, 0, 1, 0, 0, 0, 1, 0, 0, 0, 0, 0,\n",
       "       0, 1, 1, 1, 1, 0, 0, 1, 0, 1, 1, 0, 1, 0, 0, 1, 0, 1, 0, 0, 0, 1,\n",
       "       0, 0, 0, 0, 0, 0, 1, 0, 0, 1, 1, 0, 0, 0, 0, 0, 0, 0, 1, 0, 0, 1,\n",
       "       0, 0, 1, 1, 0, 1, 1, 0, 1, 0, 0, 0, 0, 0, 1, 1, 0, 0, 0, 0, 0, 1,\n",
       "       1, 1, 1, 1, 0, 1, 1, 0, 1, 0, 1, 0, 0, 0, 0, 0, 1, 0, 1, 0, 1, 1,\n",
       "       0, 0, 1, 1, 1, 1, 0, 0, 0, 0, 1, 0, 0, 0, 0, 0, 0, 0, 1, 0, 1, 0,\n",
       "       1, 0, 1, 0, 1, 1, 0, 1, 0, 0, 0, 1, 0, 0, 1, 0, 1, 0, 1, 1, 1, 1,\n",
       "       0, 0, 1, 0, 1, 0, 1, 0, 1, 0, 1, 0, 0, 0, 0, 0, 1, 0, 0, 0, 1, 1,\n",
       "       0, 0, 0, 0, 1, 0, 0, 0, 1, 1, 0, 1, 0, 0, 0, 0, 1, 1, 1, 0, 1, 0,\n",
       "       0, 0, 0, 0, 0, 1, 0, 0, 0, 0, 1, 0, 0, 0, 0, 0, 0, 0, 1, 1, 0, 1,\n",
       "       0, 0, 0, 0, 0, 0, 1, 1, 1, 0, 0, 0, 0, 0, 0, 0, 1, 0, 1, 0, 0, 0,\n",
       "       1, 0, 0, 0, 0, 0, 0, 0, 0, 1, 0, 0, 0, 1, 1, 1, 0, 1, 0, 1, 1, 0,\n",
       "       0, 0, 1, 0, 1, 0, 0, 1, 0, 1, 1, 0, 1, 0, 0, 1, 1, 0, 0, 1, 0, 0,\n",
       "       1, 0, 0, 0, 0, 0, 0, 0, 0, 1, 0, 1, 0, 0, 0, 0, 0, 1, 1, 0, 0, 1,\n",
       "       0, 1, 0, 0, 1, 0, 1, 0, 0, 0, 0, 0, 1, 1, 1, 1, 1, 0, 1, 0, 0, 1],\n",
       "      dtype=int64)"
      ]
     },
     "execution_count": 309,
     "metadata": {},
     "output_type": "execute_result"
    }
   ],
   "source": [
    "predictions = vc.predict(sample)\n",
    "predictions"
   ]
  },
  {
   "cell_type": "code",
   "execution_count": 310,
   "id": "c766e93d-7e0a-4539-88ea-0144bec887ac",
   "metadata": {},
   "outputs": [
    {
     "data": {
      "text/html": [
       "<div>\n",
       "<style scoped>\n",
       "    .dataframe tbody tr th:only-of-type {\n",
       "        vertical-align: middle;\n",
       "    }\n",
       "\n",
       "    .dataframe tbody tr th {\n",
       "        vertical-align: top;\n",
       "    }\n",
       "\n",
       "    .dataframe thead th {\n",
       "        text-align: right;\n",
       "    }\n",
       "</style>\n",
       "<table border=\"1\" class=\"dataframe\">\n",
       "  <thead>\n",
       "    <tr style=\"text-align: right;\">\n",
       "      <th></th>\n",
       "      <th>Survived</th>\n",
       "    </tr>\n",
       "  </thead>\n",
       "  <tbody>\n",
       "    <tr>\n",
       "      <th>0</th>\n",
       "      <td>0</td>\n",
       "    </tr>\n",
       "    <tr>\n",
       "      <th>1</th>\n",
       "      <td>0</td>\n",
       "    </tr>\n",
       "    <tr>\n",
       "      <th>2</th>\n",
       "      <td>0</td>\n",
       "    </tr>\n",
       "    <tr>\n",
       "      <th>3</th>\n",
       "      <td>0</td>\n",
       "    </tr>\n",
       "    <tr>\n",
       "      <th>4</th>\n",
       "      <td>0</td>\n",
       "    </tr>\n",
       "    <tr>\n",
       "      <th>...</th>\n",
       "      <td>...</td>\n",
       "    </tr>\n",
       "    <tr>\n",
       "      <th>413</th>\n",
       "      <td>0</td>\n",
       "    </tr>\n",
       "    <tr>\n",
       "      <th>414</th>\n",
       "      <td>1</td>\n",
       "    </tr>\n",
       "    <tr>\n",
       "      <th>415</th>\n",
       "      <td>0</td>\n",
       "    </tr>\n",
       "    <tr>\n",
       "      <th>416</th>\n",
       "      <td>0</td>\n",
       "    </tr>\n",
       "    <tr>\n",
       "      <th>417</th>\n",
       "      <td>1</td>\n",
       "    </tr>\n",
       "  </tbody>\n",
       "</table>\n",
       "<p>418 rows × 1 columns</p>\n",
       "</div>"
      ],
      "text/plain": [
       "     Survived\n",
       "0           0\n",
       "1           0\n",
       "2           0\n",
       "3           0\n",
       "4           0\n",
       "..        ...\n",
       "413         0\n",
       "414         1\n",
       "415         0\n",
       "416         0\n",
       "417         1\n",
       "\n",
       "[418 rows x 1 columns]"
      ]
     },
     "execution_count": 310,
     "metadata": {},
     "output_type": "execute_result"
    }
   ],
   "source": [
    "pd.DataFrame(predictions,columns=['Survived'])"
   ]
  },
  {
   "cell_type": "code",
   "execution_count": 311,
   "id": "67b82b81-be9e-42bd-aaad-12514e9f6da0",
   "metadata": {},
   "outputs": [
    {
     "data": {
      "text/plain": [
       "RangeIndex(start=0, stop=418, step=1)"
      ]
     },
     "execution_count": 311,
     "metadata": {},
     "output_type": "execute_result"
    }
   ],
   "source": [
    "test.index"
   ]
  },
  {
   "cell_type": "code",
   "execution_count": 312,
   "id": "46d42927-ee9e-4653-8280-e263e083d2df",
   "metadata": {},
   "outputs": [
    {
     "data": {
      "text/html": [
       "<div>\n",
       "<style scoped>\n",
       "    .dataframe tbody tr th:only-of-type {\n",
       "        vertical-align: middle;\n",
       "    }\n",
       "\n",
       "    .dataframe tbody tr th {\n",
       "        vertical-align: top;\n",
       "    }\n",
       "\n",
       "    .dataframe thead th {\n",
       "        text-align: right;\n",
       "    }\n",
       "</style>\n",
       "<table border=\"1\" class=\"dataframe\">\n",
       "  <thead>\n",
       "    <tr style=\"text-align: right;\">\n",
       "      <th></th>\n",
       "      <th>Survived</th>\n",
       "    </tr>\n",
       "    <tr>\n",
       "      <th>PassengerId</th>\n",
       "      <th></th>\n",
       "    </tr>\n",
       "  </thead>\n",
       "  <tbody>\n",
       "    <tr>\n",
       "      <th>892</th>\n",
       "      <td>0</td>\n",
       "    </tr>\n",
       "    <tr>\n",
       "      <th>893</th>\n",
       "      <td>0</td>\n",
       "    </tr>\n",
       "    <tr>\n",
       "      <th>894</th>\n",
       "      <td>0</td>\n",
       "    </tr>\n",
       "    <tr>\n",
       "      <th>895</th>\n",
       "      <td>0</td>\n",
       "    </tr>\n",
       "    <tr>\n",
       "      <th>896</th>\n",
       "      <td>0</td>\n",
       "    </tr>\n",
       "    <tr>\n",
       "      <th>...</th>\n",
       "      <td>...</td>\n",
       "    </tr>\n",
       "    <tr>\n",
       "      <th>1305</th>\n",
       "      <td>0</td>\n",
       "    </tr>\n",
       "    <tr>\n",
       "      <th>1306</th>\n",
       "      <td>1</td>\n",
       "    </tr>\n",
       "    <tr>\n",
       "      <th>1307</th>\n",
       "      <td>0</td>\n",
       "    </tr>\n",
       "    <tr>\n",
       "      <th>1308</th>\n",
       "      <td>0</td>\n",
       "    </tr>\n",
       "    <tr>\n",
       "      <th>1309</th>\n",
       "      <td>1</td>\n",
       "    </tr>\n",
       "  </tbody>\n",
       "</table>\n",
       "<p>418 rows × 1 columns</p>\n",
       "</div>"
      ],
      "text/plain": [
       "             Survived\n",
       "PassengerId          \n",
       "892                 0\n",
       "893                 0\n",
       "894                 0\n",
       "895                 0\n",
       "896                 0\n",
       "...               ...\n",
       "1305                0\n",
       "1306                1\n",
       "1307                0\n",
       "1308                0\n",
       "1309                1\n",
       "\n",
       "[418 rows x 1 columns]"
      ]
     },
     "execution_count": 312,
     "metadata": {},
     "output_type": "execute_result"
    }
   ],
   "source": [
    "#create df of predictions\n",
    "df = pd.DataFrame(predictions,test.PassengerId)\n",
    "df.columns = ['Survived']\n",
    "df"
   ]
  },
  {
   "cell_type": "code",
   "execution_count": 313,
   "id": "9368f0e0-5ad5-47d5-8d9d-ca7325b55b2f",
   "metadata": {},
   "outputs": [],
   "source": [
    "df.to_csv('titanic_survivors.csv')"
   ]
  },
  {
   "cell_type": "code",
   "execution_count": null,
   "id": "168eb578-2149-4ee8-8402-fdc267d064f3",
   "metadata": {},
   "outputs": [],
   "source": []
  },
  {
   "cell_type": "code",
   "execution_count": 380,
   "id": "ea033789-9ed8-4907-8315-e37ae8fc643d",
   "metadata": {},
   "outputs": [],
   "source": [
    "data = clean(train)"
   ]
  },
  {
   "cell_type": "code",
   "execution_count": 381,
   "id": "71d0d231-50ca-4236-97d4-b7cd5bbbc8be",
   "metadata": {},
   "outputs": [
    {
     "data": {
      "text/html": [
       "<div>\n",
       "<style scoped>\n",
       "    .dataframe tbody tr th:only-of-type {\n",
       "        vertical-align: middle;\n",
       "    }\n",
       "\n",
       "    .dataframe tbody tr th {\n",
       "        vertical-align: top;\n",
       "    }\n",
       "\n",
       "    .dataframe thead th {\n",
       "        text-align: right;\n",
       "    }\n",
       "</style>\n",
       "<table border=\"1\" class=\"dataframe\">\n",
       "  <thead>\n",
       "    <tr style=\"text-align: right;\">\n",
       "      <th></th>\n",
       "      <th>Survived</th>\n",
       "      <th>Pclass</th>\n",
       "      <th>Sex</th>\n",
       "      <th>Age</th>\n",
       "      <th>SibSp</th>\n",
       "      <th>Parch</th>\n",
       "      <th>Fare</th>\n",
       "      <th>Embarked</th>\n",
       "      <th>Title</th>\n",
       "      <th>Family</th>\n",
       "    </tr>\n",
       "  </thead>\n",
       "  <tbody>\n",
       "    <tr>\n",
       "      <th>0</th>\n",
       "      <td>0</td>\n",
       "      <td>3</td>\n",
       "      <td>male</td>\n",
       "      <td>22.0</td>\n",
       "      <td>1</td>\n",
       "      <td>0</td>\n",
       "      <td>1</td>\n",
       "      <td>S</td>\n",
       "      <td>Mr</td>\n",
       "      <td>1</td>\n",
       "    </tr>\n",
       "    <tr>\n",
       "      <th>1</th>\n",
       "      <td>1</td>\n",
       "      <td>1</td>\n",
       "      <td>female</td>\n",
       "      <td>38.0</td>\n",
       "      <td>1</td>\n",
       "      <td>0</td>\n",
       "      <td>2</td>\n",
       "      <td>C</td>\n",
       "      <td>Mrs</td>\n",
       "      <td>1</td>\n",
       "    </tr>\n",
       "    <tr>\n",
       "      <th>2</th>\n",
       "      <td>1</td>\n",
       "      <td>3</td>\n",
       "      <td>female</td>\n",
       "      <td>26.0</td>\n",
       "      <td>0</td>\n",
       "      <td>0</td>\n",
       "      <td>1</td>\n",
       "      <td>S</td>\n",
       "      <td>Miss</td>\n",
       "      <td>0</td>\n",
       "    </tr>\n",
       "    <tr>\n",
       "      <th>3</th>\n",
       "      <td>1</td>\n",
       "      <td>1</td>\n",
       "      <td>female</td>\n",
       "      <td>35.0</td>\n",
       "      <td>1</td>\n",
       "      <td>0</td>\n",
       "      <td>2</td>\n",
       "      <td>S</td>\n",
       "      <td>Mrs</td>\n",
       "      <td>1</td>\n",
       "    </tr>\n",
       "    <tr>\n",
       "      <th>4</th>\n",
       "      <td>0</td>\n",
       "      <td>3</td>\n",
       "      <td>male</td>\n",
       "      <td>35.0</td>\n",
       "      <td>0</td>\n",
       "      <td>0</td>\n",
       "      <td>1</td>\n",
       "      <td>S</td>\n",
       "      <td>Mr</td>\n",
       "      <td>0</td>\n",
       "    </tr>\n",
       "    <tr>\n",
       "      <th>...</th>\n",
       "      <td>...</td>\n",
       "      <td>...</td>\n",
       "      <td>...</td>\n",
       "      <td>...</td>\n",
       "      <td>...</td>\n",
       "      <td>...</td>\n",
       "      <td>...</td>\n",
       "      <td>...</td>\n",
       "      <td>...</td>\n",
       "      <td>...</td>\n",
       "    </tr>\n",
       "    <tr>\n",
       "      <th>886</th>\n",
       "      <td>0</td>\n",
       "      <td>2</td>\n",
       "      <td>male</td>\n",
       "      <td>27.0</td>\n",
       "      <td>0</td>\n",
       "      <td>0</td>\n",
       "      <td>1</td>\n",
       "      <td>S</td>\n",
       "      <td>Unique</td>\n",
       "      <td>0</td>\n",
       "    </tr>\n",
       "    <tr>\n",
       "      <th>887</th>\n",
       "      <td>1</td>\n",
       "      <td>1</td>\n",
       "      <td>female</td>\n",
       "      <td>19.0</td>\n",
       "      <td>0</td>\n",
       "      <td>0</td>\n",
       "      <td>1</td>\n",
       "      <td>S</td>\n",
       "      <td>Miss</td>\n",
       "      <td>0</td>\n",
       "    </tr>\n",
       "    <tr>\n",
       "      <th>888</th>\n",
       "      <td>0</td>\n",
       "      <td>3</td>\n",
       "      <td>female</td>\n",
       "      <td>NaN</td>\n",
       "      <td>1</td>\n",
       "      <td>2</td>\n",
       "      <td>1</td>\n",
       "      <td>S</td>\n",
       "      <td>Miss</td>\n",
       "      <td>3</td>\n",
       "    </tr>\n",
       "    <tr>\n",
       "      <th>889</th>\n",
       "      <td>1</td>\n",
       "      <td>1</td>\n",
       "      <td>male</td>\n",
       "      <td>26.0</td>\n",
       "      <td>0</td>\n",
       "      <td>0</td>\n",
       "      <td>1</td>\n",
       "      <td>C</td>\n",
       "      <td>Mr</td>\n",
       "      <td>0</td>\n",
       "    </tr>\n",
       "    <tr>\n",
       "      <th>890</th>\n",
       "      <td>0</td>\n",
       "      <td>3</td>\n",
       "      <td>male</td>\n",
       "      <td>32.0</td>\n",
       "      <td>0</td>\n",
       "      <td>0</td>\n",
       "      <td>1</td>\n",
       "      <td>Q</td>\n",
       "      <td>Mr</td>\n",
       "      <td>0</td>\n",
       "    </tr>\n",
       "  </tbody>\n",
       "</table>\n",
       "<p>891 rows × 10 columns</p>\n",
       "</div>"
      ],
      "text/plain": [
       "     Survived  Pclass     Sex   Age  SibSp  Parch Fare Embarked   Title  \\\n",
       "0           0       3    male  22.0      1      0    1        S      Mr   \n",
       "1           1       1  female  38.0      1      0    2        C     Mrs   \n",
       "2           1       3  female  26.0      0      0    1        S    Miss   \n",
       "3           1       1  female  35.0      1      0    2        S     Mrs   \n",
       "4           0       3    male  35.0      0      0    1        S      Mr   \n",
       "..        ...     ...     ...   ...    ...    ...  ...      ...     ...   \n",
       "886         0       2    male  27.0      0      0    1        S  Unique   \n",
       "887         1       1  female  19.0      0      0    1        S    Miss   \n",
       "888         0       3  female   NaN      1      2    1        S    Miss   \n",
       "889         1       1    male  26.0      0      0    1        C      Mr   \n",
       "890         0       3    male  32.0      0      0    1        Q      Mr   \n",
       "\n",
       "     Family  \n",
       "0         1  \n",
       "1         1  \n",
       "2         0  \n",
       "3         1  \n",
       "4         0  \n",
       "..      ...  \n",
       "886       0  \n",
       "887       0  \n",
       "888       3  \n",
       "889       0  \n",
       "890       0  \n",
       "\n",
       "[891 rows x 10 columns]"
      ]
     },
     "execution_count": 381,
     "metadata": {},
     "output_type": "execute_result"
    }
   ],
   "source": [
    "data"
   ]
  },
  {
   "cell_type": "code",
   "execution_count": 388,
   "id": "f5abc2d3-2007-44e2-88d0-751e8c2ce377",
   "metadata": {},
   "outputs": [
    {
     "data": {
      "text/html": [
       "<div>\n",
       "<style scoped>\n",
       "    .dataframe tbody tr th:only-of-type {\n",
       "        vertical-align: middle;\n",
       "    }\n",
       "\n",
       "    .dataframe tbody tr th {\n",
       "        vertical-align: top;\n",
       "    }\n",
       "\n",
       "    .dataframe thead th {\n",
       "        text-align: right;\n",
       "    }\n",
       "</style>\n",
       "<table border=\"1\" class=\"dataframe\">\n",
       "  <thead>\n",
       "    <tr style=\"text-align: right;\">\n",
       "      <th></th>\n",
       "      <th>Title</th>\n",
       "      <th>Pclass</th>\n",
       "      <th>Age</th>\n",
       "    </tr>\n",
       "  </thead>\n",
       "  <tbody>\n",
       "    <tr>\n",
       "      <th>0</th>\n",
       "      <td>Master</td>\n",
       "      <td>1</td>\n",
       "      <td>5.306667</td>\n",
       "    </tr>\n",
       "    <tr>\n",
       "      <th>1</th>\n",
       "      <td>Master</td>\n",
       "      <td>2</td>\n",
       "      <td>2.258889</td>\n",
       "    </tr>\n",
       "    <tr>\n",
       "      <th>2</th>\n",
       "      <td>Master</td>\n",
       "      <td>3</td>\n",
       "      <td>5.350833</td>\n",
       "    </tr>\n",
       "    <tr>\n",
       "      <th>3</th>\n",
       "      <td>Miss</td>\n",
       "      <td>1</td>\n",
       "      <td>29.744681</td>\n",
       "    </tr>\n",
       "    <tr>\n",
       "      <th>4</th>\n",
       "      <td>Miss</td>\n",
       "      <td>2</td>\n",
       "      <td>22.390625</td>\n",
       "    </tr>\n",
       "    <tr>\n",
       "      <th>5</th>\n",
       "      <td>Miss</td>\n",
       "      <td>3</td>\n",
       "      <td>16.123188</td>\n",
       "    </tr>\n",
       "    <tr>\n",
       "      <th>6</th>\n",
       "      <td>Mr</td>\n",
       "      <td>1</td>\n",
       "      <td>41.580460</td>\n",
       "    </tr>\n",
       "    <tr>\n",
       "      <th>7</th>\n",
       "      <td>Mr</td>\n",
       "      <td>2</td>\n",
       "      <td>32.710843</td>\n",
       "    </tr>\n",
       "    <tr>\n",
       "      <th>8</th>\n",
       "      <td>Mr</td>\n",
       "      <td>3</td>\n",
       "      <td>28.724891</td>\n",
       "    </tr>\n",
       "    <tr>\n",
       "      <th>9</th>\n",
       "      <td>Mrs</td>\n",
       "      <td>1</td>\n",
       "      <td>40.400000</td>\n",
       "    </tr>\n",
       "    <tr>\n",
       "      <th>10</th>\n",
       "      <td>Mrs</td>\n",
       "      <td>2</td>\n",
       "      <td>33.682927</td>\n",
       "    </tr>\n",
       "    <tr>\n",
       "      <th>11</th>\n",
       "      <td>Mrs</td>\n",
       "      <td>3</td>\n",
       "      <td>33.515152</td>\n",
       "    </tr>\n",
       "    <tr>\n",
       "      <th>12</th>\n",
       "      <td>Unique</td>\n",
       "      <td>1</td>\n",
       "      <td>47.571429</td>\n",
       "    </tr>\n",
       "    <tr>\n",
       "      <th>13</th>\n",
       "      <td>Unique</td>\n",
       "      <td>2</td>\n",
       "      <td>42.000000</td>\n",
       "    </tr>\n",
       "  </tbody>\n",
       "</table>\n",
       "</div>"
      ],
      "text/plain": [
       "     Title  Pclass        Age\n",
       "0   Master       1   5.306667\n",
       "1   Master       2   2.258889\n",
       "2   Master       3   5.350833\n",
       "3     Miss       1  29.744681\n",
       "4     Miss       2  22.390625\n",
       "5     Miss       3  16.123188\n",
       "6       Mr       1  41.580460\n",
       "7       Mr       2  32.710843\n",
       "8       Mr       3  28.724891\n",
       "9      Mrs       1  40.400000\n",
       "10     Mrs       2  33.682927\n",
       "11     Mrs       3  33.515152\n",
       "12  Unique       1  47.571429\n",
       "13  Unique       2  42.000000"
      ]
     },
     "execution_count": 388,
     "metadata": {},
     "output_type": "execute_result"
    }
   ],
   "source": [
    "data.groupby(['Title','Pclass'])['Age'].mean().reset_index()"
   ]
  },
  {
   "cell_type": "code",
   "execution_count": null,
   "id": "fe618da6-a25d-4afa-85cf-ee9a277a599e",
   "metadata": {},
   "outputs": [],
   "source": []
  }
 ],
 "metadata": {
  "kernelspec": {
   "display_name": "Python 3 (ipykernel)",
   "language": "python",
   "name": "python3"
  },
  "language_info": {
   "codemirror_mode": {
    "name": "ipython",
    "version": 3
   },
   "file_extension": ".py",
   "mimetype": "text/x-python",
   "name": "python",
   "nbconvert_exporter": "python",
   "pygments_lexer": "ipython3",
   "version": "3.11.7"
  }
 },
 "nbformat": 4,
 "nbformat_minor": 5
}
