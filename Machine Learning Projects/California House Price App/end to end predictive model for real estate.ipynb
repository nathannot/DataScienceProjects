{
 "cells": [
  {
   "cell_type": "markdown",
   "id": "1e34ff7d-38d8-42c4-b3a4-899d1da64475",
   "metadata": {},
   "source": [
    "# End-to-End Predictive Model for Real Estate Prices"
   ]
  },
  {
   "cell_type": "markdown",
   "id": "c37f5143-f28f-4321-a899-80ab29c1766b",
   "metadata": {},
   "source": [
    "## Part 1 Frame the Problem"
   ]
  },
  {
   "cell_type": "markdown",
   "id": "815ed142-0e3e-4cc2-96e9-fd17b9fd4d8c",
   "metadata": {},
   "source": [
    "For this predictive model I will be predicting median house prices in California districts. I will use features such as median income and geographical location to help predict prices.  \n",
    "This is a supervised learning model as I have the median house prices (target label) already. I will use root mean squre error and R2 to measure the performance of the models I build. I will build multiple models such as linear regression, decision tree regressor, SVM, random forest regressor and more."
   ]
  },
  {
   "cell_type": "markdown",
   "id": "cab35161-fc0e-472c-8b7a-316345403dcb",
   "metadata": {},
   "source": [
    "## Part 2 Import the data"
   ]
  },
  {
   "cell_type": "code",
   "execution_count": 1,
   "id": "26213795-72fa-4ea4-aebf-b3bb2586d2ce",
   "metadata": {},
   "outputs": [
    {
     "data": {
      "text/html": [
       "<div>\n",
       "<style scoped>\n",
       "    .dataframe tbody tr th:only-of-type {\n",
       "        vertical-align: middle;\n",
       "    }\n",
       "\n",
       "    .dataframe tbody tr th {\n",
       "        vertical-align: top;\n",
       "    }\n",
       "\n",
       "    .dataframe thead th {\n",
       "        text-align: right;\n",
       "    }\n",
       "</style>\n",
       "<table border=\"1\" class=\"dataframe\">\n",
       "  <thead>\n",
       "    <tr style=\"text-align: right;\">\n",
       "      <th></th>\n",
       "      <th>longitude</th>\n",
       "      <th>latitude</th>\n",
       "      <th>housing_median_age</th>\n",
       "      <th>total_rooms</th>\n",
       "      <th>total_bedrooms</th>\n",
       "      <th>population</th>\n",
       "      <th>households</th>\n",
       "      <th>median_income</th>\n",
       "      <th>median_house_value</th>\n",
       "      <th>ocean_proximity</th>\n",
       "    </tr>\n",
       "  </thead>\n",
       "  <tbody>\n",
       "    <tr>\n",
       "      <th>0</th>\n",
       "      <td>-122.23</td>\n",
       "      <td>37.88</td>\n",
       "      <td>41.0</td>\n",
       "      <td>880.0</td>\n",
       "      <td>129.0</td>\n",
       "      <td>322.0</td>\n",
       "      <td>126.0</td>\n",
       "      <td>8.3252</td>\n",
       "      <td>452600.0</td>\n",
       "      <td>NEAR BAY</td>\n",
       "    </tr>\n",
       "    <tr>\n",
       "      <th>1</th>\n",
       "      <td>-122.22</td>\n",
       "      <td>37.86</td>\n",
       "      <td>21.0</td>\n",
       "      <td>7099.0</td>\n",
       "      <td>1106.0</td>\n",
       "      <td>2401.0</td>\n",
       "      <td>1138.0</td>\n",
       "      <td>8.3014</td>\n",
       "      <td>358500.0</td>\n",
       "      <td>NEAR BAY</td>\n",
       "    </tr>\n",
       "    <tr>\n",
       "      <th>2</th>\n",
       "      <td>-122.24</td>\n",
       "      <td>37.85</td>\n",
       "      <td>52.0</td>\n",
       "      <td>1467.0</td>\n",
       "      <td>190.0</td>\n",
       "      <td>496.0</td>\n",
       "      <td>177.0</td>\n",
       "      <td>7.2574</td>\n",
       "      <td>352100.0</td>\n",
       "      <td>NEAR BAY</td>\n",
       "    </tr>\n",
       "    <tr>\n",
       "      <th>3</th>\n",
       "      <td>-122.25</td>\n",
       "      <td>37.85</td>\n",
       "      <td>52.0</td>\n",
       "      <td>1274.0</td>\n",
       "      <td>235.0</td>\n",
       "      <td>558.0</td>\n",
       "      <td>219.0</td>\n",
       "      <td>5.6431</td>\n",
       "      <td>341300.0</td>\n",
       "      <td>NEAR BAY</td>\n",
       "    </tr>\n",
       "    <tr>\n",
       "      <th>4</th>\n",
       "      <td>-122.25</td>\n",
       "      <td>37.85</td>\n",
       "      <td>52.0</td>\n",
       "      <td>1627.0</td>\n",
       "      <td>280.0</td>\n",
       "      <td>565.0</td>\n",
       "      <td>259.0</td>\n",
       "      <td>3.8462</td>\n",
       "      <td>342200.0</td>\n",
       "      <td>NEAR BAY</td>\n",
       "    </tr>\n",
       "  </tbody>\n",
       "</table>\n",
       "</div>"
      ],
      "text/plain": [
       "   longitude  latitude  housing_median_age  total_rooms  total_bedrooms  \\\n",
       "0    -122.23     37.88                41.0        880.0           129.0   \n",
       "1    -122.22     37.86                21.0       7099.0          1106.0   \n",
       "2    -122.24     37.85                52.0       1467.0           190.0   \n",
       "3    -122.25     37.85                52.0       1274.0           235.0   \n",
       "4    -122.25     37.85                52.0       1627.0           280.0   \n",
       "\n",
       "   population  households  median_income  median_house_value ocean_proximity  \n",
       "0       322.0       126.0         8.3252            452600.0        NEAR BAY  \n",
       "1      2401.0      1138.0         8.3014            358500.0        NEAR BAY  \n",
       "2       496.0       177.0         7.2574            352100.0        NEAR BAY  \n",
       "3       558.0       219.0         5.6431            341300.0        NEAR BAY  \n",
       "4       565.0       259.0         3.8462            342200.0        NEAR BAY  "
      ]
     },
     "execution_count": 1,
     "metadata": {},
     "output_type": "execute_result"
    }
   ],
   "source": [
    "import pandas as pd\n",
    "import numpy as np\n",
    "\n",
    "data = pd.read_csv('housing.csv')\n",
    "data.head()"
   ]
  },
  {
   "cell_type": "markdown",
   "id": "e0a65c63-ea6c-4bce-957e-aed4e91cb462",
   "metadata": {},
   "source": [
    "## Part 3 Explore Data to gain insights"
   ]
  },
  {
   "cell_type": "code",
   "execution_count": 2,
   "id": "cbee851d-5108-4944-bc27-fe2458fae201",
   "metadata": {},
   "outputs": [
    {
     "data": {
      "image/png": "[encoded data removed]",
      "text/plain": [
       "<Figure size 800x800 with 9 Axes>"
      ]
     },
     "metadata": {},
     "output_type": "display_data"
    }
   ],
   "source": [
    "#get histogram plots of all data\n",
    "import matplotlib.pyplot as plt\n",
    "\n",
    "data.hist(bins=30,figsize=(8,8))\n",
    "plt.subplots_adjust(hspace=0.5, wspace=0.5);  "
   ]
  },
  {
   "cell_type": "markdown",
   "id": "e0417092-9f39-4563-b847-4ce6c966e426",
   "metadata": {},
   "source": [
    "Most of the data is right skew and median_house_value and housing_median_age has huge spikes at the end. This indicates they have capped pricing and age. While this prevents outliers it skews data analysis. The best way to fix this is to create groups for age. Also later I will standarise data to fix the right skewness. "
   ]
  },
  {
   "cell_type": "code",
   "execution_count": 3,
   "id": "3a2a4a48-bf2b-4651-913a-6bb0e7929c60",
   "metadata": {},
   "outputs": [
    {
     "data": {
      "text/html": [
       "<div>\n",
       "<style scoped>\n",
       "    .dataframe tbody tr th:only-of-type {\n",
       "        vertical-align: middle;\n",
       "    }\n",
       "\n",
       "    .dataframe tbody tr th {\n",
       "        vertical-align: top;\n",
       "    }\n",
       "\n",
       "    .dataframe thead th {\n",
       "        text-align: right;\n",
       "    }\n",
       "</style>\n",
       "<table border=\"1\" class=\"dataframe\">\n",
       "  <thead>\n",
       "    <tr style=\"text-align: right;\">\n",
       "      <th></th>\n",
       "      <th>longitude</th>\n",
       "      <th>latitude</th>\n",
       "      <th>housing_median_age</th>\n",
       "      <th>total_rooms</th>\n",
       "      <th>total_bedrooms</th>\n",
       "      <th>population</th>\n",
       "      <th>households</th>\n",
       "      <th>median_income</th>\n",
       "      <th>median_house_value</th>\n",
       "    </tr>\n",
       "  </thead>\n",
       "  <tbody>\n",
       "    <tr>\n",
       "      <th>count</th>\n",
       "      <td>20640.000000</td>\n",
       "      <td>20640.000000</td>\n",
       "      <td>20640.000000</td>\n",
       "      <td>20640.000000</td>\n",
       "      <td>20433.000000</td>\n",
       "      <td>20640.000000</td>\n",
       "      <td>20640.000000</td>\n",
       "      <td>20640.000000</td>\n",
       "      <td>20640.000000</td>\n",
       "    </tr>\n",
       "    <tr>\n",
       "      <th>mean</th>\n",
       "      <td>-119.569704</td>\n",
       "      <td>35.631861</td>\n",
       "      <td>28.639486</td>\n",
       "      <td>2635.763081</td>\n",
       "      <td>537.870553</td>\n",
       "      <td>1425.476744</td>\n",
       "      <td>499.539680</td>\n",
       "      <td>3.870671</td>\n",
       "      <td>206855.816909</td>\n",
       "    </tr>\n",
       "    <tr>\n",
       "      <th>std</th>\n",
       "      <td>2.003532</td>\n",
       "      <td>2.135952</td>\n",
       "      <td>12.585558</td>\n",
       "      <td>2181.615252</td>\n",
       "      <td>421.385070</td>\n",
       "      <td>1132.462122</td>\n",
       "      <td>382.329753</td>\n",
       "      <td>1.899822</td>\n",
       "      <td>115395.615874</td>\n",
       "    </tr>\n",
       "    <tr>\n",
       "      <th>min</th>\n",
       "      <td>-124.350000</td>\n",
       "      <td>32.540000</td>\n",
       "      <td>1.000000</td>\n",
       "      <td>2.000000</td>\n",
       "      <td>1.000000</td>\n",
       "      <td>3.000000</td>\n",
       "      <td>1.000000</td>\n",
       "      <td>0.499900</td>\n",
       "      <td>14999.000000</td>\n",
       "    </tr>\n",
       "    <tr>\n",
       "      <th>25%</th>\n",
       "      <td>-121.800000</td>\n",
       "      <td>33.930000</td>\n",
       "      <td>18.000000</td>\n",
       "      <td>1447.750000</td>\n",
       "      <td>296.000000</td>\n",
       "      <td>787.000000</td>\n",
       "      <td>280.000000</td>\n",
       "      <td>2.563400</td>\n",
       "      <td>119600.000000</td>\n",
       "    </tr>\n",
       "    <tr>\n",
       "      <th>50%</th>\n",
       "      <td>-118.490000</td>\n",
       "      <td>34.260000</td>\n",
       "      <td>29.000000</td>\n",
       "      <td>2127.000000</td>\n",
       "      <td>435.000000</td>\n",
       "      <td>1166.000000</td>\n",
       "      <td>409.000000</td>\n",
       "      <td>3.534800</td>\n",
       "      <td>179700.000000</td>\n",
       "    </tr>\n",
       "    <tr>\n",
       "      <th>75%</th>\n",
       "      <td>-118.010000</td>\n",
       "      <td>37.710000</td>\n",
       "      <td>37.000000</td>\n",
       "      <td>3148.000000</td>\n",
       "      <td>647.000000</td>\n",
       "      <td>1725.000000</td>\n",
       "      <td>605.000000</td>\n",
       "      <td>4.743250</td>\n",
       "      <td>264725.000000</td>\n",
       "    </tr>\n",
       "    <tr>\n",
       "      <th>max</th>\n",
       "      <td>-114.310000</td>\n",
       "      <td>41.950000</td>\n",
       "      <td>52.000000</td>\n",
       "      <td>39320.000000</td>\n",
       "      <td>6445.000000</td>\n",
       "      <td>35682.000000</td>\n",
       "      <td>6082.000000</td>\n",
       "      <td>15.000100</td>\n",
       "      <td>500001.000000</td>\n",
       "    </tr>\n",
       "  </tbody>\n",
       "</table>\n",
       "</div>"
      ],
      "text/plain": [
       "          longitude      latitude  housing_median_age   total_rooms  \\\n",
       "count  20640.000000  20640.000000        20640.000000  20640.000000   \n",
       "mean    -119.569704     35.631861           28.639486   2635.763081   \n",
       "std        2.003532      2.135952           12.585558   2181.615252   \n",
       "min     -124.350000     32.540000            1.000000      2.000000   \n",
       "25%     -121.800000     33.930000           18.000000   1447.750000   \n",
       "50%     -118.490000     34.260000           29.000000   2127.000000   \n",
       "75%     -118.010000     37.710000           37.000000   3148.000000   \n",
       "max     -114.310000     41.950000           52.000000  39320.000000   \n",
       "\n",
       "       total_bedrooms    population    households  median_income  \\\n",
       "count    20433.000000  20640.000000  20640.000000   20640.000000   \n",
       "mean       537.870553   1425.476744    499.539680       3.870671   \n",
       "std        421.385070   1132.462122    382.329753       1.899822   \n",
       "min          1.000000      3.000000      1.000000       0.499900   \n",
       "25%        296.000000    787.000000    280.000000       2.563400   \n",
       "50%        435.000000   1166.000000    409.000000       3.534800   \n",
       "75%        647.000000   1725.000000    605.000000       4.743250   \n",
       "max       6445.000000  35682.000000   6082.000000      15.000100   \n",
       "\n",
       "       median_house_value  \n",
       "count        20640.000000  \n",
       "mean        206855.816909  \n",
       "std         115395.615874  \n",
       "min          14999.000000  \n",
       "25%         119600.000000  \n",
       "50%         179700.000000  \n",
       "75%         264725.000000  \n",
       "max         500001.000000  "
      ]
     },
     "execution_count": 3,
     "metadata": {},
     "output_type": "execute_result"
    }
   ],
   "source": [
    "#get a summary of data to know how to cut \n",
    "data.describe()"
   ]
  },
  {
   "cell_type": "code",
   "execution_count": 4,
   "id": "dba4a806-a058-42e7-8b42-3d5dbc8d05b8",
   "metadata": {},
   "outputs": [],
   "source": [
    "#create a copy of data and create classes for median age\n",
    "group = data.copy()\n",
    "group['age_cat']=pd.cut(group['housing_median_age'], bins=[0,18,29,37,50,np.inf],\n",
    "                          labels = [1,2,3,4,5])"
   ]
  },
  {
   "cell_type": "code",
   "execution_count": 5,
   "id": "0f117ae7-8b1e-440f-bc44-e6a76308ae34",
   "metadata": {},
   "outputs": [
    {
     "data": {
      "text/plain": [
       "<Axes: xlabel='age_cat'>"
      ]
     },
     "execution_count": 5,
     "metadata": {},
     "output_type": "execute_result"
    },
    {
     "data": {
      "image/png": "[encoded data removed]",
      "text/plain": [
       "<Figure size 640x480 with 1 Axes>"
      ]
     },
     "metadata": {},
     "output_type": "display_data"
    }
   ],
   "source": [
    "#plot new age group value counts\n",
    "group['age_cat'].value_counts().plot.bar(rot=0,grid=True)"
   ]
  },
  {
   "cell_type": "code",
   "execution_count": 6,
   "id": "e150bdc6-7c49-41fa-bfa6-ab7a106f59a9",
   "metadata": {},
   "outputs": [
    {
     "data": {
      "image/png": "[encoded data removed]",
      "text/plain": [
       "<Figure size 640x480 with 2 Axes>"
      ]
     },
     "metadata": {},
     "output_type": "display_data"
    }
   ],
   "source": [
    "#plot a location scatter plot\n",
    "group.plot(kind='scatter',x='longitude',y='latitude', alpha=0.5,\n",
    "           s=group.population/100, c='median_house_value', cmap='jet',\n",
    "           colorbar=True, legend=True, title='Location Map of median house value',\n",
    "          grid=True);"
   ]
  },
  {
   "cell_type": "markdown",
   "id": "a6c7f9fc-43d3-4eba-a62c-db967c014a35",
   "metadata": {},
   "source": [
    "The scatterplot inidcates which areas have higher price houses, which seem to be around the ocean as expected. These seem to be specific clusters as well."
   ]
  },
  {
   "cell_type": "code",
   "execution_count": 7,
   "id": "85478bbd-03d2-4d6a-ad4b-254ab221c192",
   "metadata": {},
   "outputs": [
    {
     "data": {
      "text/plain": [
       "longitude            -0.045967\n",
       "latitude             -0.144160\n",
       "housing_median_age    0.105623\n",
       "total_rooms           0.134153\n",
       "total_bedrooms        0.049686\n",
       "population           -0.024650\n",
       "households            0.065843\n",
       "median_income         0.688075\n",
       "median_house_value    1.000000\n",
       "age_cat               0.111061\n",
       "Name: median_house_value, dtype: float64"
      ]
     },
     "execution_count": 7,
     "metadata": {},
     "output_type": "execute_result"
    }
   ],
   "source": [
    "#lets examine correlation and see which are related to median house value the most\n",
    "corr_df = group.drop('ocean_proximity', axis =1) #can't have objects\n",
    "corr_df.corr().median_house_value"
   ]
  },
  {
   "cell_type": "markdown",
   "id": "98d1f225-735e-4a4b-b713-45007b550817",
   "metadata": {},
   "source": [
    "As expected median_income by far is the most related. THe others are all poorly correlated. Lets see if I can feature engineer some better attributes."
   ]
  },
  {
   "cell_type": "code",
   "execution_count": 8,
   "id": "86789f5b-2f66-43be-bb4c-f92eb60310c4",
   "metadata": {},
   "outputs": [
    {
     "data": {
      "text/plain": [
       "ocean_proximity\n",
       "<1H OCEAN     9136\n",
       "INLAND        6551\n",
       "NEAR OCEAN    2658\n",
       "NEAR BAY      2290\n",
       "ISLAND           5\n",
       "Name: count, dtype: int64"
      ]
     },
     "execution_count": 8,
     "metadata": {},
     "output_type": "execute_result"
    }
   ],
   "source": [
    "#from scatter it seems ocean plays an important role, lets view the categories\n",
    "group.ocean_proximity.value_counts()"
   ]
  },
  {
   "cell_type": "markdown",
   "id": "f1293862-c555-4690-91f7-102772340500",
   "metadata": {},
   "source": [
    "This is non-ordinal data the ocean categories don't follow a specific ranking system. So I will use one hot encoder."
   ]
  },
  {
   "cell_type": "code",
   "execution_count": 9,
   "id": "72adf28f-22e4-4974-b8cf-1c13cb5e7d79",
   "metadata": {},
   "outputs": [],
   "source": [
    "from sklearn.preprocessing import OneHotEncoder\n",
    "\n",
    "ohe = OneHotEncoder(sparse_output=False)\n",
    "group_ohe = ohe.fit_transform(group[['ocean_proximity']])"
   ]
  },
  {
   "cell_type": "code",
   "execution_count": 10,
   "id": "89bff757-592a-4ac7-b443-5c812289ac7d",
   "metadata": {},
   "outputs": [
    {
     "data": {
      "text/plain": [
       "array([[0., 0., 0., 1., 0.],\n",
       "       [0., 0., 0., 1., 0.],\n",
       "       [0., 0., 0., 1., 0.],\n",
       "       ...,\n",
       "       [0., 1., 0., 0., 0.],\n",
       "       [0., 1., 0., 0., 0.],\n",
       "       [0., 1., 0., 0., 0.]])"
      ]
     },
     "execution_count": 10,
     "metadata": {},
     "output_type": "execute_result"
    }
   ],
   "source": [
    "group_ohe"
   ]
  },
  {
   "cell_type": "code",
   "execution_count": 11,
   "id": "760eefe1-cd6d-4cf1-aa67-08f2c1f53b1d",
   "metadata": {},
   "outputs": [
    {
     "data": {
      "text/plain": [
       "[array(['<1H OCEAN', 'INLAND', 'ISLAND', 'NEAR BAY', 'NEAR OCEAN'],\n",
       "       dtype=object)]"
      ]
     },
     "execution_count": 11,
     "metadata": {},
     "output_type": "execute_result"
    }
   ],
   "source": [
    "ohe.categories_"
   ]
  },
  {
   "cell_type": "code",
   "execution_count": 12,
   "id": "bbf45be7-7aa4-4f59-aa66-73763538c350",
   "metadata": {},
   "outputs": [
    {
     "data": {
      "text/html": [
       "<div>\n",
       "<style scoped>\n",
       "    .dataframe tbody tr th:only-of-type {\n",
       "        vertical-align: middle;\n",
       "    }\n",
       "\n",
       "    .dataframe tbody tr th {\n",
       "        vertical-align: top;\n",
       "    }\n",
       "\n",
       "    .dataframe thead tr th {\n",
       "        text-align: left;\n",
       "    }\n",
       "</style>\n",
       "<table border=\"1\" class=\"dataframe\">\n",
       "  <thead>\n",
       "    <tr>\n",
       "      <th></th>\n",
       "      <th>&lt;1H OCEAN</th>\n",
       "      <th>INLAND</th>\n",
       "      <th>ISLAND</th>\n",
       "      <th>NEAR BAY</th>\n",
       "      <th>NEAR OCEAN</th>\n",
       "    </tr>\n",
       "  </thead>\n",
       "  <tbody>\n",
       "    <tr>\n",
       "      <th>0</th>\n",
       "      <td>0.0</td>\n",
       "      <td>0.0</td>\n",
       "      <td>0.0</td>\n",
       "      <td>1.0</td>\n",
       "      <td>0.0</td>\n",
       "    </tr>\n",
       "    <tr>\n",
       "      <th>1</th>\n",
       "      <td>0.0</td>\n",
       "      <td>0.0</td>\n",
       "      <td>0.0</td>\n",
       "      <td>1.0</td>\n",
       "      <td>0.0</td>\n",
       "    </tr>\n",
       "    <tr>\n",
       "      <th>2</th>\n",
       "      <td>0.0</td>\n",
       "      <td>0.0</td>\n",
       "      <td>0.0</td>\n",
       "      <td>1.0</td>\n",
       "      <td>0.0</td>\n",
       "    </tr>\n",
       "    <tr>\n",
       "      <th>3</th>\n",
       "      <td>0.0</td>\n",
       "      <td>0.0</td>\n",
       "      <td>0.0</td>\n",
       "      <td>1.0</td>\n",
       "      <td>0.0</td>\n",
       "    </tr>\n",
       "    <tr>\n",
       "      <th>4</th>\n",
       "      <td>0.0</td>\n",
       "      <td>0.0</td>\n",
       "      <td>0.0</td>\n",
       "      <td>1.0</td>\n",
       "      <td>0.0</td>\n",
       "    </tr>\n",
       "  </tbody>\n",
       "</table>\n",
       "</div>"
      ],
      "text/plain": [
       "  <1H OCEAN INLAND ISLAND NEAR BAY NEAR OCEAN\n",
       "0       0.0    0.0    0.0      1.0        0.0\n",
       "1       0.0    0.0    0.0      1.0        0.0\n",
       "2       0.0    0.0    0.0      1.0        0.0\n",
       "3       0.0    0.0    0.0      1.0        0.0\n",
       "4       0.0    0.0    0.0      1.0        0.0"
      ]
     },
     "execution_count": 12,
     "metadata": {},
     "output_type": "execute_result"
    }
   ],
   "source": [
    "#create DF of one hot encoder\n",
    "group_cat = pd.DataFrame(group_ohe, columns=ohe.categories_,\n",
    "                         index = group.index)\n",
    "group_cat.head()"
   ]
  },
  {
   "cell_type": "code",
   "execution_count": 13,
   "id": "943e9c84-da3d-4f74-8d0e-85a5eaf67c13",
   "metadata": {},
   "outputs": [],
   "source": [
    "#merge group_cat with group minus original ocean\n",
    "group2 = pd.concat([group,group_cat],axis=1).drop('ocean_proximity',axis=1)"
   ]
  },
  {
   "cell_type": "code",
   "execution_count": 14,
   "id": "e4752c6f-fa71-4b1d-a69d-ccd01c3467fc",
   "metadata": {},
   "outputs": [
    {
     "data": {
      "text/html": [
       "<div>\n",
       "<style scoped>\n",
       "    .dataframe tbody tr th:only-of-type {\n",
       "        vertical-align: middle;\n",
       "    }\n",
       "\n",
       "    .dataframe tbody tr th {\n",
       "        vertical-align: top;\n",
       "    }\n",
       "\n",
       "    .dataframe thead th {\n",
       "        text-align: right;\n",
       "    }\n",
       "</style>\n",
       "<table border=\"1\" class=\"dataframe\">\n",
       "  <thead>\n",
       "    <tr style=\"text-align: right;\">\n",
       "      <th></th>\n",
       "      <th>longitude</th>\n",
       "      <th>latitude</th>\n",
       "      <th>housing_median_age</th>\n",
       "      <th>total_rooms</th>\n",
       "      <th>total_bedrooms</th>\n",
       "      <th>population</th>\n",
       "      <th>households</th>\n",
       "      <th>median_income</th>\n",
       "      <th>median_house_value</th>\n",
       "      <th>age_cat</th>\n",
       "      <th>(&lt;1H OCEAN,)</th>\n",
       "      <th>(INLAND,)</th>\n",
       "      <th>(ISLAND,)</th>\n",
       "      <th>(NEAR BAY,)</th>\n",
       "      <th>(NEAR OCEAN,)</th>\n",
       "    </tr>\n",
       "  </thead>\n",
       "  <tbody>\n",
       "    <tr>\n",
       "      <th>0</th>\n",
       "      <td>-122.23</td>\n",
       "      <td>37.88</td>\n",
       "      <td>41.0</td>\n",
       "      <td>880.0</td>\n",
       "      <td>129.0</td>\n",
       "      <td>322.0</td>\n",
       "      <td>126.0</td>\n",
       "      <td>8.3252</td>\n",
       "      <td>452600.0</td>\n",
       "      <td>4</td>\n",
       "      <td>0.0</td>\n",
       "      <td>0.0</td>\n",
       "      <td>0.0</td>\n",
       "      <td>1.0</td>\n",
       "      <td>0.0</td>\n",
       "    </tr>\n",
       "    <tr>\n",
       "      <th>1</th>\n",
       "      <td>-122.22</td>\n",
       "      <td>37.86</td>\n",
       "      <td>21.0</td>\n",
       "      <td>7099.0</td>\n",
       "      <td>1106.0</td>\n",
       "      <td>2401.0</td>\n",
       "      <td>1138.0</td>\n",
       "      <td>8.3014</td>\n",
       "      <td>358500.0</td>\n",
       "      <td>2</td>\n",
       "      <td>0.0</td>\n",
       "      <td>0.0</td>\n",
       "      <td>0.0</td>\n",
       "      <td>1.0</td>\n",
       "      <td>0.0</td>\n",
       "    </tr>\n",
       "    <tr>\n",
       "      <th>2</th>\n",
       "      <td>-122.24</td>\n",
       "      <td>37.85</td>\n",
       "      <td>52.0</td>\n",
       "      <td>1467.0</td>\n",
       "      <td>190.0</td>\n",
       "      <td>496.0</td>\n",
       "      <td>177.0</td>\n",
       "      <td>7.2574</td>\n",
       "      <td>352100.0</td>\n",
       "      <td>5</td>\n",
       "      <td>0.0</td>\n",
       "      <td>0.0</td>\n",
       "      <td>0.0</td>\n",
       "      <td>1.0</td>\n",
       "      <td>0.0</td>\n",
       "    </tr>\n",
       "    <tr>\n",
       "      <th>3</th>\n",
       "      <td>-122.25</td>\n",
       "      <td>37.85</td>\n",
       "      <td>52.0</td>\n",
       "      <td>1274.0</td>\n",
       "      <td>235.0</td>\n",
       "      <td>558.0</td>\n",
       "      <td>219.0</td>\n",
       "      <td>5.6431</td>\n",
       "      <td>341300.0</td>\n",
       "      <td>5</td>\n",
       "      <td>0.0</td>\n",
       "      <td>0.0</td>\n",
       "      <td>0.0</td>\n",
       "      <td>1.0</td>\n",
       "      <td>0.0</td>\n",
       "    </tr>\n",
       "    <tr>\n",
       "      <th>4</th>\n",
       "      <td>-122.25</td>\n",
       "      <td>37.85</td>\n",
       "      <td>52.0</td>\n",
       "      <td>1627.0</td>\n",
       "      <td>280.0</td>\n",
       "      <td>565.0</td>\n",
       "      <td>259.0</td>\n",
       "      <td>3.8462</td>\n",
       "      <td>342200.0</td>\n",
       "      <td>5</td>\n",
       "      <td>0.0</td>\n",
       "      <td>0.0</td>\n",
       "      <td>0.0</td>\n",
       "      <td>1.0</td>\n",
       "      <td>0.0</td>\n",
       "    </tr>\n",
       "  </tbody>\n",
       "</table>\n",
       "</div>"
      ],
      "text/plain": [
       "   longitude  latitude  housing_median_age  total_rooms  total_bedrooms  \\\n",
       "0    -122.23     37.88                41.0        880.0           129.0   \n",
       "1    -122.22     37.86                21.0       7099.0          1106.0   \n",
       "2    -122.24     37.85                52.0       1467.0           190.0   \n",
       "3    -122.25     37.85                52.0       1274.0           235.0   \n",
       "4    -122.25     37.85                52.0       1627.0           280.0   \n",
       "\n",
       "   population  households  median_income  median_house_value age_cat  \\\n",
       "0       322.0       126.0         8.3252            452600.0       4   \n",
       "1      2401.0      1138.0         8.3014            358500.0       2   \n",
       "2       496.0       177.0         7.2574            352100.0       5   \n",
       "3       558.0       219.0         5.6431            341300.0       5   \n",
       "4       565.0       259.0         3.8462            342200.0       5   \n",
       "\n",
       "   (<1H OCEAN,)  (INLAND,)  (ISLAND,)  (NEAR BAY,)  (NEAR OCEAN,)  \n",
       "0           0.0        0.0        0.0          1.0            0.0  \n",
       "1           0.0        0.0        0.0          1.0            0.0  \n",
       "2           0.0        0.0        0.0          1.0            0.0  \n",
       "3           0.0        0.0        0.0          1.0            0.0  \n",
       "4           0.0        0.0        0.0          1.0            0.0  "
      ]
     },
     "execution_count": 14,
     "metadata": {},
     "output_type": "execute_result"
    }
   ],
   "source": [
    "group2.head()"
   ]
  },
  {
   "cell_type": "code",
   "execution_count": 15,
   "id": "dcc20ca2-14e3-45dd-9d82-dd755aadf31a",
   "metadata": {},
   "outputs": [
    {
     "data": {
      "text/plain": [
       "longitude            -0.045967\n",
       "latitude             -0.144160\n",
       "housing_median_age    0.105623\n",
       "total_rooms           0.134153\n",
       "total_bedrooms        0.049686\n",
       "population           -0.024650\n",
       "households            0.065843\n",
       "median_income         0.688075\n",
       "median_house_value    1.000000\n",
       "age_cat               0.111061\n",
       "(<1H OCEAN,)          0.256617\n",
       "(INLAND,)            -0.484859\n",
       "(ISLAND,)             0.023416\n",
       "(NEAR BAY,)           0.160284\n",
       "(NEAR OCEAN,)         0.141862\n",
       "Name: median_house_value, dtype: float64"
      ]
     },
     "execution_count": 15,
     "metadata": {},
     "output_type": "execute_result"
    }
   ],
   "source": [
    "group2.corr().median_house_value"
   ]
  },
  {
   "cell_type": "markdown",
   "id": "0a43fc3c-48cb-4f9c-a0cd-84a6a5d3f0ea",
   "metadata": {},
   "source": [
    "The ocean proximity encoded features are more correlated than most others as expected."
   ]
  },
  {
   "cell_type": "markdown",
   "id": "a5ff4f03-d9d7-42c9-a2e3-4659cf552a7b",
   "metadata": {},
   "source": [
    "Currently latitude and longitude have low correlation, I will create cluster centres using KMeans to see if it improves correlation"
   ]
  },
  {
   "cell_type": "code",
   "execution_count": 16,
   "id": "19bd85d6-6c41-4043-bf89-22ab7858b56a",
   "metadata": {},
   "outputs": [
    {
     "name": "stderr",
     "output_type": "stream",
     "text": [
      "C:\\Users\\natha\\anaconda3\\Lib\\site-packages\\sklearn\\cluster\\_kmeans.py:870: FutureWarning: The default value of `n_init` will change from 10 to 'auto' in 1.4. Set the value of `n_init` explicitly to suppress the warning\n",
      "  warnings.warn(\n"
     ]
    }
   ],
   "source": [
    "from sklearn.cluster import KMeans\n",
    "\n",
    "km = KMeans(n_clusters = 10, random_state=42)\n",
    "group2['clusters'] = km.fit_predict(group[['latitude','longitude']])"
   ]
  },
  {
   "cell_type": "code",
   "execution_count": 17,
   "id": "ed485b0b-2ec1-4283-9f54-9ce56fece5ae",
   "metadata": {},
   "outputs": [
    {
     "data": {
      "text/plain": [
       "array([[  38.24584324, -121.1646    ],\n",
       "       [  34.87846723, -119.63089852],\n",
       "       [  34.00083736, -118.20949841],\n",
       "       [  37.94272958, -122.3289482 ],\n",
       "       [  36.64991581, -119.65117867],\n",
       "       [  32.89754686, -116.95712238],\n",
       "       [  37.23943733, -121.91252368],\n",
       "       [  40.52711165, -123.20058252],\n",
       "       [  34.00382501, -117.36458777],\n",
       "       [  39.51662692, -121.33221465]])"
      ]
     },
     "execution_count": 17,
     "metadata": {},
     "output_type": "execute_result"
    }
   ],
   "source": [
    "cc = km.cluster_centers_\n",
    "cc"
   ]
  },
  {
   "cell_type": "code",
   "execution_count": 18,
   "id": "6ac277c0-2cec-492c-86a3-a9db747f873d",
   "metadata": {},
   "outputs": [
    {
     "data": {
      "image/png": "[encoded data removed]",
      "text/plain": [
       "<Figure size 640x480 with 2 Axes>"
      ]
     },
     "metadata": {},
     "output_type": "display_data"
    }
   ],
   "source": [
    "#visual cluster centres\n",
    "#plot a location scatter plot\n",
    "group.plot(kind='scatter',x='longitude',y='latitude', alpha=0.5,\n",
    "           s=group.population/100, c='median_house_value', cmap='jet',\n",
    "           colorbar=True, legend=True, title='Location Map of median house value with cluster centres',\n",
    "          grid=True);\n",
    "plt.scatter(cc[:,1],cc[:,0], marker='X', s=200, c='black');"
   ]
  },
  {
   "cell_type": "code",
   "execution_count": 19,
   "id": "1dd9836d-135e-4341-b0ce-5dabbbfc4b88",
   "metadata": {},
   "outputs": [
    {
     "data": {
      "text/plain": [
       "longitude            -0.045967\n",
       "latitude             -0.144160\n",
       "housing_median_age    0.105623\n",
       "total_rooms           0.134153\n",
       "total_bedrooms        0.049686\n",
       "population           -0.024650\n",
       "households            0.065843\n",
       "median_income         0.688075\n",
       "median_house_value    1.000000\n",
       "age_cat               0.111061\n",
       "(<1H OCEAN,)          0.256617\n",
       "(INLAND,)            -0.484859\n",
       "(ISLAND,)             0.023416\n",
       "(NEAR BAY,)           0.160284\n",
       "(NEAR OCEAN,)         0.141862\n",
       "clusters             -0.094779\n",
       "Name: median_house_value, dtype: float64"
      ]
     },
     "execution_count": 19,
     "metadata": {},
     "output_type": "execute_result"
    }
   ],
   "source": [
    "#examine new correlation\n",
    "group2.corr().median_house_value"
   ]
  },
  {
   "cell_type": "markdown",
   "id": "b0baf461-720b-422f-acfd-2db4897c17bf",
   "metadata": {},
   "source": [
    "The clusters hasn't impoved correlation, just averaged long and lat. I will examine rooms and bedrooms per house instead of total."
   ]
  },
  {
   "cell_type": "code",
   "execution_count": 20,
   "id": "be61f6e8-c059-40c5-98ad-d29e834b6a9b",
   "metadata": {},
   "outputs": [
    {
     "data": {
      "text/plain": [
       "longitude            -0.045967\n",
       "latitude             -0.144160\n",
       "housing_median_age    0.105623\n",
       "total_rooms           0.134153\n",
       "total_bedrooms        0.049686\n",
       "population           -0.024650\n",
       "households            0.065843\n",
       "median_income         0.688075\n",
       "median_house_value    1.000000\n",
       "age_cat               0.111061\n",
       "(<1H OCEAN,)          0.256617\n",
       "(INLAND,)            -0.484859\n",
       "(ISLAND,)             0.023416\n",
       "(NEAR BAY,)           0.160284\n",
       "(NEAR OCEAN,)         0.141862\n",
       "clusters             -0.094779\n",
       "rooms_per_house       0.151948\n",
       "bedrooms_per_house   -0.046739\n",
       "bedrooms_ratio       -0.255880\n",
       "ppl_per_house        -0.023737\n",
       "Name: median_house_value, dtype: float64"
      ]
     },
     "execution_count": 20,
     "metadata": {},
     "output_type": "execute_result"
    }
   ],
   "source": [
    "group2['rooms_per_house']=group2['total_rooms']/group2['households']\n",
    "group2['bedrooms_per_house']=group2['total_bedrooms']/group2['households']\n",
    "group2['bedrooms_ratio']=group2['total_bedrooms']/group2['total_rooms']\n",
    "group2['ppl_per_house']=group2['population']/group2['households']\n",
    "group2.corr().median_house_value"
   ]
  },
  {
   "cell_type": "markdown",
   "id": "5aa5fe48-c1cb-468f-98ec-5685f0a70f95",
   "metadata": {},
   "source": [
    "Only bedrooms_ratio has created a new variable with a decent correlation increase."
   ]
  },
  {
   "cell_type": "code",
   "execution_count": 21,
   "id": "2619ca0f-fba1-472d-8631-ea2cba2c552b",
   "metadata": {},
   "outputs": [
    {
     "data": {
      "text/plain": [
       "Index([         'longitude',           'latitude', 'housing_median_age',\n",
       "              'total_rooms',     'total_bedrooms',         'population',\n",
       "               'households',      'median_income', 'median_house_value',\n",
       "                  'age_cat',       ('<1H OCEAN',),          ('INLAND',),\n",
       "                ('ISLAND',),        ('NEAR BAY',),      ('NEAR OCEAN',),\n",
       "                 'clusters',    'rooms_per_house', 'bedrooms_per_house',\n",
       "           'bedrooms_ratio',      'ppl_per_house'],\n",
       "      dtype='object')"
      ]
     },
     "execution_count": 21,
     "metadata": {},
     "output_type": "execute_result"
    }
   ],
   "source": [
    "#to standardise data will need to remove ocean ohe categories\n",
    "group2.columns"
   ]
  },
  {
   "cell_type": "code",
   "execution_count": 22,
   "id": "a4e29a4a-9804-4401-921b-c355005708d5",
   "metadata": {},
   "outputs": [],
   "source": [
    "group3 = group2.drop([('<1H OCEAN',),          ('INLAND',),\n",
    "                ('ISLAND',),        ('NEAR BAY',),      ('NEAR OCEAN',)],axis=1)"
   ]
  },
  {
   "cell_type": "code",
   "execution_count": 23,
   "id": "7c4fac60-0296-4bb5-b523-9e23e7d810d7",
   "metadata": {},
   "outputs": [],
   "source": [
    "#lets standardise data and measure correlation\n",
    "from sklearn.preprocessing import StandardScaler\n",
    "\n",
    "ss = StandardScaler()\n",
    "group_ss = ss.fit_transform(group3)"
   ]
  },
  {
   "cell_type": "code",
   "execution_count": 24,
   "id": "95abfbb9-1ac5-474d-85cf-cefb86d51fd5",
   "metadata": {},
   "outputs": [
    {
     "data": {
      "text/html": [
       "<div>\n",
       "<style scoped>\n",
       "    .dataframe tbody tr th:only-of-type {\n",
       "        vertical-align: middle;\n",
       "    }\n",
       "\n",
       "    .dataframe tbody tr th {\n",
       "        vertical-align: top;\n",
       "    }\n",
       "\n",
       "    .dataframe thead th {\n",
       "        text-align: right;\n",
       "    }\n",
       "</style>\n",
       "<table border=\"1\" class=\"dataframe\">\n",
       "  <thead>\n",
       "    <tr style=\"text-align: right;\">\n",
       "      <th></th>\n",
       "      <th>longitude</th>\n",
       "      <th>latitude</th>\n",
       "      <th>housing_median_age</th>\n",
       "      <th>total_rooms</th>\n",
       "      <th>total_bedrooms</th>\n",
       "      <th>population</th>\n",
       "      <th>households</th>\n",
       "      <th>median_income</th>\n",
       "      <th>median_house_value</th>\n",
       "      <th>age_cat</th>\n",
       "      <th>clusters</th>\n",
       "      <th>rooms_per_house</th>\n",
       "      <th>bedrooms_per_house</th>\n",
       "      <th>bedrooms_ratio</th>\n",
       "      <th>ppl_per_house</th>\n",
       "      <th>(&lt;1H OCEAN,)</th>\n",
       "      <th>(INLAND,)</th>\n",
       "      <th>(ISLAND,)</th>\n",
       "      <th>(NEAR BAY,)</th>\n",
       "      <th>(NEAR OCEAN,)</th>\n",
       "    </tr>\n",
       "  </thead>\n",
       "  <tbody>\n",
       "    <tr>\n",
       "      <th>0</th>\n",
       "      <td>-1.327835</td>\n",
       "      <td>1.052548</td>\n",
       "      <td>0.982143</td>\n",
       "      <td>-0.804819</td>\n",
       "      <td>-0.970325</td>\n",
       "      <td>-0.974429</td>\n",
       "      <td>-0.977033</td>\n",
       "      <td>2.344766</td>\n",
       "      <td>2.129631</td>\n",
       "      <td>1.201189</td>\n",
       "      <td>-0.190572</td>\n",
       "      <td>0.628559</td>\n",
       "      <td>-0.153863</td>\n",
       "      <td>-1.146024</td>\n",
       "      <td>-0.049597</td>\n",
       "      <td>0.0</td>\n",
       "      <td>0.0</td>\n",
       "      <td>0.0</td>\n",
       "      <td>1.0</td>\n",
       "      <td>0.0</td>\n",
       "    </tr>\n",
       "    <tr>\n",
       "      <th>1</th>\n",
       "      <td>-1.322844</td>\n",
       "      <td>1.043185</td>\n",
       "      <td>-0.607019</td>\n",
       "      <td>2.045890</td>\n",
       "      <td>1.348276</td>\n",
       "      <td>0.861439</td>\n",
       "      <td>1.669961</td>\n",
       "      <td>2.332238</td>\n",
       "      <td>1.314156</td>\n",
       "      <td>-0.431564</td>\n",
       "      <td>-0.190572</td>\n",
       "      <td>0.327041</td>\n",
       "      <td>-0.262936</td>\n",
       "      <td>-0.987254</td>\n",
       "      <td>-0.092512</td>\n",
       "      <td>0.0</td>\n",
       "      <td>0.0</td>\n",
       "      <td>0.0</td>\n",
       "      <td>1.0</td>\n",
       "      <td>0.0</td>\n",
       "    </tr>\n",
       "    <tr>\n",
       "      <th>2</th>\n",
       "      <td>-1.332827</td>\n",
       "      <td>1.038503</td>\n",
       "      <td>1.856182</td>\n",
       "      <td>-0.535746</td>\n",
       "      <td>-0.825561</td>\n",
       "      <td>-0.820777</td>\n",
       "      <td>-0.843637</td>\n",
       "      <td>1.782699</td>\n",
       "      <td>1.258693</td>\n",
       "      <td>2.017566</td>\n",
       "      <td>-0.190572</td>\n",
       "      <td>1.155620</td>\n",
       "      <td>-0.049604</td>\n",
       "      <td>-1.440514</td>\n",
       "      <td>-0.025843</td>\n",
       "      <td>0.0</td>\n",
       "      <td>0.0</td>\n",
       "      <td>0.0</td>\n",
       "      <td>1.0</td>\n",
       "      <td>0.0</td>\n",
       "    </tr>\n",
       "    <tr>\n",
       "      <th>3</th>\n",
       "      <td>-1.337818</td>\n",
       "      <td>1.038503</td>\n",
       "      <td>1.856182</td>\n",
       "      <td>-0.624215</td>\n",
       "      <td>-0.718768</td>\n",
       "      <td>-0.766028</td>\n",
       "      <td>-0.733781</td>\n",
       "      <td>0.932968</td>\n",
       "      <td>1.165100</td>\n",
       "      <td>2.017566</td>\n",
       "      <td>-0.190572</td>\n",
       "      <td>0.156966</td>\n",
       "      <td>-0.050417</td>\n",
       "      <td>-0.492925</td>\n",
       "      <td>-0.050329</td>\n",
       "      <td>0.0</td>\n",
       "      <td>0.0</td>\n",
       "      <td>0.0</td>\n",
       "      <td>1.0</td>\n",
       "      <td>0.0</td>\n",
       "    </tr>\n",
       "    <tr>\n",
       "      <th>4</th>\n",
       "      <td>-1.337818</td>\n",
       "      <td>1.038503</td>\n",
       "      <td>1.856182</td>\n",
       "      <td>-0.462404</td>\n",
       "      <td>-0.611974</td>\n",
       "      <td>-0.759847</td>\n",
       "      <td>-0.629157</td>\n",
       "      <td>-0.012881</td>\n",
       "      <td>1.172900</td>\n",
       "      <td>2.017566</td>\n",
       "      <td>-0.190572</td>\n",
       "      <td>0.344711</td>\n",
       "      <td>-0.033568</td>\n",
       "      <td>-0.706141</td>\n",
       "      <td>-0.085616</td>\n",
       "      <td>0.0</td>\n",
       "      <td>0.0</td>\n",
       "      <td>0.0</td>\n",
       "      <td>1.0</td>\n",
       "      <td>0.0</td>\n",
       "    </tr>\n",
       "  </tbody>\n",
       "</table>\n",
       "</div>"
      ],
      "text/plain": [
       "   longitude  latitude  housing_median_age  total_rooms  total_bedrooms  \\\n",
       "0  -1.327835  1.052548            0.982143    -0.804819       -0.970325   \n",
       "1  -1.322844  1.043185           -0.607019     2.045890        1.348276   \n",
       "2  -1.332827  1.038503            1.856182    -0.535746       -0.825561   \n",
       "3  -1.337818  1.038503            1.856182    -0.624215       -0.718768   \n",
       "4  -1.337818  1.038503            1.856182    -0.462404       -0.611974   \n",
       "\n",
       "   population  households  median_income  median_house_value   age_cat  \\\n",
       "0   -0.974429   -0.977033       2.344766            2.129631  1.201189   \n",
       "1    0.861439    1.669961       2.332238            1.314156 -0.431564   \n",
       "2   -0.820777   -0.843637       1.782699            1.258693  2.017566   \n",
       "3   -0.766028   -0.733781       0.932968            1.165100  2.017566   \n",
       "4   -0.759847   -0.629157      -0.012881            1.172900  2.017566   \n",
       "\n",
       "   clusters  rooms_per_house  bedrooms_per_house  bedrooms_ratio  \\\n",
       "0 -0.190572         0.628559           -0.153863       -1.146024   \n",
       "1 -0.190572         0.327041           -0.262936       -0.987254   \n",
       "2 -0.190572         1.155620           -0.049604       -1.440514   \n",
       "3 -0.190572         0.156966           -0.050417       -0.492925   \n",
       "4 -0.190572         0.344711           -0.033568       -0.706141   \n",
       "\n",
       "   ppl_per_house  (<1H OCEAN,)  (INLAND,)  (ISLAND,)  (NEAR BAY,)  \\\n",
       "0      -0.049597           0.0        0.0        0.0          1.0   \n",
       "1      -0.092512           0.0        0.0        0.0          1.0   \n",
       "2      -0.025843           0.0        0.0        0.0          1.0   \n",
       "3      -0.050329           0.0        0.0        0.0          1.0   \n",
       "4      -0.085616           0.0        0.0        0.0          1.0   \n",
       "\n",
       "   (NEAR OCEAN,)  \n",
       "0            0.0  \n",
       "1            0.0  \n",
       "2            0.0  \n",
       "3            0.0  \n",
       "4            0.0  "
      ]
     },
     "execution_count": 24,
     "metadata": {},
     "output_type": "execute_result"
    }
   ],
   "source": [
    "#turn back into pd\n",
    "group4 = pd.DataFrame(group_ss, columns = group3.columns, index=group3.index)\n",
    "#merge back with group_ohe\n",
    "group5 = pd.concat([group4,group_cat],axis=1)\n",
    "group5.head()"
   ]
  },
  {
   "cell_type": "code",
   "execution_count": 25,
   "id": "0aec32cb-6311-4a96-8137-f00d628096c8",
   "metadata": {},
   "outputs": [
    {
     "data": {
      "text/plain": [
       "longitude            -0.045967\n",
       "latitude             -0.144160\n",
       "housing_median_age    0.105623\n",
       "total_rooms           0.134153\n",
       "total_bedrooms        0.049686\n",
       "population           -0.024650\n",
       "households            0.065843\n",
       "median_income         0.688075\n",
       "median_house_value    1.000000\n",
       "age_cat               0.111061\n",
       "clusters             -0.094779\n",
       "rooms_per_house       0.151948\n",
       "bedrooms_per_house   -0.046739\n",
       "bedrooms_ratio       -0.255880\n",
       "ppl_per_house        -0.023737\n",
       "(<1H OCEAN,)          0.256617\n",
       "(INLAND,)            -0.484859\n",
       "(ISLAND,)             0.023416\n",
       "(NEAR BAY,)           0.160284\n",
       "(NEAR OCEAN,)         0.141862\n",
       "Name: median_house_value, dtype: float64"
      ]
     },
     "execution_count": 25,
     "metadata": {},
     "output_type": "execute_result"
    }
   ],
   "source": [
    "#meaure correlation now\n",
    "group5.corr().median_house_value"
   ]
  },
  {
   "cell_type": "code",
   "execution_count": 26,
   "id": "f9c87fa6-ea1c-40ce-8419-a30db902ab74",
   "metadata": {},
   "outputs": [
    {
     "data": {
      "text/plain": [
       "longitude            -0.045967\n",
       "latitude             -0.144160\n",
       "total_bedrooms        0.049686\n",
       "population           -0.024650\n",
       "households            0.065843\n",
       "median_income         0.688075\n",
       "median_house_value    1.000000\n",
       "age_cat               0.111061\n",
       "rooms_per_house       0.151948\n",
       "bedrooms_ratio       -0.255880\n",
       "(<1H OCEAN,)          0.256617\n",
       "(INLAND,)            -0.484859\n",
       "(ISLAND,)             0.023416\n",
       "(NEAR BAY,)           0.160284\n",
       "(NEAR OCEAN,)         0.141862\n",
       "Name: median_house_value, dtype: float64"
      ]
     },
     "execution_count": 26,
     "metadata": {},
     "output_type": "execute_result"
    }
   ],
   "source": [
    "#lets remove redundant columns\n",
    "group5 = group5.drop(['total_rooms','bedrooms_per_house', 'ppl_per_house', \n",
    "                      'clusters','housing_median_age'],axis=1)\n",
    "group5.corr().median_house_value"
   ]
  },
  {
   "cell_type": "code",
   "execution_count": 27,
   "id": "486775f5-5886-4175-b694-4f2774219195",
   "metadata": {},
   "outputs": [
    {
     "data": {
      "image/png": "[encoded data removed]",
      "text/plain": [
       "<Figure size 800x800 with 16 Axes>"
      ]
     },
     "metadata": {},
     "output_type": "display_data"
    }
   ],
   "source": [
    "#visualise shape\n",
    "group5.hist(bins=30, figsize=(8,8))\n",
    "plt.subplots_adjust(hspace=0.5, wspace=0.5);  "
   ]
  },
  {
   "cell_type": "markdown",
   "id": "68c4cc2d-20ba-40e2-8af2-bdb2d10183a0",
   "metadata": {},
   "source": [
    "Can see standardising data hasn't fixed skewed shape, I will try using a log transformation before standardising."
   ]
  },
  {
   "cell_type": "code",
   "execution_count": 28,
   "id": "947626d6-3a97-43ff-b466-53c7562c2990",
   "metadata": {},
   "outputs": [
    {
     "data": {
      "text/html": [
       "<div>\n",
       "<style scoped>\n",
       "    .dataframe tbody tr th:only-of-type {\n",
       "        vertical-align: middle;\n",
       "    }\n",
       "\n",
       "    .dataframe tbody tr th {\n",
       "        vertical-align: top;\n",
       "    }\n",
       "\n",
       "    .dataframe thead th {\n",
       "        text-align: right;\n",
       "    }\n",
       "</style>\n",
       "<table border=\"1\" class=\"dataframe\">\n",
       "  <thead>\n",
       "    <tr style=\"text-align: right;\">\n",
       "      <th></th>\n",
       "      <th>longitude</th>\n",
       "      <th>latitude</th>\n",
       "      <th>housing_median_age</th>\n",
       "      <th>total_rooms</th>\n",
       "      <th>total_bedrooms</th>\n",
       "      <th>population</th>\n",
       "      <th>households</th>\n",
       "      <th>median_income</th>\n",
       "      <th>median_house_value</th>\n",
       "      <th>age_cat</th>\n",
       "      <th>clusters</th>\n",
       "      <th>rooms_per_house</th>\n",
       "      <th>bedrooms_per_house</th>\n",
       "      <th>bedrooms_ratio</th>\n",
       "      <th>ppl_per_house</th>\n",
       "    </tr>\n",
       "  </thead>\n",
       "  <tbody>\n",
       "    <tr>\n",
       "      <th>0</th>\n",
       "      <td>-122.23</td>\n",
       "      <td>37.88</td>\n",
       "      <td>41.0</td>\n",
       "      <td>880.0</td>\n",
       "      <td>129.0</td>\n",
       "      <td>322.0</td>\n",
       "      <td>126.0</td>\n",
       "      <td>8.3252</td>\n",
       "      <td>452600.0</td>\n",
       "      <td>4</td>\n",
       "      <td>3</td>\n",
       "      <td>6.984127</td>\n",
       "      <td>1.023810</td>\n",
       "      <td>0.146591</td>\n",
       "      <td>2.555556</td>\n",
       "    </tr>\n",
       "    <tr>\n",
       "      <th>1</th>\n",
       "      <td>-122.22</td>\n",
       "      <td>37.86</td>\n",
       "      <td>21.0</td>\n",
       "      <td>7099.0</td>\n",
       "      <td>1106.0</td>\n",
       "      <td>2401.0</td>\n",
       "      <td>1138.0</td>\n",
       "      <td>8.3014</td>\n",
       "      <td>358500.0</td>\n",
       "      <td>2</td>\n",
       "      <td>3</td>\n",
       "      <td>6.238137</td>\n",
       "      <td>0.971880</td>\n",
       "      <td>0.155797</td>\n",
       "      <td>2.109842</td>\n",
       "    </tr>\n",
       "    <tr>\n",
       "      <th>2</th>\n",
       "      <td>-122.24</td>\n",
       "      <td>37.85</td>\n",
       "      <td>52.0</td>\n",
       "      <td>1467.0</td>\n",
       "      <td>190.0</td>\n",
       "      <td>496.0</td>\n",
       "      <td>177.0</td>\n",
       "      <td>7.2574</td>\n",
       "      <td>352100.0</td>\n",
       "      <td>5</td>\n",
       "      <td>3</td>\n",
       "      <td>8.288136</td>\n",
       "      <td>1.073446</td>\n",
       "      <td>0.129516</td>\n",
       "      <td>2.802260</td>\n",
       "    </tr>\n",
       "    <tr>\n",
       "      <th>3</th>\n",
       "      <td>-122.25</td>\n",
       "      <td>37.85</td>\n",
       "      <td>52.0</td>\n",
       "      <td>1274.0</td>\n",
       "      <td>235.0</td>\n",
       "      <td>558.0</td>\n",
       "      <td>219.0</td>\n",
       "      <td>5.6431</td>\n",
       "      <td>341300.0</td>\n",
       "      <td>5</td>\n",
       "      <td>3</td>\n",
       "      <td>5.817352</td>\n",
       "      <td>1.073059</td>\n",
       "      <td>0.184458</td>\n",
       "      <td>2.547945</td>\n",
       "    </tr>\n",
       "    <tr>\n",
       "      <th>4</th>\n",
       "      <td>-122.25</td>\n",
       "      <td>37.85</td>\n",
       "      <td>52.0</td>\n",
       "      <td>1627.0</td>\n",
       "      <td>280.0</td>\n",
       "      <td>565.0</td>\n",
       "      <td>259.0</td>\n",
       "      <td>3.8462</td>\n",
       "      <td>342200.0</td>\n",
       "      <td>5</td>\n",
       "      <td>3</td>\n",
       "      <td>6.281853</td>\n",
       "      <td>1.081081</td>\n",
       "      <td>0.172096</td>\n",
       "      <td>2.181467</td>\n",
       "    </tr>\n",
       "  </tbody>\n",
       "</table>\n",
       "</div>"
      ],
      "text/plain": [
       "   longitude  latitude  housing_median_age  total_rooms  total_bedrooms  \\\n",
       "0    -122.23     37.88                41.0        880.0           129.0   \n",
       "1    -122.22     37.86                21.0       7099.0          1106.0   \n",
       "2    -122.24     37.85                52.0       1467.0           190.0   \n",
       "3    -122.25     37.85                52.0       1274.0           235.0   \n",
       "4    -122.25     37.85                52.0       1627.0           280.0   \n",
       "\n",
       "   population  households  median_income  median_house_value age_cat  \\\n",
       "0       322.0       126.0         8.3252            452600.0       4   \n",
       "1      2401.0      1138.0         8.3014            358500.0       2   \n",
       "2       496.0       177.0         7.2574            352100.0       5   \n",
       "3       558.0       219.0         5.6431            341300.0       5   \n",
       "4       565.0       259.0         3.8462            342200.0       5   \n",
       "\n",
       "   clusters  rooms_per_house  bedrooms_per_house  bedrooms_ratio  \\\n",
       "0         3         6.984127            1.023810        0.146591   \n",
       "1         3         6.238137            0.971880        0.155797   \n",
       "2         3         8.288136            1.073446        0.129516   \n",
       "3         3         5.817352            1.073059        0.184458   \n",
       "4         3         6.281853            1.081081        0.172096   \n",
       "\n",
       "   ppl_per_house  \n",
       "0       2.555556  \n",
       "1       2.109842  \n",
       "2       2.802260  \n",
       "3       2.547945  \n",
       "4       2.181467  "
      ]
     },
     "execution_count": 28,
     "metadata": {},
     "output_type": "execute_result"
    }
   ],
   "source": [
    "group3.head()"
   ]
  },
  {
   "cell_type": "code",
   "execution_count": 29,
   "id": "56bf2d72-eb10-4e38-9f46-bc2d0bb12209",
   "metadata": {},
   "outputs": [],
   "source": [
    "#use log transformer\n",
    "from sklearn.preprocessing import FunctionTransformer\n",
    "#log the skewed distributions\n",
    "group6 = group3[['total_bedrooms','population','households','median_income',\n",
    "                 'rooms_per_house','bedrooms_ratio']]\n",
    "log_ft = FunctionTransformer(func=np.log,inverse_func = np.exp)\n",
    "log_group6 = log_ft.fit_transform(group6)"
   ]
  },
  {
   "cell_type": "code",
   "execution_count": 30,
   "id": "65daecb9-b9d6-45b1-8bb9-69f0ba400929",
   "metadata": {},
   "outputs": [
    {
     "data": {
      "text/html": [
       "<div>\n",
       "<style scoped>\n",
       "    .dataframe tbody tr th:only-of-type {\n",
       "        vertical-align: middle;\n",
       "    }\n",
       "\n",
       "    .dataframe tbody tr th {\n",
       "        vertical-align: top;\n",
       "    }\n",
       "\n",
       "    .dataframe thead th {\n",
       "        text-align: right;\n",
       "    }\n",
       "</style>\n",
       "<table border=\"1\" class=\"dataframe\">\n",
       "  <thead>\n",
       "    <tr style=\"text-align: right;\">\n",
       "      <th></th>\n",
       "      <th>total_bedrooms</th>\n",
       "      <th>population</th>\n",
       "      <th>households</th>\n",
       "      <th>median_income</th>\n",
       "      <th>rooms_per_house</th>\n",
       "      <th>bedrooms_ratio</th>\n",
       "    </tr>\n",
       "  </thead>\n",
       "  <tbody>\n",
       "    <tr>\n",
       "      <th>0</th>\n",
       "      <td>4.859812</td>\n",
       "      <td>5.774552</td>\n",
       "      <td>4.836282</td>\n",
       "      <td>2.119287</td>\n",
       "      <td>1.943640</td>\n",
       "      <td>-1.920110</td>\n",
       "    </tr>\n",
       "    <tr>\n",
       "      <th>1</th>\n",
       "      <td>7.008505</td>\n",
       "      <td>7.783641</td>\n",
       "      <td>7.037028</td>\n",
       "      <td>2.116424</td>\n",
       "      <td>1.830682</td>\n",
       "      <td>-1.859204</td>\n",
       "    </tr>\n",
       "    <tr>\n",
       "      <th>2</th>\n",
       "      <td>5.247024</td>\n",
       "      <td>6.206576</td>\n",
       "      <td>5.176150</td>\n",
       "      <td>1.982022</td>\n",
       "      <td>2.114825</td>\n",
       "      <td>-2.043951</td>\n",
       "    </tr>\n",
       "    <tr>\n",
       "      <th>3</th>\n",
       "      <td>5.459586</td>\n",
       "      <td>6.324359</td>\n",
       "      <td>5.389072</td>\n",
       "      <td>1.730434</td>\n",
       "      <td>1.760845</td>\n",
       "      <td>-1.690331</td>\n",
       "    </tr>\n",
       "    <tr>\n",
       "      <th>4</th>\n",
       "      <td>5.634790</td>\n",
       "      <td>6.336826</td>\n",
       "      <td>5.556828</td>\n",
       "      <td>1.347086</td>\n",
       "      <td>1.837665</td>\n",
       "      <td>-1.759704</td>\n",
       "    </tr>\n",
       "  </tbody>\n",
       "</table>\n",
       "</div>"
      ],
      "text/plain": [
       "   total_bedrooms  population  households  median_income  rooms_per_house  \\\n",
       "0        4.859812    5.774552    4.836282       2.119287         1.943640   \n",
       "1        7.008505    7.783641    7.037028       2.116424         1.830682   \n",
       "2        5.247024    6.206576    5.176150       1.982022         2.114825   \n",
       "3        5.459586    6.324359    5.389072       1.730434         1.760845   \n",
       "4        5.634790    6.336826    5.556828       1.347086         1.837665   \n",
       "\n",
       "   bedrooms_ratio  \n",
       "0       -1.920110  \n",
       "1       -1.859204  \n",
       "2       -2.043951  \n",
       "3       -1.690331  \n",
       "4       -1.759704  "
      ]
     },
     "execution_count": 30,
     "metadata": {},
     "output_type": "execute_result"
    }
   ],
   "source": [
    "log_group6.head()"
   ]
  },
  {
   "cell_type": "code",
   "execution_count": 31,
   "id": "c1c86a7c-17c3-473b-b46f-e5c9ca07b23e",
   "metadata": {},
   "outputs": [
    {
     "data": {
      "image/png": "[encoded data removed]",
      "text/plain": [
       "<Figure size 800x800 with 6 Axes>"
      ]
     },
     "metadata": {},
     "output_type": "display_data"
    }
   ],
   "source": [
    "#visualise shape\n",
    "log_group6.hist(bins=30, figsize=(8,8))\n",
    "plt.subplots_adjust(hspace=0.5, wspace=0.5);  "
   ]
  },
  {
   "cell_type": "markdown",
   "id": "d0241df4-c984-4cc3-8fe8-4abc849123d7",
   "metadata": {},
   "source": [
    "log transformation has gotten rid of the right skew."
   ]
  },
  {
   "cell_type": "code",
   "execution_count": 32,
   "id": "f8aa4fcc-f448-44ff-b04f-5ff9cfa23eb7",
   "metadata": {},
   "outputs": [],
   "source": [
    "#take out the log transformed columns with original values\n",
    "\n",
    "group7 = group3.drop(['total_bedrooms','population','households','median_income',\n",
    "                 'rooms_per_house','bedrooms_ratio'],axis=1)"
   ]
  },
  {
   "cell_type": "code",
   "execution_count": 33,
   "id": "0cb75643-477d-43ee-90f1-6529af82885b",
   "metadata": {},
   "outputs": [],
   "source": [
    "#combine the log values\n",
    "group7_log = pd.concat([group7,log_group6],axis=1)"
   ]
  },
  {
   "cell_type": "code",
   "execution_count": 34,
   "id": "2029258c-8e38-4e60-abd5-df0f6db018aa",
   "metadata": {},
   "outputs": [
    {
     "data": {
      "text/plain": [
       "longitude            -0.045967\n",
       "latitude             -0.144160\n",
       "housing_median_age    0.105623\n",
       "total_rooms           0.134153\n",
       "median_house_value    1.000000\n",
       "age_cat               0.111061\n",
       "clusters             -0.094779\n",
       "bedrooms_per_house   -0.046739\n",
       "ppl_per_house        -0.023737\n",
       "total_bedrooms        0.052926\n",
       "population           -0.021158\n",
       "households            0.073175\n",
       "median_income         0.651807\n",
       "rooms_per_house       0.240386\n",
       "bedrooms_ratio       -0.328271\n",
       "Name: median_house_value, dtype: float64"
      ]
     },
     "execution_count": 34,
     "metadata": {},
     "output_type": "execute_result"
    }
   ],
   "source": [
    "#examine correlation now\n",
    "group7_log.corr().median_house_value"
   ]
  },
  {
   "cell_type": "code",
   "execution_count": 35,
   "id": "1b347e7e-ed49-41eb-a3f1-f3ae304d8e0c",
   "metadata": {},
   "outputs": [
    {
     "data": {
      "text/plain": [
       "longitude            -0.045967\n",
       "latitude             -0.144160\n",
       "median_house_value    1.000000\n",
       "age_cat               0.111061\n",
       "clusters             -0.094779\n",
       "total_bedrooms        0.052926\n",
       "population           -0.021158\n",
       "households            0.073175\n",
       "median_income         0.651807\n",
       "rooms_per_house       0.240386\n",
       "bedrooms_ratio       -0.328271\n",
       "(<1H OCEAN,)          0.256617\n",
       "(INLAND,)            -0.484859\n",
       "(ISLAND,)             0.023416\n",
       "(NEAR BAY,)           0.160284\n",
       "(NEAR OCEAN,)         0.141862\n",
       "Name: median_house_value, dtype: float64"
      ]
     },
     "execution_count": 35,
     "metadata": {},
     "output_type": "execute_result"
    }
   ],
   "source": [
    "#lets remove redundant columns from group7_log\n",
    "group7_log = group7_log.drop(['total_rooms','bedrooms_per_house', 'ppl_per_house', \n",
    "                      'housing_median_age'],axis=1)\n",
    "#add back in ocean ohe\n",
    "group7_log = pd.concat([group7_log, group_cat],axis=1)\n",
    "group7_log.corr().median_house_value"
   ]
  },
  {
   "cell_type": "code",
   "execution_count": 36,
   "id": "0b48aeb3-79c2-431c-bfe4-d10d68983551",
   "metadata": {},
   "outputs": [
    {
     "data": {
      "text/plain": [
       "longitude            -0.045967\n",
       "latitude             -0.144160\n",
       "total_bedrooms        0.049686\n",
       "population           -0.024650\n",
       "households            0.065843\n",
       "median_income         0.688075\n",
       "median_house_value    1.000000\n",
       "age_cat               0.111061\n",
       "rooms_per_house       0.151948\n",
       "bedrooms_ratio       -0.255880\n",
       "(<1H OCEAN,)          0.256617\n",
       "(INLAND,)            -0.484859\n",
       "(ISLAND,)             0.023416\n",
       "(NEAR BAY,)           0.160284\n",
       "(NEAR OCEAN,)         0.141862\n",
       "Name: median_house_value, dtype: float64"
      ]
     },
     "execution_count": 36,
     "metadata": {},
     "output_type": "execute_result"
    }
   ],
   "source": [
    "#compare with pre log corr\n",
    "group5.corr().median_house_value"
   ]
  },
  {
   "cell_type": "markdown",
   "id": "acdf7e54-0062-4be2-910e-21062c2158b3",
   "metadata": {},
   "source": [
    "It seems the log transorformation was able to increase correlation significantly for rooms_per_household, bedrooms_ratio"
   ]
  },
  {
   "cell_type": "code",
   "execution_count": 37,
   "id": "2097bb03-38d2-489c-9ab3-c4a49c4b96ae",
   "metadata": {},
   "outputs": [
    {
     "data": {
      "text/html": [
       "<div>\n",
       "<style scoped>\n",
       "    .dataframe tbody tr th:only-of-type {\n",
       "        vertical-align: middle;\n",
       "    }\n",
       "\n",
       "    .dataframe tbody tr th {\n",
       "        vertical-align: top;\n",
       "    }\n",
       "\n",
       "    .dataframe thead th {\n",
       "        text-align: right;\n",
       "    }\n",
       "</style>\n",
       "<table border=\"1\" class=\"dataframe\">\n",
       "  <thead>\n",
       "    <tr style=\"text-align: right;\">\n",
       "      <th></th>\n",
       "      <th>longitude</th>\n",
       "      <th>latitude</th>\n",
       "      <th>median_house_value</th>\n",
       "      <th>clusters</th>\n",
       "      <th>total_bedrooms</th>\n",
       "      <th>population</th>\n",
       "      <th>households</th>\n",
       "      <th>median_income</th>\n",
       "      <th>rooms_per_house</th>\n",
       "      <th>bedrooms_ratio</th>\n",
       "      <th>(&lt;1H OCEAN,)</th>\n",
       "      <th>(INLAND,)</th>\n",
       "      <th>(ISLAND,)</th>\n",
       "      <th>(NEAR BAY,)</th>\n",
       "      <th>(NEAR OCEAN,)</th>\n",
       "    </tr>\n",
       "  </thead>\n",
       "  <tbody>\n",
       "    <tr>\n",
       "      <th>count</th>\n",
       "      <td>20640.000000</td>\n",
       "      <td>20640.000000</td>\n",
       "      <td>20640.000000</td>\n",
       "      <td>20640.000000</td>\n",
       "      <td>20433.000000</td>\n",
       "      <td>20640.000000</td>\n",
       "      <td>20640.000000</td>\n",
       "      <td>20640.000000</td>\n",
       "      <td>20640.000000</td>\n",
       "      <td>20433.000000</td>\n",
       "      <td>20640.000000</td>\n",
       "      <td>20640.000000</td>\n",
       "      <td>20640.000000</td>\n",
       "      <td>20640.000000</td>\n",
       "      <td>20640.000000</td>\n",
       "    </tr>\n",
       "    <tr>\n",
       "      <th>mean</th>\n",
       "      <td>-119.569704</td>\n",
       "      <td>35.631861</td>\n",
       "      <td>206855.816909</td>\n",
       "      <td>3.459690</td>\n",
       "      <td>6.051063</td>\n",
       "      <td>7.024116</td>\n",
       "      <td>5.980806</td>\n",
       "      <td>1.244465</td>\n",
       "      <td>1.647771</td>\n",
       "      <td>-1.577678</td>\n",
       "      <td>0.442636</td>\n",
       "      <td>0.317393</td>\n",
       "      <td>0.000242</td>\n",
       "      <td>0.110950</td>\n",
       "      <td>0.128779</td>\n",
       "    </tr>\n",
       "    <tr>\n",
       "      <th>std</th>\n",
       "      <td>2.003532</td>\n",
       "      <td>2.135952</td>\n",
       "      <td>115395.615874</td>\n",
       "      <td>2.412221</td>\n",
       "      <td>0.732785</td>\n",
       "      <td>0.738524</td>\n",
       "      <td>0.733071</td>\n",
       "      <td>0.470653</td>\n",
       "      <td>0.274652</td>\n",
       "      <td>0.244423</td>\n",
       "      <td>0.496710</td>\n",
       "      <td>0.465473</td>\n",
       "      <td>0.015563</td>\n",
       "      <td>0.314077</td>\n",
       "      <td>0.334963</td>\n",
       "    </tr>\n",
       "    <tr>\n",
       "      <th>min</th>\n",
       "      <td>-124.350000</td>\n",
       "      <td>32.540000</td>\n",
       "      <td>14999.000000</td>\n",
       "      <td>0.000000</td>\n",
       "      <td>0.000000</td>\n",
       "      <td>1.098612</td>\n",
       "      <td>0.000000</td>\n",
       "      <td>-0.693347</td>\n",
       "      <td>-0.167054</td>\n",
       "      <td>-2.302585</td>\n",
       "      <td>0.000000</td>\n",
       "      <td>0.000000</td>\n",
       "      <td>0.000000</td>\n",
       "      <td>0.000000</td>\n",
       "      <td>0.000000</td>\n",
       "    </tr>\n",
       "    <tr>\n",
       "      <th>25%</th>\n",
       "      <td>-121.800000</td>\n",
       "      <td>33.930000</td>\n",
       "      <td>119600.000000</td>\n",
       "      <td>2.000000</td>\n",
       "      <td>5.690359</td>\n",
       "      <td>6.668228</td>\n",
       "      <td>5.634790</td>\n",
       "      <td>0.941334</td>\n",
       "      <td>1.490816</td>\n",
       "      <td>-1.740530</td>\n",
       "      <td>0.000000</td>\n",
       "      <td>0.000000</td>\n",
       "      <td>0.000000</td>\n",
       "      <td>0.000000</td>\n",
       "      <td>0.000000</td>\n",
       "    </tr>\n",
       "    <tr>\n",
       "      <th>50%</th>\n",
       "      <td>-118.490000</td>\n",
       "      <td>34.260000</td>\n",
       "      <td>179700.000000</td>\n",
       "      <td>3.000000</td>\n",
       "      <td>6.075346</td>\n",
       "      <td>7.061334</td>\n",
       "      <td>6.013715</td>\n",
       "      <td>1.262657</td>\n",
       "      <td>1.654245</td>\n",
       "      <td>-1.593749</td>\n",
       "      <td>0.000000</td>\n",
       "      <td>0.000000</td>\n",
       "      <td>0.000000</td>\n",
       "      <td>0.000000</td>\n",
       "      <td>0.000000</td>\n",
       "    </tr>\n",
       "    <tr>\n",
       "      <th>75%</th>\n",
       "      <td>-118.010000</td>\n",
       "      <td>37.710000</td>\n",
       "      <td>264725.000000</td>\n",
       "      <td>5.000000</td>\n",
       "      <td>6.472346</td>\n",
       "      <td>7.452982</td>\n",
       "      <td>6.405228</td>\n",
       "      <td>1.556723</td>\n",
       "      <td>1.800452</td>\n",
       "      <td>-1.427864</td>\n",
       "      <td>1.000000</td>\n",
       "      <td>1.000000</td>\n",
       "      <td>0.000000</td>\n",
       "      <td>0.000000</td>\n",
       "      <td>0.000000</td>\n",
       "    </tr>\n",
       "    <tr>\n",
       "      <th>max</th>\n",
       "      <td>-114.310000</td>\n",
       "      <td>41.950000</td>\n",
       "      <td>500001.000000</td>\n",
       "      <td>9.000000</td>\n",
       "      <td>8.771060</td>\n",
       "      <td>10.482402</td>\n",
       "      <td>8.713089</td>\n",
       "      <td>2.708057</td>\n",
       "      <td>4.955187</td>\n",
       "      <td>0.000000</td>\n",
       "      <td>1.000000</td>\n",
       "      <td>1.000000</td>\n",
       "      <td>1.000000</td>\n",
       "      <td>1.000000</td>\n",
       "      <td>1.000000</td>\n",
       "    </tr>\n",
       "  </tbody>\n",
       "</table>\n",
       "</div>"
      ],
      "text/plain": [
       "          longitude      latitude  median_house_value      clusters  \\\n",
       "count  20640.000000  20640.000000        20640.000000  20640.000000   \n",
       "mean    -119.569704     35.631861       206855.816909      3.459690   \n",
       "std        2.003532      2.135952       115395.615874      2.412221   \n",
       "min     -124.350000     32.540000        14999.000000      0.000000   \n",
       "25%     -121.800000     33.930000       119600.000000      2.000000   \n",
       "50%     -118.490000     34.260000       179700.000000      3.000000   \n",
       "75%     -118.010000     37.710000       264725.000000      5.000000   \n",
       "max     -114.310000     41.950000       500001.000000      9.000000   \n",
       "\n",
       "       total_bedrooms    population    households  median_income  \\\n",
       "count    20433.000000  20640.000000  20640.000000   20640.000000   \n",
       "mean         6.051063      7.024116      5.980806       1.244465   \n",
       "std          0.732785      0.738524      0.733071       0.470653   \n",
       "min          0.000000      1.098612      0.000000      -0.693347   \n",
       "25%          5.690359      6.668228      5.634790       0.941334   \n",
       "50%          6.075346      7.061334      6.013715       1.262657   \n",
       "75%          6.472346      7.452982      6.405228       1.556723   \n",
       "max          8.771060     10.482402      8.713089       2.708057   \n",
       "\n",
       "       rooms_per_house  bedrooms_ratio  (<1H OCEAN,)     (INLAND,)  \\\n",
       "count     20640.000000    20433.000000  20640.000000  20640.000000   \n",
       "mean          1.647771       -1.577678      0.442636      0.317393   \n",
       "std           0.274652        0.244423      0.496710      0.465473   \n",
       "min          -0.167054       -2.302585      0.000000      0.000000   \n",
       "25%           1.490816       -1.740530      0.000000      0.000000   \n",
       "50%           1.654245       -1.593749      0.000000      0.000000   \n",
       "75%           1.800452       -1.427864      1.000000      1.000000   \n",
       "max           4.955187        0.000000      1.000000      1.000000   \n",
       "\n",
       "          (ISLAND,)   (NEAR BAY,)  (NEAR OCEAN,)  \n",
       "count  20640.000000  20640.000000   20640.000000  \n",
       "mean       0.000242      0.110950       0.128779  \n",
       "std        0.015563      0.314077       0.334963  \n",
       "min        0.000000      0.000000       0.000000  \n",
       "25%        0.000000      0.000000       0.000000  \n",
       "50%        0.000000      0.000000       0.000000  \n",
       "75%        0.000000      0.000000       0.000000  \n",
       "max        1.000000      1.000000       1.000000  "
      ]
     },
     "execution_count": 37,
     "metadata": {},
     "output_type": "execute_result"
    }
   ],
   "source": [
    "#examine group7_log to see if model is ready to start training\n",
    "group7_log.describe()"
   ]
  },
  {
   "cell_type": "code",
   "execution_count": 38,
   "id": "d9635027-f52b-45a4-8134-c0f84fc01c05",
   "metadata": {},
   "outputs": [
    {
     "data": {
      "image/png": "[encoded data removed]",
      "text/plain": [
       "<Figure size 800x800 with 16 Axes>"
      ]
     },
     "metadata": {},
     "output_type": "display_data"
    }
   ],
   "source": [
    "#visualise shape\n",
    "group7_log.hist(bins=30, figsize=(8,8))\n",
    "plt.subplots_adjust(hspace=0.5, wspace=0.5);  "
   ]
  },
  {
   "cell_type": "markdown",
   "id": "90bf891c-5046-4ada-bbee-4f883be51ab8",
   "metadata": {},
   "source": [
    "from the descibre feature I can see some missing value in bedroom. I will use a simple imputer to replace nulls with median now that data is smoothed out. "
   ]
  },
  {
   "cell_type": "code",
   "execution_count": 39,
   "id": "cbe621cc-aab0-497c-a99b-a3993bbe1200",
   "metadata": {},
   "outputs": [],
   "source": [
    "from sklearn.impute import SimpleImputer\n",
    "\n",
    "si = SimpleImputer(strategy='median')\n",
    "\n",
    "#filter out only missing entry columns for imputer\n",
    "group_missing = group7_log[group7_log.columns[group7_log.isna().any()]]\n",
    "#apply imputer\n",
    "x = si.fit_transform(group_missing)"
   ]
  },
  {
   "cell_type": "code",
   "execution_count": 40,
   "id": "3f6023db-9f10-417c-8dac-13cd5844e701",
   "metadata": {},
   "outputs": [
    {
     "data": {
      "text/html": [
       "<div>\n",
       "<style scoped>\n",
       "    .dataframe tbody tr th:only-of-type {\n",
       "        vertical-align: middle;\n",
       "    }\n",
       "\n",
       "    .dataframe tbody tr th {\n",
       "        vertical-align: top;\n",
       "    }\n",
       "\n",
       "    .dataframe thead th {\n",
       "        text-align: right;\n",
       "    }\n",
       "</style>\n",
       "<table border=\"1\" class=\"dataframe\">\n",
       "  <thead>\n",
       "    <tr style=\"text-align: right;\">\n",
       "      <th></th>\n",
       "      <th>total_bedrooms</th>\n",
       "      <th>bedrooms_ratio</th>\n",
       "    </tr>\n",
       "  </thead>\n",
       "  <tbody>\n",
       "    <tr>\n",
       "      <th>0</th>\n",
       "      <td>4.859812</td>\n",
       "      <td>-1.920110</td>\n",
       "    </tr>\n",
       "    <tr>\n",
       "      <th>1</th>\n",
       "      <td>7.008505</td>\n",
       "      <td>-1.859204</td>\n",
       "    </tr>\n",
       "    <tr>\n",
       "      <th>2</th>\n",
       "      <td>5.247024</td>\n",
       "      <td>-2.043951</td>\n",
       "    </tr>\n",
       "    <tr>\n",
       "      <th>3</th>\n",
       "      <td>5.459586</td>\n",
       "      <td>-1.690331</td>\n",
       "    </tr>\n",
       "    <tr>\n",
       "      <th>4</th>\n",
       "      <td>5.634790</td>\n",
       "      <td>-1.759704</td>\n",
       "    </tr>\n",
       "  </tbody>\n",
       "</table>\n",
       "</div>"
      ],
      "text/plain": [
       "   total_bedrooms  bedrooms_ratio\n",
       "0        4.859812       -1.920110\n",
       "1        7.008505       -1.859204\n",
       "2        5.247024       -2.043951\n",
       "3        5.459586       -1.690331\n",
       "4        5.634790       -1.759704"
      ]
     },
     "execution_count": 40,
     "metadata": {},
     "output_type": "execute_result"
    }
   ],
   "source": [
    "group_imp = pd.DataFrame(x, columns = group_missing.columns,\n",
    "                         index = group_missing.index)\n",
    "group_imp.head()"
   ]
  },
  {
   "cell_type": "code",
   "execution_count": 41,
   "id": "eac89631-3a1b-45f2-9f4a-271ec4295a8e",
   "metadata": {},
   "outputs": [],
   "source": [
    "#update imputer columns in final model\n",
    "final = group7_log.copy().drop('clusters',axis=1)\n",
    "final[['total_bedrooms','bedrooms_ratio']]=group_imp"
   ]
  },
  {
   "cell_type": "code",
   "execution_count": 42,
   "id": "9157cc12-aa1b-4943-8595-21b21af2b4d0",
   "metadata": {},
   "outputs": [
    {
     "data": {
      "text/plain": [
       "longitude             0\n",
       "latitude              0\n",
       "median_house_value    0\n",
       "age_cat               0\n",
       "total_bedrooms        0\n",
       "population            0\n",
       "households            0\n",
       "median_income         0\n",
       "rooms_per_house       0\n",
       "bedrooms_ratio        0\n",
       "(<1H OCEAN,)          0\n",
       "(INLAND,)             0\n",
       "(ISLAND,)             0\n",
       "(NEAR BAY,)           0\n",
       "(NEAR OCEAN,)         0\n",
       "dtype: int64"
      ]
     },
     "execution_count": 42,
     "metadata": {},
     "output_type": "execute_result"
    }
   ],
   "source": [
    "#check final model has no NA's\n",
    "final.isna().sum()"
   ]
  },
  {
   "cell_type": "code",
   "execution_count": 43,
   "id": "60c94851-5028-4f30-a0fe-4dca7242dc5a",
   "metadata": {},
   "outputs": [
    {
     "data": {
      "text/plain": [
       "longitude            -0.045967\n",
       "latitude             -0.144160\n",
       "median_house_value    1.000000\n",
       "age_cat               0.111061\n",
       "total_bedrooms        0.052675\n",
       "population           -0.021158\n",
       "households            0.073175\n",
       "median_income         0.651807\n",
       "rooms_per_house       0.240386\n",
       "bedrooms_ratio       -0.326722\n",
       "(<1H OCEAN,)          0.256617\n",
       "(INLAND,)            -0.484859\n",
       "(ISLAND,)             0.023416\n",
       "(NEAR BAY,)           0.160284\n",
       "(NEAR OCEAN,)         0.141862\n",
       "Name: median_house_value, dtype: float64"
      ]
     },
     "execution_count": 43,
     "metadata": {},
     "output_type": "execute_result"
    }
   ],
   "source": [
    "final.corr().median_house_value"
   ]
  },
  {
   "cell_type": "code",
   "execution_count": 44,
   "id": "8c1cafea-3934-4d4a-b0fb-1217a2ee1533",
   "metadata": {},
   "outputs": [
    {
     "data": {
      "text/plain": [
       "longitude            -0.045967\n",
       "latitude             -0.144160\n",
       "housing_median_age    0.105623\n",
       "total_rooms           0.134153\n",
       "total_bedrooms        0.049686\n",
       "population           -0.024650\n",
       "households            0.065843\n",
       "median_income         0.688075\n",
       "median_house_value    1.000000\n",
       "age_cat               0.111061\n",
       "(<1H OCEAN,)          0.256617\n",
       "(INLAND,)            -0.484859\n",
       "(ISLAND,)             0.023416\n",
       "(NEAR BAY,)           0.160284\n",
       "(NEAR OCEAN,)         0.141862\n",
       "clusters             -0.094779\n",
       "rooms_per_house       0.151948\n",
       "bedrooms_per_house   -0.046739\n",
       "bedrooms_ratio       -0.255880\n",
       "ppl_per_house        -0.023737\n",
       "Name: median_house_value, dtype: float64"
      ]
     },
     "execution_count": 44,
     "metadata": {},
     "output_type": "execute_result"
    }
   ],
   "source": [
    "#compare with original correlations\n",
    "group2.corr().median_house_value"
   ]
  },
  {
   "cell_type": "markdown",
   "id": "c3deec0f-679d-4131-a964-94a605ba94c9",
   "metadata": {},
   "source": [
    "Can see through feature engineering I have more significant correlations to predict\n",
    "median house values."
   ]
  },
  {
   "cell_type": "markdown",
   "id": "ad9df4aa-8ec4-4461-9faa-c95fb1bb1b19",
   "metadata": {},
   "source": [
    "## Feature Engineering Pipeline"
   ]
  },
  {
   "cell_type": "markdown",
   "id": "a60aa727-b54d-4e0a-a516-3bbb06137b08",
   "metadata": {},
   "source": [
    "I will now create a feature engineering pipeline on train data that performs all transformations done above in one go, allowing me to transform new incoming data instantly. The process is: \n",
    "1. convert ocean_proximity using one hot encoder\n",
    "2. create rooms_per_house and bedroom_ratio columns\n",
    "3. log transform appropriate columns\n",
    "4. use simple imputer to replace nulls with median\n",
    "5. standardise data"
   ]
  },
  {
   "cell_type": "code",
   "execution_count": 45,
   "id": "ddfddc79-ea1c-4b70-8248-96f22ee3caca",
   "metadata": {},
   "outputs": [],
   "source": [
    "from sklearn.pipeline import make_pipeline\n",
    "from sklearn.preprocessing import StandardScaler, OneHotEncoder, FunctionTransformer\n",
    "from sklearn.impute import SimpleImputer\n",
    "from sklearn.compose import ColumnTransformer, make_column_selector\n",
    "\n",
    "#create a function to create ratios and age_cat and drop irrelevant columns\n",
    "def ratio(X):\n",
    "    X['rooms_per_house']=X['total_rooms']/X['households']\n",
    "    X['bedrooms_ratio']=X['total_bedrooms']/X['total_rooms']\n",
    "    X['age_cat']=pd.cut(X['housing_median_age'], bins=[0,18,29,37,50,np.inf],\n",
    "                          labels = [1,2,3,4,5])\n",
    "    return X.drop(['total_rooms','housing_median_age'],axis=1)\n",
    "\n",
    "\n",
    "#create log pipeline\n",
    "log_pipeline = make_pipeline(\n",
    "    FunctionTransformer(np.log,inverse_func=np.exp, feature_names_out=\"one-to-one\"),\n",
    "    SimpleImputer(strategy='median'),\n",
    "    StandardScaler()\n",
    ")\n",
    "\n",
    "#create cat pipeline\n",
    "cat_pipeline = make_pipeline(\n",
    "    SimpleImputer(strategy='most_frequent'),\n",
    "    OneHotEncoder(handle_unknown= 'ignore')\n",
    ")\n",
    "\n",
    "#create default pipeline\n",
    "def_pipeline = make_pipeline(\n",
    "    StandardScaler()\n",
    ")\n",
    "\n",
    "#combine all into one\n",
    "feat_eng = ColumnTransformer([\n",
    "    (\"log\", log_pipeline, [\"total_bedrooms\",\"bedrooms_ratio\", \"rooms_per_house\", \"population\",\n",
    "                               \"households\", \"median_income\"]),\n",
    "    (\"cat\", cat_pipeline, make_column_selector(dtype_include=object)),\n",
    "], remainder = def_pipeline)\n"
   ]
  },
  {
   "cell_type": "code",
   "execution_count": 46,
   "id": "4aeb143b-70ef-47a5-b8ec-71f08a7316ed",
   "metadata": {},
   "outputs": [
    {
     "data": {
      "text/html": [
       "<div>\n",
       "<style scoped>\n",
       "    .dataframe tbody tr th:only-of-type {\n",
       "        vertical-align: middle;\n",
       "    }\n",
       "\n",
       "    .dataframe tbody tr th {\n",
       "        vertical-align: top;\n",
       "    }\n",
       "\n",
       "    .dataframe thead th {\n",
       "        text-align: right;\n",
       "    }\n",
       "</style>\n",
       "<table border=\"1\" class=\"dataframe\">\n",
       "  <thead>\n",
       "    <tr style=\"text-align: right;\">\n",
       "      <th></th>\n",
       "      <th>log__total_bedrooms</th>\n",
       "      <th>log__bedrooms_ratio</th>\n",
       "      <th>log__rooms_per_house</th>\n",
       "      <th>log__population</th>\n",
       "      <th>log__households</th>\n",
       "      <th>log__median_income</th>\n",
       "      <th>cat__ocean_proximity_&lt;1H OCEAN</th>\n",
       "      <th>cat__ocean_proximity_INLAND</th>\n",
       "      <th>cat__ocean_proximity_ISLAND</th>\n",
       "      <th>cat__ocean_proximity_NEAR BAY</th>\n",
       "      <th>cat__ocean_proximity_NEAR OCEAN</th>\n",
       "      <th>remainder__longitude</th>\n",
       "      <th>remainder__latitude</th>\n",
       "      <th>remainder__median_house_value</th>\n",
       "      <th>remainder__age_cat</th>\n",
       "    </tr>\n",
       "  </thead>\n",
       "  <tbody>\n",
       "    <tr>\n",
       "      <th>0</th>\n",
       "      <td>-1.634226</td>\n",
       "      <td>-1.407397</td>\n",
       "      <td>1.077275</td>\n",
       "      <td>-1.692016</td>\n",
       "      <td>-1.561311</td>\n",
       "      <td>1.858786</td>\n",
       "      <td>0.0</td>\n",
       "      <td>0.0</td>\n",
       "      <td>0.0</td>\n",
       "      <td>1.0</td>\n",
       "      <td>0.0</td>\n",
       "      <td>-1.327835</td>\n",
       "      <td>1.052548</td>\n",
       "      <td>2.129631</td>\n",
       "      <td>1.201189</td>\n",
       "    </tr>\n",
       "    <tr>\n",
       "      <th>1</th>\n",
       "      <td>1.312871</td>\n",
       "      <td>-1.156957</td>\n",
       "      <td>0.665987</td>\n",
       "      <td>1.028461</td>\n",
       "      <td>1.440853</td>\n",
       "      <td>1.852703</td>\n",
       "      <td>0.0</td>\n",
       "      <td>0.0</td>\n",
       "      <td>0.0</td>\n",
       "      <td>1.0</td>\n",
       "      <td>0.0</td>\n",
       "      <td>-1.322844</td>\n",
       "      <td>1.043185</td>\n",
       "      <td>1.314156</td>\n",
       "      <td>-0.431564</td>\n",
       "    </tr>\n",
       "    <tr>\n",
       "      <th>2</th>\n",
       "      <td>-1.103136</td>\n",
       "      <td>-1.916626</td>\n",
       "      <td>1.700570</td>\n",
       "      <td>-1.107018</td>\n",
       "      <td>-1.097678</td>\n",
       "      <td>1.567130</td>\n",
       "      <td>0.0</td>\n",
       "      <td>0.0</td>\n",
       "      <td>0.0</td>\n",
       "      <td>1.0</td>\n",
       "      <td>0.0</td>\n",
       "      <td>-1.332827</td>\n",
       "      <td>1.038503</td>\n",
       "      <td>1.258693</td>\n",
       "      <td>2.017566</td>\n",
       "    </tr>\n",
       "    <tr>\n",
       "      <th>3</th>\n",
       "      <td>-0.811591</td>\n",
       "      <td>-0.462560</td>\n",
       "      <td>0.411708</td>\n",
       "      <td>-0.947530</td>\n",
       "      <td>-0.807218</td>\n",
       "      <td>1.032566</td>\n",
       "      <td>0.0</td>\n",
       "      <td>0.0</td>\n",
       "      <td>0.0</td>\n",
       "      <td>1.0</td>\n",
       "      <td>0.0</td>\n",
       "      <td>-1.337818</td>\n",
       "      <td>1.038503</td>\n",
       "      <td>1.165100</td>\n",
       "      <td>2.017566</td>\n",
       "    </tr>\n",
       "    <tr>\n",
       "      <th>4</th>\n",
       "      <td>-0.571285</td>\n",
       "      <td>-0.747815</td>\n",
       "      <td>0.691414</td>\n",
       "      <td>-0.930649</td>\n",
       "      <td>-0.578372</td>\n",
       "      <td>0.218044</td>\n",
       "      <td>0.0</td>\n",
       "      <td>0.0</td>\n",
       "      <td>0.0</td>\n",
       "      <td>1.0</td>\n",
       "      <td>0.0</td>\n",
       "      <td>-1.337818</td>\n",
       "      <td>1.038503</td>\n",
       "      <td>1.172900</td>\n",
       "      <td>2.017566</td>\n",
       "    </tr>\n",
       "    <tr>\n",
       "      <th>...</th>\n",
       "      <td>...</td>\n",
       "      <td>...</td>\n",
       "      <td>...</td>\n",
       "      <td>...</td>\n",
       "      <td>...</td>\n",
       "      <td>...</td>\n",
       "      <td>...</td>\n",
       "      <td>...</td>\n",
       "      <td>...</td>\n",
       "      <td>...</td>\n",
       "      <td>...</td>\n",
       "      <td>...</td>\n",
       "      <td>...</td>\n",
       "      <td>...</td>\n",
       "      <td>...</td>\n",
       "    </tr>\n",
       "    <tr>\n",
       "      <th>20635</th>\n",
       "      <td>-0.174260</td>\n",
       "      <td>0.347522</td>\n",
       "      <td>-0.106624</td>\n",
       "      <td>-0.385615</td>\n",
       "      <td>-0.247885</td>\n",
       "      <td>-1.698929</td>\n",
       "      <td>0.0</td>\n",
       "      <td>1.0</td>\n",
       "      <td>0.0</td>\n",
       "      <td>0.0</td>\n",
       "      <td>0.0</td>\n",
       "      <td>-0.758826</td>\n",
       "      <td>1.801647</td>\n",
       "      <td>-1.115804</td>\n",
       "      <td>-0.431564</td>\n",
       "    </tr>\n",
       "    <tr>\n",
       "      <th>20636</th>\n",
       "      <td>-1.427361</td>\n",
       "      <td>0.171425</td>\n",
       "      <td>0.592821</td>\n",
       "      <td>-1.556094</td>\n",
       "      <td>-1.697841</td>\n",
       "      <td>-0.649557</td>\n",
       "      <td>0.0</td>\n",
       "      <td>1.0</td>\n",
       "      <td>0.0</td>\n",
       "      <td>0.0</td>\n",
       "      <td>0.0</td>\n",
       "      <td>-0.818722</td>\n",
       "      <td>1.806329</td>\n",
       "      <td>-1.124470</td>\n",
       "      <td>-1.247941</td>\n",
       "    </tr>\n",
       "    <tr>\n",
       "      <th>20637</th>\n",
       "      <td>0.182203</td>\n",
       "      <td>0.170756</td>\n",
       "      <td>0.007109</td>\n",
       "      <td>-0.148116</td>\n",
       "      <td>0.122682</td>\n",
       "      <td>-1.516731</td>\n",
       "      <td>0.0</td>\n",
       "      <td>1.0</td>\n",
       "      <td>0.0</td>\n",
       "      <td>0.0</td>\n",
       "      <td>0.0</td>\n",
       "      <td>-0.823713</td>\n",
       "      <td>1.778237</td>\n",
       "      <td>-0.992746</td>\n",
       "      <td>-1.247941</td>\n",
       "    </tr>\n",
       "    <tr>\n",
       "      <th>20638</th>\n",
       "      <td>-0.051560</td>\n",
       "      <td>0.259970</td>\n",
       "      <td>0.092805</td>\n",
       "      <td>-0.563455</td>\n",
       "      <td>-0.171521</td>\n",
       "      <td>-1.317404</td>\n",
       "      <td>0.0</td>\n",
       "      <td>1.0</td>\n",
       "      <td>0.0</td>\n",
       "      <td>0.0</td>\n",
       "      <td>0.0</td>\n",
       "      <td>-0.873626</td>\n",
       "      <td>1.778237</td>\n",
       "      <td>-1.058608</td>\n",
       "      <td>-1.247941</td>\n",
       "    </tr>\n",
       "    <tr>\n",
       "      <th>20639</th>\n",
       "      <td>0.510144</td>\n",
       "      <td>0.284068</td>\n",
       "      <td>0.041343</td>\n",
       "      <td>0.285418</td>\n",
       "      <td>0.398431</td>\n",
       "      <td>-0.794145</td>\n",
       "      <td>0.0</td>\n",
       "      <td>1.0</td>\n",
       "      <td>0.0</td>\n",
       "      <td>0.0</td>\n",
       "      <td>0.0</td>\n",
       "      <td>-0.833696</td>\n",
       "      <td>1.750146</td>\n",
       "      <td>-1.017878</td>\n",
       "      <td>-1.247941</td>\n",
       "    </tr>\n",
       "  </tbody>\n",
       "</table>\n",
       "<p>20640 rows × 15 columns</p>\n",
       "</div>"
      ],
      "text/plain": [
       "       log__total_bedrooms  log__bedrooms_ratio  log__rooms_per_house  \\\n",
       "0                -1.634226            -1.407397              1.077275   \n",
       "1                 1.312871            -1.156957              0.665987   \n",
       "2                -1.103136            -1.916626              1.700570   \n",
       "3                -0.811591            -0.462560              0.411708   \n",
       "4                -0.571285            -0.747815              0.691414   \n",
       "...                    ...                  ...                   ...   \n",
       "20635            -0.174260             0.347522             -0.106624   \n",
       "20636            -1.427361             0.171425              0.592821   \n",
       "20637             0.182203             0.170756              0.007109   \n",
       "20638            -0.051560             0.259970              0.092805   \n",
       "20639             0.510144             0.284068              0.041343   \n",
       "\n",
       "       log__population  log__households  log__median_income  \\\n",
       "0            -1.692016        -1.561311            1.858786   \n",
       "1             1.028461         1.440853            1.852703   \n",
       "2            -1.107018        -1.097678            1.567130   \n",
       "3            -0.947530        -0.807218            1.032566   \n",
       "4            -0.930649        -0.578372            0.218044   \n",
       "...                ...              ...                 ...   \n",
       "20635        -0.385615        -0.247885           -1.698929   \n",
       "20636        -1.556094        -1.697841           -0.649557   \n",
       "20637        -0.148116         0.122682           -1.516731   \n",
       "20638        -0.563455        -0.171521           -1.317404   \n",
       "20639         0.285418         0.398431           -0.794145   \n",
       "\n",
       "       cat__ocean_proximity_<1H OCEAN  cat__ocean_proximity_INLAND  \\\n",
       "0                                 0.0                          0.0   \n",
       "1                                 0.0                          0.0   \n",
       "2                                 0.0                          0.0   \n",
       "3                                 0.0                          0.0   \n",
       "4                                 0.0                          0.0   \n",
       "...                               ...                          ...   \n",
       "20635                             0.0                          1.0   \n",
       "20636                             0.0                          1.0   \n",
       "20637                             0.0                          1.0   \n",
       "20638                             0.0                          1.0   \n",
       "20639                             0.0                          1.0   \n",
       "\n",
       "       cat__ocean_proximity_ISLAND  cat__ocean_proximity_NEAR BAY  \\\n",
       "0                              0.0                            1.0   \n",
       "1                              0.0                            1.0   \n",
       "2                              0.0                            1.0   \n",
       "3                              0.0                            1.0   \n",
       "4                              0.0                            1.0   \n",
       "...                            ...                            ...   \n",
       "20635                          0.0                            0.0   \n",
       "20636                          0.0                            0.0   \n",
       "20637                          0.0                            0.0   \n",
       "20638                          0.0                            0.0   \n",
       "20639                          0.0                            0.0   \n",
       "\n",
       "       cat__ocean_proximity_NEAR OCEAN  remainder__longitude  \\\n",
       "0                                  0.0             -1.327835   \n",
       "1                                  0.0             -1.322844   \n",
       "2                                  0.0             -1.332827   \n",
       "3                                  0.0             -1.337818   \n",
       "4                                  0.0             -1.337818   \n",
       "...                                ...                   ...   \n",
       "20635                              0.0             -0.758826   \n",
       "20636                              0.0             -0.818722   \n",
       "20637                              0.0             -0.823713   \n",
       "20638                              0.0             -0.873626   \n",
       "20639                              0.0             -0.833696   \n",
       "\n",
       "       remainder__latitude  remainder__median_house_value  remainder__age_cat  \n",
       "0                 1.052548                       2.129631            1.201189  \n",
       "1                 1.043185                       1.314156           -0.431564  \n",
       "2                 1.038503                       1.258693            2.017566  \n",
       "3                 1.038503                       1.165100            2.017566  \n",
       "4                 1.038503                       1.172900            2.017566  \n",
       "...                    ...                            ...                 ...  \n",
       "20635             1.801647                      -1.115804           -0.431564  \n",
       "20636             1.806329                      -1.124470           -1.247941  \n",
       "20637             1.778237                      -0.992746           -1.247941  \n",
       "20638             1.778237                      -1.058608           -1.247941  \n",
       "20639             1.750146                      -1.017878           -1.247941  \n",
       "\n",
       "[20640 rows x 15 columns]"
      ]
     },
     "execution_count": 46,
     "metadata": {},
     "output_type": "execute_result"
    }
   ],
   "source": [
    "pd.DataFrame(feat_eng.fit_transform(ratio(data)),columns = feat_eng.get_feature_names_out(),\n",
    "             index = ratio(data).index)"
   ]
  },
  {
   "cell_type": "markdown",
   "id": "60cb2bab-7f18-4a8a-bc62-46284083203b",
   "metadata": {},
   "source": [
    "It appears the pipeline works, I will now split into training and test sets before building the model. Note in train and test sets I will first separate target feature. I will not be transforming feature."
   ]
  },
  {
   "cell_type": "markdown",
   "id": "6f5aa103-cb93-455d-b1aa-4bbf2a101e23",
   "metadata": {},
   "source": [
    "## Train and Test sets"
   ]
  },
  {
   "cell_type": "markdown",
   "id": "85320472-c5bd-4d7c-8e93-bc1addfcb570",
   "metadata": {},
   "source": [
    "Since I cut the median house age group I will assume a stratified random split will be more efficient. Lets test this"
   ]
  },
  {
   "cell_type": "code",
   "execution_count": 47,
   "id": "5c96922f-a399-4762-8b36-32178b1b9f9b",
   "metadata": {},
   "outputs": [],
   "source": [
    "#first define feature and target sets\n",
    "y = data['median_house_value']\n",
    "X = ratio(data).drop('median_house_value',axis=1)"
   ]
  },
  {
   "cell_type": "code",
   "execution_count": 48,
   "id": "4d6fee89-0f96-4d66-b267-04e940d20c50",
   "metadata": {},
   "outputs": [
    {
     "data": {
      "text/html": [
       "<div>\n",
       "<style scoped>\n",
       "    .dataframe tbody tr th:only-of-type {\n",
       "        vertical-align: middle;\n",
       "    }\n",
       "\n",
       "    .dataframe tbody tr th {\n",
       "        vertical-align: top;\n",
       "    }\n",
       "\n",
       "    .dataframe thead th {\n",
       "        text-align: right;\n",
       "    }\n",
       "</style>\n",
       "<table border=\"1\" class=\"dataframe\">\n",
       "  <thead>\n",
       "    <tr style=\"text-align: right;\">\n",
       "      <th></th>\n",
       "      <th>longitude</th>\n",
       "      <th>latitude</th>\n",
       "      <th>total_bedrooms</th>\n",
       "      <th>population</th>\n",
       "      <th>households</th>\n",
       "      <th>median_income</th>\n",
       "      <th>ocean_proximity</th>\n",
       "      <th>rooms_per_house</th>\n",
       "      <th>bedrooms_ratio</th>\n",
       "      <th>age_cat</th>\n",
       "    </tr>\n",
       "  </thead>\n",
       "  <tbody>\n",
       "    <tr>\n",
       "      <th>0</th>\n",
       "      <td>-122.23</td>\n",
       "      <td>37.88</td>\n",
       "      <td>129.0</td>\n",
       "      <td>322.0</td>\n",
       "      <td>126.0</td>\n",
       "      <td>8.3252</td>\n",
       "      <td>NEAR BAY</td>\n",
       "      <td>6.984127</td>\n",
       "      <td>0.146591</td>\n",
       "      <td>4</td>\n",
       "    </tr>\n",
       "    <tr>\n",
       "      <th>1</th>\n",
       "      <td>-122.22</td>\n",
       "      <td>37.86</td>\n",
       "      <td>1106.0</td>\n",
       "      <td>2401.0</td>\n",
       "      <td>1138.0</td>\n",
       "      <td>8.3014</td>\n",
       "      <td>NEAR BAY</td>\n",
       "      <td>6.238137</td>\n",
       "      <td>0.155797</td>\n",
       "      <td>2</td>\n",
       "    </tr>\n",
       "    <tr>\n",
       "      <th>2</th>\n",
       "      <td>-122.24</td>\n",
       "      <td>37.85</td>\n",
       "      <td>190.0</td>\n",
       "      <td>496.0</td>\n",
       "      <td>177.0</td>\n",
       "      <td>7.2574</td>\n",
       "      <td>NEAR BAY</td>\n",
       "      <td>8.288136</td>\n",
       "      <td>0.129516</td>\n",
       "      <td>5</td>\n",
       "    </tr>\n",
       "    <tr>\n",
       "      <th>3</th>\n",
       "      <td>-122.25</td>\n",
       "      <td>37.85</td>\n",
       "      <td>235.0</td>\n",
       "      <td>558.0</td>\n",
       "      <td>219.0</td>\n",
       "      <td>5.6431</td>\n",
       "      <td>NEAR BAY</td>\n",
       "      <td>5.817352</td>\n",
       "      <td>0.184458</td>\n",
       "      <td>5</td>\n",
       "    </tr>\n",
       "    <tr>\n",
       "      <th>4</th>\n",
       "      <td>-122.25</td>\n",
       "      <td>37.85</td>\n",
       "      <td>280.0</td>\n",
       "      <td>565.0</td>\n",
       "      <td>259.0</td>\n",
       "      <td>3.8462</td>\n",
       "      <td>NEAR BAY</td>\n",
       "      <td>6.281853</td>\n",
       "      <td>0.172096</td>\n",
       "      <td>5</td>\n",
       "    </tr>\n",
       "  </tbody>\n",
       "</table>\n",
       "</div>"
      ],
      "text/plain": [
       "   longitude  latitude  total_bedrooms  population  households  median_income  \\\n",
       "0    -122.23     37.88           129.0       322.0       126.0         8.3252   \n",
       "1    -122.22     37.86          1106.0      2401.0      1138.0         8.3014   \n",
       "2    -122.24     37.85           190.0       496.0       177.0         7.2574   \n",
       "3    -122.25     37.85           235.0       558.0       219.0         5.6431   \n",
       "4    -122.25     37.85           280.0       565.0       259.0         3.8462   \n",
       "\n",
       "  ocean_proximity  rooms_per_house  bedrooms_ratio age_cat  \n",
       "0        NEAR BAY         6.984127        0.146591       4  \n",
       "1        NEAR BAY         6.238137        0.155797       2  \n",
       "2        NEAR BAY         8.288136        0.129516       5  \n",
       "3        NEAR BAY         5.817352        0.184458       5  \n",
       "4        NEAR BAY         6.281853        0.172096       5  "
      ]
     },
     "execution_count": 48,
     "metadata": {},
     "output_type": "execute_result"
    }
   ],
   "source": [
    "X.head()"
   ]
  },
  {
   "cell_type": "code",
   "execution_count": 49,
   "id": "75fc631a-75fb-464d-a7cc-734c41399ce0",
   "metadata": {},
   "outputs": [],
   "source": [
    "from sklearn.model_selection import train_test_split\n",
    "\n",
    "#create random split\n",
    "\n",
    "Xtrain, Xtest = train_test_split(X, test_size=0.2, random_state=42)\n",
    "\n",
    "#create stratified split\n",
    "\n",
    "Xtrain_s, Xtest_s = train_test_split(X,test_size=0.2, random_state=42, stratify = X.age_cat)"
   ]
  },
  {
   "cell_type": "code",
   "execution_count": 50,
   "id": "e3758f5a-8bca-4963-aec9-0029412d4dbc",
   "metadata": {},
   "outputs": [
    {
     "name": "stdout",
     "output_type": "stream",
     "text": [
      "X\n",
      "age_cat\n",
      "2    0.258866\n",
      "1    0.258043\n",
      "3    0.243508\n",
      "4    0.175581\n",
      "5    0.064002\n",
      "Name: count, dtype: float64\n",
      "Xtrain\n",
      "age_cat\n",
      "1    0.260901\n",
      "2    0.256722\n",
      "3    0.244004\n",
      "4    0.173934\n",
      "5    0.064438\n",
      "Name: count, dtype: float64\n",
      "Xtrain_s\n",
      "age_cat\n",
      "2    0.258842\n",
      "1    0.258055\n",
      "3    0.243520\n",
      "4    0.175569\n",
      "5    0.064014\n",
      "Name: count, dtype: float64\n"
     ]
    }
   ],
   "source": [
    "#compare age_cat columns in both train sets\n",
    "a = X.age_cat.value_counts()/len(X)\n",
    "b=Xtrain.age_cat.value_counts()/len(Xtrain)\n",
    "c= Xtrain_s.age_cat.value_counts()/len(Xtrain_s)\n",
    "print('X')\n",
    "print(a)\n",
    "print('Xtrain')\n",
    "print(b)\n",
    "print('Xtrain_s')\n",
    "print(c)"
   ]
  },
  {
   "cell_type": "markdown",
   "id": "202a7568-2267-401a-9ab0-dd30a2a3e16e",
   "metadata": {},
   "source": [
    "I can see the stratified sample has same proportions as X for age_cat so it make sense to use this method for splitting."
   ]
  },
  {
   "cell_type": "code",
   "execution_count": 51,
   "id": "77545417-63a1-4771-b9ad-bc832110d327",
   "metadata": {},
   "outputs": [],
   "source": [
    "#Create final train and test sets\n",
    "#apply feat eng pipeline on X\n",
    "X_feat = feat_eng.fit_transform(X)\n",
    "Xtrain, Xtest, ytrain, ytest = train_test_split(X_feat,y,test_size=0.2, random_state=42,\n",
    "                                                stratify = X.age_cat)"
   ]
  },
  {
   "cell_type": "markdown",
   "id": "a757fc69-d643-4a78-87bd-421b47a9e7fb",
   "metadata": {},
   "source": [
    "## Building Models  \n",
    "I will first test a few different models. The model that performs best I will then do hyperparameter tuning on"
   ]
  },
  {
   "cell_type": "markdown",
   "id": "ab07cd06-aa76-42e2-8b81-a606d747f77d",
   "metadata": {},
   "source": [
    "### Linear Model"
   ]
  },
  {
   "cell_type": "code",
   "execution_count": 52,
   "id": "21a5f85e-ef4b-4a05-b8a5-8e5943ac165c",
   "metadata": {},
   "outputs": [
    {
     "name": "stdout",
     "output_type": "stream",
     "text": [
      "RMSE 68770.63\n",
      "R2 score 0.6379416876015147\n"
     ]
    }
   ],
   "source": [
    "#Build the first model using linear regression\n",
    "from sklearn.linear_model import LinearRegression\n",
    "from sklearn.metrics import mean_squared_error, r2_score\n",
    "\n",
    "#initial model\n",
    "lr = LinearRegression()\n",
    "\n",
    "#fit model\n",
    "lr_model = lr.fit(Xtrain, ytrain)\n",
    "\n",
    "#get pred\n",
    "lr_pred = lr_model.predict(Xtest)\n",
    "\n",
    "#calculate model performance\n",
    "mse = mean_squared_error(ytest,lr_pred)\n",
    "rmse = round(np.sqrt(mse),2)\n",
    "r2 = r2_score(ytest, lr_pred)\n",
    "\n",
    "print(f'RMSE {rmse}')\n",
    "print(f'R2 score {r2}')"
   ]
  },
  {
   "cell_type": "markdown",
   "id": "a69d58bd-7dad-4ed8-ae72-eb9903af82e5",
   "metadata": {},
   "source": [
    "RSME means error in house price prediction, 68770.63 is far off. I will need a better model."
   ]
  },
  {
   "cell_type": "markdown",
   "id": "da905e4a-8616-4427-af16-3e75f0535cdb",
   "metadata": {},
   "source": [
    "### Model 2"
   ]
  },
  {
   "cell_type": "code",
   "execution_count": 53,
   "id": "e5fcb93e-c614-4b94-8048-6ea488bfd953",
   "metadata": {},
   "outputs": [
    {
     "name": "stdout",
     "output_type": "stream",
     "text": [
      "RMSE 108995.75\n",
      "R2 score 0.090523003846526\n"
     ]
    }
   ],
   "source": [
    "#build svm model\n",
    "from sklearn.svm import SVR\n",
    "\n",
    "#initial model\n",
    "svr = SVR(kernel='linear')\n",
    "svr_model = svr.fit(Xtrain, ytrain)\n",
    "#get pred\n",
    "svr_pred = svr_model.predict(Xtest)\n",
    "\n",
    "#calculate model performance\n",
    "mse = mean_squared_error(ytest,svr_pred)\n",
    "rmse = round(np.sqrt(mse),2)\n",
    "r2 = r2_score(ytest, svr_pred)\n",
    "\n",
    "print(f'RMSE {rmse}')\n",
    "print(f'R2 score {r2}')"
   ]
  },
  {
   "cell_type": "code",
   "execution_count": 54,
   "id": "bb6d5ab1-1d6e-4fc9-b8bc-b4c2c859c0fd",
   "metadata": {},
   "outputs": [
    {
     "name": "stdout",
     "output_type": "stream",
     "text": [
      "RMSE 116352.81\n",
      "R2 score -0.03639734080693513\n"
     ]
    }
   ],
   "source": [
    "#linear svm performed poorly, try poly\n",
    "#build svm model\n",
    "from sklearn.svm import SVR\n",
    "\n",
    "#initial model\n",
    "svr = SVR(kernel='poly')\n",
    "svr_model = svr.fit(Xtrain, ytrain)\n",
    "#get pred\n",
    "svr_pred = svr_model.predict(Xtest)\n",
    "\n",
    "#calculate model performance\n",
    "mse = mean_squared_error(ytest,svr_pred)\n",
    "rmse = round(np.sqrt(mse),2)\n",
    "r2 = r2_score(ytest, svr_pred)\n",
    "\n",
    "print(f'RMSE {rmse}')\n",
    "print(f'R2 score {r2}')"
   ]
  },
  {
   "cell_type": "code",
   "execution_count": 55,
   "id": "1bc169e6-bd1d-44a5-b71b-bfc579609a8a",
   "metadata": {},
   "outputs": [
    {
     "name": "stdout",
     "output_type": "stream",
     "text": [
      "RMSE 116696.0\n",
      "R2 score -0.04252024816824407\n"
     ]
    }
   ],
   "source": [
    "#poly performed worse, try rbf\n",
    "from sklearn.svm import SVR\n",
    "\n",
    "#initial model\n",
    "svr = SVR(kernel='rbf')\n",
    "svr_model = svr.fit(Xtrain, ytrain)\n",
    "#get pred\n",
    "svr_pred = svr_model.predict(Xtest)\n",
    "\n",
    "#calculate model performance\n",
    "mse = mean_squared_error(ytest,svr_pred)\n",
    "rmse = round(np.sqrt(mse),2)\n",
    "r2 = r2_score(ytest, svr_pred)\n",
    "\n",
    "print(f'RMSE {rmse}')\n",
    "print(f'R2 score {r2}')"
   ]
  },
  {
   "cell_type": "markdown",
   "id": "dab61e30-0a59-4c58-9fc5-017689260596",
   "metadata": {},
   "source": [
    "All svm base models performed worse than linear regression base. So svm won't be further explored."
   ]
  },
  {
   "cell_type": "markdown",
   "id": "c85b0dff-d9e7-4c8d-bf1f-624f1af64120",
   "metadata": {},
   "source": [
    "### Model 3"
   ]
  },
  {
   "cell_type": "code",
   "execution_count": 56,
   "id": "d9274087-cc08-4649-a45d-bbc98dc3b4ae",
   "metadata": {},
   "outputs": [
    {
     "name": "stdout",
     "output_type": "stream",
     "text": [
      "RMSE 68509.4\n",
      "R2 score 0.6406870238213207\n"
     ]
    }
   ],
   "source": [
    "#build decision tree model\n",
    "from sklearn.tree import DecisionTreeRegressor\n",
    "\n",
    "#initial model\n",
    "dtr = DecisionTreeRegressor()\n",
    "dtr_model = dtr.fit(Xtrain, ytrain)\n",
    "#get pred\n",
    "dtr_pred = dtr_model.predict(Xtest)\n",
    "\n",
    "#calculate model performance\n",
    "mse = mean_squared_error(ytest,dtr_pred)\n",
    "rmse = round(np.sqrt(mse),2)\n",
    "r2 = r2_score(ytest, dtr_pred)\n",
    "\n",
    "print(f'RMSE {rmse}')\n",
    "print(f'R2 score {r2}')"
   ]
  },
  {
   "cell_type": "markdown",
   "id": "4346debf-6f93-4df0-bdb9-f6b6f671e9ee",
   "metadata": {},
   "source": [
    "Similar results to linear regression"
   ]
  },
  {
   "cell_type": "markdown",
   "id": "adc1d1aa-8d9d-4aab-90e8-cc30185e6c44",
   "metadata": {},
   "source": [
    "### Model 4"
   ]
  },
  {
   "cell_type": "code",
   "execution_count": 57,
   "id": "09b7ee70-4344-48c8-accb-61bf8dc40c86",
   "metadata": {},
   "outputs": [
    {
     "name": "stdout",
     "output_type": "stream",
     "text": [
      "RMSE 60551.72\n",
      "R2 score 0.7193109032839349\n"
     ]
    }
   ],
   "source": [
    "#build KNN model\n",
    "from sklearn.neighbors import KNeighborsRegressor\n",
    "\n",
    "#initial model\n",
    "knn = KNeighborsRegressor()\n",
    "knn_model = knn.fit(Xtrain, ytrain)\n",
    "#get pred\n",
    "knn_pred = knn_model.predict(Xtest)\n",
    "\n",
    "#calculate model performance\n",
    "mse = mean_squared_error(ytest,knn_pred)\n",
    "rmse = round(np.sqrt(mse),2)\n",
    "r2 = r2_score(ytest, knn_pred)\n",
    "\n",
    "print(f'RMSE {rmse}')\n",
    "print(f'R2 score {r2}')"
   ]
  },
  {
   "cell_type": "markdown",
   "id": "ac232910-6c6f-4701-b854-a2fbffff2e0d",
   "metadata": {},
   "source": [
    "Better performance than others so far."
   ]
  },
  {
   "cell_type": "markdown",
   "id": "40b14fcd-3c4a-4146-9735-23f803a20241",
   "metadata": {},
   "source": [
    "### Model 5\n"
   ]
  },
  {
   "cell_type": "code",
   "execution_count": 58,
   "id": "dd604755-e718-47ac-8302-b8a099737f32",
   "metadata": {},
   "outputs": [
    {
     "name": "stdout",
     "output_type": "stream",
     "text": [
      "RMSE 47973.64\n",
      "R2 score 0.8238113736667438\n"
     ]
    }
   ],
   "source": [
    "#build random forest model\n",
    "from sklearn.ensemble import RandomForestRegressor\n",
    "\n",
    "#initial model\n",
    "rfr = RandomForestRegressor()\n",
    "rfr_model = rfr.fit(Xtrain, ytrain)\n",
    "#get pred\n",
    "rfr_pred = rfr_model.predict(Xtest)\n",
    "\n",
    "#calculate model performance\n",
    "mse = mean_squared_error(ytest,rfr_pred)\n",
    "rmse = round(np.sqrt(mse),2)\n",
    "r2 = r2_score(ytest, rfr_pred)\n",
    "\n",
    "print(f'RMSE {rmse}')\n",
    "print(f'R2 score {r2}')"
   ]
  },
  {
   "cell_type": "markdown",
   "id": "1efbbfb4-7aec-42e2-89e7-b861eca52cf9",
   "metadata": {},
   "source": [
    "Huge increase in peformance, best so far."
   ]
  },
  {
   "cell_type": "markdown",
   "id": "394b0e45-b237-4e6e-bbcf-a5d23e81f3b7",
   "metadata": {},
   "source": [
    "### Model 6"
   ]
  },
  {
   "cell_type": "code",
   "execution_count": 59,
   "id": "ca386b5e-e9e0-4f2c-8873-25be1712acd4",
   "metadata": {},
   "outputs": [
    {
     "name": "stdout",
     "output_type": "stream",
     "text": [
      "RMSE 162672.74\n",
      "R2 score -1.0258258359844108\n"
     ]
    },
    {
     "name": "stderr",
     "output_type": "stream",
     "text": [
      "C:\\Users\\natha\\anaconda3\\Lib\\site-packages\\sklearn\\neural_network\\_multilayer_perceptron.py:686: ConvergenceWarning: Stochastic Optimizer: Maximum iterations (200) reached and the optimization hasn't converged yet.\n",
      "  warnings.warn(\n"
     ]
    }
   ],
   "source": [
    "#build MLP model\n",
    "from sklearn.neural_network import MLPRegressor\n",
    "\n",
    "#initial model\n",
    "mlp = MLPRegressor()\n",
    "mlp_model = mlp.fit(Xtrain, ytrain)\n",
    "#get pred\n",
    "mlp_pred = mlp_model.predict(Xtest)\n",
    "\n",
    "#calculate model performance\n",
    "mse = mean_squared_error(ytest,mlp_pred)\n",
    "rmse = round(np.sqrt(mse),2)\n",
    "r2 = r2_score(ytest, mlp_pred)\n",
    "\n",
    "print(f'RMSE {rmse}')\n",
    "print(f'R2 score {r2}')"
   ]
  },
  {
   "cell_type": "markdown",
   "id": "e73b8a4c-d199-48a4-8527-275170990f67",
   "metadata": {},
   "source": [
    "Worst performance, will skip MLP."
   ]
  },
  {
   "cell_type": "markdown",
   "id": "bca54f0d-6429-4800-9d0d-0b0e781c3cbc",
   "metadata": {},
   "source": [
    "### Model 7"
   ]
  },
  {
   "cell_type": "code",
   "execution_count": 60,
   "id": "80a18c2e-1da8-41c9-b95d-e846c1fc03a8",
   "metadata": {},
   "outputs": [
    {
     "name": "stdout",
     "output_type": "stream",
     "text": [
      "RMSE 50671.37\n",
      "R2 score 0.803438775345606\n"
     ]
    }
   ],
   "source": [
    "#build bagging model\n",
    "from sklearn.ensemble import BaggingRegressor\n",
    "\n",
    "#initial model\n",
    "bgr = BaggingRegressor()\n",
    "bgr_model = bgr.fit(Xtrain, ytrain)\n",
    "#get pred\n",
    "bgr_pred = bgr_model.predict(Xtest)\n",
    "\n",
    "#calculate model performance\n",
    "mse = mean_squared_error(ytest,bgr_pred)\n",
    "rmse = round(np.sqrt(mse),2)\n",
    "r2 = r2_score(ytest, bgr_pred)\n",
    "\n",
    "print(f'RMSE {rmse}')\n",
    "print(f'R2 score {r2}')"
   ]
  },
  {
   "cell_type": "markdown",
   "id": "d7e9cf0e-9113-41bf-9c17-10c8add8cafc",
   "metadata": {},
   "source": [
    "Performed only slightly worse than Random Forest"
   ]
  },
  {
   "cell_type": "markdown",
   "id": "9d8a28d1-0bd0-48c5-b5d0-dd3e85ba56c5",
   "metadata": {},
   "source": [
    "### Model 8 "
   ]
  },
  {
   "cell_type": "code",
   "execution_count": 61,
   "id": "bfc835ef-bb37-4524-8913-fbb84ac2ed85",
   "metadata": {},
   "outputs": [
    {
     "name": "stdout",
     "output_type": "stream",
     "text": [
      "RMSE 47219.95\n",
      "R2 score 0.8293039038427006\n"
     ]
    }
   ],
   "source": [
    "#build hist gradient boosting model\n",
    "from sklearn.ensemble import HistGradientBoostingRegressor\n",
    "\n",
    "#initial model\n",
    "gbr = HistGradientBoostingRegressor()\n",
    "gbr_model = gbr.fit(Xtrain, ytrain)\n",
    "#get pred\n",
    "gbr_pred = gbr_model.predict(Xtest)\n",
    "\n",
    "#calculate model performance\n",
    "mse = mean_squared_error(ytest,gbr_pred)\n",
    "rmse = round(np.sqrt(mse),2)\n",
    "r2 = r2_score(ytest, gbr_pred)\n",
    "\n",
    "print(f'RMSE {rmse}')\n",
    "print(f'R2 score {r2}')"
   ]
  },
  {
   "cell_type": "markdown",
   "id": "454fb27a-0a5e-4901-9bbe-206e4b7f5dab",
   "metadata": {},
   "source": [
    "This model slilghlty outperformed Random Forest. I will see if stacking will improve."
   ]
  },
  {
   "cell_type": "markdown",
   "id": "3eb52ec9-60df-4627-a5a4-e9c085d21078",
   "metadata": {},
   "source": [
    "### Model 9"
   ]
  },
  {
   "cell_type": "code",
   "execution_count": null,
   "id": "9fa13539-df4b-4cbe-9dba-6155ee58e51f",
   "metadata": {},
   "outputs": [],
   "source": [
    "#build stacking regressor for 3 best models\n",
    "from sklearn.ensemble import StackingRegressor\n",
    "\n",
    "#initial model\n",
    "estimators = [\n",
    "    ('rf',rfr),\n",
    "    ('bg',bgr),\n",
    "    ('hgb',gbr)\n",
    "]\n",
    "stack = StackingRegressor(estimators=estimators,\n",
    "                          final_estimator = HistGradientBoostingRegressor(random_state=42))\n",
    "\n",
    "stack_model = stack.fit(Xtrain, ytrain)\n",
    "#get pred\n",
    "stack_pred = stack_model.predict(Xtest)\n",
    "\n",
    "#calculate model performance\n",
    "mse = mean_squared_error(ytest,stack_pred)\n",
    "rmse = round(np.sqrt(mse),2)\n",
    "r2 = r2_score(ytest, stack_pred)\n",
    "\n",
    "print(f'RMSE {rmse}')\n",
    "print(f'R2 score {r2}')"
   ]
  },
  {
   "cell_type": "markdown",
   "id": "ef8ca3eb-ad11-48c6-810c-823e81131bc0",
   "metadata": {},
   "source": [
    "The stacking gave a slight improvement."
   ]
  },
  {
   "cell_type": "markdown",
   "id": "149f607d-c265-4466-bc2a-85a45c582858",
   "metadata": {},
   "source": [
    "### Model 10"
   ]
  },
  {
   "cell_type": "code",
   "execution_count": 63,
   "id": "52afb0de-0f01-4f12-8014-f706b478a351",
   "metadata": {},
   "outputs": [
    {
     "name": "stdout",
     "output_type": "stream",
     "text": [
      "RMSE 46671.96\n",
      "R2 score 0.8332428088394441\n"
     ]
    }
   ],
   "source": [
    "#build voting regressor for 3 best models\n",
    "from sklearn.ensemble import VotingRegressor\n",
    "\n",
    "#initial model\n",
    "estimators = [\n",
    "    ('rf',rfr),\n",
    "    ('bg',bgr),\n",
    "    ('hgb',gbr)\n",
    "]\n",
    "vote = VotingRegressor(estimators=estimators, n_jobs=-1)\n",
    "                          \n",
    "vote_model = vote.fit(Xtrain, ytrain)\n",
    "#get pred\n",
    "vote_pred = vote_model.predict(Xtest)\n",
    "\n",
    "#calculate model performance\n",
    "mse = mean_squared_error(ytest,vote_pred)\n",
    "rmse = round(np.sqrt(mse),2)\n",
    "r2 = r2_score(ytest, vote_pred)\n",
    "\n",
    "print(f'RMSE {rmse}')\n",
    "print(f'R2 score {r2}')"
   ]
  },
  {
   "cell_type": "markdown",
   "id": "58db8697-bf0f-4f8f-8733-5bdb60e8c8b4",
   "metadata": {},
   "source": [
    "Performed slightly worse than stacking, but not by much."
   ]
  },
  {
   "cell_type": "code",
   "execution_count": 65,
   "id": "5ee21578-6c4c-4afa-81ce-4d598bb8762a",
   "metadata": {},
   "outputs": [
    {
     "name": "stdout",
     "output_type": "stream",
     "text": [
      "RMSE 46052.08\n",
      "R2 score 0.8376429620324733\n"
     ]
    }
   ],
   "source": [
    "import xgboost as xgb\n",
    "xgb = xgb.XGBRegressor(random_state=42)\n",
    "xgb.fit(Xtrain, ytrain)\n",
    "#get pred\n",
    "pred = xgb.predict(Xtest)\n",
    "\n",
    "#calculate model performance\n",
    "mse = mean_squared_error(ytest,pred)\n",
    "rmse = round(np.sqrt(mse),2)\n",
    "r2 = r2_score(ytest, pred)\n",
    "\n",
    "print(f'RMSE {rmse}')\n",
    "print(f'R2 score {r2}')"
   ]
  },
  {
   "cell_type": "markdown",
   "id": "1be33a91-83f0-4ffc-8f64-6c20d6cc39cf",
   "metadata": {},
   "source": [
    "## Cross Validation"
   ]
  },
  {
   "cell_type": "markdown",
   "id": "bfddd0a2-bed4-417c-9f4a-1301ef703629",
   "metadata": {},
   "source": [
    "I will perform cross validation on the best performing models"
   ]
  },
  {
   "cell_type": "code",
   "execution_count": null,
   "id": "a5945739-6279-4adf-afa2-b73c2b81506f",
   "metadata": {},
   "outputs": [],
   "source": [
    "#use 10 fold cross validation on random forest\n",
    "from sklearn.model_selection import cross_val_score\n",
    "\n",
    "rfr_cv = -cross_val_score(rfr, Xtrain, ytrain,\n",
    "                              scoring ='neg_root_mean_squared_error', cv=10)"
   ]
  },
  {
   "cell_type": "code",
   "execution_count": null,
   "id": "379bc099-85f8-4b49-a3e3-01455633174e",
   "metadata": {},
   "outputs": [],
   "source": [
    "pd.Series(rfr_cv).describe()"
   ]
  },
  {
   "cell_type": "markdown",
   "id": "0c2931cf-e2ad-4706-81ea-d5c8dff2d0ac",
   "metadata": {},
   "source": [
    "Mean rmse is slightly higher than first random forest model on train data. This shows model generalises well with random forest"
   ]
  },
  {
   "cell_type": "code",
   "execution_count": null,
   "id": "b422a4ab-85a4-4ea2-b1b7-87cbdb7ec88d",
   "metadata": {},
   "outputs": [],
   "source": [
    "#use 10 fold cross validation on bagging\n",
    "from sklearn.model_selection import cross_val_score\n",
    "\n",
    "bgr_cv = -cross_val_score(bgr, Xtrain, ytrain,\n",
    "                              scoring ='neg_root_mean_squared_error', cv=10)"
   ]
  },
  {
   "cell_type": "code",
   "execution_count": null,
   "id": "ad6f247e-7262-43f5-a937-4b9d51d70971",
   "metadata": {},
   "outputs": [],
   "source": [
    "pd.Series(bgr_cv).describe()"
   ]
  },
  {
   "cell_type": "markdown",
   "id": "eecdfa37-b8ec-4459-b51b-5088e4a4b8a5",
   "metadata": {},
   "source": [
    "Again slightly higher than on train set."
   ]
  },
  {
   "cell_type": "code",
   "execution_count": null,
   "id": "ed9eb6e2-fcfc-4a3c-8065-31a715744be8",
   "metadata": {},
   "outputs": [],
   "source": [
    "#use 10 fold cross validation on hist gradient\n",
    "from sklearn.model_selection import cross_val_score\n",
    "\n",
    "gbr_cv = -cross_val_score(gbr, Xtrain, ytrain,\n",
    "                              scoring ='neg_root_mean_squared_error', cv=10)"
   ]
  },
  {
   "cell_type": "code",
   "execution_count": null,
   "id": "870b8c6b-5340-4c87-8d3b-a523f3872396",
   "metadata": {},
   "outputs": [],
   "source": [
    "pd.Series(gbr_cv).describe()"
   ]
  },
  {
   "cell_type": "markdown",
   "id": "c286103b-fdb0-4fd3-9ab0-4ed0e7803dd5",
   "metadata": {},
   "source": [
    "Near identical performance, marginally higher than train data. Hist gradient boosting generalises well."
   ]
  },
  {
   "cell_type": "markdown",
   "id": "e61afe42-a4dd-4e28-ba2b-7547e3ee07eb",
   "metadata": {},
   "source": [
    "## Hyperparameter tuning"
   ]
  },
  {
   "cell_type": "code",
   "execution_count": null,
   "id": "4609480b-18c2-4bc9-895b-92edb93bd8c7",
   "metadata": {},
   "outputs": [],
   "source": [
    "#perform randomized search for Random Forest model\n",
    "from sklearn.model_selection import RandomizedSearchCV\n",
    "\n",
    "rf = RandomForestRegressor(random_state=0)\n",
    "distributions = dict(\n",
    "    n_estimators=[50, 100, 200],\n",
    "    criterion=['squared_error', 'absolute_error', 'friedman_mse', 'poisson'],\n",
    "    min_samples_split=[2, 5, 10],  # Adjusted to valid values\n",
    "    max_features=['sqrt', 'log2', None]\n",
    ")\n",
    "\n",
    "search = RandomizedSearchCV(rf, distributions,random_state=0)\n",
    "search_model = search.fit(Xtrain,ytrain)\n",
    "search_model.best_params_\n"
   ]
  },
  {
   "cell_type": "code",
   "execution_count": null,
   "id": "3e0c84a0-f77c-4170-8632-a2a86173cbd4",
   "metadata": {},
   "outputs": [],
   "source": [
    "#fit best model to see performance\n",
    "from sklearn.ensemble import RandomForestRegressor\n",
    "\n",
    "rfr = RandomForestRegressor(n_estimators=100,\n",
    "                           min_samples_split=2,\n",
    "                           max_features=None,\n",
    "                           criterion='poisson',\n",
    "                           random_state=0)\n",
    "rfr_model = rfr.fit(Xtrain, ytrain)\n",
    "#get pred\n",
    "rfr_pred = rfr_model.predict(Xtest)\n",
    "\n",
    "#calculate model performance\n",
    "mse = mean_squared_error(ytest,rfr_pred)\n",
    "rmse = round(np.sqrt(mse),2)\n",
    "r2 = r2_score(ytest, rfr_pred)\n",
    "\n",
    "print(f'RMSE {rmse}')\n",
    "print(f'R2 score {r2}')"
   ]
  },
  {
   "cell_type": "markdown",
   "id": "e8250daa-cca3-4e7d-88b5-d416b1d49b55",
   "metadata": {},
   "source": [
    "This is barely an improvment from original model."
   ]
  },
  {
   "cell_type": "code",
   "execution_count": null,
   "id": "95ffd4a2-66bf-4713-9bc2-9c03eb993ad5",
   "metadata": {},
   "outputs": [],
   "source": [
    "#perform randomized search for Bagging model\n",
    "from sklearn.model_selection import RandomizedSearchCV\n",
    "\n",
    "bg = BaggingRegressor(random_state=0)\n",
    "distributions = dict(estimator=[None, RandomForestRegressor(), HistGradientBoostingRegressor()],\n",
    "                    n_estimators = [5,10,20],\n",
    "                     max_features = [0.4,0.7,1])\n",
    "\n",
    "search = RandomizedSearchCV(bg, distributions,random_state=0)\n",
    "search_model = search.fit(Xtrain,ytrain)\n",
    "search_model.best_params_\n"
   ]
  },
  {
   "cell_type": "code",
   "execution_count": null,
   "id": "fb84eef5-fe19-4f0d-837f-42f339cedf3a",
   "metadata": {},
   "outputs": [],
   "source": [
    "#build bagging model using best estimators\n",
    "from sklearn.ensemble import BaggingRegressor\n",
    "\n",
    "#initial model\n",
    "bgr = BaggingRegressor(estimator=HistGradientBoostingRegressor(),\n",
    "                      n_estimators=20,\n",
    "                      max_features=0.7,\n",
    "                      random_state=0)\n",
    "bgr_model = bgr.fit(Xtrain, ytrain)\n",
    "#get pred\n",
    "bgr_pred = bgr_model.predict(Xtest)\n",
    "\n",
    "#calculate model performance\n",
    "mse = mean_squared_error(ytest,bgr_pred)\n",
    "rmse = round(np.sqrt(mse),2)\n",
    "r2 = r2_score(ytest, bgr_pred)\n",
    "\n",
    "print(f'RMSE {rmse}')\n",
    "print(f'R2 score {r2}')"
   ]
  },
  {
   "cell_type": "markdown",
   "id": "520b03c7-f7e2-4daa-af98-413803f27899",
   "metadata": {},
   "source": [
    "This model performed slightly better than original. Lets test if higher n_estimators improves model."
   ]
  },
  {
   "cell_type": "code",
   "execution_count": null,
   "id": "fc5d4dca-05bb-4407-aee2-bf90fa339658",
   "metadata": {},
   "outputs": [],
   "source": [
    "#trying higher n_estimators\n",
    "from sklearn.ensemble import BaggingRegressor\n",
    "\n",
    "#initial model\n",
    "bgr = BaggingRegressor(estimator=HistGradientBoostingRegressor(),\n",
    "                      n_estimators=30,\n",
    "                      max_features=0.7,\n",
    "                      random_state=0)\n",
    "bgr_model = bgr.fit(Xtrain, ytrain)\n",
    "#get pred\n",
    "bgr_pred = bgr_model.predict(Xtest)\n",
    "\n",
    "#calculate model performance\n",
    "mse = mean_squared_error(ytest,bgr_pred)\n",
    "rmse = round(np.sqrt(mse),2)\n",
    "r2 = r2_score(ytest, bgr_pred)\n",
    "\n",
    "print(f'RMSE {rmse}')\n",
    "print(f'R2 score {r2}')"
   ]
  },
  {
   "cell_type": "code",
   "execution_count": null,
   "id": "cb3b12a3-1036-4bd0-a9bf-21e5b2534aa5",
   "metadata": {},
   "outputs": [],
   "source": [
    "#trying higher n_estimators\n",
    "from sklearn.ensemble import BaggingRegressor\n",
    "\n",
    "#initial model\n",
    "bgr = BaggingRegressor(estimator=HistGradientBoostingRegressor(),\n",
    "                      n_estimators=40,\n",
    "                      max_features=0.7,\n",
    "                      random_state=0)\n",
    "bgr_model = bgr.fit(Xtrain, ytrain)\n",
    "#get pred\n",
    "bgr_pred = bgr_model.predict(Xtest)\n",
    "\n",
    "#calculate model performance\n",
    "mse = mean_squared_error(ytest,bgr_pred)\n",
    "rmse = round(np.sqrt(mse),2)\n",
    "r2 = r2_score(ytest, bgr_pred)\n",
    "\n",
    "print(f'RMSE {rmse}')\n",
    "print(f'R2 score {r2}')"
   ]
  },
  {
   "cell_type": "code",
   "execution_count": null,
   "id": "bcae7594-2a14-4f1b-bced-3344ddadf924",
   "metadata": {},
   "outputs": [],
   "source": [
    "#trying higher n_estimators\n",
    "from sklearn.ensemble import BaggingRegressor\n",
    "\n",
    "#initial model\n",
    "bgr = BaggingRegressor(estimator=HistGradientBoostingRegressor(),\n",
    "                      n_estimators=50,\n",
    "                      max_features=0.7,\n",
    "                      random_state=0)\n",
    "bgr_model = bgr.fit(Xtrain, ytrain)\n",
    "#get pred\n",
    "bgr_pred = bgr_model.predict(Xtest)\n",
    "\n",
    "#calculate model performance\n",
    "mse = mean_squared_error(ytest,bgr_pred)\n",
    "rmse = round(np.sqrt(mse),2)\n",
    "r2 = r2_score(ytest, bgr_pred)\n",
    "\n",
    "print(f'RMSE {rmse}')\n",
    "print(f'R2 score {r2}')"
   ]
  },
  {
   "cell_type": "markdown",
   "id": "83db13fe-1464-4b89-a781-637f3b68c979",
   "metadata": {},
   "source": [
    "40 estimators gave best model with a much better model than original comparable to the Random Forest Method"
   ]
  },
  {
   "cell_type": "code",
   "execution_count": null,
   "id": "da26f95c-6ffd-4ab6-9523-582da58a45f1",
   "metadata": {},
   "outputs": [],
   "source": [
    "#perform randomized search for Hist Graddient model\n",
    "from sklearn.model_selection import RandomizedSearchCV\n",
    "\n",
    "hgb = HistGradientBoostingRegressor(random_state=0)\n",
    "distributions = dict(\n",
    "    loss=['squared_error', 'absolute_error', 'poisson', 'quantile'],\n",
    "    learning_rate=[0.1, 0.5, 1],\n",
    "    max_iter=[50, 100, 200],\n",
    "    l2_regularization=[0, 0.5, 1],\n",
    "    quantile=[0.1, 0.5, 0.9]  \n",
    ")\n",
    "\n",
    "search = RandomizedSearchCV(hgb, distributions,random_state=0,n_iter = 10, cv=3,\n",
    "    scoring = 'neg_root_mean_squared_error')\n",
    "search_model = search.fit(Xtrain,ytrain)\n",
    "search_model.best_params_\n"
   ]
  },
  {
   "cell_type": "code",
   "execution_count": null,
   "id": "f278e348-501f-4104-aa16-6fefaadc692b",
   "metadata": {},
   "outputs": [],
   "source": [
    "#build hist gradient boosting model with best parameters\n",
    "from sklearn.ensemble import HistGradientBoostingRegressor\n",
    "\n",
    "gbr = HistGradientBoostingRegressor(max_iter=200,\n",
    "                                    quantile = 0.1,\n",
    "                                   loss='absolute_error',\n",
    "                                   learning_rate=0.1,\n",
    "                                   l2_regularization=0)\n",
    "gbr_model = gbr.fit(Xtrain, ytrain)\n",
    "#get pred\n",
    "gbr_pred = gbr_model.predict(Xtest)\n",
    "\n",
    "#calculate model performance\n",
    "mse = mean_squared_error(ytest,gbr_pred)\n",
    "rmse = round(np.sqrt(mse),2)\n",
    "r2 = r2_score(ytest, gbr_pred)\n",
    "\n",
    "print(f'RMSE {rmse}')\n",
    "print(f'R2 score {r2}')"
   ]
  },
  {
   "cell_type": "markdown",
   "id": "81b55045-add1-4066-85d9-06d02f536c9b",
   "metadata": {},
   "source": [
    "A marginal improvement. "
   ]
  },
  {
   "cell_type": "code",
   "execution_count": null,
   "id": "02d26b3a-a57d-4402-97ce-ac2136fbc3d1",
   "metadata": {},
   "outputs": [],
   "source": [
    "#build a stacker with all 3 optimal models\n",
    "from sklearn.ensemble import StackingRegressor\n",
    "\n",
    "#initial model\n",
    "estimators = [\n",
    "    ('rf',rfr),\n",
    "    ('bg',bgr),\n",
    "    ('hgb',gbr)\n",
    "]\n",
    "stack = StackingRegressor(estimators=estimators,\n",
    "                          final_estimator = HistGradientBoostingRegressor(random_state=42))\n",
    "\n",
    "stack_model = stack.fit(Xtrain, ytrain)\n",
    "#get pred\n",
    "stack_pred = stack_model.predict(Xtest)\n",
    "\n",
    "#calculate model performance\n",
    "mse = mean_squared_error(ytest,stack_pred)\n",
    "rmse = round(np.sqrt(mse),2)\n",
    "r2 = r2_score(ytest, stack_pred)\n",
    "\n",
    "print(f'RMSE {rmse}')\n",
    "print(f'R2 score {r2}')"
   ]
  },
  {
   "cell_type": "code",
   "execution_count": null,
   "id": "fbc315e1-43b8-4af2-ba14-a45eeb32dd56",
   "metadata": {},
   "outputs": [],
   "source": [
    "#build voting regressor for 3 optimal models\n",
    "from sklearn.ensemble import VotingRegressor\n",
    "\n",
    "#initial model\n",
    "estimators = [\n",
    "    ('rf',rfr),\n",
    "    ('bg',bgr),\n",
    "    ('hgb',gbr)\n",
    "]\n",
    "vote = VotingRegressor(estimators=estimators)\n",
    "                          \n",
    "vote_model = vote.fit(Xtrain, ytrain)\n",
    "#get pred\n",
    "vote_pred = vote_model.predict(Xtest)\n",
    "\n",
    "#calculate model performance\n",
    "mse = mean_squared_error(ytest,vote_pred)\n",
    "rmse = round(np.sqrt(mse),2)\n",
    "r2 = r2_score(ytest, vote_pred)\n",
    "\n",
    "print(f'RMSE {rmse}')\n",
    "print(f'R2 score {r2}')"
   ]
  },
  {
   "cell_type": "code",
   "execution_count": 70,
   "id": "dcb923ce-f278-4b37-8635-41a55d7ef6a9",
   "metadata": {},
   "outputs": [
    {
     "name": "stdout",
     "output_type": "stream",
     "text": [
      "Fitting 5 folds for each of 100 candidates, totalling 500 fits\n",
      "Best parameters found: {'subsample': 0.9, 'n_estimators': 400, 'min_child_weight': 4, 'max_depth': 6, 'learning_rate': 0.1, 'gamma': 0.3, 'colsample_bytree': 1.0}\n",
      "Best score achieved: 0.8392832568872276\n",
      "Test MSE: 2014204659.4595773\n"
     ]
    }
   ],
   "source": [
    "#random search for xgb\n",
    "from sklearn.model_selection import RandomizedSearchCV\n",
    "# Define the parameter grid\n",
    "param_dist = {\n",
    "    'n_estimators': [100, 200, 300, 400, 500],\n",
    "    'learning_rate': [0.01, 0.1, 0.2, 0.3],\n",
    "    'max_depth': [3, 4, 5, 6, 7, 8],\n",
    "    'min_child_weight': [1, 2, 3, 4],\n",
    "    'subsample': [0.6, 0.7, 0.8, 0.9, 1.0],\n",
    "    'colsample_bytree': [0.6, 0.7, 0.8, 0.9, 1.0],\n",
    "    'gamma': [0, 0.1, 0.2, 0.3, 0.4]\n",
    "}\n",
    "\n",
    "\n",
    "# Set up the RandomizedSearchCV\n",
    "randomized_search = RandomizedSearchCV(\n",
    "    estimator=xgb,\n",
    "    param_distributions=param_dist,\n",
    "    n_iter=100,           # Number of parameter settings sampled\n",
    "    cv=5,                # Number of cross-validation folds\n",
    "    verbose=2,           # Controls the verbosity\n",
    "    n_jobs=-1,           # Use all available cores\n",
    "    random_state=42\n",
    ")\n",
    "\n",
    "# Fit the RandomizedSearchCV to the training data\n",
    "randomized_search.fit(Xtrain, ytrain)\n",
    "\n",
    "# Print best parameters and best score\n",
    "print(f\"Best parameters found: {randomized_search.best_params_}\")\n",
    "print(f\"Best score achieved: {randomized_search.best_score_}\")\n",
    "\n",
    "# Use the best estimator to make predictions\n",
    "best_xgb = randomized_search.best_estimator_\n",
    "y_pred = best_xgb.predict(Xtest)\n",
    "\n",
    "# Evaluate the model\n",
    "test_mse = mean_squared_error(ytest, y_pred)\n",
    "rsme = np.sqrt(test_mse)\n",
    "\n",
    "print(f\"Test MSE: {rsme}\")"
   ]
  },
  {
   "cell_type": "markdown",
   "id": "a126700e-35a8-4ee0-a382-7c2241cf04f4",
   "metadata": {},
   "source": [
    "### Best Model"
   ]
  },
  {
   "cell_type": "markdown",
   "id": "eac72eac-6c15-4ebf-9922-e77c03bf33b9",
   "metadata": {},
   "source": [
    "Best model is hypertuned XGBoost Regressor"
   ]
  },
  {
   "cell_type": "markdown",
   "id": "bc4c4e35-787e-47b1-91b7-9b46d8de9a12",
   "metadata": {},
   "source": [
    "## Build Interactive app"
   ]
  },
  {
   "cell_type": "code",
   "execution_count": 73,
   "id": "a04a92b4-966c-45c8-8896-309d0f30b874",
   "metadata": {},
   "outputs": [
    {
     "data": {
      "text/plain": [
       "['calf_model.pkl']"
      ]
     },
     "execution_count": 73,
     "metadata": {},
     "output_type": "execute_result"
    }
   ],
   "source": [
    "import joblib\n",
    "model = best_xgb\n",
    "joblib.dump(model, 'calf_model.pkl')"
   ]
  },
  {
   "cell_type": "code",
   "execution_count": null,
   "id": "8f292b5c-b8b8-4672-834f-5bbe48368f5b",
   "metadata": {},
   "outputs": [],
   "source": [
    "feat_eng.get_feature_names_out()"
   ]
  },
  {
   "cell_type": "code",
   "execution_count": 74,
   "id": "2a7b8ac1-6a26-4754-825a-b72ecd73042e",
   "metadata": {},
   "outputs": [
    {
     "data": {
      "text/html": [
       "\n",
       "        <iframe\n",
       "            width=\"100%\"\n",
       "            height=\"650\"\n",
       "            src=\"http://127.0.0.1:8050/\"\n",
       "            frameborder=\"0\"\n",
       "            allowfullscreen\n",
       "            \n",
       "        ></iframe>\n",
       "        "
      ],
      "text/plain": [
       "<IPython.lib.display.IFrame at 0x1f537e49710>"
      ]
     },
     "metadata": {},
     "output_type": "display_data"
    }
   ],
   "source": [
    "import dash\n",
    "from dash import html, dcc, Input, Output, State\n",
    "import pandas as pd\n",
    "import numpy as np\n",
    "\n",
    "# Initialize the Dash app\n",
    "app = dash.Dash(__name__)\n",
    "model = joblib.load('calf_model.pkl')\n",
    "\n",
    "# Define feature columns\n",
    "feature_columns = [\n",
    "    'log__total_bedrooms', 'log__bedrooms_ratio', 'log__rooms_per_house',\n",
    "    'log__population', 'log__households', 'log__median_income',\n",
    "    'cat__ocean_proximity_<1H OCEAN', 'cat__ocean_proximity_INLAND',\n",
    "    'cat__ocean_proximity_ISLAND', 'cat__ocean_proximity_NEAR BAY',\n",
    "    'cat__ocean_proximity_NEAR OCEAN', 'remainder__longitude',\n",
    "    'remainder__latitude', 'remainder__housing_median_age_cat'\n",
    "]\n",
    "\n",
    "# Create the app layout\n",
    "app.layout = html.Div([\n",
    "    html.Div([\n",
    "        html.H1(\"California Real Estate Price Prediction\", style={'text-align': 'center'}),\n",
    "        \n",
    "        html.Div([\n",
    "            dcc.Input(id='total_bedrooms', type='number', placeholder='Total Bedrooms',\n",
    "                      style={'margin': '10px', 'padding': '10px'}),\n",
    "            dcc.Input(id='total_rooms', type='number', placeholder='Total Rooms',\n",
    "                      style={'margin': '10px', 'padding': '10px'}),\n",
    "            dcc.Input(id='population', type='number', placeholder='Population',\n",
    "                      style={'margin': '10px', 'padding': '10px'}),\n",
    "            dcc.Input(id='households', type='number', placeholder='Households',\n",
    "                      style={'margin': '10px', 'padding': '10px'}),\n",
    "            dcc.Input(id='median_income', type='number', placeholder='Median Income',\n",
    "                      style={'margin': '10px', 'padding': '10px'}),\n",
    "            dcc.Input(id='longitude', type='number', placeholder='Longitude',\n",
    "                      style={'margin': '10px', 'padding': '10px'}),\n",
    "            dcc.Input(id='latitude', type='number', placeholder='Latitude',\n",
    "                      style={'margin': '10px', 'padding': '10px'}),\n",
    "            \n",
    "            dcc.Dropdown(\n",
    "                id='ocean_proximity',\n",
    "                options=[\n",
    "                    {'label': 'Less than 1H Ocean', 'value': 'cat__ocean_proximity_<1H OCEAN'},\n",
    "                    {'label': 'Inland', 'value': 'cat__ocean_proximity_INLAND'},\n",
    "                    {'label': 'Island', 'value': 'cat__ocean_proximity_ISLAND'},\n",
    "                    {'label': 'Near Bay', 'value': 'cat__ocean_proximity_NEAR BAY'},\n",
    "                    {'label': 'Near Ocean', 'value': 'cat__ocean_proximity_NEAR OCEAN'}\n",
    "                ],\n",
    "                placeholder='Select Ocean Proximity',\n",
    "                style={'margin': '10px', 'padding': '10px'}\n",
    "            ),\n",
    "            \n",
    "            dcc.Dropdown(\n",
    "                id='age_cat',\n",
    "                options=[\n",
    "                    {'label': '0-18', 'value': 1},\n",
    "                    {'label': '19-28', 'value': 2},\n",
    "                    {'label': '29-38', 'value': 3},\n",
    "                    {'label': '39-48', 'value': 4},\n",
    "                    {'label': '49+', 'value': 5}\n",
    "                ],\n",
    "                placeholder='Select Age Category',\n",
    "                style={'margin': '10px', 'padding': '10px'}\n",
    "            ),\n",
    "            \n",
    "            html.Button('Predict Price', id='predict_button', n_clicks=0,\n",
    "                        style={'margin': '10px', 'padding': '10px', 'background-color': '#007BFF', 'color': 'white'}),\n",
    "            html.Button('Load Example Data', id='example_button', n_clicks=0,\n",
    "                        style={'margin': '10px', 'padding': '10px', 'background-color': '#28a745', 'color': 'white'}),\n",
    "        ], style={'text-align': 'center'}),\n",
    "        \n",
    "        html.Div(id='prediction_output', style={'text-align': 'center', 'font-size': '20px', 'margin-top': '20px'})\n",
    "    ], style={'width': '50%', 'margin': '0 auto', 'border': '2px solid #007BFF', 'padding': '20px', 'border-radius': '10px'})\n",
    "])\n",
    "\n",
    "# Define callback to update output\n",
    "@app.callback(\n",
    "    [Output('total_bedrooms', 'value'),\n",
    "     Output('total_rooms', 'value'),\n",
    "     Output('population', 'value'),\n",
    "     Output('households', 'value'),\n",
    "     Output('median_income', 'value'),\n",
    "     Output('longitude', 'value'),\n",
    "     Output('latitude', 'value'),\n",
    "     Output('ocean_proximity', 'value'),\n",
    "     Output('age_cat', 'value'),\n",
    "     Output('prediction_output', 'children')],\n",
    "    [Input('predict_button', 'n_clicks'), Input('example_button', 'n_clicks')],\n",
    "    [State('total_bedrooms', 'value'),\n",
    "     State('total_rooms', 'value'),\n",
    "     State('population', 'value'),\n",
    "     State('households', 'value'),\n",
    "     State('median_income', 'value'),\n",
    "     State('longitude', 'value'),\n",
    "     State('latitude', 'value'),\n",
    "     State('ocean_proximity', 'value'),\n",
    "     State('age_cat', 'value')]\n",
    ")\n",
    "def update_output(predict_clicks, example_clicks, total_bedrooms, total_rooms, population, households, median_income, longitude, latitude, ocean_proximity, age_cat):\n",
    "    ctx = dash.callback_context\n",
    "\n",
    "    if not ctx.triggered:\n",
    "        button_id = 'No clicks yet'\n",
    "    else:\n",
    "        button_id = ctx.triggered[0]['prop_id'].split('.')[0]\n",
    "\n",
    "    if button_id == 'example_button':\n",
    "        return 129, 880, 322, 126, 8.3252, -122.23, 37.88, 'cat__ocean_proximity_NEAR BAY', 4, ''\n",
    "    elif button_id == 'predict_button' and all(v is not None for v in [total_bedrooms, total_rooms, population, households, median_income, longitude, latitude, ocean_proximity, age_cat]):\n",
    "        # Calculate log-transformed features\n",
    "        log_total_bedrooms = np.log(total_bedrooms)\n",
    "        log_bedrooms_ratio = np.log(total_bedrooms / (total_rooms))\n",
    "        log_rooms_per_house = np.log(total_rooms / (households))\n",
    "        log_population = np.log(population)\n",
    "        log_households = np.log(households)\n",
    "        log_median_income = np.log(median_income)\n",
    "        \n",
    "        # Binning for age_cat\n",
    "        age_bins = [0, 18, 28, 38, 48, np.inf]\n",
    "        age_labels = [1, 2, 3, 4, 5]\n",
    "        age_cat_value = pd.cut([age_cat], bins=age_bins, labels=age_labels)[0]\n",
    "        \n",
    "        # Create the dictionary to represent ocean_proximity as one-hot encoded values\n",
    "        ocean_proximity_dict = {\n",
    "            'cat__ocean_proximity_<1H OCEAN': 0,\n",
    "            'cat__ocean_proximity_INLAND': 0,\n",
    "            'cat__ocean_proximity_ISLAND': 0,\n",
    "            'cat__ocean_proximity_NEAR BAY': 0,\n",
    "            'cat__ocean_proximity_NEAR OCEAN': 0\n",
    "        }\n",
    "        ocean_proximity_dict[ocean_proximity] = 1\n",
    "\n",
    "        # Create the features DataFrame with all columns\n",
    "        features = pd.DataFrame([[log_total_bedrooms, log_bedrooms_ratio, log_rooms_per_house, log_population, \n",
    "                                  log_households, log_median_income,\n",
    "                                  ocean_proximity_dict['cat__ocean_proximity_<1H OCEAN'],\n",
    "                                  ocean_proximity_dict['cat__ocean_proximity_INLAND'],\n",
    "                                  ocean_proximity_dict['cat__ocean_proximity_ISLAND'],\n",
    "                                  ocean_proximity_dict['cat__ocean_proximity_NEAR BAY'],\n",
    "                                  ocean_proximity_dict['cat__ocean_proximity_NEAR OCEAN'],\n",
    "                                  longitude, latitude, age_cat_value]], \n",
    "                                columns=feature_columns)\n",
    "        \n",
    "        # Predict\n",
    "        prediction = model.predict(features)[0]\n",
    "        return total_bedrooms, total_rooms, population, households, median_income, longitude, latitude, ocean_proximity, age_cat, f'Predicted House Price: ${prediction:.2f}'\n",
    "    elif predict_clicks > 0:\n",
    "        return total_bedrooms, total_rooms, population, households, median_income, longitude, latitude, ocean_proximity, age_cat, 'Please enter all values to get a prediction'\n",
    "    return total_bedrooms, total_rooms, population, households, median_income, longitude, latitude, ocean_proximity, age_cat, ''\n",
    "\n",
    "# Run the app\n",
    "if __name__ == '__main__':\n",
    "    app.run_server(debug=True)\n"
   ]
  },
  {
   "cell_type": "code",
   "execution_count": null,
   "id": "775b1079-92f4-4bc1-b325-2d0b0a9508d6",
   "metadata": {},
   "outputs": [],
   "source": [
    "data.head()"
   ]
  },
  {
   "cell_type": "code",
   "execution_count": null,
   "id": "9c5ff782-87f4-4967-b32c-cbf785b7d7dd",
   "metadata": {},
   "outputs": [],
   "source": [
    "data.age_cat.value_counts()"
   ]
  },
  {
   "cell_type": "code",
   "execution_count": null,
   "id": "96502888-e1ca-4bf8-9f16-2f47e3ca3c62",
   "metadata": {},
   "outputs": [],
   "source": []
  }
 ],
 "metadata": {
  "kernelspec": {
   "display_name": "Python 3 (ipykernel)",
   "language": "python",
   "name": "python3"
  },
  "language_info": {
   "codemirror_mode": {
    "name": "ipython",
    "version": 3
   },
   "file_extension": ".py",
   "mimetype": "text/x-python",
   "name": "python",
   "nbconvert_exporter": "python",
   "pygments_lexer": "ipython3",
   "version": "3.11.7"
  }
 },
 "nbformat": 4,
 "nbformat_minor": 5
}
