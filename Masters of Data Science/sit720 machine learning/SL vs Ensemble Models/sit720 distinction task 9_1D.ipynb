{
 "cells": [
  {
   "cell_type": "markdown",
   "id": "d45f2814-c821-4e97-a85d-52c15fd1c36e",
   "metadata": {},
   "source": [
    "# Sit720 Distinction Task 9.1D"
   ]
  },
  {
   "cell_type": "markdown",
   "id": "73e8c7cc-c273-4b9a-b4f0-54ec2eee1b40",
   "metadata": {},
   "source": [
    "### Question 3"
   ]
  },
  {
   "cell_type": "code",
   "execution_count": 1,
   "id": "ab7f2736-a89c-4495-ba3a-3499305ae3a1",
   "metadata": {},
   "outputs": [
    {
     "data": {
      "text/html": [
       "<div>\n",
       "<style scoped>\n",
       "    .dataframe tbody tr th:only-of-type {\n",
       "        vertical-align: middle;\n",
       "    }\n",
       "\n",
       "    .dataframe tbody tr th {\n",
       "        vertical-align: top;\n",
       "    }\n",
       "\n",
       "    .dataframe thead th {\n",
       "        text-align: right;\n",
       "    }\n",
       "</style>\n",
       "<table border=\"1\" class=\"dataframe\">\n",
       "  <thead>\n",
       "    <tr style=\"text-align: right;\">\n",
       "      <th></th>\n",
       "      <th>id.orig_p</th>\n",
       "      <th>id.resp_p</th>\n",
       "      <th>proto</th>\n",
       "      <th>service</th>\n",
       "      <th>flow_duration</th>\n",
       "      <th>fwd_pkts_tot</th>\n",
       "      <th>bwd_pkts_tot</th>\n",
       "      <th>fwd_data_pkts_tot</th>\n",
       "      <th>bwd_data_pkts_tot</th>\n",
       "      <th>fwd_pkts_per_sec</th>\n",
       "      <th>...</th>\n",
       "      <th>active.std</th>\n",
       "      <th>idle.min</th>\n",
       "      <th>idle.max</th>\n",
       "      <th>idle.tot</th>\n",
       "      <th>idle.avg</th>\n",
       "      <th>idle.std</th>\n",
       "      <th>fwd_init_window_size</th>\n",
       "      <th>bwd_init_window_size</th>\n",
       "      <th>fwd_last_window_size</th>\n",
       "      <th>target</th>\n",
       "    </tr>\n",
       "  </thead>\n",
       "  <tbody>\n",
       "    <tr>\n",
       "      <th>0</th>\n",
       "      <td>38667.0</td>\n",
       "      <td>1883.0</td>\n",
       "      <td>tcp</td>\n",
       "      <td>mqtt</td>\n",
       "      <td>32.011598</td>\n",
       "      <td>9.0</td>\n",
       "      <td>5.0</td>\n",
       "      <td>3.0</td>\n",
       "      <td>3.0</td>\n",
       "      <td>0.281148</td>\n",
       "      <td>...</td>\n",
       "      <td>0.0</td>\n",
       "      <td>29729182.96</td>\n",
       "      <td>29729182.96</td>\n",
       "      <td>29729182.96</td>\n",
       "      <td>29729182.96</td>\n",
       "      <td>0.0</td>\n",
       "      <td>64240.0</td>\n",
       "      <td>26847.0</td>\n",
       "      <td>502.0</td>\n",
       "      <td>MQTT_Publish</td>\n",
       "    </tr>\n",
       "    <tr>\n",
       "      <th>1</th>\n",
       "      <td>51143.0</td>\n",
       "      <td>1883.0</td>\n",
       "      <td>tcp</td>\n",
       "      <td>mqtt</td>\n",
       "      <td>31.883584</td>\n",
       "      <td>9.0</td>\n",
       "      <td>5.0</td>\n",
       "      <td>3.0</td>\n",
       "      <td>3.0</td>\n",
       "      <td>0.282277</td>\n",
       "      <td>...</td>\n",
       "      <td>0.0</td>\n",
       "      <td>29855277.06</td>\n",
       "      <td>29855277.06</td>\n",
       "      <td>29855277.06</td>\n",
       "      <td>29855277.06</td>\n",
       "      <td>0.0</td>\n",
       "      <td>64240.0</td>\n",
       "      <td>26847.0</td>\n",
       "      <td>502.0</td>\n",
       "      <td>MQTT_Publish</td>\n",
       "    </tr>\n",
       "    <tr>\n",
       "      <th>2</th>\n",
       "      <td>44761.0</td>\n",
       "      <td>1883.0</td>\n",
       "      <td>tcp</td>\n",
       "      <td>mqtt</td>\n",
       "      <td>32.124053</td>\n",
       "      <td>9.0</td>\n",
       "      <td>5.0</td>\n",
       "      <td>3.0</td>\n",
       "      <td>3.0</td>\n",
       "      <td>0.280164</td>\n",
       "      <td>...</td>\n",
       "      <td>0.0</td>\n",
       "      <td>29842149.02</td>\n",
       "      <td>29842149.02</td>\n",
       "      <td>29842149.02</td>\n",
       "      <td>29842149.02</td>\n",
       "      <td>0.0</td>\n",
       "      <td>64240.0</td>\n",
       "      <td>26847.0</td>\n",
       "      <td>502.0</td>\n",
       "      <td>MQTT_Publish</td>\n",
       "    </tr>\n",
       "    <tr>\n",
       "      <th>3</th>\n",
       "      <td>60893.0</td>\n",
       "      <td>1883.0</td>\n",
       "      <td>tcp</td>\n",
       "      <td>mqtt</td>\n",
       "      <td>31.961063</td>\n",
       "      <td>9.0</td>\n",
       "      <td>5.0</td>\n",
       "      <td>3.0</td>\n",
       "      <td>3.0</td>\n",
       "      <td>0.281593</td>\n",
       "      <td>...</td>\n",
       "      <td>0.0</td>\n",
       "      <td>29913774.97</td>\n",
       "      <td>29913774.97</td>\n",
       "      <td>29913774.97</td>\n",
       "      <td>29913774.97</td>\n",
       "      <td>0.0</td>\n",
       "      <td>64240.0</td>\n",
       "      <td>26847.0</td>\n",
       "      <td>502.0</td>\n",
       "      <td>MQTT_Publish</td>\n",
       "    </tr>\n",
       "    <tr>\n",
       "      <th>4</th>\n",
       "      <td>51087.0</td>\n",
       "      <td>1883.0</td>\n",
       "      <td>tcp</td>\n",
       "      <td>mqtt</td>\n",
       "      <td>31.902362</td>\n",
       "      <td>9.0</td>\n",
       "      <td>5.0</td>\n",
       "      <td>3.0</td>\n",
       "      <td>3.0</td>\n",
       "      <td>0.282111</td>\n",
       "      <td>...</td>\n",
       "      <td>0.0</td>\n",
       "      <td>29814704.90</td>\n",
       "      <td>29814704.90</td>\n",
       "      <td>29814704.90</td>\n",
       "      <td>29814704.90</td>\n",
       "      <td>0.0</td>\n",
       "      <td>64240.0</td>\n",
       "      <td>26847.0</td>\n",
       "      <td>502.0</td>\n",
       "      <td>MQTT_Publish</td>\n",
       "    </tr>\n",
       "  </tbody>\n",
       "</table>\n",
       "<p>5 rows × 84 columns</p>\n",
       "</div>"
      ],
      "text/plain": [
       "   id.orig_p  id.resp_p proto service  flow_duration  fwd_pkts_tot  \\\n",
       "0    38667.0     1883.0   tcp    mqtt      32.011598           9.0   \n",
       "1    51143.0     1883.0   tcp    mqtt      31.883584           9.0   \n",
       "2    44761.0     1883.0   tcp    mqtt      32.124053           9.0   \n",
       "3    60893.0     1883.0   tcp    mqtt      31.961063           9.0   \n",
       "4    51087.0     1883.0   tcp    mqtt      31.902362           9.0   \n",
       "\n",
       "   bwd_pkts_tot  fwd_data_pkts_tot  bwd_data_pkts_tot  fwd_pkts_per_sec  ...  \\\n",
       "0           5.0                3.0                3.0          0.281148  ...   \n",
       "1           5.0                3.0                3.0          0.282277  ...   \n",
       "2           5.0                3.0                3.0          0.280164  ...   \n",
       "3           5.0                3.0                3.0          0.281593  ...   \n",
       "4           5.0                3.0                3.0          0.282111  ...   \n",
       "\n",
       "   active.std     idle.min     idle.max     idle.tot     idle.avg  idle.std  \\\n",
       "0         0.0  29729182.96  29729182.96  29729182.96  29729182.96       0.0   \n",
       "1         0.0  29855277.06  29855277.06  29855277.06  29855277.06       0.0   \n",
       "2         0.0  29842149.02  29842149.02  29842149.02  29842149.02       0.0   \n",
       "3         0.0  29913774.97  29913774.97  29913774.97  29913774.97       0.0   \n",
       "4         0.0  29814704.90  29814704.90  29814704.90  29814704.90       0.0   \n",
       "\n",
       "   fwd_init_window_size  bwd_init_window_size  fwd_last_window_size  \\\n",
       "0               64240.0               26847.0                 502.0   \n",
       "1               64240.0               26847.0                 502.0   \n",
       "2               64240.0               26847.0                 502.0   \n",
       "3               64240.0               26847.0                 502.0   \n",
       "4               64240.0               26847.0                 502.0   \n",
       "\n",
       "         target  \n",
       "0  MQTT_Publish  \n",
       "1  MQTT_Publish  \n",
       "2  MQTT_Publish  \n",
       "3  MQTT_Publish  \n",
       "4  MQTT_Publish  \n",
       "\n",
       "[5 rows x 84 columns]"
      ]
     },
     "execution_count": 1,
     "metadata": {},
     "output_type": "execute_result"
    }
   ],
   "source": [
    "#load dataset4 in\n",
    "import pandas as pd\n",
    "import numpy as np\n",
    "import matplotlib.pyplot as plt\n",
    "import seaborn as sns\n",
    "import warnings\n",
    "\n",
    "warnings.filterwarnings('ignore')\n",
    "\n",
    "df = pd.read_csv('Dataset4.csv')\n",
    "df.head()"
   ]
  },
  {
   "cell_type": "code",
   "execution_count": 2,
   "id": "ff75de2c-8b32-48e3-9ffa-751f2d068d5a",
   "metadata": {},
   "outputs": [],
   "source": [
    "#get rid of NA values\n",
    "df.dropna(inplace = True)"
   ]
  },
  {
   "cell_type": "code",
   "execution_count": 3,
   "id": "533fd362-1cdb-4002-9a96-4c20291f55bb",
   "metadata": {},
   "outputs": [
    {
     "data": {
      "text/plain": [
       "id.orig_p               0\n",
       "id.resp_p               0\n",
       "proto                   0\n",
       "service                 0\n",
       "flow_duration           0\n",
       "                       ..\n",
       "idle.std                0\n",
       "fwd_init_window_size    0\n",
       "bwd_init_window_size    0\n",
       "fwd_last_window_size    0\n",
       "target                  0\n",
       "Length: 84, dtype: int64"
      ]
     },
     "execution_count": 3,
     "metadata": {},
     "output_type": "execute_result"
    }
   ],
   "source": [
    "#check NAs are gone\n",
    "df.isna().sum()"
   ]
  },
  {
   "cell_type": "code",
   "execution_count": 4,
   "id": "91297a8b-433b-401b-b758-d51cb50eaab6",
   "metadata": {},
   "outputs": [
    {
     "data": {
      "text/html": [
       "<div>\n",
       "<style scoped>\n",
       "    .dataframe tbody tr th:only-of-type {\n",
       "        vertical-align: middle;\n",
       "    }\n",
       "\n",
       "    .dataframe tbody tr th {\n",
       "        vertical-align: top;\n",
       "    }\n",
       "\n",
       "    .dataframe thead th {\n",
       "        text-align: right;\n",
       "    }\n",
       "</style>\n",
       "<table border=\"1\" class=\"dataframe\">\n",
       "  <thead>\n",
       "    <tr style=\"text-align: right;\">\n",
       "      <th></th>\n",
       "      <th>id.orig_p</th>\n",
       "      <th>id.resp_p</th>\n",
       "      <th>proto</th>\n",
       "      <th>service</th>\n",
       "      <th>flow_duration</th>\n",
       "      <th>fwd_pkts_tot</th>\n",
       "      <th>bwd_pkts_tot</th>\n",
       "      <th>fwd_data_pkts_tot</th>\n",
       "      <th>bwd_data_pkts_tot</th>\n",
       "      <th>fwd_pkts_per_sec</th>\n",
       "      <th>...</th>\n",
       "      <th>active.std</th>\n",
       "      <th>idle.min</th>\n",
       "      <th>idle.max</th>\n",
       "      <th>idle.tot</th>\n",
       "      <th>idle.avg</th>\n",
       "      <th>idle.std</th>\n",
       "      <th>fwd_init_window_size</th>\n",
       "      <th>bwd_init_window_size</th>\n",
       "      <th>fwd_last_window_size</th>\n",
       "      <th>target</th>\n",
       "    </tr>\n",
       "  </thead>\n",
       "  <tbody>\n",
       "    <tr>\n",
       "      <th>0</th>\n",
       "      <td>38667.0</td>\n",
       "      <td>1883.0</td>\n",
       "      <td>1</td>\n",
       "      <td>5</td>\n",
       "      <td>32.011598</td>\n",
       "      <td>9.0</td>\n",
       "      <td>5.0</td>\n",
       "      <td>3.0</td>\n",
       "      <td>3.0</td>\n",
       "      <td>0.281148</td>\n",
       "      <td>...</td>\n",
       "      <td>0.0</td>\n",
       "      <td>29729182.96</td>\n",
       "      <td>29729182.96</td>\n",
       "      <td>29729182.96</td>\n",
       "      <td>29729182.96</td>\n",
       "      <td>0.0</td>\n",
       "      <td>64240.0</td>\n",
       "      <td>26847.0</td>\n",
       "      <td>502.0</td>\n",
       "      <td>3</td>\n",
       "    </tr>\n",
       "    <tr>\n",
       "      <th>2</th>\n",
       "      <td>44761.0</td>\n",
       "      <td>1883.0</td>\n",
       "      <td>1</td>\n",
       "      <td>5</td>\n",
       "      <td>32.124053</td>\n",
       "      <td>9.0</td>\n",
       "      <td>5.0</td>\n",
       "      <td>3.0</td>\n",
       "      <td>3.0</td>\n",
       "      <td>0.280164</td>\n",
       "      <td>...</td>\n",
       "      <td>0.0</td>\n",
       "      <td>29842149.02</td>\n",
       "      <td>29842149.02</td>\n",
       "      <td>29842149.02</td>\n",
       "      <td>29842149.02</td>\n",
       "      <td>0.0</td>\n",
       "      <td>64240.0</td>\n",
       "      <td>26847.0</td>\n",
       "      <td>502.0</td>\n",
       "      <td>3</td>\n",
       "    </tr>\n",
       "    <tr>\n",
       "      <th>3</th>\n",
       "      <td>60893.0</td>\n",
       "      <td>1883.0</td>\n",
       "      <td>1</td>\n",
       "      <td>5</td>\n",
       "      <td>31.961063</td>\n",
       "      <td>9.0</td>\n",
       "      <td>5.0</td>\n",
       "      <td>3.0</td>\n",
       "      <td>3.0</td>\n",
       "      <td>0.281593</td>\n",
       "      <td>...</td>\n",
       "      <td>0.0</td>\n",
       "      <td>29913774.97</td>\n",
       "      <td>29913774.97</td>\n",
       "      <td>29913774.97</td>\n",
       "      <td>29913774.97</td>\n",
       "      <td>0.0</td>\n",
       "      <td>64240.0</td>\n",
       "      <td>26847.0</td>\n",
       "      <td>502.0</td>\n",
       "      <td>3</td>\n",
       "    </tr>\n",
       "    <tr>\n",
       "      <th>4</th>\n",
       "      <td>51087.0</td>\n",
       "      <td>1883.0</td>\n",
       "      <td>1</td>\n",
       "      <td>5</td>\n",
       "      <td>31.902362</td>\n",
       "      <td>9.0</td>\n",
       "      <td>5.0</td>\n",
       "      <td>3.0</td>\n",
       "      <td>3.0</td>\n",
       "      <td>0.282111</td>\n",
       "      <td>...</td>\n",
       "      <td>0.0</td>\n",
       "      <td>29814704.90</td>\n",
       "      <td>29814704.90</td>\n",
       "      <td>29814704.90</td>\n",
       "      <td>29814704.90</td>\n",
       "      <td>0.0</td>\n",
       "      <td>64240.0</td>\n",
       "      <td>26847.0</td>\n",
       "      <td>502.0</td>\n",
       "      <td>3</td>\n",
       "    </tr>\n",
       "    <tr>\n",
       "      <th>5</th>\n",
       "      <td>48579.0</td>\n",
       "      <td>1883.0</td>\n",
       "      <td>1</td>\n",
       "      <td>5</td>\n",
       "      <td>31.869686</td>\n",
       "      <td>9.0</td>\n",
       "      <td>5.0</td>\n",
       "      <td>3.0</td>\n",
       "      <td>3.0</td>\n",
       "      <td>0.282400</td>\n",
       "      <td>...</td>\n",
       "      <td>0.0</td>\n",
       "      <td>29825548.17</td>\n",
       "      <td>29825548.17</td>\n",
       "      <td>29825548.17</td>\n",
       "      <td>29825548.17</td>\n",
       "      <td>0.0</td>\n",
       "      <td>64240.0</td>\n",
       "      <td>26847.0</td>\n",
       "      <td>502.0</td>\n",
       "      <td>3</td>\n",
       "    </tr>\n",
       "  </tbody>\n",
       "</table>\n",
       "<p>5 rows × 84 columns</p>\n",
       "</div>"
      ],
      "text/plain": [
       "   id.orig_p  id.resp_p  proto  service  flow_duration  fwd_pkts_tot  \\\n",
       "0    38667.0     1883.0      1        5      32.011598           9.0   \n",
       "2    44761.0     1883.0      1        5      32.124053           9.0   \n",
       "3    60893.0     1883.0      1        5      31.961063           9.0   \n",
       "4    51087.0     1883.0      1        5      31.902362           9.0   \n",
       "5    48579.0     1883.0      1        5      31.869686           9.0   \n",
       "\n",
       "   bwd_pkts_tot  fwd_data_pkts_tot  bwd_data_pkts_tot  fwd_pkts_per_sec  ...  \\\n",
       "0           5.0                3.0                3.0          0.281148  ...   \n",
       "2           5.0                3.0                3.0          0.280164  ...   \n",
       "3           5.0                3.0                3.0          0.281593  ...   \n",
       "4           5.0                3.0                3.0          0.282111  ...   \n",
       "5           5.0                3.0                3.0          0.282400  ...   \n",
       "\n",
       "   active.std     idle.min     idle.max     idle.tot     idle.avg  idle.std  \\\n",
       "0         0.0  29729182.96  29729182.96  29729182.96  29729182.96       0.0   \n",
       "2         0.0  29842149.02  29842149.02  29842149.02  29842149.02       0.0   \n",
       "3         0.0  29913774.97  29913774.97  29913774.97  29913774.97       0.0   \n",
       "4         0.0  29814704.90  29814704.90  29814704.90  29814704.90       0.0   \n",
       "5         0.0  29825548.17  29825548.17  29825548.17  29825548.17       0.0   \n",
       "\n",
       "   fwd_init_window_size  bwd_init_window_size  fwd_last_window_size  target  \n",
       "0               64240.0               26847.0                 502.0       3  \n",
       "2               64240.0               26847.0                 502.0       3  \n",
       "3               64240.0               26847.0                 502.0       3  \n",
       "4               64240.0               26847.0                 502.0       3  \n",
       "5               64240.0               26847.0                 502.0       3  \n",
       "\n",
       "[5 rows x 84 columns]"
      ]
     },
     "execution_count": 4,
     "metadata": {},
     "output_type": "execute_result"
    }
   ],
   "source": [
    "#use label encoding to change all categories to numbers for feature importances\n",
    "from sklearn.preprocessing import LabelEncoder\n",
    "\n",
    "le = LabelEncoder()\n",
    "\n",
    "#create a copy df\n",
    "df1 = df.copy()\n",
    "\n",
    "#use loop to label encode all categories\n",
    "for col in df1.columns:\n",
    "    if df1[col].dtype == object:\n",
    "        df1[col] = le.fit_transform(df1[col])\n",
    "df1.head()"
   ]
  },
  {
   "cell_type": "code",
   "execution_count": 5,
   "id": "9b112e6a-533d-4b73-bc4e-9a63b68a716e",
   "metadata": {},
   "outputs": [],
   "source": [
    "#use RandomForest importances\n",
    "from sklearn.ensemble import RandomForestClassifier\n",
    "\n",
    "#Define X and y\n",
    "X = df1.drop('target', axis = 1)\n",
    "y=df1.target\n",
    "\n",
    "rclf = RandomForestClassifier()\n",
    "model_rf = rclf.fit(X,y)\n",
    "\n",
    "feat_importances = model_rf.feature_importances_"
   ]
  },
  {
   "cell_type": "code",
   "execution_count": 6,
   "id": "f32c3974-48c9-4842-8c7f-0759ae43daf2",
   "metadata": {},
   "outputs": [
    {
     "data": {
      "text/html": [
       "<div>\n",
       "<style scoped>\n",
       "    .dataframe tbody tr th:only-of-type {\n",
       "        vertical-align: middle;\n",
       "    }\n",
       "\n",
       "    .dataframe tbody tr th {\n",
       "        vertical-align: top;\n",
       "    }\n",
       "\n",
       "    .dataframe thead th {\n",
       "        text-align: right;\n",
       "    }\n",
       "</style>\n",
       "<table border=\"1\" class=\"dataframe\">\n",
       "  <thead>\n",
       "    <tr style=\"text-align: right;\">\n",
       "      <th></th>\n",
       "      <th>Feature</th>\n",
       "      <th>Importance</th>\n",
       "    </tr>\n",
       "  </thead>\n",
       "  <tbody>\n",
       "    <tr>\n",
       "      <th>29</th>\n",
       "      <td>fwd_pkts_payload.min</td>\n",
       "      <td>0.119864</td>\n",
       "    </tr>\n",
       "    <tr>\n",
       "      <th>1</th>\n",
       "      <td>id.resp_p</td>\n",
       "      <td>0.083196</td>\n",
       "    </tr>\n",
       "    <tr>\n",
       "      <th>32</th>\n",
       "      <td>fwd_pkts_payload.avg</td>\n",
       "      <td>0.065969</td>\n",
       "    </tr>\n",
       "    <tr>\n",
       "      <th>55</th>\n",
       "      <td>flow_iat.max</td>\n",
       "      <td>0.043787</td>\n",
       "    </tr>\n",
       "    <tr>\n",
       "      <th>3</th>\n",
       "      <td>service</td>\n",
       "      <td>0.041824</td>\n",
       "    </tr>\n",
       "    <tr>\n",
       "      <th>62</th>\n",
       "      <td>fwd_subflow_bytes</td>\n",
       "      <td>0.036974</td>\n",
       "    </tr>\n",
       "    <tr>\n",
       "      <th>30</th>\n",
       "      <td>fwd_pkts_payload.max</td>\n",
       "      <td>0.036023</td>\n",
       "    </tr>\n",
       "    <tr>\n",
       "      <th>31</th>\n",
       "      <td>fwd_pkts_payload.tot</td>\n",
       "      <td>0.035475</td>\n",
       "    </tr>\n",
       "    <tr>\n",
       "      <th>71</th>\n",
       "      <td>active.max</td>\n",
       "      <td>0.024630</td>\n",
       "    </tr>\n",
       "    <tr>\n",
       "      <th>54</th>\n",
       "      <td>flow_iat.min</td>\n",
       "      <td>0.024475</td>\n",
       "    </tr>\n",
       "  </tbody>\n",
       "</table>\n",
       "</div>"
      ],
      "text/plain": [
       "                 Feature  Importance\n",
       "29  fwd_pkts_payload.min    0.119864\n",
       "1              id.resp_p    0.083196\n",
       "32  fwd_pkts_payload.avg    0.065969\n",
       "55          flow_iat.max    0.043787\n",
       "3                service    0.041824\n",
       "62     fwd_subflow_bytes    0.036974\n",
       "30  fwd_pkts_payload.max    0.036023\n",
       "31  fwd_pkts_payload.tot    0.035475\n",
       "71            active.max    0.024630\n",
       "54          flow_iat.min    0.024475"
      ]
     },
     "execution_count": 6,
     "metadata": {},
     "output_type": "execute_result"
    }
   ],
   "source": [
    "#combine feature importances into a df with column names\n",
    "feat_df = pd.DataFrame(feat_importances, X.columns).reset_index()\n",
    "feat_df.columns = ['Feature','Importance']\n",
    "#sort in descending order to find most importance features\n",
    "feat_df = feat_df.sort_values('Importance', ascending = False)\n",
    "feat_df.head(10)"
   ]
  },
  {
   "cell_type": "markdown",
   "id": "4dc1d617-cfb0-4cb4-a88c-8543a6178784",
   "metadata": {},
   "source": [
    "RandomForest importance shows fwd_pkts_payload.avg is the most importance feature in predicting Target with 0.10 importance, followed by fwd_pkts_payload.min with 0.08 importance. Let's visualise the top 10."
   ]
  },
  {
   "cell_type": "code",
   "execution_count": 7,
   "id": "3eb0d2f1-ad2f-4ff1-9a5c-5fd3c263d6fd",
   "metadata": {},
   "outputs": [
    {
     "data": {
      "image/png": "[encoded data removed]",
      "text/plain": [
       "<Figure size 1200x600 with 1 Axes>"
      ]
     },
     "metadata": {},
     "output_type": "display_data"
    }
   ],
   "source": [
    "top_ten = feat_df.iloc[0:10,]\n",
    "plt.figure(figsize=(12,6))\n",
    "sns.barplot(x='Feature', y='Importance', data = top_ten)\n",
    "plt.title('Top 10 Features in RandomForest')\n",
    "plt.xticks(rotation=45);"
   ]
  },
  {
   "cell_type": "code",
   "execution_count": 8,
   "id": "6f09f5f7-b4cd-4fa6-90ee-480bdd497949",
   "metadata": {},
   "outputs": [],
   "source": [
    "# I will use Gradient Boosting Machine to get feature importance as well\n",
    "import xgboost as xgb\n",
    "\n",
    "xgb_clf = xgb.XGBClassifier()\n",
    "xgb_model = xgb_clf.fit(X,y)\n",
    "xgb_import = xgb_model.feature_importances_"
   ]
  },
  {
   "cell_type": "code",
   "execution_count": 9,
   "id": "5f96b6c8-ff73-4d64-97f0-7ad5d89f0cc8",
   "metadata": {},
   "outputs": [
    {
     "data": {
      "text/html": [
       "<div>\n",
       "<style scoped>\n",
       "    .dataframe tbody tr th:only-of-type {\n",
       "        vertical-align: middle;\n",
       "    }\n",
       "\n",
       "    .dataframe tbody tr th {\n",
       "        vertical-align: top;\n",
       "    }\n",
       "\n",
       "    .dataframe thead th {\n",
       "        text-align: right;\n",
       "    }\n",
       "</style>\n",
       "<table border=\"1\" class=\"dataframe\">\n",
       "  <thead>\n",
       "    <tr style=\"text-align: right;\">\n",
       "      <th></th>\n",
       "      <th>Feature</th>\n",
       "      <th>Importance</th>\n",
       "    </tr>\n",
       "  </thead>\n",
       "  <tbody>\n",
       "    <tr>\n",
       "      <th>25</th>\n",
       "      <td>fwd_URG_flag_count</td>\n",
       "      <td>0.177513</td>\n",
       "    </tr>\n",
       "    <tr>\n",
       "      <th>38</th>\n",
       "      <td>bwd_pkts_payload.std</td>\n",
       "      <td>0.133505</td>\n",
       "    </tr>\n",
       "    <tr>\n",
       "      <th>37</th>\n",
       "      <td>bwd_pkts_payload.avg</td>\n",
       "      <td>0.083039</td>\n",
       "    </tr>\n",
       "    <tr>\n",
       "      <th>2</th>\n",
       "      <td>proto</td>\n",
       "      <td>0.078441</td>\n",
       "    </tr>\n",
       "    <tr>\n",
       "      <th>29</th>\n",
       "      <td>fwd_pkts_payload.min</td>\n",
       "      <td>0.073828</td>\n",
       "    </tr>\n",
       "    <tr>\n",
       "      <th>22</th>\n",
       "      <td>fwd_PSH_flag_count</td>\n",
       "      <td>0.062612</td>\n",
       "    </tr>\n",
       "    <tr>\n",
       "      <th>70</th>\n",
       "      <td>active.min</td>\n",
       "      <td>0.055012</td>\n",
       "    </tr>\n",
       "    <tr>\n",
       "      <th>13</th>\n",
       "      <td>fwd_header_size_tot</td>\n",
       "      <td>0.045605</td>\n",
       "    </tr>\n",
       "    <tr>\n",
       "      <th>3</th>\n",
       "      <td>service</td>\n",
       "      <td>0.035177</td>\n",
       "    </tr>\n",
       "    <tr>\n",
       "      <th>14</th>\n",
       "      <td>fwd_header_size_min</td>\n",
       "      <td>0.026744</td>\n",
       "    </tr>\n",
       "  </tbody>\n",
       "</table>\n",
       "</div>"
      ],
      "text/plain": [
       "                 Feature  Importance\n",
       "25    fwd_URG_flag_count    0.177513\n",
       "38  bwd_pkts_payload.std    0.133505\n",
       "37  bwd_pkts_payload.avg    0.083039\n",
       "2                  proto    0.078441\n",
       "29  fwd_pkts_payload.min    0.073828\n",
       "22    fwd_PSH_flag_count    0.062612\n",
       "70            active.min    0.055012\n",
       "13   fwd_header_size_tot    0.045605\n",
       "3                service    0.035177\n",
       "14   fwd_header_size_min    0.026744"
      ]
     },
     "execution_count": 9,
     "metadata": {},
     "output_type": "execute_result"
    }
   ],
   "source": [
    "#combine feature importances into a df with column names\n",
    "xgb_df = pd.DataFrame(xgb_import, X.columns).reset_index()\n",
    "xgb_df.columns = ['Feature','Importance']\n",
    "#sort in descending order to find most importance features\n",
    "xgb_df = xgb_df.sort_values('Importance', ascending = False)\n",
    "xgb_df.head(10)"
   ]
  },
  {
   "cell_type": "code",
   "execution_count": 10,
   "id": "f0b89f1a-8917-44ef-9738-428e2954202d",
   "metadata": {},
   "outputs": [
    {
     "data": {
      "image/png": "[encoded data removed]",
      "text/plain": [
       "<Figure size 1200x600 with 1 Axes>"
      ]
     },
     "metadata": {},
     "output_type": "display_data"
    }
   ],
   "source": [
    "top_ten_xgb = xgb_df.iloc[0:10,]\n",
    "plt.figure(figsize=(12,6))\n",
    "sns.barplot(x='Feature', y='Importance', data = top_ten_xgb)\n",
    "plt.title('Top 10 Features in Gradient Boost')\n",
    "plt.xticks(rotation=45);"
   ]
  },
  {
   "cell_type": "markdown",
   "id": "62e6d190-acad-4836-aa55-d8869caf2be5",
   "metadata": {},
   "source": [
    "Gradient Boost method has found different importances with higher values. The most important feature being fwd_URG_flag_count with 0.18 importance, followed by bwd_pkts_payload.std with 0.13 importance. In the report I will detail the differences and why it occurred with references."
   ]
  },
  {
   "cell_type": "markdown",
   "id": "415f5800-bf50-4a56-b4cc-79e4e25cf7fd",
   "metadata": {},
   "source": [
    "### Question 4"
   ]
  },
  {
   "cell_type": "markdown",
   "id": "7086b37d-2b79-482d-9270-4180c3c7ce04",
   "metadata": {},
   "source": [
    "#### Model 1  \n",
    "For model 1 I will build a SGD Classifier model."
   ]
  },
  {
   "cell_type": "code",
   "execution_count": 11,
   "id": "7367b950-397f-4ebb-a07b-703bc76a295e",
   "metadata": {},
   "outputs": [],
   "source": [
    "# split into training and test sets 70/30 split\n",
    "from sklearn.model_selection import train_test_split\n",
    "\n",
    "Xtrain, Xtest, ytrain, ytest = train_test_split(X,y, test_size=0.3, random_state = 42)"
   ]
  },
  {
   "cell_type": "code",
   "execution_count": 12,
   "id": "cb245255-be29-4460-80b7-1b34db975a11",
   "metadata": {},
   "outputs": [
    {
     "name": "stdout",
     "output_type": "stream",
     "text": [
      "Test Accuracy of model 1 is: 0.856\n",
      "Train Accuracy of model 1 is: 0.853\n"
     ]
    }
   ],
   "source": [
    "from sklearn.linear_model import SGDClassifier\n",
    "from sklearn.metrics import accuracy_score\n",
    "#model 1 will use loss = hinge and alpha = 0.0001 (default values)\n",
    "sgd = SGDClassifier(loss='hinge', alpha = 0.0001,random_state=42)\n",
    "model1 = sgd.fit(Xtrain, ytrain)\n",
    "\n",
    "pred1 = model1.predict(Xtest)\n",
    "acc1 = accuracy_score(ytest, pred1)\n",
    "pred2 = model1.predict(Xtrain)\n",
    "acc2 = accuracy_score(ytrain, pred2)\n",
    "\n",
    "print(f'Test Accuracy of model 1 is: {round(acc1,3)}')\n",
    "print(f'Train Accuracy of model 1 is: {round(acc2,3)}')"
   ]
  },
  {
   "cell_type": "code",
   "execution_count": 13,
   "id": "8a243b95-8804-4c29-bbe9-bd802625a6f1",
   "metadata": {},
   "outputs": [
    {
     "name": "stdout",
     "output_type": "stream",
     "text": [
      "Test Accuracy of model 1 is: 0.854\n",
      "Train Accuracy of model 1 is: 0.851\n"
     ]
    }
   ],
   "source": [
    "#change alpha to 0.001\n",
    "sgd = SGDClassifier(loss='hinge', alpha = 0.001,random_state=42)\n",
    "model1 = sgd.fit(Xtrain, ytrain)\n",
    "\n",
    "pred1 = model1.predict(Xtest)\n",
    "acc1 = accuracy_score(ytest, pred1)\n",
    "pred2 = model1.predict(Xtrain)\n",
    "acc2 = accuracy_score(ytrain, pred2)\n",
    "\n",
    "print(f'Test Accuracy of model 1 is: {round(acc1,3)}')\n",
    "print(f'Train Accuracy of model 1 is: {round(acc2,3)}')"
   ]
  },
  {
   "cell_type": "code",
   "execution_count": 14,
   "id": "5cd9c704-8dd2-401c-8105-da418117db99",
   "metadata": {},
   "outputs": [
    {
     "name": "stdout",
     "output_type": "stream",
     "text": [
      "Test Accuracy of model 1 is: 0.855\n",
      "Train Accuracy of model 1 is: 0.853\n"
     ]
    }
   ],
   "source": [
    "#change alpha to 0.01\n",
    "sgd = SGDClassifier(loss='hinge', alpha = 0.01,random_state=42)\n",
    "model1 = sgd.fit(Xtrain, ytrain)\n",
    "\n",
    "pred1 = model1.predict(Xtest)\n",
    "acc1 = accuracy_score(ytest, pred1)\n",
    "pred2 = model1.predict(Xtrain)\n",
    "acc2 = accuracy_score(ytrain, pred2)\n",
    "\n",
    "print(f'Test Accuracy of model 1 is: {round(acc1,3)}')\n",
    "print(f'Train Accuracy of model 1 is: {round(acc2,3)}')"
   ]
  },
  {
   "cell_type": "code",
   "execution_count": 15,
   "id": "687b1aba-3c2a-4cc8-82ae-5c227602b6e5",
   "metadata": {},
   "outputs": [
    {
     "name": "stdout",
     "output_type": "stream",
     "text": [
      "Test Accuracy of model 1 is: 0.834\n",
      "Train Accuracy of model 1 is: 0.83\n"
     ]
    }
   ],
   "source": [
    "#change loss to squared_hinge\n",
    "sgd = SGDClassifier(loss='squared_hinge', alpha = 0.001, random_state=42)\n",
    "model1 = sgd.fit(Xtrain, ytrain)\n",
    "\n",
    "pred1 = model1.predict(Xtest)\n",
    "acc1 = accuracy_score(ytest, pred1)\n",
    "pred2 = model1.predict(Xtrain)\n",
    "acc2 = accuracy_score(ytrain, pred2)\n",
    "\n",
    "print(f'Test Accuracy of model 1 is: {round(acc1,3)}')\n",
    "print(f'Train Accuracy of model 1 is: {round(acc2,3)}')"
   ]
  },
  {
   "cell_type": "code",
   "execution_count": 16,
   "id": "3e987dca-bab8-49dd-8491-35af5f76edbc",
   "metadata": {},
   "outputs": [
    {
     "name": "stdout",
     "output_type": "stream",
     "text": [
      "Test Accuracy of model 1 is: 0.821\n",
      "Train Accuracy of model 1 is: 0.816\n"
     ]
    }
   ],
   "source": [
    "#change alpha to 0.01\n",
    "sgd = SGDClassifier(loss='squared_hinge', alpha = 0.01, random_state=42)\n",
    "model1 = sgd.fit(Xtrain, ytrain)\n",
    "\n",
    "pred1 = model1.predict(Xtest)\n",
    "acc1 = accuracy_score(ytest, pred1)\n",
    "pred2 = model1.predict(Xtrain)\n",
    "acc2 = accuracy_score(ytrain, pred2)\n",
    "\n",
    "print(f'Test Accuracy of model 1 is: {round(acc1,3)}')\n",
    "print(f'Train Accuracy of model 1 is: {round(acc2,3)}')"
   ]
  },
  {
   "cell_type": "code",
   "execution_count": 17,
   "id": "96e77087-9b48-42bc-a351-105826c6b366",
   "metadata": {},
   "outputs": [
    {
     "name": "stdout",
     "output_type": "stream",
     "text": [
      "Test Accuracy of model 1 is: 0.818\n",
      "Train Accuracy of model 1 is: 0.815\n"
     ]
    }
   ],
   "source": [
    "#change loss to modified_huber\n",
    "sgd = SGDClassifier(loss='modified_huber', alpha = 0.001, random_state=42)\n",
    "model1 = sgd.fit(Xtrain, ytrain)\n",
    "\n",
    "pred1 = model1.predict(Xtest)\n",
    "acc1 = accuracy_score(ytest, pred1)\n",
    "pred2 = model1.predict(Xtrain)\n",
    "acc2 = accuracy_score(ytrain, pred2)\n",
    "\n",
    "print(f'Test Accuracy of model 1 is: {round(acc1,3)}')\n",
    "print(f'Train Accuracy of model 1 is: {round(acc2,3)}')"
   ]
  },
  {
   "cell_type": "markdown",
   "id": "988af1d7-a18d-4214-a31c-cfe6e9e05582",
   "metadata": {},
   "source": [
    "Performing hyperparameter tuning has not improved accuracy for SGD."
   ]
  },
  {
   "cell_type": "markdown",
   "id": "1e976ae3-0980-4857-96fa-2b1a03934481",
   "metadata": {},
   "source": [
    "### Model 2  \n",
    "For model 2 I will build a logistic regression"
   ]
  },
  {
   "cell_type": "code",
   "execution_count": 18,
   "id": "cebde75c-2964-4970-907e-2509c4269a6a",
   "metadata": {},
   "outputs": [
    {
     "name": "stdout",
     "output_type": "stream",
     "text": [
      "Test Accuracy of model 2 is: 0.808\n",
      "Train Accuracy of model 2 is: 0.807\n"
     ]
    }
   ],
   "source": [
    "#use default settings first\n",
    "from sklearn.linear_model import LogisticRegression\n",
    "\n",
    "logr = LogisticRegression(random_state=42)\n",
    "\n",
    "model2 = logr.fit(Xtrain, ytrain)\n",
    "\n",
    "pred1 = model2.predict(Xtest)\n",
    "acc1 = accuracy_score(ytest, pred1)\n",
    "pred2 = model2.predict(Xtrain)\n",
    "acc2 = accuracy_score(ytrain, pred2)\n",
    "\n",
    "print(f'Test Accuracy of model 2 is: {round(acc1,3)}')\n",
    "print(f'Train Accuracy of model 2 is: {round(acc2,3)}')"
   ]
  },
  {
   "cell_type": "code",
   "execution_count": 19,
   "id": "f193b37d-808f-4b61-9fd7-440cf752bb35",
   "metadata": {},
   "outputs": [
    {
     "name": "stdout",
     "output_type": "stream",
     "text": [
      "Test Accuracy of model 2 is: 0.804\n",
      "Train Accuracy of model 2 is: 0.803\n"
     ]
    }
   ],
   "source": [
    "# change C to 0.1, default is 1\n",
    "logr = LogisticRegression(C=0.1, random_state=42)\n",
    "\n",
    "model2 = logr.fit(Xtrain, ytrain)\n",
    "\n",
    "pred1 = model2.predict(Xtest)\n",
    "acc1 = accuracy_score(ytest, pred1)\n",
    "pred2 = model2.predict(Xtrain)\n",
    "acc2 = accuracy_score(ytrain, pred2)\n",
    "\n",
    "print(f'Test Accuracy of model 2 is: {round(acc1,3)}')\n",
    "print(f'Train Accuracy of model 2 is: {round(acc2,3)}')"
   ]
  },
  {
   "cell_type": "code",
   "execution_count": 20,
   "id": "dfb78505-71e9-4637-905d-61af73dc69af",
   "metadata": {},
   "outputs": [
    {
     "name": "stdout",
     "output_type": "stream",
     "text": [
      "Test Accuracy of model 2 is: 0.919\n",
      "Train Accuracy of model 2 is: 0.917\n"
     ]
    }
   ],
   "source": [
    "# change multi_class to ovr\n",
    "logr = LogisticRegression(multi_class = 'ovr', random_state=42)\n",
    "\n",
    "model2 = logr.fit(Xtrain, ytrain)\n",
    "\n",
    "pred1 = model2.predict(Xtest)\n",
    "acc1 = accuracy_score(ytest, pred1)\n",
    "pred2 = model2.predict(Xtrain)\n",
    "acc2 = accuracy_score(ytrain, pred2)\n",
    "\n",
    "print(f'Test Accuracy of model 2 is: {round(acc1,3)}')\n",
    "print(f'Train Accuracy of model 2 is: {round(acc2,3)}')"
   ]
  },
  {
   "cell_type": "code",
   "execution_count": 21,
   "id": "96bec125-fa96-4ef5-8af4-7f2f27898642",
   "metadata": {},
   "outputs": [
    {
     "name": "stdout",
     "output_type": "stream",
     "text": [
      "Test Accuracy of model 2 is: 0.919\n",
      "Train Accuracy of model 2 is: 0.917\n"
     ]
    }
   ],
   "source": [
    "# use multi_class to ovr and change C to 0.1\n",
    "logr = LogisticRegression(multi_class = 'ovr', C = 0.1, random_state=42)\n",
    "\n",
    "model2 = logr.fit(Xtrain, ytrain)\n",
    "\n",
    "pred1 = model2.predict(Xtest)\n",
    "acc1 = accuracy_score(ytest, pred1)\n",
    "pred2 = model2.predict(Xtrain)\n",
    "acc2 = accuracy_score(ytrain, pred2)\n",
    "\n",
    "print(f'Test Accuracy of model 2 is: {round(acc1,3)}')\n",
    "print(f'Train Accuracy of model 2 is: {round(acc2,3)}')"
   ]
  },
  {
   "cell_type": "markdown",
   "id": "097ae08c-f4e6-4f1c-9bbf-111e76dda66c",
   "metadata": {},
   "source": [
    "Hyperparameter tuning took original model from 0.808 to 0.919 accuracy."
   ]
  },
  {
   "cell_type": "markdown",
   "id": "04cae4d2-eff9-4c12-be6d-36bf14c5c1da",
   "metadata": {},
   "source": [
    "### Model 3  \n",
    "For model 3 I will use MLP"
   ]
  },
  {
   "cell_type": "code",
   "execution_count": 22,
   "id": "0a6041a9-9895-458d-bf55-48fee765d837",
   "metadata": {},
   "outputs": [
    {
     "name": "stdout",
     "output_type": "stream",
     "text": [
      "Test Accuracy of model 3 is: 0.915\n",
      "Train Accuracy of model 3 is: 0.917\n"
     ]
    }
   ],
   "source": [
    "#use default settings for mlp\n",
    "from sklearn.neural_network import MLPClassifier\n",
    "\n",
    "mlp = MLPClassifier(random_state=42)\n",
    "model3 = mlp.fit(Xtrain, ytrain)\n",
    "\n",
    "pred1 = model3.predict(Xtest)\n",
    "acc1 = accuracy_score(ytest, pred1)\n",
    "pred2 = model3.predict(Xtrain)\n",
    "acc2 = accuracy_score(ytrain, pred2)\n",
    "\n",
    "print(f'Test Accuracy of model 3 is: {round(acc1,3)}')\n",
    "print(f'Train Accuracy of model 3 is: {round(acc2,3)}')\n"
   ]
  },
  {
   "cell_type": "code",
   "execution_count": 23,
   "id": "d37eabd5-91ef-4cf0-aa36-1391837b1612",
   "metadata": {},
   "outputs": [
    {
     "name": "stdout",
     "output_type": "stream",
     "text": [
      "Test Accuracy of model 3 is: 0.937\n",
      "Train Accuracy of model 3 is: 0.936\n"
     ]
    }
   ],
   "source": [
    "# change activation to logisitc (relu is default)\n",
    "from sklearn.neural_network import MLPClassifier\n",
    "\n",
    "mlp = MLPClassifier(activation = 'logistic',random_state=42)\n",
    "model3 = mlp.fit(Xtrain, ytrain)\n",
    "\n",
    "pred1 = model3.predict(Xtest)\n",
    "acc1 = accuracy_score(ytest, pred1)\n",
    "pred2 = model3.predict(Xtrain)\n",
    "acc2 = accuracy_score(ytrain, pred2)\n",
    "\n",
    "print(f'Test Accuracy of model 3 is: {round(acc1,3)}')\n",
    "print(f'Train Accuracy of model 3 is: {round(acc2,3)}')\n"
   ]
  },
  {
   "cell_type": "code",
   "execution_count": 24,
   "id": "011b7bfb-5e29-4bed-b6dc-47cc88d6f86e",
   "metadata": {},
   "outputs": [
    {
     "name": "stdout",
     "output_type": "stream",
     "text": [
      "Test Accuracy of model 3 is: 0.954\n",
      "Train Accuracy of model 3 is: 0.953\n"
     ]
    }
   ],
   "source": [
    "# try tanh\n",
    "from sklearn.neural_network import MLPClassifier\n",
    "\n",
    "mlp = MLPClassifier(activation = 'tanh',random_state=42)\n",
    "model3 = mlp.fit(Xtrain, ytrain)\n",
    "\n",
    "pred1 = model3.predict(Xtest)\n",
    "acc1 = accuracy_score(ytest, pred1)\n",
    "pred2 = model3.predict(Xtrain)\n",
    "acc2 = accuracy_score(ytrain, pred2)\n",
    "\n",
    "print(f'Test Accuracy of model 3 is: {round(acc1,3)}')\n",
    "print(f'Train Accuracy of model 3 is: {round(acc2,3)}')\n"
   ]
  },
  {
   "cell_type": "code",
   "execution_count": 25,
   "id": "fe3b1971-1119-4653-b518-c06ce54d6d22",
   "metadata": {},
   "outputs": [
    {
     "name": "stdout",
     "output_type": "stream",
     "text": [
      "Test Accuracy of model 3 is: 0.935\n",
      "Train Accuracy of model 3 is: 0.933\n"
     ]
    }
   ],
   "source": [
    "# try identity\n",
    "from sklearn.neural_network import MLPClassifier\n",
    "\n",
    "mlp = MLPClassifier(activation = 'identity',random_state=42)\n",
    "model3 = mlp.fit(Xtrain, ytrain)\n",
    "\n",
    "pred1 = model3.predict(Xtest)\n",
    "acc1 = accuracy_score(ytest, pred1)\n",
    "pred2 = model3.predict(Xtrain)\n",
    "acc2 = accuracy_score(ytrain, pred2)\n",
    "\n",
    "print(f'Test Accuracy of model 3 is: {round(acc1,3)}')\n",
    "print(f'Train Accuracy of model 3 is: {round(acc2,3)}')\n"
   ]
  },
  {
   "cell_type": "code",
   "execution_count": 26,
   "id": "5d3a5ded-c5ae-42ef-8b9c-3001d25d83d6",
   "metadata": {},
   "outputs": [
    {
     "name": "stdout",
     "output_type": "stream",
     "text": [
      "Test Accuracy of model 3 is: 0.937\n",
      "Train Accuracy of model 3 is: 0.936\n"
     ]
    }
   ],
   "source": [
    "# use tanh and change solver to sgd (default is adam)\n",
    "from sklearn.neural_network import MLPClassifier\n",
    "\n",
    "mlp = MLPClassifier(activation = 'tanh', solver='sgd',random_state=42)\n",
    "model3 = mlp.fit(Xtrain, ytrain)\n",
    "\n",
    "pred1 = model3.predict(Xtest)\n",
    "acc1 = accuracy_score(ytest, pred1)\n",
    "pred2 = model3.predict(Xtrain)\n",
    "acc2 = accuracy_score(ytrain, pred2)\n",
    "\n",
    "print(f'Test Accuracy of model 3 is: {round(acc1,3)}')\n",
    "print(f'Train Accuracy of model 3 is: {round(acc2,3)}')\n"
   ]
  },
  {
   "cell_type": "code",
   "execution_count": 27,
   "id": "c27da56f-0522-4517-9e07-b46bde90e0e2",
   "metadata": {},
   "outputs": [
    {
     "name": "stdout",
     "output_type": "stream",
     "text": [
      "Test Accuracy of model 3 is: 0.894\n",
      "Train Accuracy of model 3 is: 0.894\n"
     ]
    }
   ],
   "source": [
    "# use tanh and change solver to lbfgs\n",
    "from sklearn.neural_network import MLPClassifier\n",
    "\n",
    "mlp = MLPClassifier(activation = 'tanh', solver='lbfgs',random_state=42)\n",
    "model3 = mlp.fit(Xtrain, ytrain)\n",
    "\n",
    "pred1 = model3.predict(Xtest)\n",
    "acc1 = accuracy_score(ytest, pred1)\n",
    "pred2 = model3.predict(Xtrain)\n",
    "acc2 = accuracy_score(ytrain, pred2)\n",
    "\n",
    "print(f'Test Accuracy of model 3 is: {round(acc1,3)}')\n",
    "print(f'Train Accuracy of model 3 is: {round(acc2,3)}')\n"
   ]
  },
  {
   "cell_type": "code",
   "execution_count": 28,
   "id": "1353744a-52b0-42ec-ad48-c7a494e7e3c1",
   "metadata": {},
   "outputs": [
    {
     "name": "stdout",
     "output_type": "stream",
     "text": [
      "Test Accuracy of model 3 is: 0.934\n",
      "Train Accuracy of model 3 is: 0.932\n"
     ]
    }
   ],
   "source": [
    "#use tanh and default driver, adjust hidden layers to 50 (default is 100)\n",
    "from sklearn.neural_network import MLPClassifier\n",
    "\n",
    "mlp = MLPClassifier(activation = 'tanh', hidden_layer_sizes=50,random_state=42)\n",
    "model3 = mlp.fit(Xtrain, ytrain)\n",
    "\n",
    "pred1 = model3.predict(Xtest)\n",
    "acc1 = accuracy_score(ytest, pred1)\n",
    "pred2 = model3.predict(Xtrain)\n",
    "acc2 = accuracy_score(ytrain, pred2)\n",
    "\n",
    "print(f'Test Accuracy of model 3 is: {round(acc1,3)}')\n",
    "print(f'Train Accuracy of model 3 is: {round(acc2,3)}')\n"
   ]
  },
  {
   "cell_type": "code",
   "execution_count": 29,
   "id": "6a6b16c9-51bf-487c-b17a-a65c68f0848a",
   "metadata": {},
   "outputs": [
    {
     "name": "stdout",
     "output_type": "stream",
     "text": [
      "Test Accuracy of model 3 is: 0.944\n",
      "Train Accuracy of model 3 is: 0.943\n"
     ]
    }
   ],
   "source": [
    "#use tanh and default driver, adjust hidden layers to 200 (default is 100)\n",
    "from sklearn.neural_network import MLPClassifier\n",
    "\n",
    "mlp = MLPClassifier(activation = 'tanh', hidden_layer_sizes=200,random_state=42)\n",
    "model3 = mlp.fit(Xtrain, ytrain)\n",
    "\n",
    "pred1 = model3.predict(Xtest)\n",
    "acc1 = accuracy_score(ytest, pred1)\n",
    "pred2 = model3.predict(Xtrain)\n",
    "acc2 = accuracy_score(ytrain, pred2)\n",
    "\n",
    "print(f'Test Accuracy of model 3 is: {round(acc1,3)}')\n",
    "print(f'Train Accuracy of model 3 is: {round(acc2,3)}')\n"
   ]
  },
  {
   "cell_type": "code",
   "execution_count": 30,
   "id": "b60ef633-a564-4fd4-9b6d-6799ff9d7254",
   "metadata": {},
   "outputs": [
    {
     "name": "stdout",
     "output_type": "stream",
     "text": [
      "Test Accuracy of model 3 is: 0.947\n",
      "Train Accuracy of model 3 is: 0.944\n"
     ]
    }
   ],
   "source": [
    "#use tanh and default driver, hidden layers = 200 and alpha =0.01 (default is 0.0001)\n",
    "from sklearn.neural_network import MLPClassifier\n",
    "\n",
    "mlp = MLPClassifier(activation = 'tanh', hidden_layer_sizes=200, alpha = 0.01,random_state=42)\n",
    "model3 = mlp.fit(Xtrain, ytrain)\n",
    "\n",
    "pred1 = model3.predict(Xtest)\n",
    "acc1 = accuracy_score(ytest, pred1)\n",
    "pred2 = model3.predict(Xtrain)\n",
    "acc2 = accuracy_score(ytrain, pred2)\n",
    "\n",
    "print(f'Test Accuracy of model 3 is: {round(acc1,3)}')\n",
    "print(f'Train Accuracy of model 3 is: {round(acc2,3)}')\n"
   ]
  },
  {
   "cell_type": "markdown",
   "id": "b0bb8b15-3a9f-4b41-b665-0f679fc70613",
   "metadata": {},
   "source": [
    "Hyperparameter tuning was able to increase accuracy from 0.914 to 0.953"
   ]
  },
  {
   "cell_type": "markdown",
   "id": "79bcaafe-8b10-4175-a135-513448b13fba",
   "metadata": {},
   "source": [
    "### Question 5  \n",
    "### Model 1\n",
    "For model 1 of ensemble models I will build a Random Forest"
   ]
  },
  {
   "cell_type": "code",
   "execution_count": 31,
   "id": "5c9584b7-3a93-4de0-922c-7fd2b70334f9",
   "metadata": {},
   "outputs": [
    {
     "name": "stdout",
     "output_type": "stream",
     "text": [
      "Test Accuracy of model 1 is: 0.998\n",
      "Train Accuracy of model 1 is: 1.0\n"
     ]
    }
   ],
   "source": [
    "#Do default random forest\n",
    "from sklearn.ensemble import RandomForestClassifier\n",
    "\n",
    "rclf = RandomForestClassifier(random_state=42)\n",
    "model1 = rclf.fit(Xtrain, ytrain)\n",
    "\n",
    "pred1 = model1.predict(Xtest)\n",
    "acc1 = accuracy_score(ytest, pred1)\n",
    "pred2 = model1.predict(Xtrain)\n",
    "acc2 = accuracy_score(ytrain, pred2)\n",
    "\n",
    "print(f'Test Accuracy of model 1 is: {round(acc1,3)}')\n",
    "print(f'Train Accuracy of model 1 is: {round(acc2,3)}')"
   ]
  },
  {
   "cell_type": "markdown",
   "id": "cef9e2e1-b8c1-47bd-8d4a-8ad79bd54703",
   "metadata": {},
   "source": [
    "Near perfect accuracy, no hyperparameter tuning will be done."
   ]
  },
  {
   "cell_type": "markdown",
   "id": "69e69968-a048-4891-82d7-4ee8ff048f56",
   "metadata": {},
   "source": [
    "### Model 2  \n",
    "For model 2 I will use Bagging Classifier "
   ]
  },
  {
   "cell_type": "code",
   "execution_count": 32,
   "id": "3d79ef0b-b245-45c9-b65b-c588aa5db5ed",
   "metadata": {},
   "outputs": [
    {
     "name": "stdout",
     "output_type": "stream",
     "text": [
      "Test Accuracy of model 2 is: 0.998\n",
      "Train Accuracy of model 2 is: 1.0\n"
     ]
    }
   ],
   "source": [
    "#do default gradient boost\n",
    "from sklearn.ensemble import BaggingClassifier\n",
    "\n",
    "bc = BaggingClassifier(random_state=42)\n",
    "model2 = bc.fit(Xtrain, ytrain)\n",
    "\n",
    "pred1 = model2.predict(Xtest)\n",
    "acc1 = accuracy_score(ytest, pred1)\n",
    "pred2 = model2.predict(Xtrain)\n",
    "acc2 = accuracy_score(ytrain, pred2)\n",
    "\n",
    "print(f'Test Accuracy of model 2 is: {round(acc1,3)}')\n",
    "print(f'Train Accuracy of model 2 is: {round(acc2,3)}')"
   ]
  },
  {
   "cell_type": "markdown",
   "id": "5a126899-3d23-4a1b-9a24-7437e7f5ea1a",
   "metadata": {},
   "source": [
    "Just as accurate as Random Forest, will move on."
   ]
  },
  {
   "cell_type": "markdown",
   "id": "6a55093b-7bbe-4f0b-a037-8cf24342a47d",
   "metadata": {},
   "source": [
    "### Model 3  \n",
    "For model 3 we use the vote classifier"
   ]
  },
  {
   "cell_type": "code",
   "execution_count": 33,
   "id": "7e2b8c10-1108-449f-a145-e1effec20a58",
   "metadata": {},
   "outputs": [
    {
     "name": "stdout",
     "output_type": "stream",
     "text": [
      "Test Accuracy of hard voting is: 0.998\n",
      "Train Accuracy of hard voting is: 1.0\n"
     ]
    }
   ],
   "source": [
    "#perform voting classifier for 3 best classifier built so far\n",
    "# Randomforest, bagging and mlp\n",
    "from sklearn.ensemble import VotingClassifier\n",
    "\n",
    "clf1 = MLPClassifier(activation = 'tanh', hidden_layer_sizes=200, random_state=42)\n",
    "clf2 = RandomForestClassifier(random_state=42)\n",
    "clf3 = BaggingClassifier(random_state=42)\n",
    "\n",
    "#use hard voting\n",
    "eclf1 = VotingClassifier(estimators = [('MLP',clf1),('RF',clf2),('BC',clf3)],voting='hard')\n",
    "eclf1 = eclf1.fit(Xtrain,ytrain)\n",
    "\n",
    "pred1 = eclf1.predict(Xtest)\n",
    "acc1 = accuracy_score(ytest, pred1)\n",
    "pred2 = eclf1.predict(Xtrain)\n",
    "acc2 = accuracy_score(ytrain, pred2)\n",
    "\n",
    "print(f'Test Accuracy of hard voting is: {round(acc1,3)}')\n",
    "print(f'Train Accuracy of hard voting is: {round(acc2,3)}')"
   ]
  },
  {
   "cell_type": "code",
   "execution_count": 34,
   "id": "72928fcc-3fd7-427d-8325-d786448035bd",
   "metadata": {},
   "outputs": [
    {
     "name": "stdout",
     "output_type": "stream",
     "text": [
      "Test Accuracy of soft voting is: 0.998\n",
      "Train Accuracy of soft voting is: 1.0\n"
     ]
    }
   ],
   "source": [
    "#use soft voting\n",
    "eclf2 = VotingClassifier(estimators = [('MLP',clf1),('RF',clf2),('BC',clf3)],voting='soft')\n",
    "eclf2 = eclf2.fit(Xtrain,ytrain)\n",
    "\n",
    "pred1 = eclf2.predict(Xtest)\n",
    "acc1 = accuracy_score(ytest, pred1)\n",
    "pred2 = eclf2.predict(Xtrain)\n",
    "acc2 = accuracy_score(ytrain, pred2)\n",
    "\n",
    "print(f'Test Accuracy of soft voting is: {round(acc1,3)}')\n",
    "print(f'Train Accuracy of soft voting is: {round(acc2,3)}')"
   ]
  },
  {
   "cell_type": "code",
   "execution_count": null,
   "id": "a9520809-d117-4320-94b7-8096e644e026",
   "metadata": {},
   "outputs": [],
   "source": []
  }
 ],
 "metadata": {
  "kernelspec": {
   "display_name": "Python 3 (ipykernel)",
   "language": "python",
   "name": "python3"
  },
  "language_info": {
   "codemirror_mode": {
    "name": "ipython",
    "version": 3
   },
   "file_extension": ".py",
   "mimetype": "text/x-python",
   "name": "python",
   "nbconvert_exporter": "python",
   "pygments_lexer": "ipython3",
   "version": "3.11.7"
  }
 },
 "nbformat": 4,
 "nbformat_minor": 5
}
