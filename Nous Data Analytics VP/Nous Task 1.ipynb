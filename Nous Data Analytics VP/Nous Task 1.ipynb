{
 "cells": [
  {
   "cell_type": "markdown",
   "id": "b4c63fbc-a6e0-42f2-bd72-84866e0b71b8",
   "metadata": {},
   "source": [
    "# Nous' Data Analytics Virtual Experience Task 1"
   ]
  },
  {
   "cell_type": "markdown",
   "id": "f6443b88-e6ce-464b-8a16-9b043d534f47",
   "metadata": {},
   "source": [
    "How has the student to teacher ratio in Queensland’s government-run high schools compared over time with other schools in the state and those in NSW and Victoria?"
   ]
  },
  {
   "cell_type": "code",
   "execution_count": 1,
   "id": "dd167f34-f2f6-4485-9b9b-9dc8a7b51014",
   "metadata": {},
   "outputs": [],
   "source": [
    "#import libraries and data\n",
    "import pandas as pd\n",
    "import numpy as np\n",
    "import plotly as px\n"
   ]
  },
  {
   "cell_type": "markdown",
   "id": "40090c64-eb63-48e1-bba5-d2dea054cb3c",
   "metadata": {},
   "source": [
    "Dataset was extracted from ABS"
   ]
  },
  {
   "cell_type": "code",
   "execution_count": 2,
   "id": "76f1779a-2701-4a35-8723-7be5f4c30120",
   "metadata": {},
   "outputs": [
    {
     "data": {
      "text/html": [
       "<div>\n",
       "<style scoped>\n",
       "    .dataframe tbody tr th:only-of-type {\n",
       "        vertical-align: middle;\n",
       "    }\n",
       "\n",
       "    .dataframe tbody tr th {\n",
       "        vertical-align: top;\n",
       "    }\n",
       "\n",
       "    .dataframe thead th {\n",
       "        text-align: right;\n",
       "    }\n",
       "</style>\n",
       "<table border=\"1\" class=\"dataframe\">\n",
       "  <thead>\n",
       "    <tr style=\"text-align: right;\">\n",
       "      <th></th>\n",
       "      <th>Australian Bureau of Statistics</th>\n",
       "      <th>Unnamed: 1</th>\n",
       "      <th>Unnamed: 2</th>\n",
       "      <th>Unnamed: 3</th>\n",
       "      <th>Unnamed: 4</th>\n",
       "    </tr>\n",
       "  </thead>\n",
       "  <tbody>\n",
       "    <tr>\n",
       "      <th>0</th>\n",
       "      <td>Schools, 2023</td>\n",
       "      <td>NaN</td>\n",
       "      <td>NaN</td>\n",
       "      <td>NaN</td>\n",
       "      <td>NaN</td>\n",
       "    </tr>\n",
       "    <tr>\n",
       "      <th>1</th>\n",
       "      <td>Released at 11.30am (Canberra time) Wednesday,...</td>\n",
       "      <td>NaN</td>\n",
       "      <td>NaN</td>\n",
       "      <td>NaN</td>\n",
       "      <td>NaN</td>\n",
       "    </tr>\n",
       "    <tr>\n",
       "      <th>2</th>\n",
       "      <td>Table 53a: Student (FTE) to Teaching Staff (FT...</td>\n",
       "      <td>NaN</td>\n",
       "      <td>NaN</td>\n",
       "      <td>NaN</td>\n",
       "      <td>NaN</td>\n",
       "    </tr>\n",
       "    <tr>\n",
       "      <th>3</th>\n",
       "      <td>Year</td>\n",
       "      <td>State/Territory</td>\n",
       "      <td>Affiliation</td>\n",
       "      <td>School Level</td>\n",
       "      <td>Student to Teaching Staff Ratio</td>\n",
       "    </tr>\n",
       "    <tr>\n",
       "      <th>4</th>\n",
       "      <td>2023</td>\n",
       "      <td>a NSW</td>\n",
       "      <td>a Government</td>\n",
       "      <td>a Primary School</td>\n",
       "      <td>14.9</td>\n",
       "    </tr>\n",
       "  </tbody>\n",
       "</table>\n",
       "</div>"
      ],
      "text/plain": [
       "                     Australian Bureau of Statistics       Unnamed: 1  \\\n",
       "0                                      Schools, 2023              NaN   \n",
       "1  Released at 11.30am (Canberra time) Wednesday,...              NaN   \n",
       "2  Table 53a: Student (FTE) to Teaching Staff (FT...              NaN   \n",
       "3                                               Year  State/Territory   \n",
       "4                                               2023            a NSW   \n",
       "\n",
       "     Unnamed: 2        Unnamed: 3                       Unnamed: 4  \n",
       "0           NaN               NaN                              NaN  \n",
       "1           NaN               NaN                              NaN  \n",
       "2           NaN               NaN                              NaN  \n",
       "3   Affiliation      School Level  Student to Teaching Staff Ratio  \n",
       "4  a Government  a Primary School                             14.9  "
      ]
     },
     "execution_count": 2,
     "metadata": {},
     "output_type": "execute_result"
    }
   ],
   "source": [
    "df = pd.read_excel('Table 53a Student (FTE) to Teaching Staff (FTE) Ratios, 2006-2023.xlsx', sheet_name=1)\n",
    "df.head()"
   ]
  },
  {
   "cell_type": "code",
   "execution_count": 10,
   "id": "226e781e-c7f6-460f-99c8-eba251370937",
   "metadata": {},
   "outputs": [],
   "source": [
    "# the first 4 rows are just info about dataset, will remove and row 5 is meant to be heading\n",
    "df = df.drop(df.index[0:4]).reset_index().drop('index',axis=1)"
   ]
  },
  {
   "cell_type": "code",
   "execution_count": 11,
   "id": "57fcaace-b97a-4794-bee1-77940cbc1281",
   "metadata": {},
   "outputs": [],
   "source": [
    "df.columns = ['Year',\t'State/Territory',\t'Affiliation',\t'School Level',\t'Ratio']"
   ]
  },
  {
   "cell_type": "code",
   "execution_count": 13,
   "id": "f4d08f91-ec18-4d0a-a5fe-ac7c70913f21",
   "metadata": {},
   "outputs": [
    {
     "data": {
      "text/html": [
       "<div>\n",
       "<style scoped>\n",
       "    .dataframe tbody tr th:only-of-type {\n",
       "        vertical-align: middle;\n",
       "    }\n",
       "\n",
       "    .dataframe tbody tr th {\n",
       "        vertical-align: top;\n",
       "    }\n",
       "\n",
       "    .dataframe thead th {\n",
       "        text-align: right;\n",
       "    }\n",
       "</style>\n",
       "<table border=\"1\" class=\"dataframe\">\n",
       "  <thead>\n",
       "    <tr style=\"text-align: right;\">\n",
       "      <th></th>\n",
       "      <th>Year</th>\n",
       "      <th>State/Territory</th>\n",
       "      <th>Affiliation</th>\n",
       "      <th>School Level</th>\n",
       "      <th>Ratio</th>\n",
       "    </tr>\n",
       "  </thead>\n",
       "  <tbody>\n",
       "    <tr>\n",
       "      <th>0</th>\n",
       "      <td>2023</td>\n",
       "      <td>a NSW</td>\n",
       "      <td>a Government</td>\n",
       "      <td>a Primary School</td>\n",
       "      <td>14.9</td>\n",
       "    </tr>\n",
       "    <tr>\n",
       "      <th>1</th>\n",
       "      <td>2023</td>\n",
       "      <td>a NSW</td>\n",
       "      <td>a Government</td>\n",
       "      <td>b Secondary School</td>\n",
       "      <td>13.2</td>\n",
       "    </tr>\n",
       "    <tr>\n",
       "      <th>2</th>\n",
       "      <td>2023</td>\n",
       "      <td>a NSW</td>\n",
       "      <td>a Government</td>\n",
       "      <td>c All Levels</td>\n",
       "      <td>14.1</td>\n",
       "    </tr>\n",
       "    <tr>\n",
       "      <th>3</th>\n",
       "      <td>2023</td>\n",
       "      <td>a NSW</td>\n",
       "      <td>b Non-Government</td>\n",
       "      <td>a Primary School</td>\n",
       "      <td>15.1</td>\n",
       "    </tr>\n",
       "    <tr>\n",
       "      <th>4</th>\n",
       "      <td>2023</td>\n",
       "      <td>a NSW</td>\n",
       "      <td>b Non-Government</td>\n",
       "      <td>b Secondary School</td>\n",
       "      <td>11.1</td>\n",
       "    </tr>\n",
       "  </tbody>\n",
       "</table>\n",
       "</div>"
      ],
      "text/plain": [
       "   Year State/Territory       Affiliation        School Level Ratio\n",
       "0  2023           a NSW      a Government    a Primary School  14.9\n",
       "1  2023           a NSW      a Government  b Secondary School  13.2\n",
       "2  2023           a NSW      a Government        c All Levels  14.1\n",
       "3  2023           a NSW  b Non-Government    a Primary School  15.1\n",
       "4  2023           a NSW  b Non-Government  b Secondary School  11.1"
      ]
     },
     "execution_count": 13,
     "metadata": {},
     "output_type": "execute_result"
    }
   ],
   "source": [
    "#I named ratio as column as it is shorter and represents student to teaching ratio\n",
    "df.head()"
   ]
  },
  {
   "cell_type": "code",
   "execution_count": 16,
   "id": "5b975993-eaa3-42d1-bb34-20c1844cfbb8",
   "metadata": {},
   "outputs": [
    {
     "data": {
      "text/plain": [
       "State/Territory\n",
       "a NSW      270\n",
       "b Vic.     270\n",
       "c Qld      270\n",
       "d SA       270\n",
       "e WA       270\n",
       "f Tas.     270\n",
       "g NT       270\n",
       "h ACT      270\n",
       "i Aust.    270\n",
       "Name: count, dtype: int64"
      ]
     },
     "execution_count": 16,
     "metadata": {},
     "output_type": "execute_result"
    }
   ],
   "source": [
    "df['State/Territory'].value_counts()"
   ]
  },
  {
   "cell_type": "code",
   "execution_count": 17,
   "id": "63a0557b-5b2e-4bbd-9de5-b2a92ad46427",
   "metadata": {},
   "outputs": [
    {
     "data": {
      "text/plain": [
       "Affiliation\n",
       "a Government          486\n",
       "b Non-Government      486\n",
       "c Catholic            486\n",
       "d Independent         486\n",
       "e All Affiliations    486\n",
       "Name: count, dtype: int64"
      ]
     },
     "execution_count": 17,
     "metadata": {},
     "output_type": "execute_result"
    }
   ],
   "source": [
    "df['Affiliation'].value_counts()"
   ]
  },
  {
   "cell_type": "markdown",
   "id": "c8e6ceee-e47c-4713-aad3-8081f902a3a3",
   "metadata": {},
   "source": [
    "I have two main questions to anser:\n",
    "1. How do govt run schools in Qld compare to non-govt schools in Qld.\n",
    "2. How do govt run schools in Qld compare to schools in NSW and Vic."
   ]
  },
  {
   "cell_type": "markdown",
   "id": "a5746096-84f3-4fdf-8866-369741f0c148",
   "metadata": {},
   "source": [
    "## Question 1"
   ]
  },
  {
   "cell_type": "code",
   "execution_count": 20,
   "id": "e18512c4-d92d-45a2-8d1f-ae389d002603",
   "metadata": {},
   "outputs": [
    {
     "data": {
      "text/html": [
       "<div>\n",
       "<style scoped>\n",
       "    .dataframe tbody tr th:only-of-type {\n",
       "        vertical-align: middle;\n",
       "    }\n",
       "\n",
       "    .dataframe tbody tr th {\n",
       "        vertical-align: top;\n",
       "    }\n",
       "\n",
       "    .dataframe thead th {\n",
       "        text-align: right;\n",
       "    }\n",
       "</style>\n",
       "<table border=\"1\" class=\"dataframe\">\n",
       "  <thead>\n",
       "    <tr style=\"text-align: right;\">\n",
       "      <th></th>\n",
       "      <th>Year</th>\n",
       "      <th>State/Territory</th>\n",
       "      <th>Affiliation</th>\n",
       "      <th>School Level</th>\n",
       "      <th>Ratio</th>\n",
       "    </tr>\n",
       "  </thead>\n",
       "  <tbody>\n",
       "    <tr>\n",
       "      <th>30</th>\n",
       "      <td>2023</td>\n",
       "      <td>c Qld</td>\n",
       "      <td>a Government</td>\n",
       "      <td>a Primary School</td>\n",
       "      <td>14.2</td>\n",
       "    </tr>\n",
       "    <tr>\n",
       "      <th>31</th>\n",
       "      <td>2023</td>\n",
       "      <td>c Qld</td>\n",
       "      <td>a Government</td>\n",
       "      <td>b Secondary School</td>\n",
       "      <td>12</td>\n",
       "    </tr>\n",
       "    <tr>\n",
       "      <th>32</th>\n",
       "      <td>2023</td>\n",
       "      <td>c Qld</td>\n",
       "      <td>a Government</td>\n",
       "      <td>c All Levels</td>\n",
       "      <td>13.2</td>\n",
       "    </tr>\n",
       "    <tr>\n",
       "      <th>33</th>\n",
       "      <td>2023</td>\n",
       "      <td>c Qld</td>\n",
       "      <td>b Non-Government</td>\n",
       "      <td>a Primary School</td>\n",
       "      <td>15.8</td>\n",
       "    </tr>\n",
       "    <tr>\n",
       "      <th>34</th>\n",
       "      <td>2023</td>\n",
       "      <td>c Qld</td>\n",
       "      <td>b Non-Government</td>\n",
       "      <td>b Secondary School</td>\n",
       "      <td>12</td>\n",
       "    </tr>\n",
       "  </tbody>\n",
       "</table>\n",
       "</div>"
      ],
      "text/plain": [
       "    Year State/Territory       Affiliation        School Level Ratio\n",
       "30  2023           c Qld      a Government    a Primary School  14.2\n",
       "31  2023           c Qld      a Government  b Secondary School    12\n",
       "32  2023           c Qld      a Government        c All Levels  13.2\n",
       "33  2023           c Qld  b Non-Government    a Primary School  15.8\n",
       "34  2023           c Qld  b Non-Government  b Secondary School    12"
      ]
     },
     "execution_count": 20,
     "metadata": {},
     "output_type": "execute_result"
    }
   ],
   "source": [
    "# I will create one dataset with just Qld schools\n",
    "qld = df[df['State/Territory']== 'c Qld']\n",
    "qld.head()"
   ]
  },
  {
   "cell_type": "code",
   "execution_count": 23,
   "id": "e841cbe4-f3d1-4db4-b68c-2f0e2a9c0f8e",
   "metadata": {},
   "outputs": [
    {
     "name": "stderr",
     "output_type": "stream",
     "text": [
      "C:\\Users\\natha\\AppData\\Local\\Temp\\ipykernel_25528\\3436494353.py:2: SettingWithCopyWarning: \n",
      "A value is trying to be set on a copy of a slice from a DataFrame.\n",
      "Try using .loc[row_indexer,col_indexer] = value instead\n",
      "\n",
      "See the caveats in the documentation: https://pandas.pydata.org/pandas-docs/stable/user_guide/indexing.html#returning-a-view-versus-a-copy\n",
      "  qld.Affiliation = np.where( qld.Affiliation == 'a Government', 'a Government','Non Government')\n"
     ]
    }
   ],
   "source": [
    "# will change to other two categories, a government and non government\n",
    "qld.Affiliation = np.where( qld.Affiliation == 'a Government', 'a Government','Non Government')"
   ]
  },
  {
   "cell_type": "code",
   "execution_count": 24,
   "id": "8c2ed621-821b-46b4-915c-5f912818f1d4",
   "metadata": {},
   "outputs": [
    {
     "data": {
      "text/html": [
       "<div>\n",
       "<style scoped>\n",
       "    .dataframe tbody tr th:only-of-type {\n",
       "        vertical-align: middle;\n",
       "    }\n",
       "\n",
       "    .dataframe tbody tr th {\n",
       "        vertical-align: top;\n",
       "    }\n",
       "\n",
       "    .dataframe thead th {\n",
       "        text-align: right;\n",
       "    }\n",
       "</style>\n",
       "<table border=\"1\" class=\"dataframe\">\n",
       "  <thead>\n",
       "    <tr style=\"text-align: right;\">\n",
       "      <th></th>\n",
       "      <th>Year</th>\n",
       "      <th>State/Territory</th>\n",
       "      <th>Affiliation</th>\n",
       "      <th>School Level</th>\n",
       "      <th>Ratio</th>\n",
       "    </tr>\n",
       "  </thead>\n",
       "  <tbody>\n",
       "    <tr>\n",
       "      <th>30</th>\n",
       "      <td>2023</td>\n",
       "      <td>c Qld</td>\n",
       "      <td>a Government</td>\n",
       "      <td>a Primary School</td>\n",
       "      <td>14.2</td>\n",
       "    </tr>\n",
       "    <tr>\n",
       "      <th>31</th>\n",
       "      <td>2023</td>\n",
       "      <td>c Qld</td>\n",
       "      <td>a Government</td>\n",
       "      <td>b Secondary School</td>\n",
       "      <td>12</td>\n",
       "    </tr>\n",
       "    <tr>\n",
       "      <th>32</th>\n",
       "      <td>2023</td>\n",
       "      <td>c Qld</td>\n",
       "      <td>a Government</td>\n",
       "      <td>c All Levels</td>\n",
       "      <td>13.2</td>\n",
       "    </tr>\n",
       "    <tr>\n",
       "      <th>33</th>\n",
       "      <td>2023</td>\n",
       "      <td>c Qld</td>\n",
       "      <td>Non Government</td>\n",
       "      <td>a Primary School</td>\n",
       "      <td>15.8</td>\n",
       "    </tr>\n",
       "    <tr>\n",
       "      <th>34</th>\n",
       "      <td>2023</td>\n",
       "      <td>c Qld</td>\n",
       "      <td>Non Government</td>\n",
       "      <td>b Secondary School</td>\n",
       "      <td>12</td>\n",
       "    </tr>\n",
       "  </tbody>\n",
       "</table>\n",
       "</div>"
      ],
      "text/plain": [
       "    Year State/Territory     Affiliation        School Level Ratio\n",
       "30  2023           c Qld    a Government    a Primary School  14.2\n",
       "31  2023           c Qld    a Government  b Secondary School    12\n",
       "32  2023           c Qld    a Government        c All Levels  13.2\n",
       "33  2023           c Qld  Non Government    a Primary School  15.8\n",
       "34  2023           c Qld  Non Government  b Secondary School    12"
      ]
     },
     "execution_count": 24,
     "metadata": {},
     "output_type": "execute_result"
    }
   ],
   "source": [
    "qld.head()"
   ]
  },
  {
   "cell_type": "code",
   "execution_count": 25,
   "id": "9389bb6c-c9db-44ef-aad1-a4cb2800ce2e",
   "metadata": {},
   "outputs": [
    {
     "data": {
      "text/plain": [
       "Affiliation\n",
       "Non Government    216\n",
       "a Government       54\n",
       "Name: count, dtype: int64"
      ]
     },
     "execution_count": 25,
     "metadata": {},
     "output_type": "execute_result"
    }
   ],
   "source": [
    "qld.Affiliation.value_counts()"
   ]
  },
  {
   "cell_type": "code",
   "execution_count": 30,
   "id": "cef626fc-0403-45a4-ba9d-d57adb1bc917",
   "metadata": {},
   "outputs": [
    {
     "data": {
      "text/html": [
       "<div>\n",
       "<style scoped>\n",
       "    .dataframe tbody tr th:only-of-type {\n",
       "        vertical-align: middle;\n",
       "    }\n",
       "\n",
       "    .dataframe tbody tr th {\n",
       "        vertical-align: top;\n",
       "    }\n",
       "\n",
       "    .dataframe thead th {\n",
       "        text-align: right;\n",
       "    }\n",
       "</style>\n",
       "<table border=\"1\" class=\"dataframe\">\n",
       "  <thead>\n",
       "    <tr style=\"text-align: right;\">\n",
       "      <th></th>\n",
       "      <th>Year</th>\n",
       "      <th>Affiliation</th>\n",
       "      <th>Ratio</th>\n",
       "    </tr>\n",
       "  </thead>\n",
       "  <tbody>\n",
       "    <tr>\n",
       "      <th>0</th>\n",
       "      <td>2006</td>\n",
       "      <td>Non Government</td>\n",
       "      <td>14.133333</td>\n",
       "    </tr>\n",
       "    <tr>\n",
       "      <th>1</th>\n",
       "      <td>2006</td>\n",
       "      <td>a Government</td>\n",
       "      <td>14.3</td>\n",
       "    </tr>\n",
       "    <tr>\n",
       "      <th>2</th>\n",
       "      <td>2007</td>\n",
       "      <td>Non Government</td>\n",
       "      <td>14.633333</td>\n",
       "    </tr>\n",
       "    <tr>\n",
       "      <th>3</th>\n",
       "      <td>2007</td>\n",
       "      <td>a Government</td>\n",
       "      <td>14.3</td>\n",
       "    </tr>\n",
       "    <tr>\n",
       "      <th>4</th>\n",
       "      <td>2008</td>\n",
       "      <td>Non Government</td>\n",
       "      <td>14.608333</td>\n",
       "    </tr>\n",
       "  </tbody>\n",
       "</table>\n",
       "</div>"
      ],
      "text/plain": [
       "   Year     Affiliation      Ratio\n",
       "0  2006  Non Government  14.133333\n",
       "1  2006    a Government       14.3\n",
       "2  2007  Non Government  14.633333\n",
       "3  2007    a Government       14.3\n",
       "4  2008  Non Government  14.608333"
      ]
     },
     "execution_count": 30,
     "metadata": {},
     "output_type": "execute_result"
    }
   ],
   "source": [
    "#Now I will group by year average\n",
    "qld_year = qld.groupby(['Year','Affiliation'])['Ratio'].mean().reset_index()\n",
    "qld_year.head()"
   ]
  },
  {
   "cell_type": "code",
   "execution_count": null,
   "id": "d21b7784-2cff-48d1-8a93-579d625a1ae3",
   "metadata": {},
   "outputs": [],
   "source": []
  },
  {
   "cell_type": "code",
   "execution_count": 44,
   "id": "35712f7b-1656-425f-b617-21841bbdfc1f",
   "metadata": {},
   "outputs": [
    {
     "data": {
      "image/png": "[encoded data removed]",
      "text/plain": [
       "<Figure size 640x480 with 1 Axes>"
      ]
     },
     "metadata": {},
     "output_type": "display_data"
    }
   ],
   "source": [
    "#Graph results over time\n",
    "import warnings\n",
    "# Ignore all warnings\n",
    "warnings.filterwarnings('ignore')\n",
    "import seaborn as sns\n",
    "import matplotlib.pyplot as plt\n",
    "\n",
    "sns.lineplot(data = qld_year, x='Year',y='Ratio', hue='Affiliation')\n",
    "plt.show()"
   ]
  },
  {
   "cell_type": "markdown",
   "id": "9213c418-876f-4481-adde-b0b5318dbc7b",
   "metadata": {},
   "source": [
    "The graph clearly shows that:\n",
    "1. the ratio has been declining over the last 17 years for both.\n",
    "2. Non-government ratio is higher.\n",
    "\n",
    "I can investigate further to statistically prove there is a difference."
   ]
  },
  {
   "cell_type": "code",
   "execution_count": 73,
   "id": "fcee1eab-d3a8-4565-bfe1-f8fa33af552c",
   "metadata": {},
   "outputs": [],
   "source": [
    "#Grab each dataset ratios\n",
    "g = qld_year[qld_year.Affiliation == 'a Government']['Ratio']\n",
    "n = qld_year[qld_year.Affiliation != 'a Government']['Ratio']\n"
   ]
  },
  {
   "cell_type": "code",
   "execution_count": 75,
   "id": "57d41148-31fe-4820-a36e-dbec422298e3",
   "metadata": {},
   "outputs": [
    {
     "data": {
      "text/plain": [
       "<Axes: xlabel='Ratio', ylabel='Count'>"
      ]
     },
     "execution_count": 75,
     "metadata": {},
     "output_type": "execute_result"
    },
    {
     "data": {
      "image/png": "[encoded data removed]",
      "text/plain": [
       "<Figure size 640x480 with 1 Axes>"
      ]
     },
     "metadata": {},
     "output_type": "display_data"
    }
   ],
   "source": [
    "sns.histplot(g, binwidth=0.1)"
   ]
  },
  {
   "cell_type": "code",
   "execution_count": 76,
   "id": "84c62b7b-9d75-4b99-a782-5b7716f9d3dd",
   "metadata": {},
   "outputs": [
    {
     "data": {
      "text/plain": [
       "<Axes: xlabel='Ratio', ylabel='Count'>"
      ]
     },
     "execution_count": 76,
     "metadata": {},
     "output_type": "execute_result"
    },
    {
     "data": {
      "image/png": "[encoded data removed]",
      "text/plain": [
       "<Figure size 640x480 with 1 Axes>"
      ]
     },
     "metadata": {},
     "output_type": "display_data"
    }
   ],
   "source": [
    "sns.histplot(n, binwidth=0.1)"
   ]
  },
  {
   "cell_type": "markdown",
   "id": "93ceb037-7c20-402a-ae02-e086fd7a1f9d",
   "metadata": {},
   "source": [
    "Histograms show data sets do not exist a normal distribution, hence a non parametric t test will be used."
   ]
  },
  {
   "cell_type": "code",
   "execution_count": 77,
   "id": "0aa31809-269d-44bc-8dca-af6c1ecdaaa0",
   "metadata": {},
   "outputs": [],
   "source": [
    "gov= np.array(g).astype(float)\n",
    "non= np.array(n).astype(float)"
   ]
  },
  {
   "cell_type": "code",
   "execution_count": 80,
   "id": "ff0f5683-e699-47c3-9b77-457941244419",
   "metadata": {},
   "outputs": [
    {
     "name": "stdout",
     "output_type": "stream",
     "text": [
      "82.5\n",
      "0.01238224292135835\n"
     ]
    }
   ],
   "source": [
    "from scipy.stats import mannwhitneyu\n",
    "\n",
    "stat, p =mannwhitneyu(gov,non)\n",
    "print(stat)\n",
    "print(p)"
   ]
  },
  {
   "cell_type": "markdown",
   "id": "f5fbfb24-842d-43af-b1dd-a8848d8b1cf6",
   "metadata": {},
   "source": [
    "The mann whitney u non-parametric test produced a p-value of 0.012, hence I can reject the null hypothesis, and conclude non government schools have a higher student to teacher ratio on average."
   ]
  },
  {
   "cell_type": "markdown",
   "id": "cf705220-cb40-4f7a-a37e-bc9fb4b948fe",
   "metadata": {},
   "source": [
    "## 2. Qld vs NSW and Vic"
   ]
  },
  {
   "cell_type": "code",
   "execution_count": 81,
   "id": "7cbdde4b-75de-455f-ad7d-ffaf0ef58be2",
   "metadata": {},
   "outputs": [
    {
     "data": {
      "text/html": [
       "<div>\n",
       "<style scoped>\n",
       "    .dataframe tbody tr th:only-of-type {\n",
       "        vertical-align: middle;\n",
       "    }\n",
       "\n",
       "    .dataframe tbody tr th {\n",
       "        vertical-align: top;\n",
       "    }\n",
       "\n",
       "    .dataframe thead th {\n",
       "        text-align: right;\n",
       "    }\n",
       "</style>\n",
       "<table border=\"1\" class=\"dataframe\">\n",
       "  <thead>\n",
       "    <tr style=\"text-align: right;\">\n",
       "      <th></th>\n",
       "      <th>Year</th>\n",
       "      <th>State/Territory</th>\n",
       "      <th>Affiliation</th>\n",
       "      <th>School Level</th>\n",
       "      <th>Ratio</th>\n",
       "    </tr>\n",
       "  </thead>\n",
       "  <tbody>\n",
       "    <tr>\n",
       "      <th>0</th>\n",
       "      <td>2023</td>\n",
       "      <td>a NSW</td>\n",
       "      <td>a Government</td>\n",
       "      <td>a Primary School</td>\n",
       "      <td>14.9</td>\n",
       "    </tr>\n",
       "    <tr>\n",
       "      <th>1</th>\n",
       "      <td>2023</td>\n",
       "      <td>a NSW</td>\n",
       "      <td>a Government</td>\n",
       "      <td>b Secondary School</td>\n",
       "      <td>13.2</td>\n",
       "    </tr>\n",
       "    <tr>\n",
       "      <th>2</th>\n",
       "      <td>2023</td>\n",
       "      <td>a NSW</td>\n",
       "      <td>a Government</td>\n",
       "      <td>c All Levels</td>\n",
       "      <td>14.1</td>\n",
       "    </tr>\n",
       "    <tr>\n",
       "      <th>3</th>\n",
       "      <td>2023</td>\n",
       "      <td>a NSW</td>\n",
       "      <td>b Non-Government</td>\n",
       "      <td>a Primary School</td>\n",
       "      <td>15.1</td>\n",
       "    </tr>\n",
       "    <tr>\n",
       "      <th>4</th>\n",
       "      <td>2023</td>\n",
       "      <td>a NSW</td>\n",
       "      <td>b Non-Government</td>\n",
       "      <td>b Secondary School</td>\n",
       "      <td>11.1</td>\n",
       "    </tr>\n",
       "  </tbody>\n",
       "</table>\n",
       "</div>"
      ],
      "text/plain": [
       "   Year State/Territory       Affiliation        School Level Ratio\n",
       "0  2023           a NSW      a Government    a Primary School  14.9\n",
       "1  2023           a NSW      a Government  b Secondary School  13.2\n",
       "2  2023           a NSW      a Government        c All Levels  14.1\n",
       "3  2023           a NSW  b Non-Government    a Primary School  15.1\n",
       "4  2023           a NSW  b Non-Government  b Secondary School  11.1"
      ]
     },
     "execution_count": 81,
     "metadata": {},
     "output_type": "execute_result"
    }
   ],
   "source": [
    "df.head()"
   ]
  },
  {
   "cell_type": "code",
   "execution_count": 90,
   "id": "852ac49a-bfb7-4b38-ac04-32cbd9c213b0",
   "metadata": {},
   "outputs": [],
   "source": [
    "nsw = df['State/Territory'] == 'a NSW'\n",
    "vic = df['State/Territory'] == 'b Vic.'\n",
    "qld = df['State/Territory'] == 'c Qld'\n",
    "gov = df['Affiliation']== 'a Government'"
   ]
  },
  {
   "cell_type": "code",
   "execution_count": 102,
   "id": "13cbbcd0-f5cd-46ea-ab60-6dece46cbed5",
   "metadata": {},
   "outputs": [
    {
     "data": {
      "text/html": [
       "<div>\n",
       "<style scoped>\n",
       "    .dataframe tbody tr th:only-of-type {\n",
       "        vertical-align: middle;\n",
       "    }\n",
       "\n",
       "    .dataframe tbody tr th {\n",
       "        vertical-align: top;\n",
       "    }\n",
       "\n",
       "    .dataframe thead th {\n",
       "        text-align: right;\n",
       "    }\n",
       "</style>\n",
       "<table border=\"1\" class=\"dataframe\">\n",
       "  <thead>\n",
       "    <tr style=\"text-align: right;\">\n",
       "      <th></th>\n",
       "      <th>Year</th>\n",
       "      <th>State/Territory</th>\n",
       "      <th>Affiliation</th>\n",
       "      <th>School Level</th>\n",
       "      <th>Ratio</th>\n",
       "    </tr>\n",
       "  </thead>\n",
       "  <tbody>\n",
       "    <tr>\n",
       "      <th>0</th>\n",
       "      <td>2023</td>\n",
       "      <td>a NSW</td>\n",
       "      <td>a Government</td>\n",
       "      <td>a Primary School</td>\n",
       "      <td>14.9</td>\n",
       "    </tr>\n",
       "    <tr>\n",
       "      <th>1</th>\n",
       "      <td>2023</td>\n",
       "      <td>a NSW</td>\n",
       "      <td>a Government</td>\n",
       "      <td>b Secondary School</td>\n",
       "      <td>13.2</td>\n",
       "    </tr>\n",
       "    <tr>\n",
       "      <th>2</th>\n",
       "      <td>2023</td>\n",
       "      <td>a NSW</td>\n",
       "      <td>a Government</td>\n",
       "      <td>c All Levels</td>\n",
       "      <td>14.1</td>\n",
       "    </tr>\n",
       "    <tr>\n",
       "      <th>3</th>\n",
       "      <td>2023</td>\n",
       "      <td>a NSW</td>\n",
       "      <td>b Non-Government</td>\n",
       "      <td>a Primary School</td>\n",
       "      <td>15.1</td>\n",
       "    </tr>\n",
       "    <tr>\n",
       "      <th>4</th>\n",
       "      <td>2023</td>\n",
       "      <td>a NSW</td>\n",
       "      <td>b Non-Government</td>\n",
       "      <td>b Secondary School</td>\n",
       "      <td>11.1</td>\n",
       "    </tr>\n",
       "    <tr>\n",
       "      <th>...</th>\n",
       "      <td>...</td>\n",
       "      <td>...</td>\n",
       "      <td>...</td>\n",
       "      <td>...</td>\n",
       "      <td>...</td>\n",
       "    </tr>\n",
       "    <tr>\n",
       "      <th>589</th>\n",
       "      <td>2006</td>\n",
       "      <td>b Vic.</td>\n",
       "      <td>e All Affiliations</td>\n",
       "      <td>b Secondary School</td>\n",
       "      <td>11.7</td>\n",
       "    </tr>\n",
       "    <tr>\n",
       "      <th>590</th>\n",
       "      <td>2006</td>\n",
       "      <td>b Vic.</td>\n",
       "      <td>e All Affiliations</td>\n",
       "      <td>c All Levels</td>\n",
       "      <td>13.7</td>\n",
       "    </tr>\n",
       "    <tr>\n",
       "      <th>591</th>\n",
       "      <td>2006</td>\n",
       "      <td>c Qld</td>\n",
       "      <td>a Government</td>\n",
       "      <td>a Primary School</td>\n",
       "      <td>15.5</td>\n",
       "    </tr>\n",
       "    <tr>\n",
       "      <th>592</th>\n",
       "      <td>2006</td>\n",
       "      <td>c Qld</td>\n",
       "      <td>a Government</td>\n",
       "      <td>b Secondary School</td>\n",
       "      <td>13</td>\n",
       "    </tr>\n",
       "    <tr>\n",
       "      <th>593</th>\n",
       "      <td>2006</td>\n",
       "      <td>c Qld</td>\n",
       "      <td>a Government</td>\n",
       "      <td>c All Levels</td>\n",
       "      <td>14.4</td>\n",
       "    </tr>\n",
       "  </tbody>\n",
       "</table>\n",
       "<p>594 rows × 5 columns</p>\n",
       "</div>"
      ],
      "text/plain": [
       "     Year State/Territory         Affiliation        School Level Ratio\n",
       "0    2023           a NSW        a Government    a Primary School  14.9\n",
       "1    2023           a NSW        a Government  b Secondary School  13.2\n",
       "2    2023           a NSW        a Government        c All Levels  14.1\n",
       "3    2023           a NSW    b Non-Government    a Primary School  15.1\n",
       "4    2023           a NSW    b Non-Government  b Secondary School  11.1\n",
       "..    ...             ...                 ...                 ...   ...\n",
       "589  2006          b Vic.  e All Affiliations  b Secondary School  11.7\n",
       "590  2006          b Vic.  e All Affiliations        c All Levels  13.7\n",
       "591  2006           c Qld        a Government    a Primary School  15.5\n",
       "592  2006           c Qld        a Government  b Secondary School    13\n",
       "593  2006           c Qld        a Government        c All Levels  14.4\n",
       "\n",
       "[594 rows x 5 columns]"
      ]
     },
     "execution_count": 102,
     "metadata": {},
     "output_type": "execute_result"
    }
   ],
   "source": [
    "#filter out NSW, Vic and govt Qld schools\n",
    "\n",
    "state = df[nsw|vic|(qld&gov)].reset_index().drop('index',axis=1)\n",
    "state"
   ]
  },
  {
   "cell_type": "code",
   "execution_count": 103,
   "id": "55c6c236-c479-4798-98b9-304974a1ff03",
   "metadata": {},
   "outputs": [],
   "source": [
    "#filter by average of each state\n",
    "year_avg = state.groupby(['Year','State/Territory'])['Ratio'].mean().reset_index()\n"
   ]
  },
  {
   "cell_type": "code",
   "execution_count": 127,
   "id": "5a9cc305-99d8-4478-833e-25da8a886459",
   "metadata": {},
   "outputs": [
    {
     "data": {
      "application/vnd.plotly.v1+json": {
       "config": {
        "plotlyServerURL": "https://plot.ly"
       },
       "data": [
        {
         "hovertemplate": "State/Territory=a NSW<br>Year=%{x}<br>Ratio=%{y}<extra></extra>",
         "legendgroup": "a NSW",
         "line": {
          "color": "#636efa",
          "dash": "solid"
         },
         "marker": {
          "symbol": "circle"
         },
         "mode": "lines",
         "name": "a NSW",
         "orientation": "h",
         "showlegend": true,
         "type": "scatter",
         "x": [
          2006,
          2007,
          2008,
          2009,
          2010,
          2011,
          2012,
          2013,
          2014,
          2015,
          2016,
          2017,
          2018,
          2019,
          2020,
          2021,
          2022,
          2023
         ],
         "xaxis": "x",
         "y": [
          14.059999999999999,
          14.066666666666666,
          13.973333333333331,
          14.026666666666666,
          14.040000000000001,
          13.946666666666667,
          13.900000000000002,
          13.846666666666666,
          13.966666666666669,
          13.873333333333331,
          13.74,
          13.620000000000001,
          13.413333333333334,
          13.82,
          13.566666666666668,
          13.31333333333333,
          13.259999999999998,
          13.273333333333333
         ],
         "yaxis": "y"
        },
        {
         "hovertemplate": "State/Territory=b Vic.<br>Year=%{x}<br>Ratio=%{y}<extra></extra>",
         "legendgroup": "b Vic.",
         "line": {
          "color": "#EF553B",
          "dash": "solid"
         },
         "marker": {
          "symbol": "circle"
         },
         "mode": "lines",
         "name": "b Vic.",
         "orientation": "h",
         "showlegend": true,
         "type": "scatter",
         "x": [
          2006,
          2007,
          2008,
          2009,
          2010,
          2011,
          2012,
          2013,
          2014,
          2015,
          2016,
          2017,
          2018,
          2019,
          2020,
          2021,
          2022,
          2023
         ],
         "xaxis": "x",
         "y": [
          13.513333333333332,
          13.24,
          13.166666666666666,
          13.200000000000001,
          13.186666666666667,
          13.046666666666665,
          12.946666666666664,
          13.033333333333331,
          13.086666666666666,
          13.059999999999999,
          12.826666666666664,
          12.799999999999999,
          12.633333333333333,
          12.559999999999999,
          12.42,
          12.186666666666667,
          12.1,
          12.000000000000002
         ],
         "yaxis": "y"
        },
        {
         "hovertemplate": "State/Territory=c Qld<br>Year=%{x}<br>Ratio=%{y}<extra></extra>",
         "legendgroup": "c Qld",
         "line": {
          "color": "#00cc96",
          "dash": "solid"
         },
         "marker": {
          "symbol": "circle"
         },
         "mode": "lines",
         "name": "c Qld",
         "orientation": "h",
         "showlegend": true,
         "type": "scatter",
         "x": [
          2006,
          2007,
          2008,
          2009,
          2010,
          2011,
          2012,
          2013,
          2014,
          2015,
          2016,
          2017,
          2018,
          2019,
          2020,
          2021,
          2022,
          2023
         ],
         "xaxis": "x",
         "y": [
          14.299999999999999,
          14.299999999999999,
          14.233333333333334,
          14.133333333333335,
          14.1,
          14,
          14.033333333333331,
          14.299999999999999,
          14,
          13.799999999999999,
          13.533333333333333,
          13.466666666666667,
          13.266666666666666,
          13.233333333333334,
          13.266666666666666,
          13.266666666666666,
          13.166666666666666,
          13.133333333333333
         ],
         "yaxis": "y"
        }
       ],
       "layout": {
        "height": 400,
        "legend": {
         "bgcolor": "rgba(255, 255, 255, 0.5)",
         "font": {
          "size": 10
         },
         "title": {
          "text": "State/Territory"
         },
         "tracegroupgap": 0,
         "traceorder": "normal",
         "x": 1.05,
         "y": 1
        },
        "margin": {
         "b": 40,
         "l": 40,
         "r": 40,
         "t": 40
        },
        "template": {
         "data": {
          "bar": [
           {
            "error_x": {
             "color": "#2a3f5f"
            },
            "error_y": {
             "color": "#2a3f5f"
            },
            "marker": {
             "line": {
              "color": "#E5ECF6",
              "width": 0.5
             },
             "pattern": {
              "fillmode": "overlay",
              "size": 10,
              "solidity": 0.2
             }
            },
            "type": "bar"
           }
          ],
          "barpolar": [
           {
            "marker": {
             "line": {
              "color": "#E5ECF6",
              "width": 0.5
             },
             "pattern": {
              "fillmode": "overlay",
              "size": 10,
              "solidity": 0.2
             }
            },
            "type": "barpolar"
           }
          ],
          "carpet": [
           {
            "aaxis": {
             "endlinecolor": "#2a3f5f",
             "gridcolor": "white",
             "linecolor": "white",
             "minorgridcolor": "white",
             "startlinecolor": "#2a3f5f"
            },
            "baxis": {
             "endlinecolor": "#2a3f5f",
             "gridcolor": "white",
             "linecolor": "white",
             "minorgridcolor": "white",
             "startlinecolor": "#2a3f5f"
            },
            "type": "carpet"
           }
          ],
          "choropleth": [
           {
            "colorbar": {
             "outlinewidth": 0,
             "ticks": ""
            },
            "type": "choropleth"
           }
          ],
          "contour": [
           {
            "colorbar": {
             "outlinewidth": 0,
             "ticks": ""
            },
            "colorscale": [
             [
              0,
              "#0d0887"
             ],
             [
              0.1111111111111111,
              "#46039f"
             ],
             [
              0.2222222222222222,
              "#7201a8"
             ],
             [
              0.3333333333333333,
              "#9c179e"
             ],
             [
              0.4444444444444444,
              "#bd3786"
             ],
             [
              0.5555555555555556,
              "#d8576b"
             ],
             [
              0.6666666666666666,
              "#ed7953"
             ],
             [
              0.7777777777777778,
              "#fb9f3a"
             ],
             [
              0.8888888888888888,
              "#fdca26"
             ],
             [
              1,
              "#f0f921"
             ]
            ],
            "type": "contour"
           }
          ],
          "contourcarpet": [
           {
            "colorbar": {
             "outlinewidth": 0,
             "ticks": ""
            },
            "type": "contourcarpet"
           }
          ],
          "heatmap": [
           {
            "colorbar": {
             "outlinewidth": 0,
             "ticks": ""
            },
            "colorscale": [
             [
              0,
              "#0d0887"
             ],
             [
              0.1111111111111111,
              "#46039f"
             ],
             [
              0.2222222222222222,
              "#7201a8"
             ],
             [
              0.3333333333333333,
              "#9c179e"
             ],
             [
              0.4444444444444444,
              "#bd3786"
             ],
             [
              0.5555555555555556,
              "#d8576b"
             ],
             [
              0.6666666666666666,
              "#ed7953"
             ],
             [
              0.7777777777777778,
              "#fb9f3a"
             ],
             [
              0.8888888888888888,
              "#fdca26"
             ],
             [
              1,
              "#f0f921"
             ]
            ],
            "type": "heatmap"
           }
          ],
          "heatmapgl": [
           {
            "colorbar": {
             "outlinewidth": 0,
             "ticks": ""
            },
            "colorscale": [
             [
              0,
              "#0d0887"
             ],
             [
              0.1111111111111111,
              "#46039f"
             ],
             [
              0.2222222222222222,
              "#7201a8"
             ],
             [
              0.3333333333333333,
              "#9c179e"
             ],
             [
              0.4444444444444444,
              "#bd3786"
             ],
             [
              0.5555555555555556,
              "#d8576b"
             ],
             [
              0.6666666666666666,
              "#ed7953"
             ],
             [
              0.7777777777777778,
              "#fb9f3a"
             ],
             [
              0.8888888888888888,
              "#fdca26"
             ],
             [
              1,
              "#f0f921"
             ]
            ],
            "type": "heatmapgl"
           }
          ],
          "histogram": [
           {
            "marker": {
             "pattern": {
              "fillmode": "overlay",
              "size": 10,
              "solidity": 0.2
             }
            },
            "type": "histogram"
           }
          ],
          "histogram2d": [
           {
            "colorbar": {
             "outlinewidth": 0,
             "ticks": ""
            },
            "colorscale": [
             [
              0,
              "#0d0887"
             ],
             [
              0.1111111111111111,
              "#46039f"
             ],
             [
              0.2222222222222222,
              "#7201a8"
             ],
             [
              0.3333333333333333,
              "#9c179e"
             ],
             [
              0.4444444444444444,
              "#bd3786"
             ],
             [
              0.5555555555555556,
              "#d8576b"
             ],
             [
              0.6666666666666666,
              "#ed7953"
             ],
             [
              0.7777777777777778,
              "#fb9f3a"
             ],
             [
              0.8888888888888888,
              "#fdca26"
             ],
             [
              1,
              "#f0f921"
             ]
            ],
            "type": "histogram2d"
           }
          ],
          "histogram2dcontour": [
           {
            "colorbar": {
             "outlinewidth": 0,
             "ticks": ""
            },
            "colorscale": [
             [
              0,
              "#0d0887"
             ],
             [
              0.1111111111111111,
              "#46039f"
             ],
             [
              0.2222222222222222,
              "#7201a8"
             ],
             [
              0.3333333333333333,
              "#9c179e"
             ],
             [
              0.4444444444444444,
              "#bd3786"
             ],
             [
              0.5555555555555556,
              "#d8576b"
             ],
             [
              0.6666666666666666,
              "#ed7953"
             ],
             [
              0.7777777777777778,
              "#fb9f3a"
             ],
             [
              0.8888888888888888,
              "#fdca26"
             ],
             [
              1,
              "#f0f921"
             ]
            ],
            "type": "histogram2dcontour"
           }
          ],
          "mesh3d": [
           {
            "colorbar": {
             "outlinewidth": 0,
             "ticks": ""
            },
            "type": "mesh3d"
           }
          ],
          "parcoords": [
           {
            "line": {
             "colorbar": {
              "outlinewidth": 0,
              "ticks": ""
             }
            },
            "type": "parcoords"
           }
          ],
          "pie": [
           {
            "automargin": true,
            "type": "pie"
           }
          ],
          "scatter": [
           {
            "fillpattern": {
             "fillmode": "overlay",
             "size": 10,
             "solidity": 0.2
            },
            "type": "scatter"
           }
          ],
          "scatter3d": [
           {
            "line": {
             "colorbar": {
              "outlinewidth": 0,
              "ticks": ""
             }
            },
            "marker": {
             "colorbar": {
              "outlinewidth": 0,
              "ticks": ""
             }
            },
            "type": "scatter3d"
           }
          ],
          "scattercarpet": [
           {
            "marker": {
             "colorbar": {
              "outlinewidth": 0,
              "ticks": ""
             }
            },
            "type": "scattercarpet"
           }
          ],
          "scattergeo": [
           {
            "marker": {
             "colorbar": {
              "outlinewidth": 0,
              "ticks": ""
             }
            },
            "type": "scattergeo"
           }
          ],
          "scattergl": [
           {
            "marker": {
             "colorbar": {
              "outlinewidth": 0,
              "ticks": ""
             }
            },
            "type": "scattergl"
           }
          ],
          "scattermapbox": [
           {
            "marker": {
             "colorbar": {
              "outlinewidth": 0,
              "ticks": ""
             }
            },
            "type": "scattermapbox"
           }
          ],
          "scatterpolar": [
           {
            "marker": {
             "colorbar": {
              "outlinewidth": 0,
              "ticks": ""
             }
            },
            "type": "scatterpolar"
           }
          ],
          "scatterpolargl": [
           {
            "marker": {
             "colorbar": {
              "outlinewidth": 0,
              "ticks": ""
             }
            },
            "type": "scatterpolargl"
           }
          ],
          "scatterternary": [
           {
            "marker": {
             "colorbar": {
              "outlinewidth": 0,
              "ticks": ""
             }
            },
            "type": "scatterternary"
           }
          ],
          "surface": [
           {
            "colorbar": {
             "outlinewidth": 0,
             "ticks": ""
            },
            "colorscale": [
             [
              0,
              "#0d0887"
             ],
             [
              0.1111111111111111,
              "#46039f"
             ],
             [
              0.2222222222222222,
              "#7201a8"
             ],
             [
              0.3333333333333333,
              "#9c179e"
             ],
             [
              0.4444444444444444,
              "#bd3786"
             ],
             [
              0.5555555555555556,
              "#d8576b"
             ],
             [
              0.6666666666666666,
              "#ed7953"
             ],
             [
              0.7777777777777778,
              "#fb9f3a"
             ],
             [
              0.8888888888888888,
              "#fdca26"
             ],
             [
              1,
              "#f0f921"
             ]
            ],
            "type": "surface"
           }
          ],
          "table": [
           {
            "cells": {
             "fill": {
              "color": "#EBF0F8"
             },
             "line": {
              "color": "white"
             }
            },
            "header": {
             "fill": {
              "color": "#C8D4E3"
             },
             "line": {
              "color": "white"
             }
            },
            "type": "table"
           }
          ]
         },
         "layout": {
          "annotationdefaults": {
           "arrowcolor": "#2a3f5f",
           "arrowhead": 0,
           "arrowwidth": 1
          },
          "autotypenumbers": "strict",
          "coloraxis": {
           "colorbar": {
            "outlinewidth": 0,
            "ticks": ""
           }
          },
          "colorscale": {
           "diverging": [
            [
             0,
             "#8e0152"
            ],
            [
             0.1,
             "#c51b7d"
            ],
            [
             0.2,
             "#de77ae"
            ],
            [
             0.3,
             "#f1b6da"
            ],
            [
             0.4,
             "#fde0ef"
            ],
            [
             0.5,
             "#f7f7f7"
            ],
            [
             0.6,
             "#e6f5d0"
            ],
            [
             0.7,
             "#b8e186"
            ],
            [
             0.8,
             "#7fbc41"
            ],
            [
             0.9,
             "#4d9221"
            ],
            [
             1,
             "#276419"
            ]
           ],
           "sequential": [
            [
             0,
             "#0d0887"
            ],
            [
             0.1111111111111111,
             "#46039f"
            ],
            [
             0.2222222222222222,
             "#7201a8"
            ],
            [
             0.3333333333333333,
             "#9c179e"
            ],
            [
             0.4444444444444444,
             "#bd3786"
            ],
            [
             0.5555555555555556,
             "#d8576b"
            ],
            [
             0.6666666666666666,
             "#ed7953"
            ],
            [
             0.7777777777777778,
             "#fb9f3a"
            ],
            [
             0.8888888888888888,
             "#fdca26"
            ],
            [
             1,
             "#f0f921"
            ]
           ],
           "sequentialminus": [
            [
             0,
             "#0d0887"
            ],
            [
             0.1111111111111111,
             "#46039f"
            ],
            [
             0.2222222222222222,
             "#7201a8"
            ],
            [
             0.3333333333333333,
             "#9c179e"
            ],
            [
             0.4444444444444444,
             "#bd3786"
            ],
            [
             0.5555555555555556,
             "#d8576b"
            ],
            [
             0.6666666666666666,
             "#ed7953"
            ],
            [
             0.7777777777777778,
             "#fb9f3a"
            ],
            [
             0.8888888888888888,
             "#fdca26"
            ],
            [
             1,
             "#f0f921"
            ]
           ]
          },
          "colorway": [
           "#636efa",
           "#EF553B",
           "#00cc96",
           "#ab63fa",
           "#FFA15A",
           "#19d3f3",
           "#FF6692",
           "#B6E880",
           "#FF97FF",
           "#FECB52"
          ],
          "font": {
           "color": "#2a3f5f"
          },
          "geo": {
           "bgcolor": "white",
           "lakecolor": "white",
           "landcolor": "#E5ECF6",
           "showlakes": true,
           "showland": true,
           "subunitcolor": "white"
          },
          "hoverlabel": {
           "align": "left"
          },
          "hovermode": "closest",
          "mapbox": {
           "style": "light"
          },
          "paper_bgcolor": "white",
          "plot_bgcolor": "#E5ECF6",
          "polar": {
           "angularaxis": {
            "gridcolor": "white",
            "linecolor": "white",
            "ticks": ""
           },
           "bgcolor": "#E5ECF6",
           "radialaxis": {
            "gridcolor": "white",
            "linecolor": "white",
            "ticks": ""
           }
          },
          "scene": {
           "xaxis": {
            "backgroundcolor": "#E5ECF6",
            "gridcolor": "white",
            "gridwidth": 2,
            "linecolor": "white",
            "showbackground": true,
            "ticks": "",
            "zerolinecolor": "white"
           },
           "yaxis": {
            "backgroundcolor": "#E5ECF6",
            "gridcolor": "white",
            "gridwidth": 2,
            "linecolor": "white",
            "showbackground": true,
            "ticks": "",
            "zerolinecolor": "white"
           },
           "zaxis": {
            "backgroundcolor": "#E5ECF6",
            "gridcolor": "white",
            "gridwidth": 2,
            "linecolor": "white",
            "showbackground": true,
            "ticks": "",
            "zerolinecolor": "white"
           }
          },
          "shapedefaults": {
           "line": {
            "color": "#2a3f5f"
           }
          },
          "ternary": {
           "aaxis": {
            "gridcolor": "white",
            "linecolor": "white",
            "ticks": ""
           },
           "baxis": {
            "gridcolor": "white",
            "linecolor": "white",
            "ticks": ""
           },
           "bgcolor": "#E5ECF6",
           "caxis": {
            "gridcolor": "white",
            "linecolor": "white",
            "ticks": ""
           }
          },
          "title": {
           "x": 0.05
          },
          "xaxis": {
           "automargin": true,
           "gridcolor": "white",
           "linecolor": "white",
           "ticks": "",
           "title": {
            "standoff": 15
           },
           "zerolinecolor": "white",
           "zerolinewidth": 2
          },
          "yaxis": {
           "automargin": true,
           "gridcolor": "white",
           "linecolor": "white",
           "ticks": "",
           "title": {
            "standoff": 15
           },
           "zerolinecolor": "white",
           "zerolinewidth": 2
          }
         }
        },
        "title": {
         "text": "Qld Govt vs NSW and Vic Schools Student to Teacher Ratio",
         "x": 0.5
        },
        "width": 800,
        "xaxis": {
         "anchor": "y",
         "autorange": true,
         "domain": [
          0,
          1
         ],
         "range": [
          2006,
          2023
         ],
         "title": {
          "text": "Year"
         },
         "type": "linear"
        },
        "yaxis": {
         "anchor": "x",
         "autorange": true,
         "domain": [
          0,
          1
         ],
         "range": [
          11.872222222222224,
          14.427777777777777
         ],
         "title": {
          "text": "Student to Teacher Ratio"
         },
         "type": "linear"
        }
       }
      },
      "image/png": "[encoded data removed]",
      "text/html": [
       "<div>                            <div id=\"1a0d846a-4302-4bbc-bb0e-5403cdc5d700\" class=\"plotly-graph-div\" style=\"height:400px; width:800px;\"></div>            <script type=\"text/javascript\">                require([\"plotly\"], function(Plotly) {                    window.PLOTLYENV=window.PLOTLYENV || {};                                    if (document.getElementById(\"1a0d846a-4302-4bbc-bb0e-5403cdc5d700\")) {                    Plotly.newPlot(                        \"1a0d846a-4302-4bbc-bb0e-5403cdc5d700\",                        [{\"hovertemplate\":\"State/Territory=a NSW<br>Year=%{x}<br>Ratio=%{y}<extra></extra>\",\"legendgroup\":\"a NSW\",\"line\":{\"color\":\"#636efa\",\"dash\":\"solid\"},\"marker\":{\"symbol\":\"circle\"},\"mode\":\"lines\",\"name\":\"a NSW\",\"orientation\":\"h\",\"showlegend\":true,\"x\":[2006,2007,2008,2009,2010,2011,2012,2013,2014,2015,2016,2017,2018,2019,2020,2021,2022,2023],\"xaxis\":\"x\",\"y\":[14.059999999999999,14.066666666666666,13.973333333333331,14.026666666666666,14.040000000000001,13.946666666666667,13.900000000000002,13.846666666666666,13.966666666666669,13.873333333333331,13.74,13.620000000000001,13.413333333333334,13.82,13.566666666666668,13.31333333333333,13.259999999999998,13.273333333333333],\"yaxis\":\"y\",\"type\":\"scatter\"},{\"hovertemplate\":\"State/Territory=b Vic.<br>Year=%{x}<br>Ratio=%{y}<extra></extra>\",\"legendgroup\":\"b Vic.\",\"line\":{\"color\":\"#EF553B\",\"dash\":\"solid\"},\"marker\":{\"symbol\":\"circle\"},\"mode\":\"lines\",\"name\":\"b Vic.\",\"orientation\":\"h\",\"showlegend\":true,\"x\":[2006,2007,2008,2009,2010,2011,2012,2013,2014,2015,2016,2017,2018,2019,2020,2021,2022,2023],\"xaxis\":\"x\",\"y\":[13.513333333333332,13.24,13.166666666666666,13.200000000000001,13.186666666666667,13.046666666666665,12.946666666666664,13.033333333333331,13.086666666666666,13.059999999999999,12.826666666666664,12.799999999999999,12.633333333333333,12.559999999999999,12.42,12.186666666666667,12.1,12.000000000000002],\"yaxis\":\"y\",\"type\":\"scatter\"},{\"hovertemplate\":\"State/Territory=c Qld<br>Year=%{x}<br>Ratio=%{y}<extra></extra>\",\"legendgroup\":\"c Qld\",\"line\":{\"color\":\"#00cc96\",\"dash\":\"solid\"},\"marker\":{\"symbol\":\"circle\"},\"mode\":\"lines\",\"name\":\"c Qld\",\"orientation\":\"h\",\"showlegend\":true,\"x\":[2006,2007,2008,2009,2010,2011,2012,2013,2014,2015,2016,2017,2018,2019,2020,2021,2022,2023],\"xaxis\":\"x\",\"y\":[14.299999999999999,14.299999999999999,14.233333333333334,14.133333333333335,14.1,14.0,14.033333333333331,14.299999999999999,14.0,13.799999999999999,13.533333333333333,13.466666666666667,13.266666666666666,13.233333333333334,13.266666666666666,13.266666666666666,13.166666666666666,13.133333333333333],\"yaxis\":\"y\",\"type\":\"scatter\"}],                        {\"template\":{\"data\":{\"histogram2dcontour\":[{\"type\":\"histogram2dcontour\",\"colorbar\":{\"outlinewidth\":0,\"ticks\":\"\"},\"colorscale\":[[0.0,\"#0d0887\"],[0.1111111111111111,\"#46039f\"],[0.2222222222222222,\"#7201a8\"],[0.3333333333333333,\"#9c179e\"],[0.4444444444444444,\"#bd3786\"],[0.5555555555555556,\"#d8576b\"],[0.6666666666666666,\"#ed7953\"],[0.7777777777777778,\"#fb9f3a\"],[0.8888888888888888,\"#fdca26\"],[1.0,\"#f0f921\"]]}],\"choropleth\":[{\"type\":\"choropleth\",\"colorbar\":{\"outlinewidth\":0,\"ticks\":\"\"}}],\"histogram2d\":[{\"type\":\"histogram2d\",\"colorbar\":{\"outlinewidth\":0,\"ticks\":\"\"},\"colorscale\":[[0.0,\"#0d0887\"],[0.1111111111111111,\"#46039f\"],[0.2222222222222222,\"#7201a8\"],[0.3333333333333333,\"#9c179e\"],[0.4444444444444444,\"#bd3786\"],[0.5555555555555556,\"#d8576b\"],[0.6666666666666666,\"#ed7953\"],[0.7777777777777778,\"#fb9f3a\"],[0.8888888888888888,\"#fdca26\"],[1.0,\"#f0f921\"]]}],\"heatmap\":[{\"type\":\"heatmap\",\"colorbar\":{\"outlinewidth\":0,\"ticks\":\"\"},\"colorscale\":[[0.0,\"#0d0887\"],[0.1111111111111111,\"#46039f\"],[0.2222222222222222,\"#7201a8\"],[0.3333333333333333,\"#9c179e\"],[0.4444444444444444,\"#bd3786\"],[0.5555555555555556,\"#d8576b\"],[0.6666666666666666,\"#ed7953\"],[0.7777777777777778,\"#fb9f3a\"],[0.8888888888888888,\"#fdca26\"],[1.0,\"#f0f921\"]]}],\"heatmapgl\":[{\"type\":\"heatmapgl\",\"colorbar\":{\"outlinewidth\":0,\"ticks\":\"\"},\"colorscale\":[[0.0,\"#0d0887\"],[0.1111111111111111,\"#46039f\"],[0.2222222222222222,\"#7201a8\"],[0.3333333333333333,\"#9c179e\"],[0.4444444444444444,\"#bd3786\"],[0.5555555555555556,\"#d8576b\"],[0.6666666666666666,\"#ed7953\"],[0.7777777777777778,\"#fb9f3a\"],[0.8888888888888888,\"#fdca26\"],[1.0,\"#f0f921\"]]}],\"contourcarpet\":[{\"type\":\"contourcarpet\",\"colorbar\":{\"outlinewidth\":0,\"ticks\":\"\"}}],\"contour\":[{\"type\":\"contour\",\"colorbar\":{\"outlinewidth\":0,\"ticks\":\"\"},\"colorscale\":[[0.0,\"#0d0887\"],[0.1111111111111111,\"#46039f\"],[0.2222222222222222,\"#7201a8\"],[0.3333333333333333,\"#9c179e\"],[0.4444444444444444,\"#bd3786\"],[0.5555555555555556,\"#d8576b\"],[0.6666666666666666,\"#ed7953\"],[0.7777777777777778,\"#fb9f3a\"],[0.8888888888888888,\"#fdca26\"],[1.0,\"#f0f921\"]]}],\"surface\":[{\"type\":\"surface\",\"colorbar\":{\"outlinewidth\":0,\"ticks\":\"\"},\"colorscale\":[[0.0,\"#0d0887\"],[0.1111111111111111,\"#46039f\"],[0.2222222222222222,\"#7201a8\"],[0.3333333333333333,\"#9c179e\"],[0.4444444444444444,\"#bd3786\"],[0.5555555555555556,\"#d8576b\"],[0.6666666666666666,\"#ed7953\"],[0.7777777777777778,\"#fb9f3a\"],[0.8888888888888888,\"#fdca26\"],[1.0,\"#f0f921\"]]}],\"mesh3d\":[{\"type\":\"mesh3d\",\"colorbar\":{\"outlinewidth\":0,\"ticks\":\"\"}}],\"scatter\":[{\"fillpattern\":{\"fillmode\":\"overlay\",\"size\":10,\"solidity\":0.2},\"type\":\"scatter\"}],\"parcoords\":[{\"type\":\"parcoords\",\"line\":{\"colorbar\":{\"outlinewidth\":0,\"ticks\":\"\"}}}],\"scatterpolargl\":[{\"type\":\"scatterpolargl\",\"marker\":{\"colorbar\":{\"outlinewidth\":0,\"ticks\":\"\"}}}],\"bar\":[{\"error_x\":{\"color\":\"#2a3f5f\"},\"error_y\":{\"color\":\"#2a3f5f\"},\"marker\":{\"line\":{\"color\":\"#E5ECF6\",\"width\":0.5},\"pattern\":{\"fillmode\":\"overlay\",\"size\":10,\"solidity\":0.2}},\"type\":\"bar\"}],\"scattergeo\":[{\"type\":\"scattergeo\",\"marker\":{\"colorbar\":{\"outlinewidth\":0,\"ticks\":\"\"}}}],\"scatterpolar\":[{\"type\":\"scatterpolar\",\"marker\":{\"colorbar\":{\"outlinewidth\":0,\"ticks\":\"\"}}}],\"histogram\":[{\"marker\":{\"pattern\":{\"fillmode\":\"overlay\",\"size\":10,\"solidity\":0.2}},\"type\":\"histogram\"}],\"scattergl\":[{\"type\":\"scattergl\",\"marker\":{\"colorbar\":{\"outlinewidth\":0,\"ticks\":\"\"}}}],\"scatter3d\":[{\"type\":\"scatter3d\",\"line\":{\"colorbar\":{\"outlinewidth\":0,\"ticks\":\"\"}},\"marker\":{\"colorbar\":{\"outlinewidth\":0,\"ticks\":\"\"}}}],\"scattermapbox\":[{\"type\":\"scattermapbox\",\"marker\":{\"colorbar\":{\"outlinewidth\":0,\"ticks\":\"\"}}}],\"scatterternary\":[{\"type\":\"scatterternary\",\"marker\":{\"colorbar\":{\"outlinewidth\":0,\"ticks\":\"\"}}}],\"scattercarpet\":[{\"type\":\"scattercarpet\",\"marker\":{\"colorbar\":{\"outlinewidth\":0,\"ticks\":\"\"}}}],\"carpet\":[{\"aaxis\":{\"endlinecolor\":\"#2a3f5f\",\"gridcolor\":\"white\",\"linecolor\":\"white\",\"minorgridcolor\":\"white\",\"startlinecolor\":\"#2a3f5f\"},\"baxis\":{\"endlinecolor\":\"#2a3f5f\",\"gridcolor\":\"white\",\"linecolor\":\"white\",\"minorgridcolor\":\"white\",\"startlinecolor\":\"#2a3f5f\"},\"type\":\"carpet\"}],\"table\":[{\"cells\":{\"fill\":{\"color\":\"#EBF0F8\"},\"line\":{\"color\":\"white\"}},\"header\":{\"fill\":{\"color\":\"#C8D4E3\"},\"line\":{\"color\":\"white\"}},\"type\":\"table\"}],\"barpolar\":[{\"marker\":{\"line\":{\"color\":\"#E5ECF6\",\"width\":0.5},\"pattern\":{\"fillmode\":\"overlay\",\"size\":10,\"solidity\":0.2}},\"type\":\"barpolar\"}],\"pie\":[{\"automargin\":true,\"type\":\"pie\"}]},\"layout\":{\"autotypenumbers\":\"strict\",\"colorway\":[\"#636efa\",\"#EF553B\",\"#00cc96\",\"#ab63fa\",\"#FFA15A\",\"#19d3f3\",\"#FF6692\",\"#B6E880\",\"#FF97FF\",\"#FECB52\"],\"font\":{\"color\":\"#2a3f5f\"},\"hovermode\":\"closest\",\"hoverlabel\":{\"align\":\"left\"},\"paper_bgcolor\":\"white\",\"plot_bgcolor\":\"#E5ECF6\",\"polar\":{\"bgcolor\":\"#E5ECF6\",\"angularaxis\":{\"gridcolor\":\"white\",\"linecolor\":\"white\",\"ticks\":\"\"},\"radialaxis\":{\"gridcolor\":\"white\",\"linecolor\":\"white\",\"ticks\":\"\"}},\"ternary\":{\"bgcolor\":\"#E5ECF6\",\"aaxis\":{\"gridcolor\":\"white\",\"linecolor\":\"white\",\"ticks\":\"\"},\"baxis\":{\"gridcolor\":\"white\",\"linecolor\":\"white\",\"ticks\":\"\"},\"caxis\":{\"gridcolor\":\"white\",\"linecolor\":\"white\",\"ticks\":\"\"}},\"coloraxis\":{\"colorbar\":{\"outlinewidth\":0,\"ticks\":\"\"}},\"colorscale\":{\"sequential\":[[0.0,\"#0d0887\"],[0.1111111111111111,\"#46039f\"],[0.2222222222222222,\"#7201a8\"],[0.3333333333333333,\"#9c179e\"],[0.4444444444444444,\"#bd3786\"],[0.5555555555555556,\"#d8576b\"],[0.6666666666666666,\"#ed7953\"],[0.7777777777777778,\"#fb9f3a\"],[0.8888888888888888,\"#fdca26\"],[1.0,\"#f0f921\"]],\"sequentialminus\":[[0.0,\"#0d0887\"],[0.1111111111111111,\"#46039f\"],[0.2222222222222222,\"#7201a8\"],[0.3333333333333333,\"#9c179e\"],[0.4444444444444444,\"#bd3786\"],[0.5555555555555556,\"#d8576b\"],[0.6666666666666666,\"#ed7953\"],[0.7777777777777778,\"#fb9f3a\"],[0.8888888888888888,\"#fdca26\"],[1.0,\"#f0f921\"]],\"diverging\":[[0,\"#8e0152\"],[0.1,\"#c51b7d\"],[0.2,\"#de77ae\"],[0.3,\"#f1b6da\"],[0.4,\"#fde0ef\"],[0.5,\"#f7f7f7\"],[0.6,\"#e6f5d0\"],[0.7,\"#b8e186\"],[0.8,\"#7fbc41\"],[0.9,\"#4d9221\"],[1,\"#276419\"]]},\"xaxis\":{\"gridcolor\":\"white\",\"linecolor\":\"white\",\"ticks\":\"\",\"title\":{\"standoff\":15},\"zerolinecolor\":\"white\",\"automargin\":true,\"zerolinewidth\":2},\"yaxis\":{\"gridcolor\":\"white\",\"linecolor\":\"white\",\"ticks\":\"\",\"title\":{\"standoff\":15},\"zerolinecolor\":\"white\",\"automargin\":true,\"zerolinewidth\":2},\"scene\":{\"xaxis\":{\"backgroundcolor\":\"#E5ECF6\",\"gridcolor\":\"white\",\"linecolor\":\"white\",\"showbackground\":true,\"ticks\":\"\",\"zerolinecolor\":\"white\",\"gridwidth\":2},\"yaxis\":{\"backgroundcolor\":\"#E5ECF6\",\"gridcolor\":\"white\",\"linecolor\":\"white\",\"showbackground\":true,\"ticks\":\"\",\"zerolinecolor\":\"white\",\"gridwidth\":2},\"zaxis\":{\"backgroundcolor\":\"#E5ECF6\",\"gridcolor\":\"white\",\"linecolor\":\"white\",\"showbackground\":true,\"ticks\":\"\",\"zerolinecolor\":\"white\",\"gridwidth\":2}},\"shapedefaults\":{\"line\":{\"color\":\"#2a3f5f\"}},\"annotationdefaults\":{\"arrowcolor\":\"#2a3f5f\",\"arrowhead\":0,\"arrowwidth\":1},\"geo\":{\"bgcolor\":\"white\",\"landcolor\":\"#E5ECF6\",\"subunitcolor\":\"white\",\"showland\":true,\"showlakes\":true,\"lakecolor\":\"white\"},\"title\":{\"x\":0.05},\"mapbox\":{\"style\":\"light\"}}},\"xaxis\":{\"anchor\":\"y\",\"domain\":[0.0,1.0],\"title\":{\"text\":\"Year\"}},\"yaxis\":{\"anchor\":\"x\",\"domain\":[0.0,1.0],\"title\":{\"text\":\"Student to Teacher Ratio\"}},\"legend\":{\"title\":{\"text\":\"State/Territory\"},\"tracegroupgap\":0,\"font\":{\"size\":10},\"x\":1.05,\"y\":1,\"traceorder\":\"normal\",\"bgcolor\":\"rgba(255, 255, 255, 0.5)\"},\"title\":{\"text\":\"Qld Govt vs NSW and Vic Schools Student to Teacher Ratio\",\"x\":0.5},\"margin\":{\"l\":40,\"r\":40,\"t\":40,\"b\":40},\"width\":800,\"height\":400},                        {\"responsive\": true}                    ).then(function(){\n",
       "                            \n",
       "var gd = document.getElementById('1a0d846a-4302-4bbc-bb0e-5403cdc5d700');\n",
       "var x = new MutationObserver(function (mutations, observer) {{\n",
       "        var display = window.getComputedStyle(gd).display;\n",
       "        if (!display || display === 'none') {{\n",
       "            console.log([gd, 'removed!']);\n",
       "            Plotly.purge(gd);\n",
       "            observer.disconnect();\n",
       "        }}\n",
       "}});\n",
       "\n",
       "// Listen for the removal of the full notebook cells\n",
       "var notebookContainer = gd.closest('#notebook-container');\n",
       "if (notebookContainer) {{\n",
       "    x.observe(notebookContainer, {childList: true});\n",
       "}}\n",
       "\n",
       "// Listen for the clearing of the current output cell\n",
       "var outputEl = gd.closest('.output');\n",
       "if (outputEl) {{\n",
       "    x.observe(outputEl, {childList: true});\n",
       "}}\n",
       "\n",
       "                        })                };                });            </script>        </div>"
      ]
     },
     "metadata": {},
     "output_type": "display_data"
    }
   ],
   "source": [
    "import plotly.express as px\n",
    "fig = px.line(\n",
    "    year_avg, \n",
    "    x='Year', \n",
    "    y='Ratio', \n",
    "    color='State/Territory', \n",
    "    title='Qld Govt vs NSW and Vic Schools Student to Teacher Ratio'\n",
    ")\n",
    "\n",
    "# Adjusting the layout for a more condensed graph\n",
    "fig.update_layout(\n",
    "    title={'text': 'Qld Govt vs NSW and Vic Schools Student to Teacher Ratio', 'x': 0.5},\n",
    "    legend=dict(\n",
    "        x=1.05,\n",
    "        y=1,\n",
    "        traceorder='normal',\n",
    "        font=dict(size=10),\n",
    "        bgcolor='rgba(255, 255, 255, 0.5)'\n",
    "    ),\n",
    "    margin=dict(l=40, r=40, t=40, b=40),\n",
    "    width=800,\n",
    "    height=400,\n",
    "    xaxis_title='Year',\n",
    "    yaxis_title='Student to Teacher Ratio'\n",
    ")\n",
    "\n",
    "# Show the figure\n",
    "fig.show()\n"
   ]
  },
  {
   "cell_type": "code",
   "execution_count": 104,
   "id": "5370a138-3dac-4d27-bda6-5f4b60b08123",
   "metadata": {},
   "outputs": [
    {
     "data": {
      "image/png": "[encoded data removed]",
      "text/plain": [
       "<Figure size 640x480 with 1 Axes>"
      ]
     },
     "metadata": {},
     "output_type": "display_data"
    }
   ],
   "source": [
    "#Represent averages over time\n",
    "sns.lineplot(data=year_avg, x='Year',y='Ratio', hue='State/Territory')\n",
    "plt.title('Qld Govt vs NSW and Vic Schools Student to Teacher Ratio')\n",
    "plt.legend(bbox_to_anchor=(1.05,1), loc='upper left')\n",
    "plt.show()"
   ]
  },
  {
   "cell_type": "markdown",
   "id": "de16d883-8bba-4c55-a4d9-fdca46e400c9",
   "metadata": {},
   "source": [
    "Again a clear down trend for all schools in terms of student to teadcher ratio. Victoria far below both. Qld was higher than NSW until 2014 then NSW has been higher since. I will conduct a further test to see if they are truly statistically different (NSW and QLD)."
   ]
  },
  {
   "cell_type": "code",
   "execution_count": 111,
   "id": "abea914a-151b-4114-b9b1-956e304e1193",
   "metadata": {},
   "outputs": [],
   "source": [
    "# filter out qld and nsw to do non parameteric test\n",
    "q = np.array(year_avg[year_avg['State/Territory'] =='c Qld']['Ratio']).astype(float)\n",
    "n = np.array(year_avg[year_avg['State/Territory'] =='a NSW']['Ratio']).astype(float)"
   ]
  },
  {
   "cell_type": "code",
   "execution_count": 112,
   "id": "19e60e80-7c4d-4743-8db3-a52a7e39a811",
   "metadata": {},
   "outputs": [
    {
     "data": {
      "text/plain": [
       "<Axes: ylabel='Count'>"
      ]
     },
     "execution_count": 112,
     "metadata": {},
     "output_type": "execute_result"
    },
    {
     "data": {
      "image/png": "[encoded data removed]",
      "text/plain": [
       "<Figure size 640x480 with 1 Axes>"
      ]
     },
     "metadata": {},
     "output_type": "display_data"
    }
   ],
   "source": [
    "sns.histplot(q)"
   ]
  },
  {
   "cell_type": "code",
   "execution_count": 113,
   "id": "1c3445bf-51b0-43e4-a181-d383c7e375d2",
   "metadata": {},
   "outputs": [
    {
     "data": {
      "text/plain": [
       "<Axes: ylabel='Count'>"
      ]
     },
     "execution_count": 113,
     "metadata": {},
     "output_type": "execute_result"
    },
    {
     "data": {
      "image/png": "[encoded data removed]",
      "text/plain": [
       "<Figure size 640x480 with 1 Axes>"
      ]
     },
     "metadata": {},
     "output_type": "display_data"
    }
   ],
   "source": [
    "sns.histplot(n)"
   ]
  },
  {
   "cell_type": "code",
   "execution_count": 115,
   "id": "ce099972-9a25-457e-8e0e-f69454f6c666",
   "metadata": {},
   "outputs": [
    {
     "name": "stdout",
     "output_type": "stream",
     "text": [
      "169.0\n",
      "0.8369704938375371\n"
     ]
    }
   ],
   "source": [
    "#non parametric test for qld vs nsw\n",
    "stat, p = mannwhitneyu(q,n)\n",
    "print(stat)\n",
    "print(p)"
   ]
  },
  {
   "cell_type": "markdown",
   "id": "93ec1714-573a-4f16-b925-9838d18ece8e",
   "metadata": {},
   "source": [
    "P-value of 0.8369 shows I can't reject null hypothesis. I conclude on average the student to teacher ratio for qld govt and nsw schools has been the same over last 17 years."
   ]
  },
  {
   "cell_type": "code",
   "execution_count": 117,
   "id": "ac029b86-bde8-4770-bb41-fe5b8a07ea70",
   "metadata": {},
   "outputs": [
    {
     "name": "stdout",
     "output_type": "stream",
     "text": [
      "308.5\n",
      "3.796716641782435e-06\n"
     ]
    }
   ],
   "source": [
    "#non parametric test for qld vs victoria\n",
    "v = np.array(year_avg[year_avg['State/Territory'] =='b Vic.']['Ratio']).astype(float)\n",
    "stat, p = mannwhitneyu(q,v)\n",
    "print(stat)\n",
    "print(p)"
   ]
  },
  {
   "cell_type": "markdown",
   "id": "691eff23-35b6-45da-89b7-5bc56427a768",
   "metadata": {},
   "source": [
    "I conducted the test to clarify that qld govt schools statistically have higher student teacher ratios."
   ]
  },
  {
   "cell_type": "markdown",
   "id": "a9a837ef-8d67-4f4e-a999-387c1f582a8e",
   "metadata": {},
   "source": [
    "# Conclusions"
   ]
  },
  {
   "cell_type": "markdown",
   "id": "c6d1b908-7971-4b49-9968-d2599cb2b576",
   "metadata": {},
   "source": [
    "- Qld non government schools have higher student to teacher ratios than Qld govt schools.\n",
    "- Qld govt schools have higher averages than Vic schools\n",
    "- Qld and nsw have same average ratios over last 17 years"
   ]
  },
  {
   "cell_type": "code",
   "execution_count": null,
   "id": "2a01e5e5-4e7c-4db9-bf14-09d0e2a9a4c8",
   "metadata": {},
   "outputs": [],
   "source": []
  }
 ],
 "metadata": {
  "kernelspec": {
   "display_name": "Python 3 (ipykernel)",
   "language": "python",
   "name": "python3"
  },
  "language_info": {
   "codemirror_mode": {
    "name": "ipython",
    "version": 3
   },
   "file_extension": ".py",
   "mimetype": "text/x-python",
   "name": "python",
   "nbconvert_exporter": "python",
   "pygments_lexer": "ipython3",
   "version": "3.11.7"
  }
 },
 "nbformat": 4,
 "nbformat_minor": 5
}
