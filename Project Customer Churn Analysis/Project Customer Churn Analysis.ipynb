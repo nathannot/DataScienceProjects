{
 "cells": [
  {
   "cell_type": "markdown",
   "id": "1d9f3998-04ba-4aaf-ab30-f582f798b212",
   "metadata": {},
   "source": [
    "# Project: Customer Churn Analysis\n",
    "### Business Requirements:\n",
    "Objective: Analyze customer data to identify factors contributing to customer churn and provide actionable recommendations to improve customer retention.\n",
    "\n",
    "### Key Questions to Answer:\n",
    "\n",
    "What are the main factors contributing to customer churn?  \n",
    "Can we identify any patterns or trends in the churn behavior of different customer segments?  \n",
    "How effective are our current retention strategies in retaining customers?  \n",
    "What recommendations can we make to reduce churn rates and improve customer satisfaction?"
   ]
  },
  {
   "cell_type": "code",
   "execution_count": 2,
   "id": "038fbdd7-7229-44ad-a514-1c5c9a6d33a9",
   "metadata": {},
   "outputs": [],
   "source": [
    "#import relevant libaries\n",
    "import pandas as pd\n",
    "import numpy as np\n",
    "import seaborn as sns\n",
    "import matplotlib.pyplot as plt\n",
    "import statsmodels.api as sm "
   ]
  },
  {
   "cell_type": "code",
   "execution_count": 4,
   "id": "6bd64571-6324-4088-b469-39eb0a039458",
   "metadata": {},
   "outputs": [
    {
     "data": {
      "text/html": [
       "<div>\n",
       "<style scoped>\n",
       "    .dataframe tbody tr th:only-of-type {\n",
       "        vertical-align: middle;\n",
       "    }\n",
       "\n",
       "    .dataframe tbody tr th {\n",
       "        vertical-align: top;\n",
       "    }\n",
       "\n",
       "    .dataframe thead th {\n",
       "        text-align: right;\n",
       "    }\n",
       "</style>\n",
       "<table border=\"1\" class=\"dataframe\">\n",
       "  <thead>\n",
       "    <tr style=\"text-align: right;\">\n",
       "      <th></th>\n",
       "      <th>CustomerID</th>\n",
       "      <th>Age</th>\n",
       "      <th>Gender</th>\n",
       "      <th>Tenure</th>\n",
       "      <th>Usage Frequency</th>\n",
       "      <th>Support Calls</th>\n",
       "      <th>Payment Delay</th>\n",
       "      <th>Subscription Type</th>\n",
       "      <th>Contract Length</th>\n",
       "      <th>Total Spend</th>\n",
       "      <th>Last Interaction</th>\n",
       "      <th>Churn</th>\n",
       "    </tr>\n",
       "  </thead>\n",
       "  <tbody>\n",
       "    <tr>\n",
       "      <th>0</th>\n",
       "      <td>1</td>\n",
       "      <td>22</td>\n",
       "      <td>Female</td>\n",
       "      <td>25</td>\n",
       "      <td>14</td>\n",
       "      <td>4</td>\n",
       "      <td>27</td>\n",
       "      <td>Basic</td>\n",
       "      <td>Monthly</td>\n",
       "      <td>598</td>\n",
       "      <td>9</td>\n",
       "      <td>1</td>\n",
       "    </tr>\n",
       "    <tr>\n",
       "      <th>1</th>\n",
       "      <td>2</td>\n",
       "      <td>41</td>\n",
       "      <td>Female</td>\n",
       "      <td>28</td>\n",
       "      <td>28</td>\n",
       "      <td>7</td>\n",
       "      <td>13</td>\n",
       "      <td>Standard</td>\n",
       "      <td>Monthly</td>\n",
       "      <td>584</td>\n",
       "      <td>20</td>\n",
       "      <td>0</td>\n",
       "    </tr>\n",
       "    <tr>\n",
       "      <th>2</th>\n",
       "      <td>3</td>\n",
       "      <td>47</td>\n",
       "      <td>Male</td>\n",
       "      <td>27</td>\n",
       "      <td>10</td>\n",
       "      <td>2</td>\n",
       "      <td>29</td>\n",
       "      <td>Premium</td>\n",
       "      <td>Annual</td>\n",
       "      <td>757</td>\n",
       "      <td>21</td>\n",
       "      <td>0</td>\n",
       "    </tr>\n",
       "    <tr>\n",
       "      <th>3</th>\n",
       "      <td>4</td>\n",
       "      <td>35</td>\n",
       "      <td>Male</td>\n",
       "      <td>9</td>\n",
       "      <td>12</td>\n",
       "      <td>5</td>\n",
       "      <td>17</td>\n",
       "      <td>Premium</td>\n",
       "      <td>Quarterly</td>\n",
       "      <td>232</td>\n",
       "      <td>18</td>\n",
       "      <td>0</td>\n",
       "    </tr>\n",
       "    <tr>\n",
       "      <th>4</th>\n",
       "      <td>5</td>\n",
       "      <td>53</td>\n",
       "      <td>Female</td>\n",
       "      <td>58</td>\n",
       "      <td>24</td>\n",
       "      <td>9</td>\n",
       "      <td>2</td>\n",
       "      <td>Standard</td>\n",
       "      <td>Annual</td>\n",
       "      <td>533</td>\n",
       "      <td>18</td>\n",
       "      <td>0</td>\n",
       "    </tr>\n",
       "  </tbody>\n",
       "</table>\n",
       "</div>"
      ],
      "text/plain": [
       "   CustomerID  Age  Gender  Tenure  Usage Frequency  Support Calls  \\\n",
       "0           1   22  Female      25               14              4   \n",
       "1           2   41  Female      28               28              7   \n",
       "2           3   47    Male      27               10              2   \n",
       "3           4   35    Male       9               12              5   \n",
       "4           5   53  Female      58               24              9   \n",
       "\n",
       "   Payment Delay Subscription Type Contract Length  Total Spend  \\\n",
       "0             27             Basic         Monthly          598   \n",
       "1             13          Standard         Monthly          584   \n",
       "2             29           Premium          Annual          757   \n",
       "3             17           Premium       Quarterly          232   \n",
       "4              2          Standard          Annual          533   \n",
       "\n",
       "   Last Interaction  Churn  \n",
       "0                 9      1  \n",
       "1                20      0  \n",
       "2                21      0  \n",
       "3                18      0  \n",
       "4                18      0  "
      ]
     },
     "execution_count": 4,
     "metadata": {},
     "output_type": "execute_result"
    }
   ],
   "source": [
    "churn = pd.read_csv('customer_churn.csv')\n",
    "churn.head()"
   ]
  },
  {
   "cell_type": "code",
   "execution_count": 5,
   "id": "385e97c5-36f6-4efc-9933-21547c939cf4",
   "metadata": {},
   "outputs": [
    {
     "data": {
      "text/plain": [
       "CustomerID           0\n",
       "Age                  0\n",
       "Gender               0\n",
       "Tenure               0\n",
       "Usage Frequency      0\n",
       "Support Calls        0\n",
       "Payment Delay        0\n",
       "Subscription Type    0\n",
       "Contract Length      0\n",
       "Total Spend          0\n",
       "Last Interaction     0\n",
       "Churn                0\n",
       "dtype: int64"
      ]
     },
     "execution_count": 5,
     "metadata": {},
     "output_type": "execute_result"
    }
   ],
   "source": [
    "churn.isna().sum()"
   ]
  },
  {
   "cell_type": "markdown",
   "id": "3282c59a-0dbf-4db1-a4b3-3e77ed5597d9",
   "metadata": {},
   "source": [
    "no NaN data"
   ]
  },
  {
   "cell_type": "code",
   "execution_count": 6,
   "id": "49267e59-1df5-4c8b-83f5-afbd774631f3",
   "metadata": {},
   "outputs": [
    {
     "data": {
      "text/plain": [
       "0"
      ]
     },
     "execution_count": 6,
     "metadata": {},
     "output_type": "execute_result"
    }
   ],
   "source": [
    "churn.duplicated().sum()"
   ]
  },
  {
   "cell_type": "markdown",
   "id": "53cf2e34-2c72-4f79-bc7d-8e3a881fb0be",
   "metadata": {},
   "source": [
    "No duplicates"
   ]
  },
  {
   "cell_type": "code",
   "execution_count": 7,
   "id": "ae3c359a-29f1-48a2-b3d9-a92730bad5d3",
   "metadata": {},
   "outputs": [
    {
     "data": {
      "text/html": [
       "<div>\n",
       "<style scoped>\n",
       "    .dataframe tbody tr th:only-of-type {\n",
       "        vertical-align: middle;\n",
       "    }\n",
       "\n",
       "    .dataframe tbody tr th {\n",
       "        vertical-align: top;\n",
       "    }\n",
       "\n",
       "    .dataframe thead th {\n",
       "        text-align: right;\n",
       "    }\n",
       "</style>\n",
       "<table border=\"1\" class=\"dataframe\">\n",
       "  <thead>\n",
       "    <tr style=\"text-align: right;\">\n",
       "      <th></th>\n",
       "      <th>CustomerID</th>\n",
       "      <th>Age</th>\n",
       "      <th>Tenure</th>\n",
       "      <th>Usage Frequency</th>\n",
       "      <th>Support Calls</th>\n",
       "      <th>Payment Delay</th>\n",
       "      <th>Total Spend</th>\n",
       "      <th>Last Interaction</th>\n",
       "      <th>Churn</th>\n",
       "    </tr>\n",
       "  </thead>\n",
       "  <tbody>\n",
       "    <tr>\n",
       "      <th>count</th>\n",
       "      <td>64374.000000</td>\n",
       "      <td>64374.000000</td>\n",
       "      <td>64374.000000</td>\n",
       "      <td>64374.000000</td>\n",
       "      <td>64374.000000</td>\n",
       "      <td>64374.000000</td>\n",
       "      <td>64374.000000</td>\n",
       "      <td>64374.000000</td>\n",
       "      <td>64374.000000</td>\n",
       "    </tr>\n",
       "    <tr>\n",
       "      <th>mean</th>\n",
       "      <td>32187.500000</td>\n",
       "      <td>41.970982</td>\n",
       "      <td>31.994827</td>\n",
       "      <td>15.080234</td>\n",
       "      <td>5.400690</td>\n",
       "      <td>17.133952</td>\n",
       "      <td>541.023379</td>\n",
       "      <td>15.498850</td>\n",
       "      <td>0.473685</td>\n",
       "    </tr>\n",
       "    <tr>\n",
       "      <th>std</th>\n",
       "      <td>18583.317451</td>\n",
       "      <td>13.924911</td>\n",
       "      <td>17.098234</td>\n",
       "      <td>8.816470</td>\n",
       "      <td>3.114005</td>\n",
       "      <td>8.852211</td>\n",
       "      <td>260.874809</td>\n",
       "      <td>8.638436</td>\n",
       "      <td>0.499311</td>\n",
       "    </tr>\n",
       "    <tr>\n",
       "      <th>min</th>\n",
       "      <td>1.000000</td>\n",
       "      <td>18.000000</td>\n",
       "      <td>1.000000</td>\n",
       "      <td>1.000000</td>\n",
       "      <td>0.000000</td>\n",
       "      <td>0.000000</td>\n",
       "      <td>100.000000</td>\n",
       "      <td>1.000000</td>\n",
       "      <td>0.000000</td>\n",
       "    </tr>\n",
       "    <tr>\n",
       "      <th>25%</th>\n",
       "      <td>16094.250000</td>\n",
       "      <td>30.000000</td>\n",
       "      <td>18.000000</td>\n",
       "      <td>7.000000</td>\n",
       "      <td>3.000000</td>\n",
       "      <td>10.000000</td>\n",
       "      <td>313.000000</td>\n",
       "      <td>8.000000</td>\n",
       "      <td>0.000000</td>\n",
       "    </tr>\n",
       "    <tr>\n",
       "      <th>50%</th>\n",
       "      <td>32187.500000</td>\n",
       "      <td>42.000000</td>\n",
       "      <td>33.000000</td>\n",
       "      <td>15.000000</td>\n",
       "      <td>6.000000</td>\n",
       "      <td>19.000000</td>\n",
       "      <td>534.000000</td>\n",
       "      <td>15.000000</td>\n",
       "      <td>0.000000</td>\n",
       "    </tr>\n",
       "    <tr>\n",
       "      <th>75%</th>\n",
       "      <td>48280.750000</td>\n",
       "      <td>54.000000</td>\n",
       "      <td>47.000000</td>\n",
       "      <td>23.000000</td>\n",
       "      <td>8.000000</td>\n",
       "      <td>25.000000</td>\n",
       "      <td>768.000000</td>\n",
       "      <td>23.000000</td>\n",
       "      <td>1.000000</td>\n",
       "    </tr>\n",
       "    <tr>\n",
       "      <th>max</th>\n",
       "      <td>64374.000000</td>\n",
       "      <td>65.000000</td>\n",
       "      <td>60.000000</td>\n",
       "      <td>30.000000</td>\n",
       "      <td>10.000000</td>\n",
       "      <td>30.000000</td>\n",
       "      <td>1000.000000</td>\n",
       "      <td>30.000000</td>\n",
       "      <td>1.000000</td>\n",
       "    </tr>\n",
       "  </tbody>\n",
       "</table>\n",
       "</div>"
      ],
      "text/plain": [
       "         CustomerID           Age        Tenure  Usage Frequency  \\\n",
       "count  64374.000000  64374.000000  64374.000000     64374.000000   \n",
       "mean   32187.500000     41.970982     31.994827        15.080234   \n",
       "std    18583.317451     13.924911     17.098234         8.816470   \n",
       "min        1.000000     18.000000      1.000000         1.000000   \n",
       "25%    16094.250000     30.000000     18.000000         7.000000   \n",
       "50%    32187.500000     42.000000     33.000000        15.000000   \n",
       "75%    48280.750000     54.000000     47.000000        23.000000   \n",
       "max    64374.000000     65.000000     60.000000        30.000000   \n",
       "\n",
       "       Support Calls  Payment Delay   Total Spend  Last Interaction  \\\n",
       "count   64374.000000   64374.000000  64374.000000      64374.000000   \n",
       "mean        5.400690      17.133952    541.023379         15.498850   \n",
       "std         3.114005       8.852211    260.874809          8.638436   \n",
       "min         0.000000       0.000000    100.000000          1.000000   \n",
       "25%         3.000000      10.000000    313.000000          8.000000   \n",
       "50%         6.000000      19.000000    534.000000         15.000000   \n",
       "75%         8.000000      25.000000    768.000000         23.000000   \n",
       "max        10.000000      30.000000   1000.000000         30.000000   \n",
       "\n",
       "              Churn  \n",
       "count  64374.000000  \n",
       "mean       0.473685  \n",
       "std        0.499311  \n",
       "min        0.000000  \n",
       "25%        0.000000  \n",
       "50%        0.000000  \n",
       "75%        1.000000  \n",
       "max        1.000000  "
      ]
     },
     "execution_count": 7,
     "metadata": {},
     "output_type": "execute_result"
    }
   ],
   "source": [
    "churn.describe()"
   ]
  },
  {
   "cell_type": "markdown",
   "id": "9e592102-06a8-450d-93ea-330ae1eeae1a",
   "metadata": {},
   "source": [
    "No outliers appear to be present"
   ]
  },
  {
   "cell_type": "code",
   "execution_count": 8,
   "id": "50fd54b6-d8b6-4929-b222-bd18d0a6d81a",
   "metadata": {},
   "outputs": [
    {
     "data": {
      "text/plain": [
       "Gender\n",
       "Female    34353\n",
       "Male      30021\n",
       "Name: count, dtype: int64"
      ]
     },
     "execution_count": 8,
     "metadata": {},
     "output_type": "execute_result"
    }
   ],
   "source": [
    "churn.Gender.value_counts()"
   ]
  },
  {
   "cell_type": "code",
   "execution_count": 9,
   "id": "03fe26fe-5301-4d32-88ad-0e9fa6526579",
   "metadata": {},
   "outputs": [
    {
     "data": {
      "text/plain": [
       "Subscription Type\n",
       "Standard    21502\n",
       "Basic       21451\n",
       "Premium     21421\n",
       "Name: count, dtype: int64"
      ]
     },
     "execution_count": 9,
     "metadata": {},
     "output_type": "execute_result"
    }
   ],
   "source": [
    "churn['Subscription Type'].value_counts()"
   ]
  },
  {
   "cell_type": "code",
   "execution_count": 10,
   "id": "3acee4e7-d10b-4d70-93a1-7cb188f7b6ce",
   "metadata": {},
   "outputs": [
    {
     "data": {
      "text/plain": [
       "Contract Length\n",
       "Monthly      22130\n",
       "Annual       21410\n",
       "Quarterly    20834\n",
       "Name: count, dtype: int64"
      ]
     },
     "execution_count": 10,
     "metadata": {},
     "output_type": "execute_result"
    }
   ],
   "source": [
    "churn['Contract Length'].value_counts()"
   ]
  },
  {
   "cell_type": "markdown",
   "id": "2bbaaaf1-55d3-47c2-9837-7d5b7b4dc4e2",
   "metadata": {},
   "source": [
    "Appears to be no typos. Data set is clean."
   ]
  },
  {
   "cell_type": "code",
   "execution_count": 12,
   "id": "d0ca016f-28b2-4054-9b2c-102ca5d913b2",
   "metadata": {},
   "outputs": [
    {
     "data": {
      "text/plain": [
       "CustomerID            int64\n",
       "Age                   int64\n",
       "Gender               object\n",
       "Tenure                int64\n",
       "Usage Frequency       int64\n",
       "Support Calls         int64\n",
       "Payment Delay         int64\n",
       "Subscription Type    object\n",
       "Contract Length      object\n",
       "Total Spend           int64\n",
       "Last Interaction      int64\n",
       "Churn                 int64\n",
       "dtype: object"
      ]
     },
     "execution_count": 12,
     "metadata": {},
     "output_type": "execute_result"
    }
   ],
   "source": [
    "churn.dtypes"
   ]
  },
  {
   "cell_type": "markdown",
   "id": "8cd07a5f-4d52-4e8f-900f-16dae0106cb0",
   "metadata": {},
   "source": [
    "To investigate which factors affect churn rate we will preform a logistic regression. Need to convert object fields into int fields:  \n",
    "Gender: Male 1 Female 0  \n",
    "Subscription Type: Standard 0 Basic 1 Premium 2  \n",
    "Contract Length: Monthly 0 Quarterly 1 Annual 2"
   ]
  },
  {
   "cell_type": "code",
   "execution_count": 14,
   "id": "dff665c2-9bd7-49fe-880a-313ce3e10f6c",
   "metadata": {},
   "outputs": [],
   "source": [
    "churn['Subscription Type'] = churn['Subscription Type'].map({'Standard': 0, 'Basic': 1, 'Premium': 2})"
   ]
  },
  {
   "cell_type": "code",
   "execution_count": 15,
   "id": "f4229d12-c11e-42b7-b70c-459132f9d527",
   "metadata": {},
   "outputs": [],
   "source": [
    "churn['Contract Length'] = churn['Contract Length'].map({'Monthly': 0, 'Quarterly': 1, 'Annual': 2})"
   ]
  },
  {
   "cell_type": "code",
   "execution_count": 16,
   "id": "820cbbb8-79ce-4509-ba8b-a54895b5781c",
   "metadata": {},
   "outputs": [],
   "source": [
    "churn['Gender']=churn['Gender'].map({'Male': 1, 'Female':0})"
   ]
  },
  {
   "cell_type": "code",
   "execution_count": 17,
   "id": "2916e281-3bb4-44f1-a5b5-dbfe3381e604",
   "metadata": {},
   "outputs": [
    {
     "data": {
      "text/html": [
       "<div>\n",
       "<style scoped>\n",
       "    .dataframe tbody tr th:only-of-type {\n",
       "        vertical-align: middle;\n",
       "    }\n",
       "\n",
       "    .dataframe tbody tr th {\n",
       "        vertical-align: top;\n",
       "    }\n",
       "\n",
       "    .dataframe thead th {\n",
       "        text-align: right;\n",
       "    }\n",
       "</style>\n",
       "<table border=\"1\" class=\"dataframe\">\n",
       "  <thead>\n",
       "    <tr style=\"text-align: right;\">\n",
       "      <th></th>\n",
       "      <th>CustomerID</th>\n",
       "      <th>Age</th>\n",
       "      <th>Gender</th>\n",
       "      <th>Tenure</th>\n",
       "      <th>Usage Frequency</th>\n",
       "      <th>Support Calls</th>\n",
       "      <th>Payment Delay</th>\n",
       "      <th>Subscription Type</th>\n",
       "      <th>Contract Length</th>\n",
       "      <th>Total Spend</th>\n",
       "      <th>Last Interaction</th>\n",
       "      <th>Churn</th>\n",
       "    </tr>\n",
       "  </thead>\n",
       "  <tbody>\n",
       "    <tr>\n",
       "      <th>0</th>\n",
       "      <td>1</td>\n",
       "      <td>22</td>\n",
       "      <td>0</td>\n",
       "      <td>25</td>\n",
       "      <td>14</td>\n",
       "      <td>4</td>\n",
       "      <td>27</td>\n",
       "      <td>1</td>\n",
       "      <td>0</td>\n",
       "      <td>598</td>\n",
       "      <td>9</td>\n",
       "      <td>1</td>\n",
       "    </tr>\n",
       "    <tr>\n",
       "      <th>1</th>\n",
       "      <td>2</td>\n",
       "      <td>41</td>\n",
       "      <td>0</td>\n",
       "      <td>28</td>\n",
       "      <td>28</td>\n",
       "      <td>7</td>\n",
       "      <td>13</td>\n",
       "      <td>0</td>\n",
       "      <td>0</td>\n",
       "      <td>584</td>\n",
       "      <td>20</td>\n",
       "      <td>0</td>\n",
       "    </tr>\n",
       "    <tr>\n",
       "      <th>2</th>\n",
       "      <td>3</td>\n",
       "      <td>47</td>\n",
       "      <td>1</td>\n",
       "      <td>27</td>\n",
       "      <td>10</td>\n",
       "      <td>2</td>\n",
       "      <td>29</td>\n",
       "      <td>2</td>\n",
       "      <td>2</td>\n",
       "      <td>757</td>\n",
       "      <td>21</td>\n",
       "      <td>0</td>\n",
       "    </tr>\n",
       "    <tr>\n",
       "      <th>3</th>\n",
       "      <td>4</td>\n",
       "      <td>35</td>\n",
       "      <td>1</td>\n",
       "      <td>9</td>\n",
       "      <td>12</td>\n",
       "      <td>5</td>\n",
       "      <td>17</td>\n",
       "      <td>2</td>\n",
       "      <td>1</td>\n",
       "      <td>232</td>\n",
       "      <td>18</td>\n",
       "      <td>0</td>\n",
       "    </tr>\n",
       "    <tr>\n",
       "      <th>4</th>\n",
       "      <td>5</td>\n",
       "      <td>53</td>\n",
       "      <td>0</td>\n",
       "      <td>58</td>\n",
       "      <td>24</td>\n",
       "      <td>9</td>\n",
       "      <td>2</td>\n",
       "      <td>0</td>\n",
       "      <td>2</td>\n",
       "      <td>533</td>\n",
       "      <td>18</td>\n",
       "      <td>0</td>\n",
       "    </tr>\n",
       "  </tbody>\n",
       "</table>\n",
       "</div>"
      ],
      "text/plain": [
       "   CustomerID  Age  Gender  Tenure  Usage Frequency  Support Calls  \\\n",
       "0           1   22       0      25               14              4   \n",
       "1           2   41       0      28               28              7   \n",
       "2           3   47       1      27               10              2   \n",
       "3           4   35       1       9               12              5   \n",
       "4           5   53       0      58               24              9   \n",
       "\n",
       "   Payment Delay  Subscription Type  Contract Length  Total Spend  \\\n",
       "0             27                  1                0          598   \n",
       "1             13                  0                0          584   \n",
       "2             29                  2                2          757   \n",
       "3             17                  2                1          232   \n",
       "4              2                  0                2          533   \n",
       "\n",
       "   Last Interaction  Churn  \n",
       "0                 9      1  \n",
       "1                20      0  \n",
       "2                21      0  \n",
       "3                18      0  \n",
       "4                18      0  "
      ]
     },
     "execution_count": 17,
     "metadata": {},
     "output_type": "execute_result"
    }
   ],
   "source": [
    "churn.head()"
   ]
  },
  {
   "cell_type": "markdown",
   "id": "37b3c0b4-c0ac-4723-aa8c-88707f8a9252",
   "metadata": {},
   "source": [
    "Data is now ready to perform logistic regression."
   ]
  },
  {
   "cell_type": "code",
   "execution_count": 21,
   "id": "1d658cea-8120-473e-9a7f-1bc13c20c012",
   "metadata": {},
   "outputs": [
    {
     "data": {
      "text/html": [
       "<div>\n",
       "<style scoped>\n",
       "    .dataframe tbody tr th:only-of-type {\n",
       "        vertical-align: middle;\n",
       "    }\n",
       "\n",
       "    .dataframe tbody tr th {\n",
       "        vertical-align: top;\n",
       "    }\n",
       "\n",
       "    .dataframe thead th {\n",
       "        text-align: right;\n",
       "    }\n",
       "</style>\n",
       "<table border=\"1\" class=\"dataframe\">\n",
       "  <thead>\n",
       "    <tr style=\"text-align: right;\">\n",
       "      <th></th>\n",
       "      <th>Age</th>\n",
       "      <th>Gender</th>\n",
       "      <th>Tenure</th>\n",
       "      <th>Usage Frequency</th>\n",
       "      <th>Support Calls</th>\n",
       "      <th>Payment Delay</th>\n",
       "      <th>Subscription Type</th>\n",
       "      <th>Contract Length</th>\n",
       "      <th>Total Spend</th>\n",
       "      <th>Last Interaction</th>\n",
       "    </tr>\n",
       "  </thead>\n",
       "  <tbody>\n",
       "    <tr>\n",
       "      <th>0</th>\n",
       "      <td>22</td>\n",
       "      <td>0</td>\n",
       "      <td>25</td>\n",
       "      <td>14</td>\n",
       "      <td>4</td>\n",
       "      <td>27</td>\n",
       "      <td>1</td>\n",
       "      <td>0</td>\n",
       "      <td>598</td>\n",
       "      <td>9</td>\n",
       "    </tr>\n",
       "    <tr>\n",
       "      <th>1</th>\n",
       "      <td>41</td>\n",
       "      <td>0</td>\n",
       "      <td>28</td>\n",
       "      <td>28</td>\n",
       "      <td>7</td>\n",
       "      <td>13</td>\n",
       "      <td>0</td>\n",
       "      <td>0</td>\n",
       "      <td>584</td>\n",
       "      <td>20</td>\n",
       "    </tr>\n",
       "    <tr>\n",
       "      <th>2</th>\n",
       "      <td>47</td>\n",
       "      <td>1</td>\n",
       "      <td>27</td>\n",
       "      <td>10</td>\n",
       "      <td>2</td>\n",
       "      <td>29</td>\n",
       "      <td>2</td>\n",
       "      <td>2</td>\n",
       "      <td>757</td>\n",
       "      <td>21</td>\n",
       "    </tr>\n",
       "    <tr>\n",
       "      <th>3</th>\n",
       "      <td>35</td>\n",
       "      <td>1</td>\n",
       "      <td>9</td>\n",
       "      <td>12</td>\n",
       "      <td>5</td>\n",
       "      <td>17</td>\n",
       "      <td>2</td>\n",
       "      <td>1</td>\n",
       "      <td>232</td>\n",
       "      <td>18</td>\n",
       "    </tr>\n",
       "    <tr>\n",
       "      <th>4</th>\n",
       "      <td>53</td>\n",
       "      <td>0</td>\n",
       "      <td>58</td>\n",
       "      <td>24</td>\n",
       "      <td>9</td>\n",
       "      <td>2</td>\n",
       "      <td>0</td>\n",
       "      <td>2</td>\n",
       "      <td>533</td>\n",
       "      <td>18</td>\n",
       "    </tr>\n",
       "  </tbody>\n",
       "</table>\n",
       "</div>"
      ],
      "text/plain": [
       "   Age  Gender  Tenure  Usage Frequency  Support Calls  Payment Delay  \\\n",
       "0   22       0      25               14              4             27   \n",
       "1   41       0      28               28              7             13   \n",
       "2   47       1      27               10              2             29   \n",
       "3   35       1       9               12              5             17   \n",
       "4   53       0      58               24              9              2   \n",
       "\n",
       "   Subscription Type  Contract Length  Total Spend  Last Interaction  \n",
       "0                  1                0          598                 9  \n",
       "1                  0                0          584                20  \n",
       "2                  2                2          757                21  \n",
       "3                  2                1          232                18  \n",
       "4                  0                2          533                18  "
      ]
     },
     "execution_count": 21,
     "metadata": {},
     "output_type": "execute_result"
    }
   ],
   "source": [
    "y = churn.Churn\n",
    "x1 = churn.drop(['Churn','CustomerID'],axis = 1)\n",
    "x1.head()"
   ]
  },
  {
   "cell_type": "code",
   "execution_count": 130,
   "id": "95d909b3-8d32-49ce-92c2-02dba4ad9e9d",
   "metadata": {},
   "outputs": [
    {
     "data": {
      "image/png": "[encoded data removed]",
      "text/plain": [
       "<Figure size 800x600 with 1 Axes>"
      ]
     },
     "metadata": {},
     "output_type": "display_data"
    },
    {
     "data": {
      "image/png": "[encoded data removed]",
      "text/plain": [
       "<Figure size 800x600 with 1 Axes>"
      ]
     },
     "metadata": {},
     "output_type": "display_data"
    },
    {
     "data": {
      "image/png": "[encoded data removed]",
      "text/plain": [
       "<Figure size 800x600 with 1 Axes>"
      ]
     },
     "metadata": {},
     "output_type": "display_data"
    },
    {
     "data": {
      "image/png": "[encoded data removed]",
      "text/plain": [
       "<Figure size 800x600 with 1 Axes>"
      ]
     },
     "metadata": {},
     "output_type": "display_data"
    },
    {
     "data": {
      "image/png": "[encoded data removed]",
      "text/plain": [
       "<Figure size 800x600 with 1 Axes>"
      ]
     },
     "metadata": {},
     "output_type": "display_data"
    },
    {
     "data": {
      "image/png": "[encoded data removed]",
      "text/plain": [
       "<Figure size 800x600 with 1 Axes>"
      ]
     },
     "metadata": {},
     "output_type": "display_data"
    },
    {
     "data": {
      "image/png": "[encoded data removed]",
      "text/plain": [
       "<Figure size 800x600 with 1 Axes>"
      ]
     },
     "metadata": {},
     "output_type": "display_data"
    },
    {
     "data": {
      "image/png": "[encoded data removed]",
      "text/plain": [
       "<Figure size 800x600 with 1 Axes>"
      ]
     },
     "metadata": {},
     "output_type": "display_data"
    },
    {
     "data": {
      "image/png": "[encoded data removed]",
      "text/plain": [
       "<Figure size 800x600 with 1 Axes>"
      ]
     },
     "metadata": {},
     "output_type": "display_data"
    },
    {
     "data": {
      "image/png": "[encoded data removed]",
      "text/plain": [
       "<Figure size 800x600 with 1 Axes>"
      ]
     },
     "metadata": {},
     "output_type": "display_data"
    }
   ],
   "source": [
    "for column in churn.columns:\n",
    "    if column != 'Churn' and column != 'CustomerID':  # Exclude target and non-numeric variables\n",
    "        plt.figure(figsize=(8, 6))\n",
    "        sns.scatterplot(x=churn[column], y=y)\n",
    "        plt.title(f'Scatterplot of {column} vs Churn')\n",
    "        plt.xlabel(column)\n",
    "        plt.ylabel('Churn')\n",
    "        plt.show()"
   ]
  },
  {
   "cell_type": "markdown",
   "id": "be34a0d3-2a91-4f6e-8752-0baeba17124c",
   "metadata": {},
   "source": [
    "We will perform a logsitic regression to test every factor and see how effective it can be predicting churn"
   ]
  },
  {
   "cell_type": "code",
   "execution_count": 23,
   "id": "d280d054-bd89-421a-9086-e78c71f23dec",
   "metadata": {},
   "outputs": [
    {
     "name": "stdout",
     "output_type": "stream",
     "text": [
      "Optimization terminated successfully.\n",
      "         Current function value: 0.394483\n",
      "         Iterations 7\n"
     ]
    },
    {
     "data": {
      "text/html": [
       "<table class=\"simpletable\">\n",
       "<caption>Logit Regression Results</caption>\n",
       "<tr>\n",
       "  <th>Dep. Variable:</th>         <td>Churn</td>      <th>  No. Observations:  </th>  <td> 64374</td> \n",
       "</tr>\n",
       "<tr>\n",
       "  <th>Model:</th>                 <td>Logit</td>      <th>  Df Residuals:      </th>  <td> 64363</td> \n",
       "</tr>\n",
       "<tr>\n",
       "  <th>Method:</th>                 <td>MLE</td>       <th>  Df Model:          </th>  <td>    10</td> \n",
       "</tr>\n",
       "<tr>\n",
       "  <th>Date:</th>            <td>Fri, 07 Jun 2024</td> <th>  Pseudo R-squ.:     </th>  <td>0.4297</td> \n",
       "</tr>\n",
       "<tr>\n",
       "  <th>Time:</th>                <td>22:58:30</td>     <th>  Log-Likelihood:    </th> <td> -25394.</td>\n",
       "</tr>\n",
       "<tr>\n",
       "  <th>converged:</th>             <td>True</td>       <th>  LL-Null:           </th> <td> -44531.</td>\n",
       "</tr>\n",
       "<tr>\n",
       "  <th>Covariance Type:</th>     <td>nonrobust</td>    <th>  LLR p-value:       </th>  <td> 0.000</td> \n",
       "</tr>\n",
       "</table>\n",
       "<table class=\"simpletable\">\n",
       "<tr>\n",
       "          <td></td>             <th>coef</th>     <th>std err</th>      <th>z</th>      <th>P>|z|</th>  <th>[0.025</th>    <th>0.975]</th>  \n",
       "</tr>\n",
       "<tr>\n",
       "  <th>const</th>             <td>   -5.5259</td> <td>    0.074</td> <td>  -75.119</td> <td> 0.000</td> <td>   -5.670</td> <td>   -5.382</td>\n",
       "</tr>\n",
       "<tr>\n",
       "  <th>Age</th>               <td>    0.0194</td> <td>    0.001</td> <td>   24.048</td> <td> 0.000</td> <td>    0.018</td> <td>    0.021</td>\n",
       "</tr>\n",
       "<tr>\n",
       "  <th>Gender</th>            <td>   -1.1358</td> <td>    0.023</td> <td>  -49.065</td> <td> 0.000</td> <td>   -1.181</td> <td>   -1.090</td>\n",
       "</tr>\n",
       "<tr>\n",
       "  <th>Tenure</th>            <td>    0.0351</td> <td>    0.001</td> <td>   51.504</td> <td> 0.000</td> <td>    0.034</td> <td>    0.036</td>\n",
       "</tr>\n",
       "<tr>\n",
       "  <th>Usage Frequency</th>   <td>   -0.0591</td> <td>    0.001</td> <td>  -45.061</td> <td> 0.000</td> <td>   -0.062</td> <td>   -0.057</td>\n",
       "</tr>\n",
       "<tr>\n",
       "  <th>Support Calls</th>     <td>    0.3294</td> <td>    0.004</td> <td>   80.826</td> <td> 0.000</td> <td>    0.321</td> <td>    0.337</td>\n",
       "</tr>\n",
       "<tr>\n",
       "  <th>Payment Delay</th>     <td>    0.2125</td> <td>    0.002</td> <td>  119.884</td> <td> 0.000</td> <td>    0.209</td> <td>    0.216</td>\n",
       "</tr>\n",
       "<tr>\n",
       "  <th>Subscription Type</th> <td>   -0.0195</td> <td>    0.014</td> <td>   -1.435</td> <td> 0.151</td> <td>   -0.046</td> <td>    0.007</td>\n",
       "</tr>\n",
       "<tr>\n",
       "  <th>Contract Length</th>   <td>   -0.1610</td> <td>    0.014</td> <td>  -11.920</td> <td> 0.000</td> <td>   -0.187</td> <td>   -0.135</td>\n",
       "</tr>\n",
       "<tr>\n",
       "  <th>Total Spend</th>       <td>   -0.0010</td> <td> 4.31e-05</td> <td>  -23.398</td> <td> 0.000</td> <td>   -0.001</td> <td>   -0.001</td>\n",
       "</tr>\n",
       "<tr>\n",
       "  <th>Last Interaction</th>  <td>   -0.0010</td> <td>    0.001</td> <td>   -0.811</td> <td> 0.418</td> <td>   -0.004</td> <td>    0.001</td>\n",
       "</tr>\n",
       "</table>"
      ],
      "text/latex": [
       "\\begin{center}\n",
       "\\begin{tabular}{lclc}\n",
       "\\toprule\n",
       "\\textbf{Dep. Variable:}    &      Churn       & \\textbf{  No. Observations:  } &    64374    \\\\\n",
       "\\textbf{Model:}            &      Logit       & \\textbf{  Df Residuals:      } &    64363    \\\\\n",
       "\\textbf{Method:}           &       MLE        & \\textbf{  Df Model:          } &       10    \\\\\n",
       "\\textbf{Date:}             & Fri, 07 Jun 2024 & \\textbf{  Pseudo R-squ.:     } &   0.4297    \\\\\n",
       "\\textbf{Time:}             &     22:58:30     & \\textbf{  Log-Likelihood:    } &   -25394.   \\\\\n",
       "\\textbf{converged:}        &       True       & \\textbf{  LL-Null:           } &   -44531.   \\\\\n",
       "\\textbf{Covariance Type:}  &    nonrobust     & \\textbf{  LLR p-value:       } &    0.000    \\\\\n",
       "\\bottomrule\n",
       "\\end{tabular}\n",
       "\\begin{tabular}{lcccccc}\n",
       "                           & \\textbf{coef} & \\textbf{std err} & \\textbf{z} & \\textbf{P$> |$z$|$} & \\textbf{[0.025} & \\textbf{0.975]}  \\\\\n",
       "\\midrule\n",
       "\\textbf{const}             &      -5.5259  &        0.074     &   -75.119  &         0.000        &       -5.670    &       -5.382     \\\\\n",
       "\\textbf{Age}               &       0.0194  &        0.001     &    24.048  &         0.000        &        0.018    &        0.021     \\\\\n",
       "\\textbf{Gender}            &      -1.1358  &        0.023     &   -49.065  &         0.000        &       -1.181    &       -1.090     \\\\\n",
       "\\textbf{Tenure}            &       0.0351  &        0.001     &    51.504  &         0.000        &        0.034    &        0.036     \\\\\n",
       "\\textbf{Usage Frequency}   &      -0.0591  &        0.001     &   -45.061  &         0.000        &       -0.062    &       -0.057     \\\\\n",
       "\\textbf{Support Calls}     &       0.3294  &        0.004     &    80.826  &         0.000        &        0.321    &        0.337     \\\\\n",
       "\\textbf{Payment Delay}     &       0.2125  &        0.002     &   119.884  &         0.000        &        0.209    &        0.216     \\\\\n",
       "\\textbf{Subscription Type} &      -0.0195  &        0.014     &    -1.435  &         0.151        &       -0.046    &        0.007     \\\\\n",
       "\\textbf{Contract Length}   &      -0.1610  &        0.014     &   -11.920  &         0.000        &       -0.187    &       -0.135     \\\\\n",
       "\\textbf{Total Spend}       &      -0.0010  &     4.31e-05     &   -23.398  &         0.000        &       -0.001    &       -0.001     \\\\\n",
       "\\textbf{Last Interaction}  &      -0.0010  &        0.001     &    -0.811  &         0.418        &       -0.004    &        0.001     \\\\\n",
       "\\bottomrule\n",
       "\\end{tabular}\n",
       "%\\caption{Logit Regression Results}\n",
       "\\end{center}"
      ],
      "text/plain": [
       "<class 'statsmodels.iolib.summary.Summary'>\n",
       "\"\"\"\n",
       "                           Logit Regression Results                           \n",
       "==============================================================================\n",
       "Dep. Variable:                  Churn   No. Observations:                64374\n",
       "Model:                          Logit   Df Residuals:                    64363\n",
       "Method:                           MLE   Df Model:                           10\n",
       "Date:                Fri, 07 Jun 2024   Pseudo R-squ.:                  0.4297\n",
       "Time:                        22:58:30   Log-Likelihood:                -25394.\n",
       "converged:                       True   LL-Null:                       -44531.\n",
       "Covariance Type:            nonrobust   LLR p-value:                     0.000\n",
       "=====================================================================================\n",
       "                        coef    std err          z      P>|z|      [0.025      0.975]\n",
       "-------------------------------------------------------------------------------------\n",
       "const                -5.5259      0.074    -75.119      0.000      -5.670      -5.382\n",
       "Age                   0.0194      0.001     24.048      0.000       0.018       0.021\n",
       "Gender               -1.1358      0.023    -49.065      0.000      -1.181      -1.090\n",
       "Tenure                0.0351      0.001     51.504      0.000       0.034       0.036\n",
       "Usage Frequency      -0.0591      0.001    -45.061      0.000      -0.062      -0.057\n",
       "Support Calls         0.3294      0.004     80.826      0.000       0.321       0.337\n",
       "Payment Delay         0.2125      0.002    119.884      0.000       0.209       0.216\n",
       "Subscription Type    -0.0195      0.014     -1.435      0.151      -0.046       0.007\n",
       "Contract Length      -0.1610      0.014    -11.920      0.000      -0.187      -0.135\n",
       "Total Spend          -0.0010   4.31e-05    -23.398      0.000      -0.001      -0.001\n",
       "Last Interaction     -0.0010      0.001     -0.811      0.418      -0.004       0.001\n",
       "=====================================================================================\n",
       "\"\"\""
      ]
     },
     "execution_count": 23,
     "metadata": {},
     "output_type": "execute_result"
    }
   ],
   "source": [
    "x = sm.add_constant(x1)\n",
    "reg_log = sm.Logit(y,x)\n",
    "results = reg_log.fit()\n",
    "results.summary()"
   ]
  },
  {
   "cell_type": "markdown",
   "id": "adb0aa94-ee50-4f59-a89c-65813d2070b1",
   "metadata": {},
   "source": [
    "The null hypothesis is $H_0 : \\beta_k =0 $ for each coefficient corresponding to independent variable.  \n",
    "From the logistic regression p-value table we can't reject $H_0$ for Subscription Type and Last Interaction  \n",
    "as the p - value is above 0.05. Therefore, statistically these factors have no bering on churn. We now need to  \n",
    "calculate the odds off each other factor which is calculated as $e^\\beta$.  \n",
    "Odds = the % increase/decrease that holding all other factors constant will results in that factor affecting churn"
   ]
  },
  {
   "cell_type": "code",
   "execution_count": 92,
   "id": "d28f5255-e615-4d97-bb7a-3120866de046",
   "metadata": {},
   "outputs": [],
   "source": [
    "odds = [0.0194, -1.1358, 0.0351, -0.0591, 0.3294, 0.2125, -0.1610, -0.0010]\n",
    "odds_rate = np.exp(odds)"
   ]
  },
  {
   "cell_type": "code",
   "execution_count": 93,
   "id": "03b3c81d-8325-41fd-92aa-41c337ae541a",
   "metadata": {},
   "outputs": [
    {
     "data": {
      "text/plain": [
       "Index(['Age', 'Gender', 'Tenure', 'Usage Frequency', 'Support Calls',\n",
       "       'Payment Delay', 'Subscription Type', 'Contract Length', 'Total Spend',\n",
       "       'Last Interaction'],\n",
       "      dtype='object')"
      ]
     },
     "execution_count": 93,
     "metadata": {},
     "output_type": "execute_result"
    }
   ],
   "source": [
    "x1.columns"
   ]
  },
  {
   "cell_type": "code",
   "execution_count": 94,
   "id": "ea9659bd-c39d-45a0-90d1-20aa2f3e3484",
   "metadata": {},
   "outputs": [],
   "source": [
    "Attributes = ['Age', 'Gender', 'Tenure', 'Usage Frequency', 'Support Calls', 'Payment Delay',  'Contract Length', 'Total Spend']"
   ]
  },
  {
   "cell_type": "code",
   "execution_count": 95,
   "id": "b3cee743-f35c-40a2-86b2-f35dab0c553f",
   "metadata": {},
   "outputs": [
    {
     "data": {
      "text/html": [
       "<div>\n",
       "<style scoped>\n",
       "    .dataframe tbody tr th:only-of-type {\n",
       "        vertical-align: middle;\n",
       "    }\n",
       "\n",
       "    .dataframe tbody tr th {\n",
       "        vertical-align: top;\n",
       "    }\n",
       "\n",
       "    .dataframe thead th {\n",
       "        text-align: right;\n",
       "    }\n",
       "</style>\n",
       "<table border=\"1\" class=\"dataframe\">\n",
       "  <thead>\n",
       "    <tr style=\"text-align: right;\">\n",
       "      <th></th>\n",
       "      <th>Attributes</th>\n",
       "      <th>Odds Ratio</th>\n",
       "      <th>Odds %</th>\n",
       "    </tr>\n",
       "  </thead>\n",
       "  <tbody>\n",
       "    <tr>\n",
       "      <th>4</th>\n",
       "      <td>Support Calls</td>\n",
       "      <td>1.390134</td>\n",
       "      <td>39.013380</td>\n",
       "    </tr>\n",
       "    <tr>\n",
       "      <th>5</th>\n",
       "      <td>Payment Delay</td>\n",
       "      <td>1.236766</td>\n",
       "      <td>23.676611</td>\n",
       "    </tr>\n",
       "    <tr>\n",
       "      <th>2</th>\n",
       "      <td>Tenure</td>\n",
       "      <td>1.035723</td>\n",
       "      <td>3.572328</td>\n",
       "    </tr>\n",
       "    <tr>\n",
       "      <th>0</th>\n",
       "      <td>Age</td>\n",
       "      <td>1.019589</td>\n",
       "      <td>1.958940</td>\n",
       "    </tr>\n",
       "    <tr>\n",
       "      <th>7</th>\n",
       "      <td>Total Spend</td>\n",
       "      <td>0.999000</td>\n",
       "      <td>-0.099950</td>\n",
       "    </tr>\n",
       "    <tr>\n",
       "      <th>3</th>\n",
       "      <td>Usage Frequency</td>\n",
       "      <td>0.942613</td>\n",
       "      <td>-5.738750</td>\n",
       "    </tr>\n",
       "    <tr>\n",
       "      <th>6</th>\n",
       "      <td>Contract Length</td>\n",
       "      <td>0.851292</td>\n",
       "      <td>-14.870793</td>\n",
       "    </tr>\n",
       "    <tr>\n",
       "      <th>1</th>\n",
       "      <td>Gender</td>\n",
       "      <td>0.321165</td>\n",
       "      <td>-67.883491</td>\n",
       "    </tr>\n",
       "  </tbody>\n",
       "</table>\n",
       "</div>"
      ],
      "text/plain": [
       "        Attributes  Odds Ratio     Odds %\n",
       "4    Support Calls    1.390134  39.013380\n",
       "5    Payment Delay    1.236766  23.676611\n",
       "2           Tenure    1.035723   3.572328\n",
       "0              Age    1.019589   1.958940\n",
       "7      Total Spend    0.999000  -0.099950\n",
       "3  Usage Frequency    0.942613  -5.738750\n",
       "6  Contract Length    0.851292 -14.870793\n",
       "1           Gender    0.321165 -67.883491"
      ]
     },
     "execution_count": 95,
     "metadata": {},
     "output_type": "execute_result"
    }
   ],
   "source": [
    "odds_df = pd.DataFrame({'Attributes': Attributes, 'Odds Ratio': odds_rate})\n",
    "sig_churn_fact = odds_df.sort_values('Odds Ratio', ascending = False)\n",
    "sig_churn_fact['Odds %'] = (sig_churn_fact['Odds Ratio']-1)*100\n",
    "sig_churn_fact"
   ]
  },
  {
   "cell_type": "markdown",
   "id": "88295b2f-8087-439b-8276-5cb387342483",
   "metadata": {},
   "source": [
    "The odds table summarises nicely which factors have significant effect and which have barely any.  \n",
    "The biggest factor that positvely affect churn rate (i.e means more customers leave) is support calls.  \n",
    "An increase in 1 support call to customer support increase odds of a customer churning by 39%.  \n",
    "Next Payment delays has 23.67% odds, meaning an increase in 1 day paying late means there is a 23.67% chance  \n",
    "of the cusomter leaving.  \n",
    "For Gender we had an odds ratio of 0.321165, which means odds of males leaving is lower than females leaving  \n",
    "by a lot (68% nearly).  \n",
    "Contract length has a 0.85 odds, meaning the longer the contract there is 15% less chance of them leaving.  \n",
    "Note this compares contract length from monlthy to quarterly or quartely to yearly, below I will calculate  \n",
    "monthly to annual.\n",
    "The more the customer uses the service there is a 5.78% chance of them less likely to leave.  \n",
    "For tenure, an increase in 1 month with being with the service increases chance they will leave by 3.57%.  \n",
    "Total spend only has a 1% chance of decreasing churn rate for a 1 unit increase."
   ]
  },
  {
   "cell_type": "code",
   "execution_count": 64,
   "id": "0e00244e-29ec-4fb8-a334-2c0bd5deb1ac",
   "metadata": {},
   "outputs": [
    {
     "data": {
      "text/plain": [
       "0.7246981903299029"
      ]
     },
     "execution_count": 64,
     "metadata": {},
     "output_type": "execute_result"
    }
   ],
   "source": [
    "month_annual = np.exp(2*-0.1610\t)\n",
    "month_annual"
   ]
  },
  {
   "cell_type": "markdown",
   "id": "9c29e14a-85a7-41f4-806e-7e76177a3f0b",
   "metadata": {},
   "source": [
    "There is a 27.5% chance of someone going from monthly to annual contract not leaving."
   ]
  },
  {
   "cell_type": "code",
   "execution_count": 96,
   "id": "46bead6d-4c10-4ef1-9521-e20eb9b7f28f",
   "metadata": {},
   "outputs": [],
   "source": [
    "\n",
    "new_row= {'Attributes':'month to annual', 'Odds Ratio': np.exp(2*-0.1610), 'Odds %': (np.exp(2*-0.1610\t)-1)*100 }\n"
   ]
  },
  {
   "cell_type": "code",
   "execution_count": 97,
   "id": "181c0453-3d7d-430d-ae83-c5796b245e87",
   "metadata": {
    "scrolled": true
   },
   "outputs": [
    {
     "data": {
      "text/html": [
       "<div>\n",
       "<style scoped>\n",
       "    .dataframe tbody tr th:only-of-type {\n",
       "        vertical-align: middle;\n",
       "    }\n",
       "\n",
       "    .dataframe tbody tr th {\n",
       "        vertical-align: top;\n",
       "    }\n",
       "\n",
       "    .dataframe thead th {\n",
       "        text-align: right;\n",
       "    }\n",
       "</style>\n",
       "<table border=\"1\" class=\"dataframe\">\n",
       "  <thead>\n",
       "    <tr style=\"text-align: right;\">\n",
       "      <th></th>\n",
       "      <th>Attributes</th>\n",
       "      <th>Odds Ratio</th>\n",
       "      <th>Odds %</th>\n",
       "    </tr>\n",
       "  </thead>\n",
       "  <tbody>\n",
       "    <tr>\n",
       "      <th>4</th>\n",
       "      <td>Support Calls</td>\n",
       "      <td>1.390134</td>\n",
       "      <td>39.013380</td>\n",
       "    </tr>\n",
       "    <tr>\n",
       "      <th>5</th>\n",
       "      <td>Payment Delay</td>\n",
       "      <td>1.236766</td>\n",
       "      <td>23.676611</td>\n",
       "    </tr>\n",
       "    <tr>\n",
       "      <th>2</th>\n",
       "      <td>Tenure</td>\n",
       "      <td>1.035723</td>\n",
       "      <td>3.572328</td>\n",
       "    </tr>\n",
       "    <tr>\n",
       "      <th>0</th>\n",
       "      <td>Age</td>\n",
       "      <td>1.019589</td>\n",
       "      <td>1.958940</td>\n",
       "    </tr>\n",
       "    <tr>\n",
       "      <th>7</th>\n",
       "      <td>Total Spend</td>\n",
       "      <td>0.999000</td>\n",
       "      <td>-0.099950</td>\n",
       "    </tr>\n",
       "    <tr>\n",
       "      <th>3</th>\n",
       "      <td>Usage Frequency</td>\n",
       "      <td>0.942613</td>\n",
       "      <td>-5.738750</td>\n",
       "    </tr>\n",
       "    <tr>\n",
       "      <th>6</th>\n",
       "      <td>Contract Length</td>\n",
       "      <td>0.851292</td>\n",
       "      <td>-14.870793</td>\n",
       "    </tr>\n",
       "    <tr>\n",
       "      <th>1</th>\n",
       "      <td>Gender</td>\n",
       "      <td>0.321165</td>\n",
       "      <td>-67.883491</td>\n",
       "    </tr>\n",
       "    <tr>\n",
       "      <th>8</th>\n",
       "      <td>month to annual</td>\n",
       "      <td>0.724698</td>\n",
       "      <td>-27.530181</td>\n",
       "    </tr>\n",
       "  </tbody>\n",
       "</table>\n",
       "</div>"
      ],
      "text/plain": [
       "        Attributes  Odds Ratio     Odds %\n",
       "4    Support Calls    1.390134  39.013380\n",
       "5    Payment Delay    1.236766  23.676611\n",
       "2           Tenure    1.035723   3.572328\n",
       "0              Age    1.019589   1.958940\n",
       "7      Total Spend    0.999000  -0.099950\n",
       "3  Usage Frequency    0.942613  -5.738750\n",
       "6  Contract Length    0.851292 -14.870793\n",
       "1           Gender    0.321165 -67.883491\n",
       "8  month to annual    0.724698 -27.530181"
      ]
     },
     "execution_count": 97,
     "metadata": {},
     "output_type": "execute_result"
    }
   ],
   "source": [
    "sig_churn_fact.loc[len(sig_churn_fact)]=new_row\n",
    "sig_churn_fact"
   ]
  },
  {
   "cell_type": "code",
   "execution_count": 98,
   "id": "7ca8141b-e391-4875-9f31-40642aaebe8e",
   "metadata": {},
   "outputs": [
    {
     "data": {
      "text/html": [
       "<div>\n",
       "<style scoped>\n",
       "    .dataframe tbody tr th:only-of-type {\n",
       "        vertical-align: middle;\n",
       "    }\n",
       "\n",
       "    .dataframe tbody tr th {\n",
       "        vertical-align: top;\n",
       "    }\n",
       "\n",
       "    .dataframe thead th {\n",
       "        text-align: right;\n",
       "    }\n",
       "</style>\n",
       "<table border=\"1\" class=\"dataframe\">\n",
       "  <thead>\n",
       "    <tr style=\"text-align: right;\">\n",
       "      <th></th>\n",
       "      <th>Attributes</th>\n",
       "      <th>Odds Ratio</th>\n",
       "      <th>Odds %</th>\n",
       "    </tr>\n",
       "  </thead>\n",
       "  <tbody>\n",
       "    <tr>\n",
       "      <th>4</th>\n",
       "      <td>Support Calls</td>\n",
       "      <td>1.390134</td>\n",
       "      <td>39.013380</td>\n",
       "    </tr>\n",
       "    <tr>\n",
       "      <th>5</th>\n",
       "      <td>Payment Delay</td>\n",
       "      <td>1.236766</td>\n",
       "      <td>23.676611</td>\n",
       "    </tr>\n",
       "    <tr>\n",
       "      <th>2</th>\n",
       "      <td>Tenure</td>\n",
       "      <td>1.035723</td>\n",
       "      <td>3.572328</td>\n",
       "    </tr>\n",
       "    <tr>\n",
       "      <th>0</th>\n",
       "      <td>Age</td>\n",
       "      <td>1.019589</td>\n",
       "      <td>1.958940</td>\n",
       "    </tr>\n",
       "    <tr>\n",
       "      <th>7</th>\n",
       "      <td>Total Spend</td>\n",
       "      <td>0.999000</td>\n",
       "      <td>-0.099950</td>\n",
       "    </tr>\n",
       "    <tr>\n",
       "      <th>3</th>\n",
       "      <td>Usage Frequency</td>\n",
       "      <td>0.942613</td>\n",
       "      <td>-5.738750</td>\n",
       "    </tr>\n",
       "    <tr>\n",
       "      <th>6</th>\n",
       "      <td>Contract Length</td>\n",
       "      <td>0.851292</td>\n",
       "      <td>-14.870793</td>\n",
       "    </tr>\n",
       "    <tr>\n",
       "      <th>8</th>\n",
       "      <td>month to annual</td>\n",
       "      <td>0.724698</td>\n",
       "      <td>-27.530181</td>\n",
       "    </tr>\n",
       "    <tr>\n",
       "      <th>1</th>\n",
       "      <td>Gender</td>\n",
       "      <td>0.321165</td>\n",
       "      <td>-67.883491</td>\n",
       "    </tr>\n",
       "  </tbody>\n",
       "</table>\n",
       "</div>"
      ],
      "text/plain": [
       "        Attributes  Odds Ratio     Odds %\n",
       "4    Support Calls    1.390134  39.013380\n",
       "5    Payment Delay    1.236766  23.676611\n",
       "2           Tenure    1.035723   3.572328\n",
       "0              Age    1.019589   1.958940\n",
       "7      Total Spend    0.999000  -0.099950\n",
       "3  Usage Frequency    0.942613  -5.738750\n",
       "6  Contract Length    0.851292 -14.870793\n",
       "8  month to annual    0.724698 -27.530181\n",
       "1           Gender    0.321165 -67.883491"
      ]
     },
     "execution_count": 98,
     "metadata": {},
     "output_type": "execute_result"
    }
   ],
   "source": [
    "sig_churn_fact.sort_values('Odds %', ascending = False)"
   ]
  },
  {
   "cell_type": "code",
   "execution_count": 104,
   "id": "cf971cc0-8005-4284-afb1-06a9202c0519",
   "metadata": {},
   "outputs": [
    {
     "data": {
      "image/png": "[encoded data removed]",
      "text/plain": [
       "<Figure size 1400x600 with 1 Axes>"
      ]
     },
     "metadata": {},
     "output_type": "display_data"
    }
   ],
   "source": [
    "plt.figure(figsize=(14,6))\n",
    "sns.barplot(x = 'Attributes', y = 'Odds %', data = sig_churn_fact)\n",
    "plt.title('Churn Odds %')\n",
    "plt.show()"
   ]
  },
  {
   "cell_type": "code",
   "execution_count": 162,
   "id": "2d358439-2b5f-47cf-a3f8-212ab2b477ea",
   "metadata": {},
   "outputs": [
    {
     "name": "stderr",
     "output_type": "stream",
     "text": [
      "C:\\Users\\natha\\AppData\\Local\\Temp\\ipykernel_11696\\4259640459.py:3: SettingWithCopyWarning: \n",
      "A value is trying to be set on a copy of a slice from a DataFrame.\n",
      "Try using .loc[row_indexer,col_indexer] = value instead\n",
      "\n",
      "See the caveats in the documentation: https://pandas.pydata.org/pandas-docs/stable/user_guide/indexing.html#returning-a-view-versus-a-copy\n",
      "  neg_churn['Odds %'] = np.abs(neg_churn['Odds %'])\n"
     ]
    }
   ],
   "source": [
    "pos_churn = sig_churn_fact[sig_churn_fact['Odds %']> 0]\n",
    "neg_churn = sig_churn_fact[sig_churn_fact['Odds %']< 0]\n",
    "neg_churn['Odds %'] = np.abs(neg_churn['Odds %'])"
   ]
  },
  {
   "cell_type": "code",
   "execution_count": 154,
   "id": "ad79cef0-f96a-44ec-85b7-b2c58de08082",
   "metadata": {},
   "outputs": [
    {
     "data": {
      "image/png": "[encoded data removed]",
      "text/plain": [
       "<Figure size 800x800 with 1 Axes>"
      ]
     },
     "metadata": {},
     "output_type": "display_data"
    }
   ],
   "source": [
    "\n",
    "colors = ['gold', 'yellowgreen', 'lightcoral', 'lightskyblue']\n",
    "# Plotting the pie chart with customizations\n",
    "plt.figure(figsize=(8, 8))\n",
    "plt.pie(pos_churn['Odds %'],  labels=pos_churn['Attributes'], colors=colors,\n",
    "        autopct='%1.1f%%', shadow=True, startangle=140)\n",
    "plt.title('Positive Churn Factors')\n",
    "plt.axis('equal')  # Equal aspect ratio ensures that pie is drawn as a circle.\n",
    "plt.show()"
   ]
  },
  {
   "cell_type": "code",
   "execution_count": 160,
   "id": "6f89cc3a-9107-4761-8f80-23be296a1b23",
   "metadata": {},
   "outputs": [
    {
     "data": {
      "image/png": "[encoded data removed]",
      "text/plain": [
       "<Figure size 800x800 with 1 Axes>"
      ]
     },
     "metadata": {},
     "output_type": "display_data"
    }
   ],
   "source": [
    "colors = ['gold', 'yellowgreen', 'lightcoral', 'lightskyblue']\n",
    "# Plotting the pie chart with customizations\n",
    "plt.figure(figsize=(8, 8))\n",
    "plt.pie(neg_churn['Odds %'],  labels= neg_churn['Attributes'], colors=colors,\n",
    "        autopct='%1.1f%%', shadow=True, startangle=140)\n",
    "plt.title('Negative Churn Factors')\n",
    "plt.axis('equal')  # Equal aspect ratio ensures that pie is drawn as a circle.\n",
    "plt.show()"
   ]
  },
  {
   "cell_type": "code",
   "execution_count": 105,
   "id": "ebc5d1ed-a71a-496d-af2b-2efef7f8abc2",
   "metadata": {},
   "outputs": [
    {
     "data": {
      "text/plain": [
       "array([[27987.,  5894.],\n",
       "       [ 5264., 25229.]])"
      ]
     },
     "execution_count": 105,
     "metadata": {},
     "output_type": "execute_result"
    }
   ],
   "source": [
    "results.pred_table()"
   ]
  },
  {
   "cell_type": "code",
   "execution_count": 106,
   "id": "219f3cb1-47b7-49bc-a7b1-11307dd5d0d0",
   "metadata": {},
   "outputs": [
    {
     "data": {
      "text/html": [
       "<div>\n",
       "<style scoped>\n",
       "    .dataframe tbody tr th:only-of-type {\n",
       "        vertical-align: middle;\n",
       "    }\n",
       "\n",
       "    .dataframe tbody tr th {\n",
       "        vertical-align: top;\n",
       "    }\n",
       "\n",
       "    .dataframe thead th {\n",
       "        text-align: right;\n",
       "    }\n",
       "</style>\n",
       "<table border=\"1\" class=\"dataframe\">\n",
       "  <thead>\n",
       "    <tr style=\"text-align: right;\">\n",
       "      <th></th>\n",
       "      <th>Prediction 0</th>\n",
       "      <th>Prediction 1</th>\n",
       "    </tr>\n",
       "  </thead>\n",
       "  <tbody>\n",
       "    <tr>\n",
       "      <th>Actual 0</th>\n",
       "      <td>27987.0</td>\n",
       "      <td>5894.0</td>\n",
       "    </tr>\n",
       "    <tr>\n",
       "      <th>Actual 1</th>\n",
       "      <td>5264.0</td>\n",
       "      <td>25229.0</td>\n",
       "    </tr>\n",
       "  </tbody>\n",
       "</table>\n",
       "</div>"
      ],
      "text/plain": [
       "          Prediction 0  Prediction 1\n",
       "Actual 0       27987.0        5894.0\n",
       "Actual 1        5264.0       25229.0"
      ]
     },
     "execution_count": 106,
     "metadata": {},
     "output_type": "execute_result"
    }
   ],
   "source": [
    "cm_df = pd.DataFrame(results.pred_table())\n",
    "cm_df.columns = ['Prediction 0', 'Prediction 1']\n",
    "cm_df = cm_df.rename(index={0:'Actual 0', 1:'Actual 1'})\n",
    "cm_df"
   ]
  },
  {
   "cell_type": "code",
   "execution_count": 107,
   "id": "9d25b3f9-2d3e-41d4-b7f1-947b80b2d65a",
   "metadata": {},
   "outputs": [
    {
     "data": {
      "text/plain": [
       "0.8266691521421692"
      ]
     },
     "execution_count": 107,
     "metadata": {},
     "output_type": "execute_result"
    }
   ],
   "source": [
    "cm = np.array(cm_df)\n",
    "accuracy = (cm[0,0]+cm[1,1])/(cm.sum())\n",
    "accuracy"
   ]
  },
  {
   "cell_type": "markdown",
   "id": "84890b1a-af2c-4b83-ac84-c74e21ab3f7a",
   "metadata": {},
   "source": [
    "The confusion matrix shows accuracy of model is 82.67%. I will redo the logistic regression taking out  \n",
    "insignificant factors plus Total Spend to see if it improves accuracy of model."
   ]
  },
  {
   "cell_type": "code",
   "execution_count": 123,
   "id": "2be59441-f56c-4903-b84d-cb7a87cb95bb",
   "metadata": {},
   "outputs": [
    {
     "data": {
      "text/html": [
       "<div>\n",
       "<style scoped>\n",
       "    .dataframe tbody tr th:only-of-type {\n",
       "        vertical-align: middle;\n",
       "    }\n",
       "\n",
       "    .dataframe tbody tr th {\n",
       "        vertical-align: top;\n",
       "    }\n",
       "\n",
       "    .dataframe thead th {\n",
       "        text-align: right;\n",
       "    }\n",
       "</style>\n",
       "<table border=\"1\" class=\"dataframe\">\n",
       "  <thead>\n",
       "    <tr style=\"text-align: right;\">\n",
       "      <th></th>\n",
       "      <th>Age</th>\n",
       "      <th>Gender</th>\n",
       "      <th>Tenure</th>\n",
       "      <th>Usage Frequency</th>\n",
       "      <th>Support Calls</th>\n",
       "      <th>Payment Delay</th>\n",
       "      <th>Contract Length</th>\n",
       "      <th>Total Spend</th>\n",
       "    </tr>\n",
       "  </thead>\n",
       "  <tbody>\n",
       "    <tr>\n",
       "      <th>0</th>\n",
       "      <td>22</td>\n",
       "      <td>0</td>\n",
       "      <td>25</td>\n",
       "      <td>14</td>\n",
       "      <td>4</td>\n",
       "      <td>27</td>\n",
       "      <td>0</td>\n",
       "      <td>598</td>\n",
       "    </tr>\n",
       "    <tr>\n",
       "      <th>1</th>\n",
       "      <td>41</td>\n",
       "      <td>0</td>\n",
       "      <td>28</td>\n",
       "      <td>28</td>\n",
       "      <td>7</td>\n",
       "      <td>13</td>\n",
       "      <td>0</td>\n",
       "      <td>584</td>\n",
       "    </tr>\n",
       "    <tr>\n",
       "      <th>2</th>\n",
       "      <td>47</td>\n",
       "      <td>1</td>\n",
       "      <td>27</td>\n",
       "      <td>10</td>\n",
       "      <td>2</td>\n",
       "      <td>29</td>\n",
       "      <td>2</td>\n",
       "      <td>757</td>\n",
       "    </tr>\n",
       "    <tr>\n",
       "      <th>3</th>\n",
       "      <td>35</td>\n",
       "      <td>1</td>\n",
       "      <td>9</td>\n",
       "      <td>12</td>\n",
       "      <td>5</td>\n",
       "      <td>17</td>\n",
       "      <td>1</td>\n",
       "      <td>232</td>\n",
       "    </tr>\n",
       "    <tr>\n",
       "      <th>4</th>\n",
       "      <td>53</td>\n",
       "      <td>0</td>\n",
       "      <td>58</td>\n",
       "      <td>24</td>\n",
       "      <td>9</td>\n",
       "      <td>2</td>\n",
       "      <td>2</td>\n",
       "      <td>533</td>\n",
       "    </tr>\n",
       "  </tbody>\n",
       "</table>\n",
       "</div>"
      ],
      "text/plain": [
       "   Age  Gender  Tenure  Usage Frequency  Support Calls  Payment Delay  \\\n",
       "0   22       0      25               14              4             27   \n",
       "1   41       0      28               28              7             13   \n",
       "2   47       1      27               10              2             29   \n",
       "3   35       1       9               12              5             17   \n",
       "4   53       0      58               24              9              2   \n",
       "\n",
       "   Contract Length  Total Spend  \n",
       "0                0          598  \n",
       "1                0          584  \n",
       "2                2          757  \n",
       "3                1          232  \n",
       "4                2          533  "
      ]
     },
     "execution_count": 123,
     "metadata": {},
     "output_type": "execute_result"
    }
   ],
   "source": [
    "y = churn.Churn\n",
    "x2 = x1.drop(['Last Interaction','Subscription Type' ],axis = 1)\n",
    "x2.head()"
   ]
  },
  {
   "cell_type": "code",
   "execution_count": 124,
   "id": "9d3690a4-8647-4138-accf-c383e5d7bdcf",
   "metadata": {},
   "outputs": [
    {
     "name": "stdout",
     "output_type": "stream",
     "text": [
      "Optimization terminated successfully.\n",
      "         Current function value: 0.457647\n",
      "         Iterations 6\n"
     ]
    }
   ],
   "source": [
    "x = sm.add_constant(x2)\n",
    "reg_log2 = sm.Logit(y,x2)\n",
    "results2 = reg_log2.fit()"
   ]
  },
  {
   "cell_type": "code",
   "execution_count": 126,
   "id": "09480976-62a7-49f5-a559-4084f33864bf",
   "metadata": {},
   "outputs": [
    {
     "data": {
      "text/plain": [
       "array([[25767.,  8114.],\n",
       "       [ 5966., 24527.]])"
      ]
     },
     "execution_count": 126,
     "metadata": {},
     "output_type": "execute_result"
    }
   ],
   "source": [
    "results2.pred_table()"
   ]
  },
  {
   "cell_type": "code",
   "execution_count": 127,
   "id": "445d5709-36d0-4677-984a-5a1c89054067",
   "metadata": {},
   "outputs": [
    {
     "data": {
      "text/html": [
       "<div>\n",
       "<style scoped>\n",
       "    .dataframe tbody tr th:only-of-type {\n",
       "        vertical-align: middle;\n",
       "    }\n",
       "\n",
       "    .dataframe tbody tr th {\n",
       "        vertical-align: top;\n",
       "    }\n",
       "\n",
       "    .dataframe thead th {\n",
       "        text-align: right;\n",
       "    }\n",
       "</style>\n",
       "<table border=\"1\" class=\"dataframe\">\n",
       "  <thead>\n",
       "    <tr style=\"text-align: right;\">\n",
       "      <th></th>\n",
       "      <th>Prediction 0</th>\n",
       "      <th>Prediction 1</th>\n",
       "    </tr>\n",
       "  </thead>\n",
       "  <tbody>\n",
       "    <tr>\n",
       "      <th>Actual 0</th>\n",
       "      <td>25767.0</td>\n",
       "      <td>8114.0</td>\n",
       "    </tr>\n",
       "    <tr>\n",
       "      <th>Actual 1</th>\n",
       "      <td>5966.0</td>\n",
       "      <td>24527.0</td>\n",
       "    </tr>\n",
       "  </tbody>\n",
       "</table>\n",
       "</div>"
      ],
      "text/plain": [
       "          Prediction 0  Prediction 1\n",
       "Actual 0       25767.0        8114.0\n",
       "Actual 1        5966.0       24527.0"
      ]
     },
     "execution_count": 127,
     "metadata": {},
     "output_type": "execute_result"
    }
   ],
   "source": [
    "cm_df = pd.DataFrame(results2.pred_table())\n",
    "cm_df.columns = ['Prediction 0', 'Prediction 1']\n",
    "cm_df = cm_df.rename(index={0:'Actual 0', 1:'Actual 1'})\n",
    "cm_df"
   ]
  },
  {
   "cell_type": "code",
   "execution_count": 128,
   "id": "c1ac7b1e-623a-4eb1-8fc9-5c400955635c",
   "metadata": {},
   "outputs": [
    {
     "data": {
      "text/plain": [
       "0.7812781557771771"
      ]
     },
     "execution_count": 128,
     "metadata": {},
     "output_type": "execute_result"
    }
   ],
   "source": [
    "cm = np.array(cm_df)\n",
    "accuracy = (cm[0,0]+cm[1,1])/(cm.sum())\n",
    "accuracy"
   ]
  },
  {
   "cell_type": "markdown",
   "id": "02d31e72-cd17-472e-9e97-24aace2f5659",
   "metadata": {},
   "source": [
    "Taking out the other insignificant varaibles has lower accruacy of the model by over 4%.  \n",
    "Since 82.7% is a good industry benchmark for churn data, and removing other variables descreased accuracy,  \n",
    "it seems fitting to leave them in and use original model."
   ]
  },
  {
   "cell_type": "markdown",
   "id": "6995962e-db34-4980-aad7-0d8e3f843631",
   "metadata": {},
   "source": [
    "I will do further analysis of the groups with small odds on a 1 unit basis"
   ]
  },
  {
   "cell_type": "code",
   "execution_count": 195,
   "id": "dac06d24-dfc4-4f82-aaec-c0851c1cb39f",
   "metadata": {},
   "outputs": [
    {
     "data": {
      "text/plain": [
       "[1.2140962829562332, 1.4740297842881416, 1.789614082071011, 2.1727638049685454]"
      ]
     },
     "execution_count": 195,
     "metadata": {},
     "output_type": "execute_result"
    }
   ],
   "source": [
    "#lets consider age gaps of 10 and analyse\n",
    "age_churn_group = []\n",
    "for i in range(1,5):\n",
    " age_churn = np.exp(10*i*0.0194)\n",
    " age_churn_group.append(age_churn)\n",
    "age_churn_group"
   ]
  },
  {
   "cell_type": "code",
   "execution_count": 183,
   "id": "e3502afa-2a40-4d66-8b53-297c8b385801",
   "metadata": {},
   "outputs": [
    {
     "data": {
      "text/html": [
       "<div>\n",
       "<style scoped>\n",
       "    .dataframe tbody tr th:only-of-type {\n",
       "        vertical-align: middle;\n",
       "    }\n",
       "\n",
       "    .dataframe tbody tr th {\n",
       "        vertical-align: top;\n",
       "    }\n",
       "\n",
       "    .dataframe thead th {\n",
       "        text-align: right;\n",
       "    }\n",
       "</style>\n",
       "<table border=\"1\" class=\"dataframe\">\n",
       "  <thead>\n",
       "    <tr style=\"text-align: right;\">\n",
       "      <th></th>\n",
       "      <th>Age gap</th>\n",
       "      <th>Odds</th>\n",
       "    </tr>\n",
       "  </thead>\n",
       "  <tbody>\n",
       "    <tr>\n",
       "      <th>0</th>\n",
       "      <td>10</td>\n",
       "      <td>1.214096</td>\n",
       "    </tr>\n",
       "    <tr>\n",
       "      <th>1</th>\n",
       "      <td>20</td>\n",
       "      <td>1.474030</td>\n",
       "    </tr>\n",
       "    <tr>\n",
       "      <th>2</th>\n",
       "      <td>30</td>\n",
       "      <td>1.789614</td>\n",
       "    </tr>\n",
       "    <tr>\n",
       "      <th>3</th>\n",
       "      <td>40</td>\n",
       "      <td>2.172764</td>\n",
       "    </tr>\n",
       "  </tbody>\n",
       "</table>\n",
       "</div>"
      ],
      "text/plain": [
       "   Age gap      Odds\n",
       "0       10  1.214096\n",
       "1       20  1.474030\n",
       "2       30  1.789614\n",
       "3       40  2.172764"
      ]
     },
     "execution_count": 183,
     "metadata": {},
     "output_type": "execute_result"
    }
   ],
   "source": [
    "age_gap = [10,20,30,40]\n",
    "Age = pd.DataFrame({'Age gap':age_gap , 'Odds':age_churn_group})\n",
    "Age"
   ]
  },
  {
   "cell_type": "code",
   "execution_count": 186,
   "id": "f053a59e-03c9-492e-90eb-8f6b2860e3ea",
   "metadata": {},
   "outputs": [
    {
     "data": {
      "text/html": [
       "<div>\n",
       "<style scoped>\n",
       "    .dataframe tbody tr th:only-of-type {\n",
       "        vertical-align: middle;\n",
       "    }\n",
       "\n",
       "    .dataframe tbody tr th {\n",
       "        vertical-align: top;\n",
       "    }\n",
       "\n",
       "    .dataframe thead th {\n",
       "        text-align: right;\n",
       "    }\n",
       "</style>\n",
       "<table border=\"1\" class=\"dataframe\">\n",
       "  <thead>\n",
       "    <tr style=\"text-align: right;\">\n",
       "      <th></th>\n",
       "      <th>Age gap</th>\n",
       "      <th>Odds</th>\n",
       "      <th>Odds %</th>\n",
       "    </tr>\n",
       "  </thead>\n",
       "  <tbody>\n",
       "    <tr>\n",
       "      <th>0</th>\n",
       "      <td>10</td>\n",
       "      <td>1.0</td>\n",
       "      <td>21.0</td>\n",
       "    </tr>\n",
       "    <tr>\n",
       "      <th>1</th>\n",
       "      <td>20</td>\n",
       "      <td>1.0</td>\n",
       "      <td>47.0</td>\n",
       "    </tr>\n",
       "    <tr>\n",
       "      <th>2</th>\n",
       "      <td>30</td>\n",
       "      <td>2.0</td>\n",
       "      <td>79.0</td>\n",
       "    </tr>\n",
       "    <tr>\n",
       "      <th>3</th>\n",
       "      <td>40</td>\n",
       "      <td>2.0</td>\n",
       "      <td>117.0</td>\n",
       "    </tr>\n",
       "  </tbody>\n",
       "</table>\n",
       "</div>"
      ],
      "text/plain": [
       "   Age gap  Odds  Odds %\n",
       "0       10   1.0    21.0\n",
       "1       20   1.0    47.0\n",
       "2       30   2.0    79.0\n",
       "3       40   2.0   117.0"
      ]
     },
     "execution_count": 186,
     "metadata": {},
     "output_type": "execute_result"
    }
   ],
   "source": [
    "Age['Odds %'] = (Age['Odds']-1)*100\n",
    "Age.round()"
   ]
  },
  {
   "cell_type": "code",
   "execution_count": 193,
   "id": "21ffd634-a862-4566-a9fb-80d6afcb2455",
   "metadata": {},
   "outputs": [
    {
     "data": {
      "image/png": "[encoded data removed]",
      "text/plain": [
       "<Figure size 640x480 with 1 Axes>"
      ]
     },
     "metadata": {},
     "output_type": "display_data"
    }
   ],
   "source": [
    "sns.barplot(x = 'Age gap', y = 'Odds %', data=Age)\n",
    "plt.title('Age Gap Churn Odds')\n",
    "plt.show()\n"
   ]
  },
  {
   "cell_type": "code",
   "execution_count": 200,
   "id": "edebf575-42bc-49ea-80de-0707594dfec5",
   "metadata": {},
   "outputs": [
    {
     "data": {
      "text/plain": [
       "[0.7441594147231158,\n",
       " 0.5537732345210501,\n",
       " 0.41209556609051134,\n",
       " 0.306664795271906]"
      ]
     },
     "execution_count": 200,
     "metadata": {},
     "output_type": "execute_result"
    }
   ],
   "source": [
    "#lets consider age gaps of 10 and analyse\n",
    "usage_churn_group = []\n",
    "for i in range(1,5):\n",
    " usage_churn = np.exp(5*i*-0.0591)\n",
    " usage_churn_group.append(usage_churn)\n",
    "usage_churn_group\n"
   ]
  },
  {
   "cell_type": "code",
   "execution_count": 201,
   "id": "4419f6ae-1710-4143-8f3a-a6abb41dfff1",
   "metadata": {},
   "outputs": [
    {
     "data": {
      "text/html": [
       "<div>\n",
       "<style scoped>\n",
       "    .dataframe tbody tr th:only-of-type {\n",
       "        vertical-align: middle;\n",
       "    }\n",
       "\n",
       "    .dataframe tbody tr th {\n",
       "        vertical-align: top;\n",
       "    }\n",
       "\n",
       "    .dataframe thead th {\n",
       "        text-align: right;\n",
       "    }\n",
       "</style>\n",
       "<table border=\"1\" class=\"dataframe\">\n",
       "  <thead>\n",
       "    <tr style=\"text-align: right;\">\n",
       "      <th></th>\n",
       "      <th>Usage gap</th>\n",
       "      <th>Odds</th>\n",
       "    </tr>\n",
       "  </thead>\n",
       "  <tbody>\n",
       "    <tr>\n",
       "      <th>0</th>\n",
       "      <td>5</td>\n",
       "      <td>0.744159</td>\n",
       "    </tr>\n",
       "    <tr>\n",
       "      <th>1</th>\n",
       "      <td>10</td>\n",
       "      <td>0.553773</td>\n",
       "    </tr>\n",
       "    <tr>\n",
       "      <th>2</th>\n",
       "      <td>15</td>\n",
       "      <td>0.412096</td>\n",
       "    </tr>\n",
       "    <tr>\n",
       "      <th>3</th>\n",
       "      <td>20</td>\n",
       "      <td>0.306665</td>\n",
       "    </tr>\n",
       "  </tbody>\n",
       "</table>\n",
       "</div>"
      ],
      "text/plain": [
       "   Usage gap      Odds\n",
       "0          5  0.744159\n",
       "1         10  0.553773\n",
       "2         15  0.412096\n",
       "3         20  0.306665"
      ]
     },
     "execution_count": 201,
     "metadata": {},
     "output_type": "execute_result"
    }
   ],
   "source": [
    "usage_gap = [5,10,15,20]\n",
    "Usage = pd.DataFrame({'Usage gap':usage_gap , 'Odds':usage_churn_group})\n",
    "Usage"
   ]
  },
  {
   "cell_type": "code",
   "execution_count": 202,
   "id": "26be635d-2c31-4d7f-8dc7-fe75281b563d",
   "metadata": {},
   "outputs": [
    {
     "data": {
      "text/html": [
       "<div>\n",
       "<style scoped>\n",
       "    .dataframe tbody tr th:only-of-type {\n",
       "        vertical-align: middle;\n",
       "    }\n",
       "\n",
       "    .dataframe tbody tr th {\n",
       "        vertical-align: top;\n",
       "    }\n",
       "\n",
       "    .dataframe thead th {\n",
       "        text-align: right;\n",
       "    }\n",
       "</style>\n",
       "<table border=\"1\" class=\"dataframe\">\n",
       "  <thead>\n",
       "    <tr style=\"text-align: right;\">\n",
       "      <th></th>\n",
       "      <th>Usage gap</th>\n",
       "      <th>Odds</th>\n",
       "      <th>Odds %</th>\n",
       "    </tr>\n",
       "  </thead>\n",
       "  <tbody>\n",
       "    <tr>\n",
       "      <th>0</th>\n",
       "      <td>5</td>\n",
       "      <td>1.0</td>\n",
       "      <td>-26.0</td>\n",
       "    </tr>\n",
       "    <tr>\n",
       "      <th>1</th>\n",
       "      <td>10</td>\n",
       "      <td>1.0</td>\n",
       "      <td>-45.0</td>\n",
       "    </tr>\n",
       "    <tr>\n",
       "      <th>2</th>\n",
       "      <td>15</td>\n",
       "      <td>0.0</td>\n",
       "      <td>-59.0</td>\n",
       "    </tr>\n",
       "    <tr>\n",
       "      <th>3</th>\n",
       "      <td>20</td>\n",
       "      <td>0.0</td>\n",
       "      <td>-69.0</td>\n",
       "    </tr>\n",
       "  </tbody>\n",
       "</table>\n",
       "</div>"
      ],
      "text/plain": [
       "   Usage gap  Odds  Odds %\n",
       "0          5   1.0   -26.0\n",
       "1         10   1.0   -45.0\n",
       "2         15   0.0   -59.0\n",
       "3         20   0.0   -69.0"
      ]
     },
     "execution_count": 202,
     "metadata": {},
     "output_type": "execute_result"
    }
   ],
   "source": [
    "Usage['Odds %'] = (Usage['Odds']-1)*100\n",
    "Usage.round()"
   ]
  },
  {
   "cell_type": "code",
   "execution_count": 204,
   "id": "ef2a2b30-a382-41be-b727-4ee3561ec9b6",
   "metadata": {},
   "outputs": [
    {
     "data": {
      "image/png": "[encoded data removed]",
      "text/plain": [
       "<Figure size 640x480 with 1 Axes>"
      ]
     },
     "metadata": {},
     "output_type": "display_data"
    }
   ],
   "source": [
    "sns.barplot(x = 'Usage gap', y = 'Odds %', data=Usage)\n",
    "plt.title('Usage Gap Churn Odds')\n",
    "plt.show()\n"
   ]
  },
  {
   "cell_type": "code",
   "execution_count": null,
   "id": "11ead536-32c7-45cc-bf3c-25ca4a34ace6",
   "metadata": {},
   "outputs": [],
   "source": []
  }
 ],
 "metadata": {
  "kernelspec": {
   "display_name": "Python 3 (ipykernel)",
   "language": "python",
   "name": "python3"
  },
  "language_info": {
   "codemirror_mode": {
    "name": "ipython",
    "version": 3
   },
   "file_extension": ".py",
   "mimetype": "text/x-python",
   "name": "python",
   "nbconvert_exporter": "python",
   "pygments_lexer": "ipython3",
   "version": "3.11.7"
  }
 },
 "nbformat": 4,
 "nbformat_minor": 5
}
